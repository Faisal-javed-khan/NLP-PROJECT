{
  "nbformat": 4,
  "nbformat_minor": 0,
  "metadata": {
    "colab": {
      "provenance": [],
      "gpuType": "T4",
      "authorship_tag": "ABX9TyO1dhhaF9WlgFtyVmJ6ezDg",
      "include_colab_link": true
    },
    "kernelspec": {
      "name": "python3",
      "display_name": "Python 3"
    },
    "language_info": {
      "name": "python"
    },
    "accelerator": "GPU"
  },
  "cells": [
    {
      "cell_type": "markdown",
      "metadata": {
        "id": "view-in-github",
        "colab_type": "text"
      },
      "source": [
        "<a href=\"https://colab.research.google.com/github/Faisal-javed-khan/NLP-PROJECT/blob/main/classsification__pipeline_sentiment_analysis_some_other_practice.ipynb\" target=\"_parent\"><img src=\"https://colab.research.google.com/assets/colab-badge.svg\" alt=\"Open In Colab\"/></a>"
      ]
    },
    {
      "cell_type": "markdown",
      "source": [
        "<h1><b>A Simple Classier Without the Text Classification Pipeline\n"
      ],
      "metadata": {
        "id": "G7t1L7aKel9t"
      }
    },
    {
      "cell_type": "code",
      "source": [
        "# create lists for positve and negatives\n",
        "pos_list=[\"happy\", \"joyful\", \"excited\", \"wonderful\", \"amazing\", \"fantastic\",\n",
        "    \"excellent\", \"great\", \"good\", \"awesome\", \"beautiful\", \"delightful\",\n",
        "    \"pleasure\", \"satisfied\", \"love\", \"positive\", \"admire\", \"vibrant\", \"fabulous\"]\n",
        "neg_list=[\"horrible\", \"terrible\", \"awful\", \"bad\", \"disappointing\", \"poor\"]"
      ],
      "metadata": {
        "id": "WEiAQ2SwelvM"
      },
      "execution_count": null,
      "outputs": []
    },
    {
      "cell_type": "code",
      "source": [
        "def sent_classification(tweet):\n",
        "  #in future we will test a tweet so we will split that\n",
        "  words=tweet.split()\n",
        "\n",
        "  #initializ for to count the pos  and neg\n",
        "  pos_score=0\n",
        "  neg_score=0\n",
        "\n",
        "  for word in words:\n",
        "    if word in pos_list:\n",
        "      pos_score +=1\n",
        "    elif word in neg_list:\n",
        "      neg_score +=1\n",
        "\n",
        "  if pos_score> neg_score:\n",
        "    return \"positve\"\n",
        "\n",
        "  elif neg_score > pos_score:\n",
        "    return \"negative\"\n",
        "\n",
        "  else:\n",
        "    return \"Neutral\"\n",
        "\n"
      ],
      "metadata": {
        "id": "wuO2l7v2els8"
      },
      "execution_count": null,
      "outputs": []
    },
    {
      "cell_type": "code",
      "source": [
        "# check and test your function\n",
        "tweet1=\" i am happy to here  this is a good place ever\"\n",
        "tweet2=\"i am angry on this horrible place \"\n",
        "tweet3=\"the is enough to eat some veg. and fishi food\"\n",
        "\n",
        "sentiment1=sent_classification(tweet1)\n",
        "sentiment2=sent_classification(tweet2)\n",
        "sentiment3=sent_classification(tweet3)\n",
        "\n",
        "print(sentiment1)\n",
        "print(sentiment2)\n",
        "print(sentiment3)"
      ],
      "metadata": {
        "colab": {
          "base_uri": "https://localhost:8080/"
        },
        "id": "DjTGNipKevCJ",
        "outputId": "a358524e-c641-461d-dbc0-9864ff6ed300"
      },
      "execution_count": null,
      "outputs": [
        {
          "output_type": "stream",
          "name": "stdout",
          "text": [
            "positve\n",
            "negative\n",
            "Neutral\n"
          ]
        }
      ]
    },
    {
      "cell_type": "markdown",
      "source": [
        "<h1><b>this is just for the pratice to loop the multiple  test data to che ck thier sentiment analyzer"
      ],
      "metadata": {
        "id": "WO-MQ8r7i1dc"
      }
    },
    {
      "cell_type": "code",
      "source": [
        "from numpy.matrixlib import test\n",
        "test_data=[tweet1 , tweet2 , tweet3]\n",
        "for _ in test_data:\n",
        "  print(sent_classification(_))"
      ],
      "metadata": {
        "colab": {
          "base_uri": "https://localhost:8080/"
        },
        "id": "idk8j0Cnic_7",
        "outputId": "1a1ef9f0-b41f-409e-869d-be7b4c260c97"
      },
      "execution_count": null,
      "outputs": [
        {
          "output_type": "stream",
          "name": "stdout",
          "text": [
            "positve\n",
            "negative\n",
            "Neutral\n"
          ]
        }
      ]
    },
    {
      "cell_type": "code",
      "source": [],
      "metadata": {
        "id": "Vy9d38L2ic4-"
      },
      "execution_count": null,
      "outputs": []
    },
    {
      "cell_type": "markdown",
      "source": [],
      "metadata": {
        "id": "eZY1Zl7XGtnD"
      }
    },
    {
      "cell_type": "markdown",
      "source": [
        "<h1><b> pipline for the classification (Text Classification with Naive Bayes, Logistic Regression, SVM)\n",
        "\n",
        "1. Collect or create a labeled dataset suitable for the task.\n",
        "2. Split the dataset into two (training and test) or three parts: training, validation\n",
        "(i.e., development), and test sets, then decide on evaluation metric(s).\n",
        "3. Transform raw text into feature vectors.\n",
        "4. Train a classifier using the feature vectors and the corresponding labels from the\n",
        "training set.\n",
        "5. Using the evaluation metric(s) from Step 2, benchmark the model performance\n",
        "on the test set.\n",
        "6. Deploy the model to serve the real-world use case and monitor its performance"
      ],
      "metadata": {
        "id": "o9UAeEpMiNK2"
      }
    },
    {
      "cell_type": "markdown",
      "source": [
        "<h1><b> NAive bayes Classification"
      ],
      "metadata": {
        "id": "19YcWiuGGx7O"
      }
    },
    {
      "cell_type": "code",
      "source": [
        "import warnings\n",
        "warnings.filterwarnings('ignore')\n",
        "import numpy as np\n",
        "import pandas as pd # to work with csv files\n",
        "\n",
        "# matplotlib imports are used to plot confusion matrices for the classifiers\n",
        "import matplotlib as mpl\n",
        "import matplotlib.cm as cm\n",
        "import matplotlib.pyplot as plt\n",
        "\n",
        "# import feature extraction methods from sklearn\n",
        "from sklearn.feature_extraction.text import CountVectorizer\n",
        "# from sklearn.feature_extraction import stop_words\n",
        "from sklearn.feature_extraction.text import ENGLISH_STOP_WORDS\n",
        "\n",
        "from nltk.corpus import stopwords\n",
        "\n",
        "# pre-processing of text\n",
        "import string\n",
        "import re\n",
        "\n",
        "# import classifiers from sklearn\n",
        "from sklearn.naive_bayes import MultinomialNB\n",
        "from sklearn.linear_model import LogisticRegression\n",
        "from sklearn.svm import LinearSVC\n",
        "\n",
        "# import different metrics to evaluate the classifiers\n",
        "from sklearn.metrics import accuracy_score\n",
        "\n",
        "# from sklearn.model_selection import train_test_split\n",
        "from sklearn.metrics import confusion_matrix\n",
        "from sklearn import metrics\n",
        "\n",
        "# import time function from time module to track the training duration\n",
        "from time import time"
      ],
      "metadata": {
        "id": "BwFmA2Rleu_z"
      },
      "execution_count": null,
      "outputs": []
    },
    {
      "cell_type": "code",
      "source": [
        "try:\n",
        "    from google.colab import files\n",
        "    !wget -P DATAPATH https://raw.githubusercontent.com/practical-nlp/practical-nlp/master/Ch4/Data/Full-Economic-News-DFE-839861.csv\n",
        "    !ls -lah DATAPATH\n",
        "    our_data = pd.read_csv(\"DATAPATH/Full-Economic-News-DFE-839861.csv\" , encoding = \"ISO-8859-1\" )\n",
        "\n",
        "except ModuleNotFoundError:\n",
        "    our_data = pd.read_csv(\"Data/Full-Economic-News-DFE-839861.csv\" , encoding = \"ISO-8859-1\" )"
      ],
      "metadata": {
        "id": "wfWOKIT6eu9P",
        "colab": {
          "base_uri": "https://localhost:8080/"
        },
        "outputId": "e4ed0cd2-6c4a-4d22-f864-293b26e4ccda"
      },
      "execution_count": null,
      "outputs": [
        {
          "output_type": "stream",
          "name": "stdout",
          "text": [
            "--2023-09-25 10:26:43--  https://raw.githubusercontent.com/practical-nlp/practical-nlp/master/Ch4/Data/Full-Economic-News-DFE-839861.csv\n",
            "Resolving raw.githubusercontent.com (raw.githubusercontent.com)... 185.199.108.133, 185.199.109.133, 185.199.110.133, ...\n",
            "Connecting to raw.githubusercontent.com (raw.githubusercontent.com)|185.199.108.133|:443... connected.\n",
            "HTTP request sent, awaiting response... 200 OK\n",
            "Length: 12383529 (12M) [text/plain]\n",
            "Saving to: ‘DATAPATH/Full-Economic-News-DFE-839861.csv’\n",
            "\n",
            "Full-Economic-News- 100%[===================>]  11.81M  --.-KB/s    in 0.03s   \n",
            "\n",
            "2023-09-25 10:26:44 (397 MB/s) - ‘DATAPATH/Full-Economic-News-DFE-839861.csv’ saved [12383529/12383529]\n",
            "\n",
            "total 12M\n",
            "drwxr-xr-x 2 root root 4.0K Sep 25 10:26 .\n",
            "drwxr-xr-x 1 root root 4.0K Sep 25 10:26 ..\n",
            "-rw-r--r-- 1 root root  12M Sep 25 10:26 Full-Economic-News-DFE-839861.csv\n"
          ]
        }
      ]
    },
    {
      "cell_type": "code",
      "source": [
        "our_data.shape"
      ],
      "metadata": {
        "id": "BXyzwLl8elqO",
        "colab": {
          "base_uri": "https://localhost:8080/"
        },
        "outputId": "3c98f6bc-f209-48f9-d1e0-20cc0397ca6e"
      },
      "execution_count": null,
      "outputs": [
        {
          "output_type": "execute_result",
          "data": {
            "text/plain": [
              "(8000, 15)"
            ]
          },
          "metadata": {},
          "execution_count": 4
        }
      ]
    },
    {
      "cell_type": "code",
      "source": [
        "print(\"here we find the cassification distribution \")\n",
        "print(our_data[\"relevance\"].value_counts()/our_data.shape[0])\n",
        "print(\"There is an imbalance in the data with not relevant being 82% in the dataset\")"
      ],
      "metadata": {
        "id": "Jj-ixP6Nelnj",
        "colab": {
          "base_uri": "https://localhost:8080/"
        },
        "outputId": "401176a9-5f87-4eb5-f334-2604ccb3fd22"
      },
      "execution_count": null,
      "outputs": [
        {
          "output_type": "stream",
          "name": "stdout",
          "text": [
            "here we find the cassification distribution \n",
            "no          0.821375\n",
            "yes         0.177500\n",
            "not sure    0.001125\n",
            "Name: relevance, dtype: float64\n",
            "There is an imbalance in the data with not relevant being 82% in the dataset\n"
          ]
        }
      ]
    },
    {
      "cell_type": "code",
      "source": [
        "# convert label to a numerical variable\n",
        "our_data = our_data[our_data.relevance != \"not sure\"] # removing the data where we don't want relevance=\"not sure\".\n",
        "our_data.shape\n",
        "our_data['relevance'] = our_data.relevance.map({'yes':1, 'no':0}) # relevant is 1, not-relevant is 0.\n",
        "our_data = our_data[[\"text\",\"relevance\"]] # Let us take only the two columns we need.\n",
        "our_data.shape"
      ],
      "metadata": {
        "id": "abSAIVwLellV",
        "colab": {
          "base_uri": "https://localhost:8080/"
        },
        "outputId": "59ff5b44-f20c-40ff-c640-7edc79d57d92"
      },
      "execution_count": null,
      "outputs": [
        {
          "output_type": "execute_result",
          "data": {
            "text/plain": [
              "(7991, 2)"
            ]
          },
          "metadata": {},
          "execution_count": 6
        }
      ]
    },
    {
      "cell_type": "code",
      "source": [
        "our_data[\"relevance\"].shape, our_data"
      ],
      "metadata": {
        "colab": {
          "base_uri": "https://localhost:8080/"
        },
        "id": "qZBdskjdJEqF",
        "outputId": "8c584de5-6feb-4158-ceff-abeda6952929"
      },
      "execution_count": null,
      "outputs": [
        {
          "output_type": "execute_result",
          "data": {
            "text/plain": [
              "((7991,),\n",
              "                                                    text  relevance\n",
              " 0     NEW YORK -- Yields on most certificates of dep...          1\n",
              " 1     The Wall Street Journal Online</br></br>The Mo...          0\n",
              " 2     WASHINGTON -- In an effort to achieve banking ...          0\n",
              " 3     The statistics on the enormous costs of employ...          0\n",
              " 4     NEW YORK -- Indecision marked the dollar's ton...          1\n",
              " ...                                                 ...        ...\n",
              " 7995  Secretary of Commerce Charles W. Sawyer said y...          1\n",
              " 7996  U.S. stocks inched up last week, overcoming co...          0\n",
              " 7997  Ben S. Bernanke cleared a key hurdle Thursday ...          0\n",
              " 7998  The White House's push to contract out many fe...          0\n",
              " 7999  NEW YORK. April 17-Automobile stocks put on th...          0\n",
              " \n",
              " [7991 rows x 2 columns])"
            ]
          },
          "metadata": {},
          "execution_count": 7
        }
      ]
    },
    {
      "cell_type": "markdown",
      "source": [
        "<h1><b> Text Pre-processing\n",
        "\n",
        "\n",
        "Typical steps involve tokenization, lower casing, removing, stop words, punctuation markers etc, and vectorization. Other processes such as stemming/lemmatization can also be performed. Here, we are performing the following steps: removing br tags, punctuation, numbers, and stopwords. While we are using sklearn's list of stopwords, there are several other stop word lists (e.g., from NLTK) or sometimes, custom stopword lists are needed depending on the task."
      ],
      "metadata": {
        "id": "fqyPL3V-Jq2Q"
      }
    },
    {
      "cell_type": "code",
      "source": [
        "stopwords = ENGLISH_STOP_WORDS\n",
        "def clean(doc): # doc is a string of text\n",
        "    doc = doc.replace(\"</br>\", \" \") # This text contains a lot of <br/> tags.\n",
        "    doc = \"\".join([char for char in doc if char not in string.punctuation and not char.isdigit()])\n",
        "    doc = \" \".join([token for token in doc.split() if token not in stopwords])\n",
        "    # remove punctuation and numbers\n",
        "    return doc"
      ],
      "metadata": {
        "id": "Q951YG13eljm"
      },
      "execution_count": null,
      "outputs": []
    },
    {
      "cell_type": "markdown",
      "source": [
        "<h1><b>Modeling\n",
        "\n",
        "\n",
        "Now we are ready for the modelling. We are going to use algorithms from sklearn package. We will go through the following steps:\n",
        "\n",
        "1 Split the data into training and test sets (75% train, 25% test)\n",
        "2 Extract features from the training data using CountVectorizer, which is a bag of words feature implementation. We will use the pre-processing function above in conjunction with Count Vectorizer\n",
        "3 Transform the test data into the same feature vector as the training data.\n",
        "4 Train the classifier\n",
        "5 Evaluate the classifier"
      ],
      "metadata": {
        "id": "OSqax8NfKTJZ"
      }
    },
    {
      "cell_type": "code",
      "source": [
        "import sklearn\n",
        "#from sklearn.cross_validation import train_test_split\n",
        "from sklearn.model_selection import train_test_split\n",
        "\n",
        "# Step 1: train-test split\n",
        "X = our_data.text # the column text contains textual data to extract features from\n",
        "y = our_data.relevance # this is the column we are learning to predict.\n",
        "print(X.shape, y.shape)\n",
        "# split X and y into training and testing sets. By default, it splits 75% training and 25% test\n",
        "# random_state=1 for reproducibility\n",
        "X_train, X_test, y_train, y_test = train_test_split(X, y, random_state=1)\n",
        "print(X_train.shape, y_train.shape)\n",
        "print(X_test.shape, y_test.shape)"
      ],
      "metadata": {
        "id": "MEYSQqJXelhz",
        "colab": {
          "base_uri": "https://localhost:8080/"
        },
        "outputId": "8857b41b-9a6f-4c21-9796-f21b82a2a7eb"
      },
      "execution_count": null,
      "outputs": [
        {
          "output_type": "stream",
          "name": "stdout",
          "text": [
            "(7991,) (7991,)\n",
            "(5993,) (5993,)\n",
            "(1998,) (1998,)\n"
          ]
        }
      ]
    },
    {
      "cell_type": "code",
      "source": [
        "X.shape , y.shape , X_train.shape , X_test.shape , y_train.shape,y_test.shape"
      ],
      "metadata": {
        "id": "cseNI9c1elfU",
        "colab": {
          "base_uri": "https://localhost:8080/"
        },
        "outputId": "99c8b7d8-4c19-4f84-f0e2-78169ded1106"
      },
      "execution_count": null,
      "outputs": [
        {
          "output_type": "execute_result",
          "data": {
            "text/plain": [
              "((7991,), (7991,), (5993,), (1998,), (5993,), (1998,))"
            ]
          },
          "metadata": {},
          "execution_count": 10
        }
      ]
    },
    {
      "cell_type": "code",
      "source": [
        "# Step 2-3: Preprocess and Vectorize train and test data\n",
        "vect = CountVectorizer(preprocessor=clean) # instantiate a vectoriezer\n",
        "X_train_dtm = vect.fit_transform(X_train)# use it to extract features from training data\n",
        "# transform testing data (using training data's features)\n",
        "X_test_dtm = vect.transform(X_test)\n",
        "print(X_train_dtm.shape, X_test_dtm.shape)\n",
        "# i.e., the dimension of our feature vector is 49753"
      ],
      "metadata": {
        "colab": {
          "base_uri": "https://localhost:8080/"
        },
        "id": "oh_eP-I6KaVk",
        "outputId": "1c44730e-71c0-4bcd-ca75-8741975c9b67"
      },
      "execution_count": null,
      "outputs": [
        {
          "output_type": "stream",
          "name": "stdout",
          "text": [
            "(5993, 49753) (1998, 49753)\n"
          ]
        }
      ]
    },
    {
      "cell_type": "markdown",
      "source": [
        "<h1><b> Training  with Naive bayes"
      ],
      "metadata": {
        "id": "J3YIlSlDMM4T"
      }
    },
    {
      "cell_type": "code",
      "source": [
        "# Step 3: Train the classifier and predict for test data\n",
        "nb = MultinomialNB() # instantiate a Multinomial Naive Bayes model\n",
        "%time nb.fit(X_train_dtm, y_train) # train the model(timing it with an IPython \"magic command\")\n",
        "y_pred_class = nb.predict(X_test_dtm) # make class predictions for X_test_dtm"
      ],
      "metadata": {
        "colab": {
          "base_uri": "https://localhost:8080/"
        },
        "id": "mk0WhPD2MMh8",
        "outputId": "61fdfa19-a0a2-4b52-de18-d0f9a4f600ea"
      },
      "execution_count": null,
      "outputs": [
        {
          "output_type": "stream",
          "name": "stdout",
          "text": [
            "CPU times: user 11.1 ms, sys: 2 µs, total: 11.1 ms\n",
            "Wall time: 19.4 ms\n"
          ]
        }
      ]
    },
    {
      "cell_type": "code",
      "source": [
        "y_pred_class.shape"
      ],
      "metadata": {
        "colab": {
          "base_uri": "https://localhost:8080/"
        },
        "id": "Sb6hNM7VKaS_",
        "outputId": "70635665-fab2-4c05-e8eb-4971dda2260b"
      },
      "execution_count": null,
      "outputs": [
        {
          "output_type": "execute_result",
          "data": {
            "text/plain": [
              "(1998,)"
            ]
          },
          "metadata": {},
          "execution_count": 13
        }
      ]
    },
    {
      "cell_type": "markdown",
      "source": [
        "Draw Confusion matrix"
      ],
      "metadata": {
        "id": "Dp7KRkktMm8f"
      }
    },
    {
      "cell_type": "code",
      "source": [
        "# Step 4: Evaluate the classifier using various measures\n",
        "\n",
        "# Function to plot confusion matrix.\n",
        "# Ref:http://scikit-learn.org/stable/auto_examples/model_selection/plot_confusion_matrix.html\n",
        "import itertools\n",
        "from sklearn.metrics import roc_auc_score\n",
        "\n",
        "def plot_confusion_matrix(cm, classes,\n",
        "                          normalize=False,\n",
        "                          title='Confusion matrix',\n",
        "                          cmap=plt.cm.Blues):\n",
        "    \"\"\"\n",
        "    This function prints and plots the confusion matrix.\n",
        "    Normalization can be applied by setting `normalize=True`.\n",
        "    \"\"\"\n",
        "    if normalize:\n",
        "        cm = cm.astype('float') / cm.sum(axis=1)[:, np.newaxis]\n",
        "\n",
        "    plt.imshow(cm, interpolation='nearest', cmap=cmap)\n",
        "    plt.title(title)\n",
        "    plt.colorbar()\n",
        "    tick_marks = np.arange(len(classes))\n",
        "    plt.xticks(tick_marks, classes, rotation=45)\n",
        "    plt.yticks(tick_marks, classes)\n",
        "\n",
        "    fmt = '.2f' if normalize else 'd'\n",
        "    thresh = cm.max() / 2.\n",
        "    for i, j in itertools.product(range(cm.shape[0]), range(cm.shape[1])):\n",
        "        plt.text(j, i, format(cm[i, j], fmt),\n",
        "                 horizontalalignment=\"center\",\n",
        "                 color=\"white\" if cm[i, j] > thresh else \"black\")\n",
        "\n",
        "    plt.tight_layout()\n",
        "    plt.ylabel('True label',fontsize=15)\n",
        "    plt.xlabel('Predicted label',fontsize=15)\n",
        "\n",
        "\n",
        "# Print accuracy:\n",
        "print(\"Accuracy: \", accuracy_score(y_test, y_pred_class))\n",
        "\n",
        "\n",
        "# print the confusion matrix\n",
        "cnf_matrix = confusion_matrix(y_test, y_pred_class)\n",
        "plt.figure(figsize=(8,6))\n",
        "plot_confusion_matrix(cnf_matrix, classes=['Not Relevant','Relevant'],normalize=True,\n",
        "                      title='Confusion matrix with all features')\n",
        "\n",
        "# calculate AUC: Area under the curve(AUC) gives idea about the model efficiency:\n",
        "# Further information: https://en.wikipedia.org/wiki/Receiver_operating_characteristic\n",
        "y_pred_prob = nb.predict_proba(X_test_dtm)[:, 1]\n",
        "print(\"ROC_AOC_Score: \", roc_auc_score(y_test, y_pred_prob))\n",
        "print(\"_\"*100)\n",
        "\n",
        "print(\"\"\"we can notice that the classifier is doing poorly with identifying relevant articles,\n",
        " while it is doing well with non-relevant ones. Our large feature vector could be creating a lot of\n",
        "  noise in the form of very rarely occurring features that are not useful for learning. Let us change the count\n",
        "  vectorizer to take a certain number of features as maximum.\"\"\")\n",
        "print(\"_\"*100)"
      ],
      "metadata": {
        "colab": {
          "base_uri": "https://localhost:8080/",
          "height": 771
        },
        "id": "haSbkYgfKaQc",
        "outputId": "d0cf3736-2b66-4f96-8881-cf01610e8347"
      },
      "execution_count": null,
      "outputs": [
        {
          "output_type": "stream",
          "name": "stdout",
          "text": [
            "Accuracy:  0.7822822822822822\n",
            "ROC_AOC_Score:  0.7251117679464362\n",
            "____________________________________________________________________________________________________\n",
            "we can notice that the classifier is doing poorly with identifying relevant articles,\n",
            " while it is doing well with non-relevant ones. Our large feature vector could be creating a lot of\n",
            "  noise in the form of very rarely occurring features that are not useful for learning. Let us change the count \n",
            "  vectorizer to take a certain number of features as maximum.\n",
            "____________________________________________________________________________________________________\n"
          ]
        },
        {
          "output_type": "display_data",
          "data": {
            "text/plain": [
              "<Figure size 800x600 with 2 Axes>"
            ],
            "image/png": "[encoded data removed]"
          },
          "metadata": {}
        }
      ]
    },
    {
      "cell_type": "code",
      "source": [
        "vect = CountVectorizer(preprocessor=clean, max_features=5000) # Step-1\n",
        "X_train_dtm = vect.fit_transform(X_train) # combined step 2 and 3\n",
        "X_test_dtm = vect.transform(X_test)\n",
        "nb = MultinomialNB() # instantiate a Multinomial Naive Bayes model\n",
        "%time nb.fit(X_train_dtm, y_train) # train the model(timing it with an IPython \"magic command\")\n",
        "y_pred_class = nb.predict(X_test_dtm) # make class predictions for X_test_dtm\n",
        "print(\"Accuracy: \", metrics.accuracy_score(y_test, y_pred_class))\n",
        "# print the confusion matrix\n",
        "cnf_matrix = confusion_matrix(y_test, y_pred_class)\n",
        "plt.figure(figsize=(8,6))\n",
        "plot_confusion_matrix(cnf_matrix, classes=['Not Relevant','Relevant'],normalize=True,\n",
        "                      title='Confusion matrix with max 5000 features')"
      ],
      "metadata": {
        "colab": {
          "base_uri": "https://localhost:8080/",
          "height": 684
        },
        "id": "seR9dcz8KaN_",
        "outputId": "c65524b8-5b7b-40a9-e12c-8ce2b4b791af"
      },
      "execution_count": null,
      "outputs": [
        {
          "output_type": "stream",
          "name": "stdout",
          "text": [
            "CPU times: user 4.31 ms, sys: 0 ns, total: 4.31 ms\n",
            "Wall time: 4.32 ms\n",
            "Accuracy:  0.6876876876876877\n"
          ]
        },
        {
          "output_type": "display_data",
          "data": {
            "text/plain": [
              "<Figure size 800x600 with 2 Axes>"
            ],
            "image/png": "[encoded data removed]"
          },
          "metadata": {}
        }
      ]
    },
    {
      "cell_type": "markdown",
      "source": [
        "<h1><b> Logistic Reggression"
      ],
      "metadata": {
        "id": "2dkkaW_aOQKG"
      }
    },
    {
      "cell_type": "code",
      "source": [
        "from sklearn.linear_model import LogisticRegression # import\n",
        "\n",
        "logreg = LogisticRegression(class_weight=\"balanced\") # instantiate a logistic regression model\n",
        "logreg.fit(X_train_dtm, y_train) # fit the model with training data\n",
        "\n",
        "# Make predictions on test data\n",
        "y_pred_class = logreg.predict(X_test_dtm)\n",
        "\n",
        "# calculate evaluation measures:\n",
        "print(\"Accuracy: \", accuracy_score(y_test, y_pred_class))\n",
        "print(\"AUC: \", roc_auc_score(y_test, y_pred_prob))\n",
        "cnf_matrix = confusion_matrix(y_test, y_pred_class)\n",
        "plt.figure(figsize=(8,6))\n",
        "plot_confusion_matrix(cnf_matrix, classes=['Not Relevant','Relevant'],normalize=True,\n",
        "                      title='Confusion matrix with normalization  (LOgistic regression)')"
      ],
      "metadata": {
        "colab": {
          "base_uri": "https://localhost:8080/",
          "height": 667
        },
        "id": "NvP_G5ofKaLY",
        "outputId": "dc82a7a4-5a8a-48b5-c39e-5c0c57512930"
      },
      "execution_count": null,
      "outputs": [
        {
          "output_type": "stream",
          "name": "stdout",
          "text": [
            "Accuracy:  0.7367367367367368\n",
            "AUC:  0.7251117679464362\n"
          ]
        },
        {
          "output_type": "display_data",
          "data": {
            "text/plain": [
              "<Figure size 800x600 with 2 Axes>"
            ],
            "image/png": "[encoded data removed]"
          },
          "metadata": {}
        }
      ]
    },
    {
      "cell_type": "markdown",
      "source": [
        "max_features =1000 to reduce the sparsity in model"
      ],
      "metadata": {
        "id": "eg30Xk_LO71R"
      }
    },
    {
      "cell_type": "code",
      "source": [
        "from sklearn.linear_model import LogisticRegression # import\n",
        "\n",
        "\n",
        "vect = CountVectorizer(preprocessor=clean, max_features=1000) # Step-1\n",
        "X_train_dtm = vect.fit_transform(X_train) # combined step 2 and 3\n",
        "X_test_dtm = vect.transform(X_test)\n",
        "\n",
        "logreg = LogisticRegression(class_weight=\"balanced\") # instantiate a logistic regression model\n",
        "logreg.fit(X_train_dtm, y_train) # fit the model with training data\n",
        "\n",
        "# Make predictions on test data\n",
        "y_pred_class = logreg.predict(X_test_dtm)\n",
        "\n",
        "# calculate evaluation measures:\n",
        "print(\"Accuracy: \", accuracy_score(y_test, y_pred_class))\n",
        "print(\"AUC: \", roc_auc_score(y_test, y_pred_prob))\n",
        "cnf_matrix = confusion_matrix(y_test, y_pred_class)\n",
        "plt.figure(figsize=(8,6))\n",
        "plot_confusion_matrix(cnf_matrix, classes=['Not Relevant','Relevant'],normalize=True,\n",
        "                      title='Confusion matrix with normalization')"
      ],
      "metadata": {
        "colab": {
          "base_uri": "https://localhost:8080/",
          "height": 667
        },
        "id": "l00Vb61rKaJM",
        "outputId": "dcfcfca0-42fd-42be-b406-b0d486f10976"
      },
      "execution_count": null,
      "outputs": [
        {
          "output_type": "stream",
          "name": "stdout",
          "text": [
            "Accuracy:  0.6871871871871872\n",
            "AUC:  0.7251117679464362\n"
          ]
        },
        {
          "output_type": "display_data",
          "data": {
            "text/plain": [
              "<Figure size 800x600 with 2 Axes>"
            ],
            "image/png": "[encoded data removed]"
          },
          "metadata": {}
        }
      ]
    },
    {
      "cell_type": "markdown",
      "source": [
        "<h1><b> now lets try another  classifier linear SVC OR SVM"
      ],
      "metadata": {
        "id": "-mRvF_jsPW_6"
      }
    },
    {
      "cell_type": "code",
      "source": [
        "from sklearn.svm import LinearSVC\n",
        "\n",
        "vect = CountVectorizer(preprocessor=clean, max_features=1000) # Step-1\n",
        "X_train_dtm = vect.fit_transform(X_train) # combined step 2 and 3\n",
        "X_test_dtm = vect.transform(X_test)\n",
        "\n",
        "classifier = LinearSVC(class_weight='balanced') # instantiate a logistic regression model\n",
        "classifier.fit(X_train_dtm, y_train) # fit the model with training data\n",
        "\n",
        "# Make predictions on test data\n",
        "y_pred_class = classifier.predict(X_test_dtm)\n",
        "\n",
        "# calculate evaluation measures:\n",
        "print(\"Accuracy: \", accuracy_score(y_test, y_pred_class))\n",
        "print(\"AUC: \", roc_auc_score(y_test, y_pred_prob))\n",
        "cnf_matrix = confusion_matrix(y_test, y_pred_class)\n",
        "plt.figure(figsize=(8,6))\n",
        "plot_confusion_matrix(cnf_matrix, classes=['Not Relevant','Relevant'],normalize=True,\n",
        "                      title='Confusion matrix with normalization (linear svm)')"
      ],
      "metadata": {
        "id": "a-T6hTpJelc6",
        "colab": {
          "base_uri": "https://localhost:8080/",
          "height": 667
        },
        "outputId": "bd7e18f3-0d40-4934-dfdd-4088d026ace3"
      },
      "execution_count": null,
      "outputs": [
        {
          "output_type": "stream",
          "name": "stdout",
          "text": [
            "Accuracy:  0.6866866866866866\n",
            "AUC:  0.7251117679464362\n"
          ]
        },
        {
          "output_type": "display_data",
          "data": {
            "text/plain": [
              "<Figure size 800x600 with 2 Axes>"
            ],
            "image/png": "[encoded data removed]"
          },
          "metadata": {}
        }
      ]
    },
    {
      "cell_type": "code",
      "source": [],
      "metadata": {
        "id": "p0BO0yxbelar"
      },
      "execution_count": null,
      "outputs": []
    },
    {
      "cell_type": "code",
      "source": [],
      "metadata": {
        "id": "bmUmzYFzelX2"
      },
      "execution_count": null,
      "outputs": []
    },
    {
      "cell_type": "code",
      "source": [],
      "metadata": {
        "id": "H7qeC5I1N1A2"
      },
      "execution_count": null,
      "outputs": []
    },
    {
      "cell_type": "markdown",
      "source": [
        "<h1><b>Sentiment AnALYSIS"
      ],
      "metadata": {
        "id": "k8dvt1lnnE0a"
      }
    },
    {
      "cell_type": "code",
      "execution_count": null,
      "metadata": {
        "id": "L1uM8S1GOXww"
      },
      "outputs": [],
      "source": [
        "import nltk\n",
        "from nltk.corpus import twitter_samples\n",
        "from nltk.corpus import stopwords\n",
        "from nltk.stem import PorterStemmer\n",
        "from nltk.tokenize import TweetTokenizer\n",
        "from nltk import FreqDist, classify, NaiveBayesClassifier"
      ]
    },
    {
      "cell_type": "markdown",
      "source": [],
      "metadata": {
        "id": "GLoP5VW3nD7A"
      }
    },
    {
      "cell_type": "code",
      "source": [
        "nltk.download('twitter_samples')\n",
        "nltk.download('stopwords')"
      ],
      "metadata": {
        "colab": {
          "base_uri": "https://localhost:8080/"
        },
        "id": "3sokX7kaOgAw",
        "outputId": "fad44513-5656-4d5c-b96f-09e7758325ba"
      },
      "execution_count": null,
      "outputs": [
        {
          "output_type": "stream",
          "name": "stderr",
          "text": [
            "[nltk_data] Downloading package twitter_samples to /root/nltk_data...\n",
            "[nltk_data]   Unzipping corpora/twitter_samples.zip.\n",
            "[nltk_data] Downloading package stopwords to /root/nltk_data...\n",
            "[nltk_data]   Unzipping corpora/stopwords.zip.\n"
          ]
        },
        {
          "output_type": "execute_result",
          "data": {
            "text/plain": [
              "True"
            ]
          },
          "metadata": {},
          "execution_count": 2
        }
      ]
    },
    {
      "cell_type": "code",
      "source": [
        "# Load positive and negative Twitter datasets\n",
        "positive_tweets = twitter_samples.strings('positive_tweets.json')\n",
        "negative_tweets = twitter_samples.strings('negative_tweets.json')"
      ],
      "metadata": {
        "id": "OwU4eDIpOf-h"
      },
      "execution_count": null,
      "outputs": []
    },
    {
      "cell_type": "code",
      "source": [
        "positive_tweets[10]\n",
        "negative_tweets[10]"
      ],
      "metadata": {
        "colab": {
          "base_uri": "https://localhost:8080/",
          "height": 35
        },
        "id": "GgZKqhv9PASi",
        "outputId": "592786dd-93b4-4be5-d7f7-be1e0150b361"
      },
      "execution_count": null,
      "outputs": [
        {
          "output_type": "execute_result",
          "data": {
            "text/plain": [
              "\"realli good & g idea i'm never go meet :( ( (\""
            ],
            "application/vnd.google.colaboratory.intrinsic+json": {
              "type": "string"
            }
          },
          "metadata": {},
          "execution_count": 17
        }
      ]
    },
    {
      "cell_type": "code",
      "source": [
        "# Tokenization and preprocessing\n",
        "tokenizer = TweetTokenizer(preserve_case=False, strip_handles=True, reduce_len=True)\n",
        "stop_words = set(stopwords.words('english'))\n",
        "stemmer = PorterStemmer()"
      ],
      "metadata": {
        "id": "aW-t9A7pOf77"
      },
      "execution_count": null,
      "outputs": []
    },
    {
      "cell_type": "code",
      "source": [
        "def preprocess_tweet(tweet):\n",
        "    tokens = tokenizer.tokenize(tweet)\n",
        "    tokens = [stemmer.stem(token) for token in tokens]\n",
        "    tokens = [token for token in tokens if token not in stop_words]\n",
        "    return ' '.join(tokens)"
      ],
      "metadata": {
        "id": "fuGX-1AJOf5F"
      },
      "execution_count": null,
      "outputs": []
    },
    {
      "cell_type": "code",
      "source": [
        "\n",
        "positive_tweets = [preprocess_tweet(tweet) for tweet in positive_tweets]\n",
        "negative_tweets = [preprocess_tweet(tweet) for tweet in negative_tweets]\n"
      ],
      "metadata": {
        "id": "sVdqSM1nOf20"
      },
      "execution_count": null,
      "outputs": []
    },
    {
      "cell_type": "code",
      "source": [
        "len(positive_tweets)"
      ],
      "metadata": {
        "colab": {
          "base_uri": "https://localhost:8080/"
        },
        "id": "yIyVEixhPszc",
        "outputId": "22adacce-48f3-4859-e3a4-feab0b9786e9"
      },
      "execution_count": null,
      "outputs": [
        {
          "output_type": "execute_result",
          "data": {
            "text/plain": [
              "5000"
            ]
          },
          "metadata": {},
          "execution_count": 21
        }
      ]
    },
    {
      "cell_type": "code",
      "source": [
        "\n",
        "# Create a list of tuples (tweet, label) where label is 'pos' for positive and 'neg' for negative\n",
        "tweets = [(tweet, 'pos') for tweet in positive_tweets] + [(tweet, 'neg') for tweet in negative_tweets]"
      ],
      "metadata": {
        "id": "gHeRddN5Ofz_"
      },
      "execution_count": null,
      "outputs": []
    },
    {
      "cell_type": "code",
      "source": [
        "len(tweets)"
      ],
      "metadata": {
        "colab": {
          "base_uri": "https://localhost:8080/"
        },
        "id": "-_LapxMdPi43",
        "outputId": "2a85935b-fa5c-409b-d194-1f7304bf257e"
      },
      "execution_count": null,
      "outputs": [
        {
          "output_type": "execute_result",
          "data": {
            "text/plain": [
              "10000"
            ]
          },
          "metadata": {},
          "execution_count": 25
        }
      ]
    },
    {
      "cell_type": "code",
      "source": [
        "\n",
        "# Create a feature extractor\n",
        "def get_features(text):\n",
        "    words = tokenizer.tokenize(text)\n",
        "    features = {}\n",
        "    for word in words:\n",
        "        features[word] = True\n",
        "    return features\n",
        "\n",
        "# Build the feature set\n",
        "featuresets = [(get_features(tweet), label) for (tweet, label) in tweets]\n"
      ],
      "metadata": {
        "id": "XqGA2tkPOfxU"
      },
      "execution_count": null,
      "outputs": []
    },
    {
      "cell_type": "code",
      "source": [
        "featuresets[7]"
      ],
      "metadata": {
        "colab": {
          "base_uri": "https://localhost:8080/"
        },
        "id": "6RnFUvSZQBKc",
        "outputId": "30aecb85-23ad-4f7b-df72-a22d871490cb"
      },
      "execution_count": null,
      "outputs": [
        {
          "output_type": "execute_result",
          "data": {
            "text/plain": [
              "({'second': True,\n",
              "  'thought': True,\n",
              "  ',': True,\n",
              "  '’': True,\n",
              "  'enough': True,\n",
              "  'time': True,\n",
              "  'dd': True,\n",
              "  ':)': True,\n",
              "  'new': True,\n",
              "  'short': True,\n",
              "  'enter': True,\n",
              "  'system': True,\n",
              "  '.': True,\n",
              "  'sheep': True,\n",
              "  'must': True,\n",
              "  'buy': True},\n",
              " 'pos')"
            ]
          },
          "metadata": {},
          "execution_count": 31
        }
      ]
    },
    {
      "cell_type": "code",
      "source": [
        "\n",
        "# Split the data into a training and testing set\n",
        "split_ratio = 0.8\n",
        "split_index = int(len(featuresets) * split_ratio)\n",
        "train_set, test_set = featuresets[:split_index], featuresets[split_index:]\n"
      ],
      "metadata": {
        "id": "CBkjBtZPOfvZ"
      },
      "execution_count": null,
      "outputs": []
    },
    {
      "cell_type": "code",
      "source": [
        "split_index , len(train_set) , len(test_set)"
      ],
      "metadata": {
        "colab": {
          "base_uri": "https://localhost:8080/"
        },
        "id": "NaDjwKrJQXpi",
        "outputId": "365dfa73-2b1d-4c95-b880-81eda56ed381"
      },
      "execution_count": null,
      "outputs": [
        {
          "output_type": "execute_result",
          "data": {
            "text/plain": [
              "(8000, 8000, 2000)"
            ]
          },
          "metadata": {},
          "execution_count": 35
        }
      ]
    },
    {
      "cell_type": "code",
      "source": [],
      "metadata": {
        "id": "oagnlf6lQcgQ"
      },
      "execution_count": null,
      "outputs": []
    },
    {
      "cell_type": "code",
      "source": [],
      "metadata": {
        "id": "tJWBm7btQceF"
      },
      "execution_count": null,
      "outputs": []
    },
    {
      "cell_type": "code",
      "source": [
        "# Train a Naive Bayes classifier\n",
        "classifier = NaiveBayesClassifier.train(train_set)"
      ],
      "metadata": {
        "id": "GpAESzz0Oft6"
      },
      "execution_count": null,
      "outputs": []
    },
    {
      "cell_type": "code",
      "source": [
        "# Evaluate the classifier\n",
        "accuracy = classify.accuracy(classifier, test_set)\n",
        "print(f'Accuracy: {accuracy:.2%}')"
      ],
      "metadata": {
        "colab": {
          "base_uri": "https://localhost:8080/"
        },
        "id": "CL_pmcE5Ofrq",
        "outputId": "2e3bb3e3-4b34-46ac-e47b-8544cabec233"
      },
      "execution_count": null,
      "outputs": [
        {
          "output_type": "stream",
          "name": "stdout",
          "text": [
            "Accuracy: 99.60%\n"
          ]
        }
      ]
    },
    {
      "cell_type": "code",
      "source": [
        "# Example usage: Predict sentiment of a custom tweet\n",
        "custom_tweet = \"u r crazy\"\n",
        "custom_tweet = preprocess_tweet(custom_tweet)\n",
        "features = get_features(custom_tweet)\n",
        "sentiment = classifier.classify(features)\n",
        "print(f'Sentiment: {sentiment}')"
      ],
      "metadata": {
        "colab": {
          "base_uri": "https://localhost:8080/"
        },
        "id": "I6mbTbxQO7MF",
        "outputId": "6f21a5d7-274d-45fe-bff3-577c6c075ce8"
      },
      "execution_count": null,
      "outputs": [
        {
          "output_type": "stream",
          "name": "stdout",
          "text": [
            "Sentiment: pos\n"
          ]
        }
      ]
    },
    {
      "cell_type": "code",
      "source": [],
      "metadata": {
        "id": "r_rsm__dO7KT"
      },
      "execution_count": null,
      "outputs": []
    },
    {
      "cell_type": "markdown",
      "source": [
        "<H1>use GENISM TO PREDICT THE SIMILAR WORDS"
      ],
      "metadata": {
        "id": "HvqcQwuinNnE"
      }
    },
    {
      "cell_type": "code",
      "source": [
        "from gensim.test.utils import common_texts\n",
        "from gensim.models import Word2Vec\n",
        "import warnings\n",
        "warnings.filterwarnings('ignore')"
      ],
      "metadata": {
        "id": "mOek18f_O7H8"
      },
      "execution_count": null,
      "outputs": []
    },
    {
      "cell_type": "code",
      "source": [
        "# define training data\n",
        "#Genism word2vec requires that a format of ‘list of lists’ be provided for training where every document contained in a list.\n",
        "#Every list contains lists of tokens of that document.\n",
        "corpus = [['dog','bites','man'], [\"man\", \"bites\" ,\"dog\"],[\"dog\",\"eats\",\"meat\"],[\"man\", \"eats\",\"food\"]]\n",
        "\n",
        "#Training the model\n",
        "model_cbow = Word2Vec(corpus, min_count=1,sg=0) #using CBOW Architecture for trainnig\n",
        "model_skipgram = Word2Vec(corpus, min_count=1,sg=1)#using skipGram Architecture for training"
      ],
      "metadata": {
        "id": "2I5C7q7rn_J5"
      },
      "execution_count": null,
      "outputs": []
    },
    {
      "cell_type": "markdown",
      "source": [
        "<h1>Continuous Bag of Words (CBOW)\n",
        "\n",
        "In CBOW, the primary task is to build a language model that correctly predicts the center word given the context words in which the center word appears.\n",
        "\n"
      ],
      "metadata": {
        "id": "OVulh2lnn2ws"
      }
    },
    {
      "cell_type": "code",
      "source": [
        "#Summarize the loaded model\n",
        "print(model_cbow)\n",
        "\n",
        "#Summarize vocabulary\n",
        "words = list(model_cbow.wv.index_to_key)\n",
        "\n",
        "print(words)\n",
        "\n",
        "#Acess vector for one word\n",
        "print(model_cbow.wv['dog'])\n",
        "\n"
      ],
      "metadata": {
        "id": "7ytjxb20O7Fc",
        "colab": {
          "base_uri": "https://localhost:8080/"
        },
        "outputId": "5c5febb3-31d0-4381-cdc4-9a658f97d54b"
      },
      "execution_count": null,
      "outputs": [
        {
          "output_type": "stream",
          "name": "stdout",
          "text": [
            "Word2Vec<vocab=6, vector_size=100, alpha=0.025>\n",
            "['man', 'dog', 'eats', 'bites', 'food', 'meat']\n",
            "[-8.6196875e-03  3.6657380e-03  5.1898835e-03  5.7419385e-03\n",
            "  7.4669183e-03 -6.1676754e-03  1.1056137e-03  6.0472824e-03\n",
            " -2.8400505e-03 -6.1735227e-03 -4.1022300e-04 -8.3689485e-03\n",
            " -5.6000124e-03  7.1045388e-03  3.3525396e-03  7.2256695e-03\n",
            "  6.8002474e-03  7.5307419e-03 -3.7891543e-03 -5.6180597e-04\n",
            "  2.3483764e-03 -4.5190323e-03  8.3887316e-03 -9.8581640e-03\n",
            "  6.7646410e-03  2.9144168e-03 -4.9328315e-03  4.3981876e-03\n",
            " -1.7395747e-03  6.7113843e-03  9.9648498e-03 -4.3624435e-03\n",
            " -5.9933780e-04 -5.6956373e-03  3.8508223e-03  2.7866268e-03\n",
            "  6.8910765e-03  6.1010956e-03  9.5384968e-03  9.2734173e-03\n",
            "  7.8980681e-03 -6.9895042e-03 -9.1558648e-03 -3.5575271e-04\n",
            " -3.0998408e-03  7.8943167e-03  5.9385742e-03 -1.5456629e-03\n",
            "  1.5109634e-03  1.7900408e-03  7.8175711e-03 -9.5101865e-03\n",
            " -2.0553112e-04  3.4691966e-03 -9.3897223e-04  8.3817719e-03\n",
            "  9.0107834e-03  6.5365066e-03 -7.1162102e-04  7.7104042e-03\n",
            " -8.5343346e-03  3.2071066e-03 -4.6379971e-03 -5.0889552e-03\n",
            "  3.5896183e-03  5.3703394e-03  7.7695143e-03 -5.7665063e-03\n",
            "  7.4333609e-03  6.6254963e-03 -3.7098003e-03 -8.7456414e-03\n",
            "  5.4374672e-03  6.5097557e-03 -7.8755023e-04 -6.7098560e-03\n",
            " -7.0859254e-03 -2.4970602e-03  5.1432536e-03 -3.6652375e-03\n",
            " -9.3700597e-03  3.8267397e-03  4.8844791e-03 -6.4285635e-03\n",
            "  1.2085581e-03 -2.0748770e-03  2.4403334e-05 -9.8835090e-03\n",
            "  2.6920044e-03 -4.7501065e-03  1.0876465e-03 -1.5762246e-03\n",
            "  2.1966731e-03 -7.8815762e-03 -2.7171839e-03  2.6631986e-03\n",
            "  5.3466819e-03 -2.3915148e-03 -9.5100943e-03  4.5058788e-03]\n"
          ]
        }
      ]
    },
    {
      "cell_type": "code",
      "source": [
        "\n",
        "#Compute similarity\n",
        "# Compute similarity\n",
        "print(\"Similarity between eats and bites:\", model_cbow.wv.similarity('eats', 'bites'))\n",
        "print(\"Similarity between eats and man:\", model_cbow.wv.similarity('eats', 'man'))\n"
      ],
      "metadata": {
        "id": "swV3mtvmO7C-",
        "colab": {
          "base_uri": "https://localhost:8080/"
        },
        "outputId": "843f2c33-f2cd-42d5-fee1-099a8140273b"
      },
      "execution_count": null,
      "outputs": [
        {
          "output_type": "stream",
          "name": "stdout",
          "text": [
            "Similarity between eats and bites: -0.01349709\n",
            "Similarity between eats and man: -0.052354358\n"
          ]
        }
      ]
    },
    {
      "cell_type": "code",
      "source": [
        "#Most similarity\n",
        "model_cbow.wv.most_similar('meat')"
      ],
      "metadata": {
        "id": "HtvilgPdO7AZ",
        "colab": {
          "base_uri": "https://localhost:8080/"
        },
        "outputId": "5a3afe2f-78e9-449c-954b-38cd3e37dd34"
      },
      "execution_count": null,
      "outputs": [
        {
          "output_type": "execute_result",
          "data": {
            "text/plain": [
              "[('food', 0.13887985050678253),\n",
              " ('bites', 0.13149003684520721),\n",
              " ('eats', 0.06422408670186996),\n",
              " ('dog', 0.009391166269779205),\n",
              " ('man', -0.05987630784511566)]"
            ]
          },
          "metadata": {},
          "execution_count": 14
        }
      ]
    },
    {
      "cell_type": "code",
      "source": [],
      "metadata": {
        "id": "66lsupvCqpdx"
      },
      "execution_count": null,
      "outputs": []
    },
    {
      "cell_type": "markdown",
      "source": [
        "<h1>SkipGram\n",
        "\n",
        "\n",
        "In skipgram, the task is to predict the context words from the center word.\n",
        "\n"
      ],
      "metadata": {
        "id": "nPr5IEIqsBs2"
      }
    },
    {
      "cell_type": "code",
      "source": [
        "#Summarize the loaded model\n",
        "print(model_skipgram)\n",
        "\n",
        "#Summarize vocabulary\n",
        "words = list(model_skipgram.wv.index_to_key)\n",
        "print(words)\n",
        "\n",
        "#Acess vector for one word\n",
        "print(model_skipgram.wv['dog'])"
      ],
      "metadata": {
        "colab": {
          "base_uri": "https://localhost:8080/"
        },
        "id": "lXsh7xHWsFsC",
        "outputId": "673d2161-ff08-447b-9e43-f4a17c150d3f"
      },
      "execution_count": null,
      "outputs": [
        {
          "output_type": "stream",
          "name": "stdout",
          "text": [
            "Word2Vec<vocab=6, vector_size=100, alpha=0.025>\n",
            "['man', 'dog', 'eats', 'bites', 'food', 'meat']\n",
            "[-8.6196875e-03  3.6657380e-03  5.1898835e-03  5.7419385e-03\n",
            "  7.4669183e-03 -6.1676754e-03  1.1056137e-03  6.0472824e-03\n",
            " -2.8400505e-03 -6.1735227e-03 -4.1022300e-04 -8.3689485e-03\n",
            " -5.6000124e-03  7.1045388e-03  3.3525396e-03  7.2256695e-03\n",
            "  6.8002474e-03  7.5307419e-03 -3.7891543e-03 -5.6180597e-04\n",
            "  2.3483764e-03 -4.5190323e-03  8.3887316e-03 -9.8581640e-03\n",
            "  6.7646410e-03  2.9144168e-03 -4.9328315e-03  4.3981876e-03\n",
            " -1.7395747e-03  6.7113843e-03  9.9648498e-03 -4.3624435e-03\n",
            " -5.9933780e-04 -5.6956373e-03  3.8508223e-03  2.7866268e-03\n",
            "  6.8910765e-03  6.1010956e-03  9.5384968e-03  9.2734173e-03\n",
            "  7.8980681e-03 -6.9895042e-03 -9.1558648e-03 -3.5575271e-04\n",
            " -3.0998408e-03  7.8943167e-03  5.9385742e-03 -1.5456629e-03\n",
            "  1.5109634e-03  1.7900408e-03  7.8175711e-03 -9.5101865e-03\n",
            " -2.0553112e-04  3.4691966e-03 -9.3897223e-04  8.3817719e-03\n",
            "  9.0107834e-03  6.5365066e-03 -7.1162102e-04  7.7104042e-03\n",
            " -8.5343346e-03  3.2071066e-03 -4.6379971e-03 -5.0889552e-03\n",
            "  3.5896183e-03  5.3703394e-03  7.7695143e-03 -5.7665063e-03\n",
            "  7.4333609e-03  6.6254963e-03 -3.7098003e-03 -8.7456414e-03\n",
            "  5.4374672e-03  6.5097557e-03 -7.8755023e-04 -6.7098560e-03\n",
            " -7.0859254e-03 -2.4970602e-03  5.1432536e-03 -3.6652375e-03\n",
            " -9.3700597e-03  3.8267397e-03  4.8844791e-03 -6.4285635e-03\n",
            "  1.2085581e-03 -2.0748770e-03  2.4403334e-05 -9.8835090e-03\n",
            "  2.6920044e-03 -4.7501065e-03  1.0876465e-03 -1.5762246e-03\n",
            "  2.1966731e-03 -7.8815762e-03 -2.7171839e-03  2.6631986e-03\n",
            "  5.3466819e-03 -2.3915148e-03 -9.5100943e-03  4.5058788e-03]\n"
          ]
        }
      ]
    },
    {
      "cell_type": "code",
      "source": [
        "#Compute similarity\n",
        "print(\"Similarity between eats and bites:\",model_skipgram.wv.similarity('dog', 'bites'))\n",
        "print(\"Similarity between eats and man:\",model_skipgram.wv.similarity('eats', 'food'))"
      ],
      "metadata": {
        "colab": {
          "base_uri": "https://localhost:8080/"
        },
        "id": "JhX0pX6ssH5l",
        "outputId": "f8bc77fd-63a3-4971-90b5-1abf2020e0c7"
      },
      "execution_count": null,
      "outputs": [
        {
          "output_type": "stream",
          "name": "stdout",
          "text": [
            "Similarity between eats and bites: 0.06797594\n",
            "Similarity between eats and man: 0.17018515\n"
          ]
        }
      ]
    },
    {
      "cell_type": "code",
      "source": [
        "#Most similarity\n",
        "model_skipgram.wv.most_similar('meat')"
      ],
      "metadata": {
        "colab": {
          "base_uri": "https://localhost:8080/"
        },
        "id": "8YWSV9XGsfDm",
        "outputId": "a154033e-e226-41e4-b184-8f9f65b8fa35"
      },
      "execution_count": null,
      "outputs": [
        {
          "output_type": "execute_result",
          "data": {
            "text/plain": [
              "[('food', 0.13887983560562134),\n",
              " ('bites', 0.13149002194404602),\n",
              " ('eats', 0.06406080722808838),\n",
              " ('dog', 0.009391166269779205),\n",
              " ('man', -0.059876300394535065)]"
            ]
          },
          "metadata": {},
          "execution_count": 22
        }
      ]
    },
    {
      "cell_type": "code",
      "source": [],
      "metadata": {
        "id": "zmKjTifYspTb"
      },
      "execution_count": null,
      "outputs": []
    },
    {
      "cell_type": "markdown",
      "source": [
        "<h1> avg vector for the text"
      ],
      "metadata": {
        "id": "R6nmwJRSvLhr"
      }
    },
    {
      "cell_type": "code",
      "source": [
        "import spacy\n",
        "import en_core_web_sm\n",
        "\n",
        "nlp=en_core_web_sm.load()\n",
        "\n",
        "doc=nlp(\"this is awsome worlds when u smile\")\n",
        "\n",
        "print(doc.vector)#Averaged vector for the entire sentence"
      ],
      "metadata": {
        "colab": {
          "base_uri": "https://localhost:8080/"
        },
        "id": "HjHqBGBDvUCs",
        "outputId": "2e0d94ff-697f-4e25-bb9d-fb069c418660"
      },
      "execution_count": null,
      "outputs": [
        {
          "output_type": "stream",
          "name": "stdout",
          "text": [
            "[ 0.20565714  0.07371444 -0.32465586  0.1236725   0.11249573 -0.01572216\n",
            "  0.71251285  0.48365662  0.06424249 -0.31562737  0.26362434  0.03863521\n",
            " -0.08529603  0.00591969 -0.5651911  -0.22939722 -0.20026554  0.22763412\n",
            " -0.64452237  0.37436557 -0.0743953   0.03216047 -0.21705833 -0.39851072\n",
            "  0.31298098  0.17894697  0.04933827  0.625294    0.18723989 -0.23962517\n",
            " -0.24685887  0.34034422 -0.06309833 -0.27915064  0.00343917 -0.45175698\n",
            "  0.07449637  0.3501102   0.35836893  0.27457374 -0.22804913  0.17068508\n",
            " -0.23000431  0.20914438  0.29271814 -0.00984285  0.3841686   0.21539725\n",
            " -0.04241136 -0.53034925 -0.24237607 -0.08218396 -0.29115152 -0.76526827\n",
            "  0.0567222  -0.14963739  0.16644098 -0.04547418  0.24576637  0.5754873\n",
            "  0.51255214 -0.32762036  0.03964809 -0.72837406  0.36051193  0.41950265\n",
            "  0.683589   -0.23876233  0.35333648 -0.07967325  0.3190822  -0.12900604\n",
            "  0.11898901 -0.307509   -0.43132025  0.27672625 -0.05841332 -0.2972363\n",
            " -0.22117142 -0.08213149 -0.57897747 -0.05792673  0.04711391 -0.3165038\n",
            "  0.3140177   0.5226799   0.10538889 -0.39765844 -0.05402607 -0.38098833\n",
            "  0.20073737 -0.3131988   0.47092226  0.05297055 -0.76701546  0.8155783 ]\n"
          ]
        }
      ]
    },
    {
      "cell_type": "code",
      "source": [
        "len(doc[4].vector)"
      ],
      "metadata": {
        "colab": {
          "base_uri": "https://localhost:8080/"
        },
        "id": "6dNO82lCvUAr",
        "outputId": "96745bc6-0bc4-473c-a484-a127f2943864"
      },
      "execution_count": null,
      "outputs": [
        {
          "output_type": "execute_result",
          "data": {
            "text/plain": [
              "96"
            ]
          },
          "metadata": {},
          "execution_count": 28
        }
      ]
    },
    {
      "cell_type": "markdown",
      "source": [
        "<H1> t-SNE"
      ],
      "metadata": {
        "id": "bYR-0vRqV579"
      }
    },
    {
      "cell_type": "code",
      "source": [
        "import numpy as np\n",
        "import matplotlib.pyplot as plt\n",
        "from sklearn.manifold import TSNE\n",
        "\n",
        "# Example text data and random word embeddings (replace with your data)\n",
        "text_data = [\n",
        "    \"The quick brown fox jumps over the lazy dog.\",\n",
        "    \"The cat is sitting on the windowsill.\",\n",
        "    \"She enjoys reading books in her spare time.\",\n",
        "    \"The sunsets at the beach are breathtaking.\",\n",
        "    \"Programming is both challenging and rewarding.\",\n",
        "    \"Coffee and a good book make a perfect combination.\",\n",
        "]\n",
        "\n",
        "# Generate random word embeddings for the example sentences (replace with your embeddings)\n",
        "# In practice, you would load pre-trained embeddings or generate your own\n",
        "num_sentences = len(text_data)\n",
        "embedding_dim = 50  # Example embedding dimension\n",
        "random_embeddings = np.random.rand(num_sentences, embedding_dim)\n",
        "\n",
        "# Perform t-SNE dimensionality reduction with reduced perplexity\n",
        "tsne = TSNE(n_components=2, perplexity=5, random_state=0)\n",
        "tsne_result = tsne.fit_transform(random_embeddings)\n",
        "\n",
        "# Plot the t-SNE visualization\n",
        "plt.figure(figsize=(10, 8))\n",
        "plt.scatter(tsne_result[:, 0], tsne_result[:, 1], marker='o', s=100)\n",
        "\n",
        "# Label the points with the corresponding sentences (optional)\n",
        "for i, sentence in enumerate(text_data):\n",
        "    plt.annotate(sentence, (tsne_result[i, 0], tsne_result[i, 1]))\n",
        "\n",
        "plt.title(\"t-SNE Visualization of Text Data\")\n",
        "plt.xlabel(\"Dimension 1\")\n",
        "plt.ylabel(\"Dimension 2\")\n",
        "plt.grid(True)\n",
        "plt.show()\n"
      ],
      "metadata": {
        "colab": {
          "base_uri": "https://localhost:8080/",
          "height": 718
        },
        "id": "OOCF0vRwvT92",
        "outputId": "be880e07-2bd8-43fd-e874-bf2e2527806c"
      },
      "execution_count": null,
      "outputs": [
        {
          "output_type": "display_data",
          "data": {
            "text/plain": [
              "<Figure size 1000x800 with 1 Axes>"
            ],
            "image/png": "[encoded data removed]"
          },
          "metadata": {}
        }
      ]
    },
    {
      "cell_type": "code",
      "source": [
        "import plotly.express as px\n",
        "from sklearn.datasets import make_classification\n",
        "\n",
        "X, y = make_classification(\n",
        "    n_features=6,\n",
        "    n_classes=3,\n",
        "    n_samples=1500,\n",
        "    n_informative=2,\n",
        "    random_state=5,\n",
        "    n_clusters_per_class=1,\n",
        ")\n",
        "\n",
        "\n",
        "fig = px.scatter_3d(x=X[:, 0], y=X[:, 1], z=X[:, 2], color=y, opacity=0.8)\n",
        "fig.show()\n"
      ],
      "metadata": {
        "colab": {
          "base_uri": "https://localhost:8080/",
          "height": 542
        },
        "id": "oDpT6kaUvT6_",
        "outputId": "86294818-3023-44d3-e374-12f539751943"
      },
      "execution_count": null,
      "outputs": [
        {
          "output_type": "display_data",
          "data": {
            "text/html": [
              "<html>\n",
              "<head><meta charset=\"utf-8\" /></head>\n",
              "<body>\n",
              "    <div>            <script src=\"https://cdnjs.cloudflare.com/ajax/libs/mathjax/2.7.5/MathJax.js?config=TeX-AMS-MML_SVG\"></script><script type=\"text/javascript\">if (window.MathJax && window.MathJax.Hub && window.MathJax.Hub.Config) {window.MathJax.Hub.Config({SVG: {font: \"STIX-Web\"}});}</script>                <script type=\"text/javascript\">window.PlotlyConfig = {MathJaxConfig: 'local'};</script>\n",
              "        <script charset=\"utf-8\" src=\"https://cdn.plot.ly/plotly-2.24.1.min.js\"></script>                <div id=\"56acc47c-ac50-434f-ab60-69132eac15a2\" class=\"plotly-graph-div\" style=\"height:525px; width:100%;\"></div>            <script type=\"text/javascript\">                                    window.PLOTLYENV=window.PLOTLYENV || {};                                    if (document.getElementById(\"56acc47c-ac50-434f-ab60-69132eac15a2\")) {                    Plotly.newPlot(                        \"56acc47c-ac50-434f-ab60-69132eac15a2\",                        [{\"hovertemplate\":\"x=%{x}\\u003cbr\\u003ey=%{y}\\u003cbr\\u003ez=%{z}\\u003cbr\\u003ecolor=%{marker.color}\\u003cextra\\u003e\\u003c\\u002fextra\\u003e\",\"legendgroup\":\"\",\"marker\":{\"color\":[2,0,2,0,0,1,1,0,2,1,2,2,1,1,2,0,0,1,0,0,0,1,1,2,0,2,0,2,0,0,0,0,0,0,1,2,0,0,1,0,0,0,1,2,0,1,1,0,0,1,1,1,1,1,1,2,1,2,0,0,2,2,0,2,0,1,0,0,1,2,1,2,1,2,1,2,0,0,1,0,2,2,0,0,0,1,0,1,2,2,1,1,1,0,2,2,0,0,1,0,2,0,0,2,2,1,2,1,2,0,0,1,0,1,1,1,1,0,0,0,0,1,1,2,2,1,1,2,2,2,2,2,1,0,1,0,1,2,2,1,1,2,2,0,1,2,0,1,0,0,0,1,1,2,2,0,1,0,1,2,0,1,1,1,1,2,1,2,0,2,2,0,1,0,2,2,1,2,2,1,2,2,2,1,0,1,2,1,2,0,0,2,0,2,2,0,0,1,2,1,2,1,2,2,2,1,1,0,1,0,2,1,0,0,1,0,0,1,1,0,2,1,1,1,2,0,1,0,0,1,1,2,0,2,2,0,0,0,1,0,2,0,0,1,0,1,1,0,0,0,0,1,1,1,2,0,0,0,2,2,1,1,0,1,2,1,2,1,2,1,1,1,0,2,2,1,1,0,2,0,2,1,0,2,1,2,0,1,0,1,1,1,2,0,0,1,1,1,1,0,1,2,2,1,0,0,2,2,2,1,0,2,1,1,1,0,0,0,2,2,2,1,0,2,0,0,0,2,0,1,0,2,1,0,0,0,1,0,1,0,2,1,1,2,0,2,0,0,2,2,1,1,2,2,0,0,1,0,0,1,2,2,0,1,0,2,0,0,2,2,0,1,2,0,1,1,1,0,2,0,2,0,0,1,1,0,2,2,2,2,1,2,2,0,2,1,0,1,1,0,0,0,1,2,0,0,0,2,1,2,0,2,1,0,1,0,0,0,1,1,0,0,0,0,1,2,2,0,1,2,1,0,1,2,1,2,1,0,1,2,0,1,2,2,2,1,1,2,2,2,1,1,2,1,0,0,1,0,0,2,1,2,2,0,2,0,0,2,2,0,2,2,1,2,1,2,1,0,2,1,2,1,0,0,0,2,0,2,2,2,2,1,2,2,1,0,2,0,2,1,2,0,0,1,1,2,0,1,0,2,1,2,2,0,2,2,0,0,2,2,1,0,1,0,2,1,1,0,0,1,2,2,0,2,0,0,0,0,0,1,1,0,2,2,2,1,1,2,1,2,2,0,0,2,1,2,1,1,1,1,1,1,2,1,1,0,0,2,2,2,0,2,0,0,0,2,2,0,2,0,1,2,0,2,2,0,0,2,0,0,2,1,2,2,2,2,1,0,2,0,2,1,0,0,1,2,0,1,2,1,2,2,1,1,2,2,1,0,2,2,0,1,2,1,2,0,0,2,1,0,1,2,2,1,1,0,1,1,2,1,2,1,1,0,0,1,0,1,0,0,1,2,2,0,2,0,1,0,2,0,2,1,2,2,1,1,2,2,2,0,0,2,2,1,1,0,0,0,0,1,2,0,2,0,1,1,0,2,2,2,1,2,0,0,2,2,1,2,1,2,1,1,0,0,2,1,1,2,0,2,2,0,2,0,1,0,0,0,2,2,2,1,0,0,1,2,0,2,0,0,0,0,0,1,2,1,0,1,0,2,2,2,2,1,0,1,2,1,1,1,2,1,0,2,0,0,0,1,1,2,2,2,2,2,0,2,1,1,0,0,0,2,1,2,1,2,0,2,0,0,2,2,1,0,1,0,0,2,0,2,2,2,2,1,1,1,0,0,1,1,1,2,1,1,0,1,0,2,0,2,2,0,1,2,2,2,1,2,1,2,0,0,1,1,1,0,1,2,2,2,0,1,0,2,1,2,1,1,0,0,2,1,2,2,1,2,1,2,0,2,1,0,1,2,2,0,0,0,1,0,0,2,2,0,0,1,1,0,0,0,2,0,1,1,2,0,2,0,2,1,0,0,2,1,2,2,1,1,0,2,2,2,0,2,0,1,2,1,1,0,1,2,1,1,2,0,1,0,1,1,0,0,1,2,0,0,1,0,2,0,2,1,1,1,1,2,0,2,1,2,2,1,0,1,1,1,1,2,2,2,2,2,0,0,2,1,0,2,0,1,2,2,2,2,0,2,1,1,2,1,1,2,2,2,0,1,1,1,2,1,2,0,1,1,2,1,1,0,1,0,1,2,2,0,2,0,0,1,0,2,2,2,0,2,2,0,0,1,1,2,0,2,1,2,0,2,1,1,2,1,2,2,2,1,2,1,1,0,0,2,1,2,0,2,0,2,1,2,0,0,2,2,2,1,2,1,2,0,0,2,0,1,0,1,0,1,1,2,2,1,1,1,0,1,1,2,1,1,2,1,2,1,2,0,2,2,0,0,0,0,0,2,1,0,1,2,2,0,1,0,0,2,1,0,1,2,2,1,1,0,0,0,1,1,1,0,1,2,1,2,2,2,0,2,0,2,2,0,1,1,1,0,0,0,2,1,0,1,1,1,2,2,2,0,2,2,2,1,0,2,0,1,1,0,0,2,1,0,2,1,1,0,0,0,2,2,0,2,1,2,1,1,1,2,0,1,1,0,2,0,1,0,0,1,1,1,1,0,2,1,1,2,0,0,2,1,0,1,2,2,1,1,0,1,2,0,0,1,0,0,0,2,2,0,2,0,2,2,2,0,1,0,0,0,2,0,2,1,1,2,2,2,2,0,1,2,2,2,1,0,1,0,1,1,1,0,2,1,2,1,2,2,0,0,1,2,1,1,2,2,1,0,0,1,2,0,0,1,2,2,1,1,0,1,2,0,1,2,2,0,1,1,1,1,2,2,1,1,0,1,1,1,1,2,0,0,1,2,2,1,2,1,1,0,0,0,0,1,0,0,1,2,0,2,0,2,0,0,0,1,0,2,1,0,2,1,0,0,1,2,2,1,0,0,2,2,1,1,1,1,2,2,0,2,0,2,1,1,1,1,1,1,1,1,1,0,1,2,0,2,2,0,2,1,1,1,0,1,2,2,1,0,0,0,0,0,1,2,1,2,1,0,0,0,0,1,0,0,1,1,0,1,1,0,2,2,1,2,1,0,2,0,0,2,2,1,2,1,0,0,2,0,0,0,1,2,0,0,0,2,2,2,1,1,2,1,1,0,1,0,0,1,2,0,0,1,0,0,0,2,0,2,0,0,0,2,0,1,1,1,1,1,2,2,0,0,2,1,1,2,1,0,0,1,0,0,0,1,0,2,1,2,0,0,1,2,2,2,1,2,2,1,0,2,2,2,0,1,0,1,1,1,0,2,1,0,2,1,1,1,2,2,0,0,2,1,0,1,0,2,1,0,0,1,1,1,0,2,1,1],\"coloraxis\":\"coloraxis\",\"opacity\":0.8,\"symbol\":\"circle\"},\"mode\":\"markers\",\"name\":\"\",\"scene\":\"scene\",\"showlegend\":false,\"x\":[1.6489028095134242,-2.1394525313298822,-0.6675624655410153,-0.3655121298219961,0.08985476723069552,0.0947876188279908,-2.6017725542826744,-2.1646335108504307,1.4742723688489838,-1.6829287606922687,1.0980217760435051,1.2149910542175137,-0.5856356017587036,-1.6714147668236756,1.9197481275005117,0.0010281976026966788,-1.3290510082080211,-1.133832138691787,-3.450614467199962,-0.38938111033215594,0.2260272803420491,0.4471845004236188,-0.6155139001565337,-1.6941792954533859,1.013629797486593,-0.11318366244947975,-0.744451753984281,1.0845227095812286,0.07927469948256083,-1.0575665020661316,-1.1169367142243685,-1.059148558881186,0.4591814086577026,-0.2540411645754459,-1.4102653143279826,1.3784731210390428,-1.3457843642065628,-0.4559252118613838,-0.14870265675370853,-1.890294330832721,0.30707060838650957,-1.8087953662852754,-0.24587527750093574,-0.8144023448007267,-2.283464370908595,0.34133044076397434,-2.116464329788818,-1.4732667690434187,-0.873745165970419,-0.38732419773616245,-1.000215113091986,-1.6510015452695228,-0.8874806199803383,-1.7631713147345343,-1.2128797817476258,-0.4040291053615246,-1.7400050457137577,-1.4931656181563357,-2.952374223787781,-1.8973881512491202,1.232226980051127,1.2647633265357183,-2.0909522531594407,2.1449845694635234,-2.021819567239565,-1.2139458337708386,-0.2592597221116454,-1.3202718822114203,-0.9464900370991645,2.1270322836242066,-2.065267506994752,0.5036967754374009,-0.8328332827897336,0.6796978746266997,-0.9444259437651279,1.3890276442238352,0.9756908359608607,-1.6092335260357151,-0.3975798427600913,-1.8190187128654847,0.5716154715982658,-0.4163669388286182,-0.285910236640857,-1.4399303161007266,-0.48560952566215065,-2.2257154355904802,-2.1610022502828277,0.4365970730916502,-0.2674640525920713,1.6866110026515169,-0.3818431043448034,-0.3333286682052258,-1.566322990793151,-2.164052470817657,-0.5547069883528954,0.6663663551746177,-1.8992303074903192,-0.8946260308189157,-1.5392832536697187,-2.001527983985808,0.017589541995223223,0.6315094749990133,-2.435107902883454,1.9824384031653817,0.8620812623426188,-2.7418932653693466,0.9580868155689353,0.3372448697443109,1.624345647908984,-3.2504988952656886,-1.535966846534547,-0.8287012417652534,-1.5334148552568956,-1.680595890141995,-0.46894354202338917,0.4670262330710222,0.3330866615258352,-0.792629559683747,-1.814542270387776,-1.0340738372573133,0.43404803193797314,-2.97898219602423,-3.07466340315863,1.8484177257487429,0.5756152383114911,-0.3323364102075568,-1.5699439062737826,1.3199932327489283,1.7587797133574448,1.1309288322758928,3.5555274479902566,0.34328475003110936,-2.519631954479512,0.7160809519391074,-0.598583706154685,-1.9119553581541435,-2.4490961125087125,0.28934711536719293,1.9848686974341858,-0.748599482317517,0.8000542093491279,1.1505208349630363,1.6381095587104324,-0.5998055006138758,-1.0763712766795288,-0.8508765659759547,0.3605091153676776,-1.3919488759688285,-0.3469447558400549,-1.5433542830561906,-0.6028359160494956,0.22135743155640664,0.5195471977106834,-0.6492563400765232,2.17384338878411,-1.1998942834251478,-1.6690744357159446,-0.15777734687044076,-1.2605023975894687,0.18833860510403044,-1.8006628255263157,-0.26435377754751976,-0.16126240169512107,-2.0536270195228887,-1.640743082811024,3.138210272182723,-2.80490854706028,2.259372456008606,-2.505982853822097,1.0632543730722384,2.8939910931060497,1.3471036924350122,0.5147355235419999,-1.2672590496198277,0.6011653289431194,2.9611980443821597,-1.2627662150207444,1.3818873798975386,-1.0683856328972388,-0.5426466722565157,1.8011219140415706,1.8718836158469199,2.2630019196702857,-0.6615883420271537,-1.6258869465774368,-2.0922160293258485,1.140328998843689,-1.5721148640492537,1.258453461403984,-0.8577093284915227,-1.393763791672017,0.8462630004667997,-0.05452619829917693,2.6071716845978,0.31496753404206823,-0.10924797677341125,-0.7689117439206062,-1.7319203566404482,0.6808300910120346,-1.5951150349751129,2.810199554802355,-1.2335298902345841,1.4797208550438623,0.8085668106563803,-0.188527218889047,-0.7007646730065882,-1.4425013370256385,-0.9480880068445898,-1.1061023314617695,-2.710514999766698,1.189757301575041,-2.53226836600077,-0.8288331880445073,-0.20629231992971375,-2.0229103847346837,-1.8995372947425682,-1.7735101909317001,-2.719487149769381,-0.6785457516622944,-0.4125006769997257,1.3293271924459462,-0.8848290206750312,-0.8829658174846086,-0.2586284109398509,-0.6502889432266332,-1.7216320867123094,-0.8045686875601853,1.1685929309734826,-2.1571344693317265,-1.3705812749598532,-0.6813688777654756,-0.18095234577430697,-1.8165356722533208,0.32880559662895303,1.7779267359628794,-1.5810516762770321,-1.1864301935528,-0.4895386975724727,0.11815477441047495,-1.2669286480085082,-0.25140701549471767,-0.4160007077178729,-2.0214376821908875,-1.9151559335469654,-0.5301127994163524,-0.30613749516958644,-1.1228243663275579,-1.1027896226114555,-2.339548379966769,-1.4089907038855618,-0.8824918983731163,0.26844985204265837,-2.3761690388432064,-1.1568727675419457,0.02099788655907686,-0.6366886978935127,-1.2376934929700418,-0.5156990462676048,-0.8197874903402704,0.33241466123969,-0.47983623815825605,-1.772567425437975,-0.7539409339965357,-0.7052972132775939,3.3079280175447314,-0.8473295518692048,1.1214089542444596,-0.4645798882073807,-0.2902943113541645,-0.5659370151352072,-2.0305576175943445,-1.6821276959699996,-1.4545044662885238,3.8101622770715116,2.4924468062465746,-1.3997202792883787,-0.2649007001356958,-0.8761179420067198,2.4357347219689798,-2.2796799939138266,2.445779653698051,-2.421458808619823,-1.1938840473635106,1.0361283618006016,-0.32489658336472427,1.6879007506925343,-0.9015905758702578,-1.9716824690004167,-2.098644743957564,-1.2622409400454486,-0.2430685150884826,-0.8175298577558342,2.065353548433584,-1.2159195847989617,-0.7813456529900549,0.15282504753101667,-2.5556799597931916,-0.5538813278257677,-0.15539479499910813,-1.7774702077901785,-1.6110407163927372,1.1366640256032858,0.09747190005789674,-0.9236022732462,-1.0470463506539802,-1.2771533985299042,0.4289575610947213,-0.4800207822612865,-0.9233969462449925,-1.4164596056163914,-2.762307650251233,-0.29126151355565755,-2.3015419028862425,-0.29250674478059924,0.016426825327716443,-1.146065269374353,-1.584410648519949,-2.718661625681948,3.2098917212408495,1.2067076590442571,-0.19469737665668752,-0.5045867097505455,-2.036319264916431,2.035758191222685,-0.8436988374269105,-0.015458860152067766,-1.2267549087152407,1.8412558529751575,-1.4692154589833863,-1.8612678543432075,-1.360077501475002,3.312950072170402,-0.7398878081723288,-1.2341880908957636,0.2303418456526345,-0.2923887097598665,-1.1761371273377836,-1.1762811574444068,-0.9826635828719633,-1.8048426239745003,1.1347759017574048,-1.049519976591337,0.3974691434336528,0.3375173916348735,-1.4809442988386095,1.281275592410563,-2.132824165620312,0.9286252988560353,3.309099046073562,0.4061497743344499,-2.076093796521122,0.34721249044418157,2.133955938359753,0.0722627321801721,-1.41682278032013,-0.603957657207637,-1.3819147094284752,-2.156524787579431,-1.85038637379603,-1.6905498708144044,1.4088453237041705,0.2134485539181169,-1.1084096850485414,-0.3062630172623231,-1.294490494410582,1.5446379762114502,-0.9179652509953193,-1.3502350469174917,1.7288958243952135,2.6585758371319153,0.8257306804342941,-1.650923779184493,0.4861476332000517,-0.024632447037493344,-0.8779993851817965,-0.3364713950229784,-0.27387415795332803,-1.9942366220992338,0.9255485609050137,-0.17480407641982754,1.712196519924906,-0.42898005806839523,-1.653754282468324,-1.217978718894935,-1.3409982898646513,-2.0129983588691793,1.269311214759119,2.91307060977488,-0.09419524420649039,1.5594680235564746,-1.1678524286557885,0.6508041982069532,0.4901524681669882,0.6130554857781507,1.3388884123846516,-1.5983751524991405,-0.09107435158356592,-2.20110259665877,0.18014665562326737,-0.37802270899758594,-0.5153278304239439,-0.2524699300068346,-1.6309811344219542,2.27557366546508,-1.3550412149784314,-0.8202793553684967,-2.054521455981324,2.221081849327165,0.24635616754642786,2.031869975127432,-0.5669120325065373,0.31381962415865616,-0.4726060244370096,-0.77717028242927,-0.24030233906464127,-2.841460462220388,-2.770466509536358,-0.2864343681171787,-2.4906473414202135,0.41406207785245464,-1.0599097121345848,-1.5670620470017738,-0.16062903227428493,1.2924571617864338,0.28997632877496615,2.67142524121299,1.8985655993227883,-0.28310234114522015,-2.215829257419439,0.5463381072107973,-1.1520545254326031,-0.8033530655428652,0.05392232149348852,2.7759377380289423,-1.3630334102711168,1.2342938442481375,-0.17963793328748157,-0.5319214979880607,-0.5456644162879374,1.0337613830077916,-0.45813071491318036,-0.7763314967639308,3.4890616618392256,-0.8404116575774452,0.9809963880692241,-1.565748035722096,-1.1840395438088143,1.0703706736654637,1.2904078052888481,0.8597220577214797,0.0053992306301555715,1.1265470895666492,0.3148311800127912,-0.6064487584114877,-1.5661847609674848,-1.5344650640292414,-1.4538453212519173,-0.8710692568325721,-1.1561041602176025,1.9462666257116905,-1.0651535844123745,-0.14428530644646065,1.1428928493697774,-0.6040443310774971,0.16530745685280268,-0.9892605204953037,-1.384386388604666,0.11256052259865301,1.1800539329425486,-0.513610275570079,1.7320714335587337,-1.217247405064167,-1.744222858899966,-0.2070052193957237,-1.3683225778879682,2.207024820064343,-1.4642157709816308,-1.0470753497024556,2.183693462879442,0.745620507049036,1.7774957646819236,-1.1984246159411114,-1.4857642330645906,-1.0175749023388803,-0.3844344273629464,3.326049883156374,1.0008653447302085,2.744923319328329,1.2932316584929433,-2.328731380688427,2.3790967395307625,-1.3644405022400494,1.0081020914999392,1.7717640758797981,-1.1640482047691079,-0.669572489435833,1.3447116306071774,-0.22984907681433187,1.4070627754872689,-2.2539743503294845,1.9886400466151157,0.01945499421892105,-0.5954669308420928,-0.8577435243094966,-2.429119346702964,0.2387292435184305,-1.2128002933356483,-0.09281419634421406,-2.77644159682501,0.3103968871266527,0.825193560990493,0.921165514082773,1.9486266078614443,0.20827789488741932,0.3412382786776542,0.2576485682593286,1.5081298689699958,-1.2013075701533733,0.9588032544855468,-0.37056543353518423,-1.5336312742052347,-3.0847487139260688,-2.5194732192810783,0.992638687641259,-0.8908853684125406,-1.6749228745791906,0.4797954743018018,-1.8525814211909102,-2.40724789276325,-1.813802559361503,-0.5066337558636307,2.277109347780572,-1.0006182358973759,1.2781598804578547,-1.7162136623731596,-3.2033669313908706,-2.118507478367939,-1.8337095762953113,-0.396409036437779,-0.3805056791016205,-0.4700184850999184,-1.4805651644292004,1.2259124533058385,-0.12729036231472546,1.1394495240930205,-1.573475853939339,-1.4160925720410347,0.3284948775010025,-0.33048474392489247,1.811949396154846,0.7723436948512143,0.3360998961667718,0.24949052670372485,1.8746336493494362,0.40701274168621526,2.0405434175742823,-0.9189479562636597,-0.6553647970674592,-0.8599895143104384,-0.37017061246060934,-1.2102538478432825,-1.7258115539840757,0.930632599881123,-0.626716417237415,0.4350201147723731,-0.21360713118229357,-2.0225879350879734,0.8871280043420899,-0.46518436048160816,0.7699318437611483,-1.5588756742482968,1.9039106444613108,-0.8467200444333935,-0.468065830201283,-1.4268771899872021,1.4035773458621095,1.3536034545913582,0.18108314494142852,0.3650701316975975,0.31667835159253466,0.3485856419868998,-0.7585303432810897,-1.48471224974994,3.4961527392147285,1.1513226829315142,-2.0114267869577414,-0.9982416998557097,1.5281413312661138,-0.7104947480942103,-1.1776685141439525,1.3953498903554318,-0.9834316376625505,1.7308527086609988,1.9663213960699437,1.2687661844166005,2.278520178100575,-1.978300253369481,0.5302174968809228,0.7964674813192965,-1.2433198042885794,1.579357627772493,-1.7689158628487092,-0.05814781519636947,-0.6711900121696062,-1.5620292778930398,-0.4334980051533608,-0.9986309458583713,-1.8773920124460397,0.7105634446747338,-0.8722692458033902,0.9480959612553703,1.9544568222743661,-0.47791489990795943,-0.7010036950792398,2.4293937556474345,2.633299545033262,-1.466392023478402,-0.8167095676501461,0.3540852471670185,1.8585702156301327,-1.534733541098508,-0.47113631159401526,0.14366985299731172,-1.2700973297886933,-0.028783365870063804,-0.4605328237543138,-1.9584687124740099,0.9479657732217588,-1.7501287893245636,-1.2739663322285246,0.17086192180322857,1.061616556228372,1.7298653011504819,-0.16626301316354664,-1.294563717560954,-2.8238762469121275,-1.6580272470494006,0.10421775089903096,0.9224047678539644,-1.5115167670312697,1.5889389368186153,-0.9691213789783311,-0.8166902622269332,-0.7851277107839333,-0.13094602280484757,-0.05946588008762732,-1.0872030313334626,-0.4406142124951885,-2.1944665581403555,-0.0889259032018418,-0.32115293601597417,1.6149825715438137,0.3126402127450145,1.0128349984484188,2.417672384075868,-1.789849687722406,-2.57363064714624,-1.0039589045088706,0.5096202087686306,-1.1207780893433654,-0.06402933455463589,-2.1108132631144487,0.655330350711116,0.6004781388171437,-0.7535023539109227,-2.4374682597508164,1.6547722999538017,1.0537452680641624,2.0444093489601345,-1.4234546206453051,-0.6264948481767882,1.2947601406248976,2.4618912524837477,-0.5350174690867023,0.8724982409701931,-1.5051167746198582,-0.09150930681180658,-0.5642708020340479,0.8438340982641803,-2.1077715898643734,-0.2583174414005387,-0.10802483611418756,0.5082136129013128,-0.20739968521413255,-0.29202481461556584,-0.48485442251390765,-0.8559156519256415,0.34253545436628396,1.4908225383826297,-0.22763668910098778,-2.061529157159579,-1.1547456719175941,-1.6803392265521966,-0.15939148478839682,0.25906956377933454,0.7741972043235977,-2.9028516409243563,0.22882257079809554,-1.0091042379338564,2.4172662704229513,-0.2957078459697261,-1.3135492421743944,-2.343183563875143,-0.5907747769209719,0.7156877136207629,-0.1943695541540328,-0.3522222485845298,0.43311084119526044,-0.5334526568921045,1.1132761909823778,1.4112588628546294,-0.2726547055329236,0.6346900415313477,0.1302666593845525,-1.718171568624614,-1.8986253204128487,-1.8392976566484052,-0.28302566739108337,1.2369983135588332,2.544690962823454,2.1914128777262976,-1.2494703343029827,-1.2579776702208867,-1.9066019953860733,-2.0516056230757957,-0.2502517769178134,-0.7884076855574074,0.4676839998691432,-0.5467646464990711,0.47186469609953563,-0.6960244467611596,-0.38187492303361725,-2.064804567145825,-0.09026153289119943,0.44068314916186224,-2.121376220271867,-0.3711652657961748,-1.572932572853003,-1.6002511218768367,-1.1867348599222003,2.4758461527142,2.5718461606063805,2.2553239941404066,-1.0538988573761883,-1.481960282624698,-1.990358917248139,3.8275764346672347,0.5099625557865133,-1.7810331708714404,-0.5333179642450518,0.5803399539036047,-0.7282560405444303,-0.6278542744850728,0.44096698906486165,-0.7433321350888228,1.0488420477904135,-2.4324926632911863,-1.3936042433670126,-1.5144852703485827,0.5380731653165558,1.380848125514852,0.02785556073365969,1.9106546057662115,1.479582912851659,-1.9509521323481498,-0.41024185969977633,-0.4379511328917578,-0.6838900225787041,-2.5773897861191264,-1.1158512999768067,-0.8379755354483964,-0.8169089324275611,-0.45849369332297185,0.40434113004147143,-1.107106188737642,0.15355643165287924,-2.188071229587875,1.0880564110511968,-1.077633649104504,-1.4381463255044835,2.722130293763585,0.01842187851855326,0.08622692201564197,-2.4299492940758514,-1.5110103577903602,-1.6535423123570183,-0.8735185343031577,0.2151902314739016,-0.9929953433019175,1.6899593157021464,1.2809298340042026,0.4358604509902384,2.0398610394217185,0.14758946313728183,-1.1260706361147323,0.021319266357764155,-1.161187044928303,0.9662030774427472,0.43306597791689905,-1.3462475216295056,0.2727557139923742,2.4395814946860437,-0.8102496717539838,-2.2533878504940077,-1.3684673621802936,-0.7758295787095033,-1.9396641139303288,0.9377961510321596,-1.3862365374148982,0.30905669967881066,1.6206078167871645,-1.7857361471750566,-0.8016938604784505,-0.43668998832619077,-0.5987803782758652,1.6904146478253455,-0.20572129391266336,-1.6018803944964501,-0.08643899604333227,2.9342584868866544,-1.396589030335599,-0.7793425945685644,-1.038082854956016,-1.2981982048717875,-2.025850114767514,1.2933168182071872,-0.6080388387576134,0.6543243000470402,0.6280554236759311,-1.1876588615394592,-1.9393582796097013,0.010775106291209813,-0.7377100272109727,-1.0496294106440258,-2.7026304166537014,1.066223105857994,-1.8992521932567534,-1.0318628346138246,-0.37210980262926585,-0.6336383616539385,1.8710706339455347,-0.23317026671031527,0.10432958270535453,1.1052334027601973,-1.4184684611210046,-0.23605497924412333,-0.24916639603484303,1.6293907928477864,-1.3898464294817376,1.2735177095742767,0.31117220965561376,-3.1341753368323606,-1.2011428662763557,0.5368104619032829,1.0068531003268877,-0.20472120284245676,-2.1325587752595943,1.4913765447792309,-1.8190581125855383,-0.0944791088586523,-0.1628731435952645,1.0293521791044014,-0.16296741193959607,-2.5194380457522123,-3.5129124584321683,-0.5957953055862744,-3.2920758804006494,-0.8966850141607101,-0.27792239595514345,-1.0374083570707733,2.901397021349057,-0.2520352755141898,-1.4654888629615317,-0.5939835332568542,0.5683305069600544,0.05562714263194701,0.95042595039434,-0.04612153739273417,1.6469480595347812,-0.6313738862876487,0.1570564037765545,-1.1074135690279332,0.8346065276462833,-0.2239978333766217,3.5728309357769934,-0.05042431004221748,-1.0706671880906784,-1.0193370883481017,-0.1704697929226051,1.0031523863665983,1.0642594366096627,0.5738230956690231,-1.0400482458361024,-0.07595202249687794,-2.04232241586298,-1.060312829767631,0.5401392604850601,-0.3855063839149644,-1.8319478394623165,-0.8987215481132944,-1.3705565231023102,1.4516807307783623,-0.9536282089628874,-0.40963279768483596,0.41003815834426394,-1.3989145152034603,-1.675602551707613,-1.4960406831640476,-1.5344947545987426,-0.9786940953106317,-0.1527817525116032,0.22278962730900198,-0.2590431656753943,0.707872512303227,-1.3378692539769024,-1.4871708612501198,-1.9845705038921393,-2.0050709832813975,-1.292530086894415,-2.483172390495678,2.6845856941411332,0.01740309205287316,-1.1696523600168232,-0.5062376683903884,-0.967656531223828,0.33771171187101756,-1.6324212043794946,2.5966112834999757,-0.8338558476432035,1.2555316129224088,2.1648998405799667,-0.6771966268259836,-0.7815754402281284,-1.5288637239588638,-1.2024466592493581,-1.351057685340011,-1.2646820623267596,0.8945355050909977,1.0671985419508112,-0.2779676576290224,1.916298071937323,1.0824017770331067,-1.849634854234857,-0.42610200709975565,0.22607955663935086,0.5183549583760543,-1.3068957667039054,1.456907039443989,-1.6447357444607396,-2.0677681268883648,1.929544910565887,1.5708477475755482,1.1621855290466132,0.5518162464887229,-0.5504595674430017,0.4250787821630466,-1.8248733919930642,-0.4079315057121744,1.90256371963822,-1.1300974346008994,-1.3890588511873405,0.7747596741734545,0.4101036485302153,2.188256112479,-0.574133254591691,-0.11693736017166645,-1.1422311567179588,-1.6877944633004074,0.28188652827970995,-0.6466793130134973,0.24039549997111842,-2.5194122217857364,-0.9215695500174115,0.02842554763760785,0.5591820186969276,-1.1647674561386314,-2.1417813650441717,-0.6048029716277894,0.2076870255086367,-0.7516637714098251,-1.285085424983931,2.2693117266898875,2.917722031823506,-1.0941322357836234,0.19436714378379272,0.7211159592708241,-2.7608369998576294,-1.871830862491728,-1.3069301859646163,-0.019656499002595362,-1.22201963483014,0.42139570673558324,-1.3402398210451345,2.484821724545549,0.7704558674467099,-0.8796331511116937,-0.5579497367295704,-0.033616186575672335,-2.4621434496670185,2.9617224029878564,-2.481587269492387,0.05823866176733006,0.3279284204754165,0.4581488901523225,0.605300255682309,1.5838653100675393,-1.3558351057382307,-1.3253846715892252,0.7827073427024909,-1.0198266431778074,0.9757428875532621,0.34406542353796243,2.0063795342870874,-0.9126630003596001,1.0977932062163727,-1.0673436045671854,-2.2966299061901867,-1.3404142792062033,-1.1772420921158886,1.2240607135870842,-0.5853589670170599,2.598229613049645,-0.5432258910912158,0.7431944527316982,-1.3525088324711674,0.2247673669441811,-0.5290837836406312,0.7987819281116036,-2.6704382551477717,-2.393887799573665,1.1462669450495933,1.1243017499052628,1.587553514338901,-0.9909945501441743,2.337732485267792,-0.14120918013167305,2.79177721520412,-2.2864720720503646,1.7980506636183635,1.8198915049913804,-0.09617717455016539,-0.6083762592396229,-1.637658346171607,-0.4837024831344954,-1.1705822827352068,-2.633638210784577,0.379807105520402,2.0082769641265057,0.7112978960556302,-0.18554396599627332,-1.2123188661498994,-0.6269510472140557,-1.0188139906595286,-0.7857345734534917,-1.8123544396447386,1.168206991434905,-0.7757676382588017,-0.23416668315248101,2.0479336849207392,-1.1267190368023332,1.378337956228973,-0.805784762644751,1.8061987523003376,-1.4254760041158867,0.5462119501492728,2.208857192923552,-2.782496149148369,-1.0422497349209823,-1.912382632100339,-1.1631362048086884,0.17813704371079253,1.3232404658540322,-1.3494461675860006,-0.4808545891961633,-1.7572182925246755,1.799460850247872,-0.7153585324901879,-0.9804009553238706,-0.3415696843568997,-1.7498801554633372,-0.9796291518752781,0.7186897132073677,-1.589413350433897,0.4208935789991739,0.0010228625443953199,0.4231665499070376,-0.2485383604440663,-0.016435361809846727,-1.6716689661812256,-1.265702491502303,-1.0425120227917253,-1.1773009152094385,-0.15048759758696872,-1.4013756740601573,-0.01762546758571082,-0.2149288824202249,-0.7426925404036713,1.477555894363765,-1.3625085255449232,1.881953601411206,1.1217813337943088,0.472526977249383,-1.5824034251842005,1.49306802225919,0.9366830777645274,2.3865641162728686,0.2347232062667607,-1.3148001633284376,0.5460731329494453,-1.4190348086959275,-0.26739334545274485,-1.2259561401829777,-1.3054198617628758,-1.6999712825457811,-1.5516108919836697,-1.6514552994861131,-0.9519977270954318,-2.9510107361283167,-1.8662678731277669,-0.2418774022653165,0.8779332828263087,2.017860035490676,1.3373278514248341,-1.1772988993967977,1.0033265185448736,0.4644442100807352,1.1271070884359726,-2.2391828366678332,-1.2928204722474974,-0.4871295407416323,-0.5120250681000659,-1.2134818512178764,-1.3008666865169518,-0.9243907772803025,-2.7434949202459245,-0.2954945544345431,-1.0365700441644334,-0.2451235453889049,-1.044224195095595,-1.0946456190431542,-0.5759248461724384,-0.21297830028112796,-1.473769191221142,-1.5974715050928743,1.1729432528534185,0.37082700839641636,-0.7398638190619049,3.550297271551476,0.3652315537719646,2.22871821523408,-1.4558427432949914,0.28630993048244746,-1.3620764856855416,2.097884036643328,-1.3624338558357039,-1.0652348289310205,-1.8234097063076178,0.7321566130248482,0.5836141821474286,-2.3318331755195625,-0.45095959134277774,-1.6265441551848803,0.6711509795647903,-0.7126323259628441,-0.40107632640195856,-0.4006872610096427,-1.499605317268166,-0.8953391740460657,-0.3671211707008475,-0.8047651554049681,-0.10520982108444543,2.0750874946892095,-1.2014655351551042,-2.157388021561558,2.5835138453153466,-0.3786390420343879,-1.7679295462217168,-0.32674668697789166,1.7987296895816953,0.7710711684176483,0.11446374693101613,-1.6832004991714418,-1.3173206017007424,0.2941029306857652,0.6396506507602941,-0.5993919534213938,-2.672834051619782,-0.8190511160118741,-0.9414192556892909,-0.6947290329360836,-0.28306262069610777,0.48773888669054344,0.1552664475297656,-0.739503099886211,2.0493507215058004,-0.4653645710971852,2.904355650268033,1.1385781609364938,0.14472551608484807,-1.3536183620294668,0.7772978997592968,-1.5093350028853088,-1.0050057881253223,-1.6902951567131095,-0.18347167715089707,-2.51004579845201,0.5148605241526774,-2.162855608738564,-1.5920499872447893,0.5387383116138718,1.1419339574697367,0.4619896536250885,1.95538989697558,0.656661761399074,-0.433417857312297,-1.3483914972111992,1.0301501692750041,0.9170605069139613,-0.20248795730636615,-0.7923262462922663,-1.4211233356764816,-1.4102870859784127,-0.5030690888362204,-1.819469235972658,0.09452285416264261,-2.871896961869693,0.5214217731713151,-0.5287027243416159,0.8836697163123712,-1.2033012422933167,0.4227998201601618,0.835202817535657,-0.30706619188831297,-2.178311522504832,-1.5659392002437453,3.035130328502968,-2.1659820077730494,-0.9096754186861018,2.509003082958269,1.3532366141265648,-1.1956611785916094,-0.7755469825261235,-0.2794864711568137,-2.271972699380557,3.4946130442384233,-0.010555434555999166,-0.7585227043389557,-1.2312288135424532,1.3102002109390694,0.2639854306505165,-0.9800981571732387,0.3492739703037573,-1.601351397150626,-2.669540763242612,-0.1775373546668344,1.1384204232374961,-1.6021504276330343,1.956572771601168,0.9348197893990118,-1.5993292418515859,-0.5877978014072227,-1.2996897971172607,-1.3108159044294894,0.8609143173400091,1.2017190981644312,1.5354594442507001,-1.3574954415581213,0.21116475989977412,0.0843328354181836,-1.0157568817926725,-1.5229841291204909,-0.7932634686249066,-1.6260957463442782,3.0746887078819176,0.49911614864005793,-1.3961318529150342,-1.761069561504721,1.9583583173426864,1.3250567874375878,-1.6828778814246328,1.9017117000024932,-0.9102452653764624,-1.2495625799288566,-0.9074788767551223,-0.9323489728788384,-0.3555820642922405,0.18238738839641688,-1.7387020769884127,-1.1901743826365674,-1.124822970639428,0.06941694519006192,0.9430812103756452,-0.4049348109289924,-0.6397212423252945,-0.4276026019312934,0.3153930622525003,-0.8047562478548633,-0.8014770192611635,-0.6586788199644067,-1.375196475783353,-1.3361057414850244,3.2539087040176664,-2.4799734061490333,-0.04952390589350708,2.140833538766157,-1.725054370091025,-0.15236739693379509,-1.319813831692281,-1.855448755315047,2.3949843449789716,0.4312427499332573,-0.42521323449561244,-2.280643904937219,-1.2627571666560236,0.16693127970837618,0.5601345802322888,-3.7216650170942756,0.31975556135189076,-0.8253223980536394,-0.6522593609275693,0.6472061107910789,-0.39961969414473675,-2.3648730533524533,2.819557191249865,-1.770149240656599,1.4444046050240378,-1.2847625363250925,-2.109724409252317,-1.3951972106027566,-1.647355478301191,-2.5967432487842674,-1.798228458497542,0.37593011137143817,-1.3662219976298657,0.08450455231984488,-1.0682017450421748,0.08277346710171951,1.0024572009624042,-0.31093358932381787,0.8323420911827604,1.8317755154986959,-1.617680113383776,-0.07850099301594127,-1.392185573692448,-0.699935873432546,-1.097391096387406,-1.720134004492298,-0.5945921690097433,2.4165180475942263,1.3973037019102441,-0.96729454734236,0.5403893352794948,0.5197417197915986,-1.0739712333159626,-1.8344903616612258,0.46211064125999146,-1.576652516078544,1.7915951792922384,-0.6769513685464292,1.2484110191582474,-0.7226953275458659,-2.669764425023603,-1.0040245249250848,-1.2844304787768017,-1.1578034021717083,-0.7534539746821667,-1.0759632425752077,-2.6433954017539114,-0.7759630754500313,-1.4326652835221254,0.2995483699688759,-2.3637589576626885,-0.9698571261902689,-0.03826521436070418,-1.0291323787403353,0.6266882174310586,-0.4591941975626055,2.102018593091419,-2.7195194575717547,-0.4203272938948931,0.9524881091292048,-0.7690955941359019,-1.8369216589151636,1.1561335554173349,0.8057541518573659,-2.523024575349381,1.224963117753501,-1.3657608245212012,-0.9376823710708967,-0.8797002111213221,0.41003773472398697,-2.0905064510854077,-1.1963582233969567,-0.7077394319320347,-1.5950419172018717,1.568701453319913,-0.5032370893657956,-0.5805847533238131,-0.7953432620621322,2.0216429161826497,0.5178458191636637,0.28720191833366704,-1.086452877656719,-0.14414053258520243,2.6426004951047037,-1.3156144064072877,-0.3547280145150743,-0.6380854150167747,-1.1344899330673968,-2.0954429341000713,-1.6844636397441364,-1.5085602499654622,0.9899556689570109,0.20857490595910066,-0.9923344522159245,-1.4855429126607373,-0.6963245477944013,-0.6168425438669471,0.7317730681101031,0.31337456739782765,-0.9191544099003306,0.6709898157092282,-1.1387054040965832,0.19545217690267025,0.8770585705999088,0.7633953944691471,-0.9017100199606086,-1.2997907774686972,0.33062517344084874,-1.3292625914171206,0.2151299808681344,-2.2991614263208078,-0.01992904473735324,2.0424636024873397,-0.5937349196224779,-1.6708099666361589,0.07126616238220795,-1.0543446184582075,-1.728128488981056,1.4621620142840999,-0.43541593754734775,-0.5198851663975554,0.5442207887319159,-1.8899161417301724,-0.25462458311400105,-1.0017708436231993,-1.5125559416047216,-0.9027831274224145,-1.2225158434648198,2.6767605304068,-2.861687751270238,-0.5761903588975521,-0.9911123674973915,-1.5815701897075582,-1.1037045755050086,3.0372406349675356,-0.5807420840029593,0.035894964035224075,-1.1257969792264255,2.28266008648269,2.6160799065336646,-1.9855829571611112,-0.29196219918119826,1.6227841533339609,0.8463675024666608,-0.07765735154578546,-2.341982320289635,-1.3578797547277053,-1.4507806385931983,-0.9148534883130508,-0.6009133838395004,-2.38000443653742,-0.4573046135752471,2.870220904579244,-1.0324323319584834,0.8641855808080676,0.6111817132717936,-0.7107648515241247,0.7313885547174219,0.4080142001760494,1.9108998123053011,2.219549420668264,-1.3230116683495259,-0.8138511772018548,-0.9018264752002136,-1.2820544824642037,-2.0072843927185926,-1.192286384459646,-1.7231217866889004,1.8826128511420626,-1.7146473677776497,-0.734171637158449,-2.1324570248298738,-1.5447498365143595,-0.9877224324053242,-0.7879889872245118,-0.2714667487281244,1.6098956470303365,-1.8661062553582077,0.7196884743906591],\"y\":[-0.9565220937645571,2.1665856547850764,-0.006574471122735849,0.5902329683799111,0.04609344734163663,0.022699138902925926,0.8473504419333389,1.9774418376876357,-0.9870156656452596,0.6376098461997333,-0.8951023056141482,0.07302701436560746,0.6088264128845905,0.9577572918636647,-0.5927700449327713,0.24408820308421847,1.6517812230532092,0.05281413116142335,3.8094902588186192,0.23070312325719705,0.09596586573714395,0.07670525025765779,-0.07190904477218756,1.2101344471638484,-0.827061609943465,0.8161090569129145,0.9227121384003529,-0.5134160117213478,-0.04795183268632998,1.0107367679746928,1.4576368672237519,1.4488212602643615,-0.41858202799154526,0.5408978339619045,0.5124716087344944,-0.89262788690921,1.4461419941301883,0.6230378768106567,-0.612589728685132,2.0094218080645248,-0.37559935960849095,1.7174634335193246,0.29422843966084866,0.9196330385031964,2.2684100568416703,-0.45690503353233747,-0.28205351395112244,1.483585812562514,1.0800415320101615,-0.12593102894471425,0.1621660304663701,0.30785642200317354,0.45352272730385473,0.2258698055378687,-0.2336215030852073,-0.36170458611780376,0.3226250197648599,1.2710534442779642,3.3407890620662206,1.9119138256184753,-0.21261852668149162,-0.6536913553930406,2.49013431446675,-0.743641936765409,2.215528026757993,0.23893959327393693,0.36972745835748544,1.6805922817624253,0.6512638633699452,-1.0700289467693813,0.30420732324616123,-0.04838995822501869,0.3948671258585105,0.6718918198295137,0.036895988032469844,-0.40601060519443904,-0.797348384798658,1.7508596230743403,-0.004307411648758016,1.8640135895671457,0.7830982671278742,0.8995888652597975,0.25483846981766867,1.2887668916700608,0.5503548256618296,0.32795716649520196,2.1624717542539624,0.20365300527425356,0.427273305992718,-0.9055395123157134,0.2682135899370902,0.4329691242720758,-0.03766947707799181,2.343185993093875,0.09539564886243242,-0.05865317099182796,2.1769313654122886,1.2919534895347635,0.10372616999131844,2.336814398953301,0.08119930684603942,-0.2749134160015355,2.513962440188215,-0.334197511028982,-0.31975025157393955,0.8028480087291766,0.6446140468589077,-0.18756931340099456,-0.8643598741152791,3.1742214422176596,1.6986804715469923,0.11382997812292539,1.4535980601650726,0.2559386588566641,0.8457595781217474,-0.4242737650315525,-0.08340981961312956,1.0587247581795853,1.9348318420085362,1.3580161871741747,-0.5385079573575869,0.5489606101416626,1.4330137868920443,-0.4108563787632107,-0.6352933352728907,0.3875062512418548,0.10746792681870203,-0.4664679406194874,0.2852996313790518,-0.19233965907783998,-1.7639883301221544,0.4317561088353063,0.26630142237704424,-0.9107272639213183,-0.25906004532822,2.0791007085043645,0.3255130106303144,-0.4392459973945335,-1.1035250211271088,0.21920582395535052,-0.3106279711920863,-0.015258130710629052,-0.8237260319440997,0.45154635331812376,0.6316297543652891,0.5496957665855484,-0.008792650953480075,-0.04000231090068816,0.3421787678639105,1.5313053154998162,0.7637984707241174,-0.47402566697828225,-0.3086387421741116,0.25409078106239463,-1.3620939150958171,1.2316436405062292,0.35585617530892605,0.011556368689124703,0.15131973687205602,0.4371485941403159,2.28262459636819,-0.2487154828156026,-0.08242987587555245,0.3714783637095619,0.4385260020261691,-1.7067516238971583,0.7025604058393291,-0.5707104469299272,2.7629887609337267,-0.1768027980384816,-1.7304987846642923,-0.8131943849857034,-0.05278911849570992,1.732437923318738,-0.3372006745255272,-0.9166251097884223,1.1247478465019463,0.07715727606385986,1.04427389758272,0.058401610881754655,0.07851731939268156,-0.9348324215944654,-1.0127840322234276,-0.22016413711284127,1.7221356804100783,0.42744078369928556,0.08624517437252394,0.428167863907175,-1.012055440394626,0.8568083161593693,1.4676365480172353,0.008395275195230851,0.44953007178776616,-0.8758644692646087,0.5004801087161681,0.14792033641862953,0.8659328832548934,0.45702490185755046,0.10308100575998523,0.16470353220598719,-1.3500831120794146,0.18596352977676125,-0.5169301441214513,0.7013325193746245,0.7568799990503029,0.15874147100286262,-0.19409104494564447,0.8758078704515332,-0.023940860392526173,3.013589813920943,0.11327031770398545,0.697618834760314,0.8683456956343564,0.0034877133192228026,0.5303203782050824,2.108338378455355,1.779826950913965,0.4605519123784472,-0.37803199792644177,0.42689598392679184,-1.0589785708326427,0.009230773302593665,-0.0940536001212967,-0.27745360779847555,0.20943551486724335,2.0478465656066307,0.7838918353412175,-1.0479539178809822,2.3225380435039464,-0.022932696560880417,0.04150697152891495,1.1698703247477373,1.9199555975851383,-0.023747925785623028,-0.815217314224896,1.447580901833552,1.8352935426028614,0.6372976088114497,-0.7119853207731587,1.617274790445808,0.564850217612819,0.4658049804009173,0.9856476207258931,0.5107631447149308,0.3433612401674718,0.2655356491285633,0.31782636294053995,0.9244173351657874,2.256280790829529,1.529897398624844,1.0759104359337104,0.14864700837810424,0.5192485034001584,0.5142996823058937,0.3669574961547852,1.027010005297072,1.418626701102409,0.6117146634806819,0.766403793142914,-0.1805166743325721,-0.37171718268409165,0.1007285268292028,0.915562046377307,-0.06812334587202096,-1.7696969811695877,0.3921603586131772,-0.6025258934238761,0.0503931621514089,0.10668538951618356,0.2843693010245898,0.21187630746209446,0.5640313374631034,1.5476816645249079,-1.3299033153786972,-1.2216846076035333,0.2002690385932734,-0.4067610451907453,1.1883611260729448,-1.1149301117765358,2.5705186652226564,-1.08784792639814,0.8052091037753724,1.5835580079319969,-0.45655212643382165,0.3491424543461324,-0.6219089835802287,0.9138823195374525,0.1736583764839222,2.338437663284083,-0.1848572440753976,0.24826651620266002,0.18182449373611273,-0.3534434736686681,1.3671082747872476,0.9279832456722904,-0.17798513708989144,0.840955690220439,0.2558754247988558,0.3695477545345829,1.6734318520692217,0.633089763131117,-1.0257429686181654,0.38002466779903193,0.1910804056853888,1.3322696862587189,1.4989714894552355,-0.027540538930776876,0.6638997149217009,1.2022024888932443,1.0760500911929944,2.973702893164994,0.2984453311691748,0.5066311458650755,-0.17608549713381375,0.5853940618747125,1.323684320483287,1.7254532921197425,2.980884973192419,-1.2864992865932134,-0.5151197287340561,0.07902280963531279,-0.6936276361360136,2.1808240046123495,-0.8465047817151723,1.174913417657716,0.004933957188868951,1.465172457511299,-0.004993410140347204,1.5186235294860329,0.6226934916919249,1.3137943536771273,-1.5514893595535237,-0.4183794212474301,1.4437026911777173,-0.6655651207493386,0.5695113265754729,-0.5056989967200951,1.555981255721798,0.24672900746507698,2.1193847150040055,0.3589612552734207,0.4087891798039519,-0.10852205658739396,0.4290251838548112,1.5245383424900032,-0.2595658111684576,2.0728659097463327,-0.7973502824023726,-1.2016497787762184,0.04586983094588894,0.3963088706991796,-0.3549225256111927,-1.4042938934518026,0.29746351017675365,1.8109710547595808,0.5537767988717698,0.19409165994384,2.3002056533438604,2.099123552769767,0.0683114057700585,-0.7149904797699453,0.9002737415188012,0.745772556669464,-0.5630888022242576,1.2610230090124566,-1.7835921740371894,1.1664409736326011,1.8555517606609169,-0.8005270841200696,-0.6693953504998255,-0.9195537852556529,0.10506205867932131,0.17392384949869044,0.20346254748177844,0.677806733144121,0.46363738208963606,-0.1428585863122218,1.8101415663212308,0.5761941391980822,0.27447677589119823,-0.6692308101826338,0.39547363931269225,1.774691049601904,0.027469473215878934,0.39033581114106786,2.0948241589586534,-0.21737749291131309,-1.448415910884874,0.6676710716463922,-0.31728054677359013,0.18648940488132382,0.5225128663926545,0.19820101776439747,-0.2662117950311558,-0.716197348609659,0.3935777521512424,0.3947553642459275,0.8751602209877755,-0.14490607838338898,0.40685032138779803,0.6656206088548673,0.0366078495402829,0.48207664945661555,-0.7603412154715357,1.6692189280564536,0.7990095624270681,2.1421004025666406,-1.0568903761137185,-0.07082119994454192,-1.3227604396192087,0.5235481968844757,0.013540021002945424,0.4361584998876167,1.0528535968260246,0.07996750760502203,2.9938537247926362,3.019047532519693,0.6255288887545568,0.6119058125000612,-0.4168485570947789,1.314630222537608,1.7110904215972236,0.5585295560086204,-1.1146311698807752,0.15134275037445305,-1.3793489908033503,-1.0777169951651402,0.3852893108901069,0.5099638553808831,-0.01901923176174239,-0.4121412808610326,0.9301841501842262,0.20525508775627743,-1.187187316202644,-0.3199400403279856,-1.0140796946889412,-0.22385076548938995,0.6667718593695289,0.23002723083966142,-0.17089631539483946,0.5485454299250913,0.08108677279996368,-1.6514708057316914,0.6640773527778755,-0.11732113557607675,0.5730595882764286,0.2209215625200104,-0.03373783996187467,-0.599278877125226,0.08069870042054637,-0.07305383195981087,-0.29268182302656887,0.7692633338599013,0.32743556930911294,1.8235825684723368,1.6608563689959586,0.0016908889036423276,1.2067416604119456,1.1633008882079308,-1.487370760464185,0.624587151003435,0.42130409874693225,0.10479270150373654,0.4889482225182,0.08974485027358749,1.163197187358475,1.32087542026598,0.7390763620089672,-0.2818692310409648,0.8664749983164481,-0.2973611771076308,0.873738307607766,0.7889818618686893,0.669724817329271,-0.06802708246080487,-0.6342453525306364,-0.19870151211018405,1.0351885183729705,-0.4910554041111174,-0.036666943612,-0.5564396905253324,0.10792046626702997,1.2763794277684237,1.1010878025127169,0.6083644533403453,-1.2687255381655005,-0.9268410209198038,-1.1593714870125678,0.06676303007969223,2.2635599822159738,-1.0706060805770399,1.2354991028704196,-0.4093367802624608,-0.505816558765143,0.5272381884007395,1.1061790188593819,-0.5133419488735473,0.3716006662754157,0.25562662108041734,0.48377903043934617,-0.440904981496386,0.2001524900329172,0.41282649795975906,0.16234888745353213,0.6398918037434829,0.501113791012015,1.1438184606728523,0.19302330289893985,3.1085152672867107,-0.6569630058038248,-0.47021105752496906,-0.21593057820557884,-0.25651376288700684,-0.039627583549875584,-0.16083337562525302,0.2207329468041845,-1.292127948404234,1.5874452309514762,-0.24471427156929826,0.9320069610114141,-0.4754170099145513,3.0701214091857154,1.1905369682692872,-0.8830899611538211,0.5381682619896591,-0.14844743212458508,-0.20640596248695245,2.195521964213939,2.309671775457571,-0.23720032660841417,0.7108988312037053,-0.8859908739063267,1.1709884044094283,-0.7905684837418981,1.9601361046057306,3.36632313733412,2.577309307750277,2.305341395641743,0.5999652870573252,0.22433873155845524,0.35404599848789986,1.6213222914935688,-0.6902052578716649,-0.17213456855337356,-0.2750387822144237,0.472082735799478,-0.12046152228983802,0.1996522249162774,0.07912842605251767,-0.8629990314005775,-0.3042498640957232,-0.0980482918860465,-0.06177677398232801,-0.6710343925524722,-0.023616906656657492,-1.4894218828634136,0.1331266502174117,-0.3144538328476446,0.30913162342468326,-0.5392511077871792,0.09453917498329846,0.7906022589588702,-0.07494732208044262,0.24572310894587696,-0.5186605103849282,0.054754394410845474,2.080657339319894,-0.5538287781228419,0.26344585434525813,-0.1819755362889636,1.5801411174194087,-0.6935944175987792,1.0158056531076065,0.6371602922903234,1.3469376863612266,-0.0771182929105929,0.017766536626579527,-0.33571137061453366,0.3981276438933311,-0.1595413942259754,-0.18855854078678794,1.117669983439902,1.818199344043984,-1.812165167099184,-0.02845323409344169,1.8892018294964947,0.950988357867193,-0.22721126126047825,1.0730922040279702,1.2846892746589558,-0.1901713762416316,0.4357716081638699,-0.06264882871891354,-0.4217203040365791,-0.7484824360740225,-0.8101905785860442,0.47689388944535455,-0.24088138815534937,-0.7430373541547536,1.0900755300104112,-1.3635540822395964,0.6442919392842619,0.2667520316006537,0.9675668831465833,0.12120991842106035,0.3091393168814891,0.8322790548482346,0.2209766912584402,-0.2661081234082182,0.2921681861543972,-0.5429887946406171,-0.28283487968740817,0.27582676564665426,0.17332783659037276,-0.8563832210770159,-1.4304208430386345,0.4514172174324674,1.1170264595186203,-0.17722385322564857,-0.3313334209392178,1.6937094142631781,0.23208876452495758,-0.05566228548148908,0.41020363389635633,0.7221053523340051,0.7452327979059912,1.7960516970975788,-0.09487974472336169,0.15001099519296093,1.491211980293,0.35197875721537036,-0.3665436588314189,-0.5101474194965165,0.3338674997901066,0.6567368558582393,3.107180094616974,-0.04330792052022285,-0.24882518627497607,-0.21125694552552063,0.4032534870336254,-0.26135348839913863,0.6769335271644464,0.038056729733765414,0.9512478152089329,0.3120879133909329,0.7335725965528863,1.2537563186676688,-0.3024041183817546,2.219819208021818,0.3710109013080354,0.15855863024843886,0.036826863673787645,0.13534859566307908,-0.7349055729502303,-1.294960286390623,1.8632383366861434,0.5333346854405114,0.99346191249811,-0.34779559892485057,1.1461934267553022,1.1408556596689847,0.15411329257526143,-0.48548825080158114,-0.7234657818027055,0.006425084307553004,-0.14885669929396947,-0.4684851169783695,-0.44696808846234787,-0.8095464079998356,1.1526249176129606,0.8586562647916653,-0.10242693099325748,-0.7815133945389799,-0.10269462588255057,-0.049752790322968636,1.7029975816850476,0.33292555176704014,0.5716172499686696,-0.8788566711614467,0.021126453257632995,-0.15352496945621233,0.3335605490705755,0.15211962808197438,0.25953585226922626,0.2997227077878601,0.2835287754342503,0.8029510987566997,0.06777988569194973,-0.18151534099678218,0.3210750220040954,1.1813709963592134,1.1983666911038613,1.650735978772731,0.5152153219987161,0.39508589221506424,-0.2856183653397353,0.8852057772760269,0.26554377954062497,0.00773756848603233,-0.2573275358140398,-0.24274767934041694,0.5417725688410052,2.631568708888819,0.8448373680410495,-0.7306040208817705,-0.5310943413477807,-0.0021732850443644796,-0.20563485710359067,0.6139449089262524,0.138778086959132,-0.8320937050221541,0.27697372499274997,-0.7476540450380305,0.05978806523345053,0.3037108604024113,2.132752235209738,2.117823295987072,0.41689168189430736,-0.42918010742884477,-0.600600996122271,-0.7219231159411025,0.35365074426607707,1.7074389092570081,1.841491485413765,0.41320944682840943,0.037810278815459904,0.8508032056907032,0.03260552096775851,1.1497552761593264,-0.29553399733212904,0.847798937594515,0.32502148111289036,2.2838942307543704,0.4476172174309413,0.015904797218800493,0.05085269598937683,0.5664726789989383,0.24090042045985982,1.759514509769213,1.4690199487771944,-1.4532297215240622,-1.1972869758388751,-0.850278195056246,0.36274655861397104,1.7081928601751706,0.7724794178202533,-1.4654775095063926,-0.544368738292873,0.054607682326483144,0.05057864652230391,0.041692242117241395,0.3202288137473744,0.5328326219875109,-0.12384078096620721,0.8178105436653135,-1.0146032816141493,2.4145624811363757,0.32208647641687743,0.21308156723051266,0.3363782975125818,-0.58405788156322,-0.14859388117434882,-1.0868709271743562,-0.8841952165775712,1.8105218143405049,0.3247942769555042,0.5193663275507792,-0.2526122821862054,2.9577197768198897,1.3046248678948078,1.1198403952631233,0.17012741115923383,-0.3409333634822308,0.23855277078008383,0.09192828755160024,0.4754288065115926,2.236454115610783,-0.529792074617483,1.1811425380500027,1.9263347802589477,-0.9220598346122783,-0.5068324680757823,0.3211406855718493,2.9004602433374522,0.5286429034150911,1.7848039665951378,1.0601766026114212,0.3529027058432584,1.251870712902777,-0.6330586819187218,-0.5162854293307715,-0.19255810216793431,-0.9624521308286561,-0.06737064546992111,0.4055664926431199,-0.12299296702946409,1.534364098117876,-0.7689824781919865,-0.3462791760621396,0.5654677894025485,0.0368056462500311,-1.2781846782409212,-0.13749265059717605,0.15225789820212213,1.421972394474677,-0.04883391082540296,2.060826500523731,-0.060304965604222,1.6258602981900732,0.163999117536754,-0.7857658120012566,1.8238988070136752,0.34426238409488824,0.258214423400279,0.7892978666065222,-1.7199763563104773,-0.2121301168451155,0.07347537819444545,-0.6530901174681093,-1.2331304400856695,1.5092420453024344,0.80564364564309,0.15419737776304754,-0.10470811459255594,0.5932638402563783,-1.083223015870683,-0.14191577699617025,-0.22842663963493365,-0.2600617142366387,1.3305489966138377,2.081746355420207,-0.19056319372058328,0.8594492239607455,0.47282319420739743,0.6711478353250349,-0.02342437409562611,1.1287061801721927,0.29727503655295295,0.607953284330212,0.9705295369608449,-0.9063372427518208,0.5714867695536407,0.23126139060370995,-0.326074430229678,0.8301920187657353,0.04324258667392249,-0.29720555501888113,-0.19469070683294398,1.5185927285002179,-1.5182152571311114,0.3815990202220932,3.1194494135742503,1.1230595247222313,0.2075035314456138,-0.2571269223370272,0.2822898823147152,2.2536077005434367,-1.3073671709937051,2.071809024995262,0.1563693154645273,0.026450365518036735,0.19684559319197414,0.6448396756736358,2.7690957775322236,3.324022638128856,-0.10693532412766124,0.8617320610429939,1.1564890058349393,0.220663376753357,0.7656719491248798,-1.6868246629075894,0.41637684107701023,0.0742033602107603,0.4244436700738705,-0.6187955409314935,0.1399295058758268,-0.3524104907275405,0.04174562831984124,0.15621628371542848,0.5897920309674514,-0.019173501907607554,0.9746732931857442,0.5520894540089439,-0.11217914247572786,-1.3967369364745625,-0.492797133597417,0.16421687630701895,0.249025206952609,0.3789295278389312,0.056621945725715356,-0.5212775738914945,-0.11272107231485329,1.0648161731996024,0.8282883007346994,2.1565150569324905,0.613697616747486,-0.2789990301744204,0.44048741676744557,0.8587917115779089,1.1304622596105243,-0.23725481591281436,-0.6038062670914767,-0.045740304742369134,-0.4198406671376997,-0.25538023886623146,1.6248596280180885,0.41860444054279583,1.3860992620414576,0.8057831388593691,0.25000921054635333,0.5624340999408477,-0.021160681064050377,0.15622664238018275,-0.42534371361754847,1.255456045420019,1.8353176621597385,0.8628238059792187,2.238780195255996,1.2091842328594746,2.6528954068043022,-0.6105396225667405,0.05783715662911549,0.21961363154048713,-0.19887299325174493,0.009669448283726272,0.3322285853391243,1.5765662629897947,-0.991157657801937,0.09759292276332354,-0.7510088336868815,-0.49848993995448737,0.6044761796299186,1.1277312811100388,0.13144889371960336,0.26537862268439794,0.13347917752004299,0.38533470711879686,-0.21548762696093973,-0.39926052268555934,0.01407908777339903,-0.8928489480232035,0.3077447493628142,1.7814085626246847,0.28885169021988494,-0.9442044595876112,-0.3348098434238493,1.4177121100333452,0.10833514391271357,1.8486145147704165,0.6296520710911904,-0.28194487868334395,-0.04864833383192657,-0.03690889939820515,-0.9553877753431584,0.7149999799937173,0.3659258808860365,0.9243436570028389,0.6849864333855396,-0.9240530109324472,0.193765319701266,0.6188813880348965,-0.2703720487931525,-0.2608936661929434,-1.2368570398831942,0.7086826659020335,0.06639721405616053,0.08702926950122479,-0.22290014279803577,0.31319999391897674,0.025611376757195166,0.9436762781418376,2.6262470193385306,0.35100493522657056,-0.049703284935092885,0.4273046489554706,0.46834703576301845,0.8098453298989977,0.6729494460367739,0.052738003873792814,1.098563008182255,0.5472888506678857,-0.4431213923147595,-1.4390257685985828,1.0718518785603819,0.5956924654618082,-0.5173043224534883,2.8161150743537733,0.3750024111383896,0.9011657149466306,-0.29956010684116724,1.2774449817525348,0.5622736319867147,1.487313311684251,-1.1266364615910984,0.47324110243124773,1.2462494328094178,0.8146284466724234,-0.03035251043528524,0.47872854340349796,-1.3635748962249432,2.1083633203070056,0.3157827509002788,-0.4455976391958512,0.00841861038266161,-0.6354499197014198,0.11242947519168929,0.25066670951990955,0.4278973977679671,0.031200054118783432,0.2688220310495044,0.1110226663580042,0.4787324358528323,-1.2647254106202603,0.10476243964038645,-0.7297664087672351,0.23090232852971299,0.1875845680965279,1.6199891294720465,1.2959878050091638,-0.10134020083740887,0.029303332991542055,-1.026964713725858,0.7709947276897784,0.4846356942554249,1.6698632327613159,0.6623176775298096,-0.039225284593495835,-0.11208761247662827,2.6741148024422747,2.7032890373021052,0.10404434267603743,-0.5932131174354196,-1.0987468096233755,0.48400332630644566,-0.8193350351793485,0.35075370593497407,-1.126215897503449,2.4988700555524312,-0.14922407899118825,-1.4799584214554808,0.07126933202692882,0.297793262889458,1.6549078537997624,-0.043246064936135684,1.2578187449614981,0.0722608286756023,-0.45743221407666496,-0.5399287384835862,-0.16787640062017312,-0.12233631015971991,0.3381561943954886,0.13069697605554967,0.856829026563874,0.2938196217460124,0.3594401730869969,0.03248547787551111,0.4358061046750508,0.3136539034417312,-0.4772251970790591,0.33687237554279936,-0.8434634617038834,0.6179825494527794,0.009137017159316212,1.5539123951452127,-0.40265094038901816,-0.6943361058858438,2.9216684861903617,1.2065737068829752,2.0994081122659827,1.2995234049035758,0.026485952877429168,0.09091740336474949,0.7259302705597608,0.7719057457151862,0.38044075428880186,-0.903738404534128,0.6588806050900995,1.1219787439961328,0.6372104543224523,1.8986096783268107,1.2855734200209807,-0.2101536823399053,0.3499871203119304,-0.43313100664522425,-0.07932532745288721,0.30788229777750803,0.39986043387198444,0.3138392168168644,0.07190006561328584,1.495866039462973,1.4139793189853744,1.306826956645384,-0.054181016485005555,0.18695024628770063,-0.152155810806052,0.34696962325500497,0.18220180342013573,-1.0767358782912129,0.1275596324091549,-0.0618303579129114,-0.8654562601037755,0.2166605505819554,1.6503222427476385,-0.5421066827800795,-0.9954060365054386,-1.196491740295922,0.3980100963300061,1.2871104143338137,-0.0705183461716995,0.4788037586628341,0.7149799775017374,1.434758417592793,1.240012677291758,1.7848508509644017,0.9163485425316565,0.1981171824005129,1.23262682226091,0.4475861035706447,0.14283699804231753,-0.2523424378266883,0.15478100732603606,-0.9359084344696659,-0.9471781858119694,1.5469676090168205,-0.5617178187212231,0.1025736106050748,-0.14718552922404327,0.9995798566199117,1.4189272006223743,0.4733130764436805,0.5811444687141799,0.5798537454621755,-0.019868378482754693,1.008266482458724,3.0433990855228976,0.6668070372111946,1.0266903791731656,0.3950548673455787,0.9060541444165301,0.46110675861929407,-0.11626559761468869,0.6627620355382675,1.210910163886874,1.8350602175312836,-0.6495938787368061,0.19757471000023868,1.1782458808351692,-2.0189916238088266,-0.02509928134690064,-1.2977002697504385,0.18268824472946138,0.9416584723167901,0.27352623417072025,-0.550495444736679,1.4214847556734636,-0.28321907371404187,0.8394239168488634,-0.6931250795783067,-0.32635886966357514,2.5756421305925152,0.22352821909856352,1.8722137217886465,-0.44565276230997686,-0.2791602781251427,0.07890951614690148,0.011193283042666771,0.3425630708695854,1.0470204199856021,0.3477169171388077,0.3734668010897787,0.05580435279493999,-1.4784592309804667,1.716215037717126,2.3838053438361335,-1.1809661914901042,0.40335702794090855,1.9242405484295697,0.31415072521182863,-0.6102181670538773,0.43917768875788404,0.6715944104578168,0.6365451642409073,1.7674671634487313,-0.39964606322128976,0.32382507633874075,0.6999433180371077,2.8098878899635613,0.7753790130377742,0.9427826355338252,0.6576053059600306,0.5513228352527557,0.1742625181956137,0.29329914868415724,1.0793529792246221,-0.5432908877323053,0.6502292922476368,-1.2402409301266846,0.15344505866731534,0.3534456479533075,1.6761332456393825,-0.41908567524561413,1.7761043535997936,0.9420596881614268,2.1432996695664244,0.4096390691086488,2.993580189489006,0.5065120927096255,0.28436961015236273,0.10659081519716206,0.5200967609455527,-0.08988910759867776,0.06771081127042816,-0.8589417706722793,-0.5050064300237055,0.47896933843249934,1.121201295124684,0.21177709518020418,-0.7691706091465684,0.4072341921884763,0.8832919151904568,0.5291920275973935,1.660790444940131,0.2947339951645519,0.9076597099605412,-0.58093157366371,2.7178038249589473,-0.07857695219471436,0.147909140050148,-0.7035854108733838,0.2265017825042477,-0.17383369639264945,0.08100519834368977,0.31582681095101156,2.2624317294288656,0.6115936017030077,-1.4186311370147078,0.6151632783552131,0.434060846203168,-1.7040132544757296,-0.31364965358086966,-0.4281195490771999,0.793433751402322,0.3131388399329783,0.739871242338806,-0.8536934175955622,0.1953310049716856,0.98759687269424,-0.024637127392013285,-0.2928223108553522,0.6564789076374132,-0.27466987130535475,-0.37878176423607796,1.816380443356377,0.7141847559905424,-0.3004539124090475,-1.222862395014757,0.12002098096540643,-0.6803902971620843,0.34598422090600306,1.8674345596685689,-0.020144533864127144,0.250176211506015,0.618840213946074,0.49539984557299505,-0.38295263979060934,-1.0334684577544064,0.8350031534942578,0.2757423201103492,-0.01403552809752355,0.8384937132718675,0.36816268917489386,0.11222048525069633,-0.3228370327306093,-1.0623394761137497,-0.1613800180743161,1.6154926597934554,1.0658547224099904,-0.9119628600074959,-0.8295088758529794,-0.04412383233430879,-1.1511187434620505,-0.11730850805881253,0.5837286965347113,0.9524731489585243,1.0836145198058407,0.16602934239372463,0.05593618630375072,0.6582931323560356,1.2648184681257313,1.337906503831172,0.25621548640123815,-0.32432756082192477,0.44471355559309494,0.6450682744866849,0.4694388275594466,0.15098018784347603,0.9670604709035866,0.9172588449013537,0.6995945135749105,0.3115961636125733,1.4351351582290452,-2.24438456885042,-0.14030895169745022,0.17082608161406498,-1.2834550034546908,1.204154749875298,0.24420044706353386,1.57817416426331,0.42959337613804777,-0.9978082714015306,-0.0728014190028394,0.22057007742791396,2.378773851307572,1.2319842418084688,-0.03536079828921296,0.229558446102564,0.8292624989716807,-0.5953312929257515,-0.11315332473220688,0.48704753282864605,-0.3634159282250456,0.47825083047835565,2.5756477736343846,-0.5513694557631169,1.7468501365144888,-0.8769696575904244,0.2358395948709712,0.3873702817978145,0.25206165802137187,0.8316565088541427,0.8827666996091421,0.34538629129252435,0.12866737870183106,0.36351492233966104,-0.35375863743470953,0.9300629629260924,-0.2374916935175721,-0.21567148244167933,0.5939074279977292,-0.016515974376098093,-0.9479119926657191,1.775662988988608,-0.06746099695732198,0.5371950244897965,0.47223284824877726,0.029971955320186577,1.986928980997884,-0.06443306772909078,-0.9452200349666471,-0.9649022742340637,0.09849844541776824,-0.4758258307076754,-0.2525409924342942,1.2327310333612864,1.5509806653478473,0.09430206105093267,0.0570906470364721,-0.9786659095737221,0.06964397071429748,-0.4083607188753475,-0.34363537663723154,2.9714028854122345,0.9191145846570656,1.2321471098312133,1.284901348480195,0.32407864866615005,1.2611562227004418,2.9310041281178454,0.19895431191514185,0.37066326579274095,0.09480364700241531,0.4738047013205808,0.3369910693708902,0.17240518035895303,1.1870660531880781,-0.16799251629842607,0.2066256383012294,-0.656930987866998,0.800767421011166,0.2861835169622771,-0.6907302099934118,0.9151161622502421,2.299789038040713,-0.3955840065235713,0.13418409240258733,0.6749823662678912,-0.5181464735137569,0.04397789649346155,1.0931462165635755,1.0992685178316788,0.27628857069753143,2.373198421863554,1.5905980843295884,0.7323003352376388,0.008789589778080194,-0.5485483840462984,0.6456371759577317,1.0611672968833616,1.0145008097228192,-0.07208684222003862,-0.4343208827226254,0.3803093910795389,-0.2554972728924799,0.6567223601536776,-1.2453345382026222,0.33419152380695566,0.11780825832875715,0.9800311814475161,0.2146531855476997,2.348785810724278,1.954842666492268,0.46331859119398544,0.15482765521635292,-0.02576886831410394,1.166785015890363,0.25866067549705335,1.056266326725071,0.6520147654335351,-0.9117682220724748,0.37600045422587397,0.8969211227584234,0.47664366552355386,1.482978614395022,-0.06779464615662674,-0.659327186568932,-0.18911812791676771,1.044960101925074,0.4536458047616266,-0.10337686017867569,0.46681888524985304,-0.09520561692136738,0.5745060977575056,0.8583981501362591,-1.268502198967003,0.4802284195234577,1.8441734180704614,0.18613894403854533,-0.07287958451663802,0.0860518787741675,0.4333521721986423,0.054101126524776874,0.7736250806114768,-0.23591981595340297,0.09849692457206798,0.365862672240091,1.0577411100970306,1.8566054258886207,0.02433960789428398,1.303725903677024,-1.945293018222365,0.6336487193000541,0.5491824349834112,1.3060560413913664,1.9061567402078556,0.8708615301636321,-1.2746796180868134,0.24345735696563436,0.8394013547868622,0.19903097688750776,-1.0871211928258169,-0.6384961935047343,0.2947019917069659,0.6905000058443777,-0.6013652407280563,-0.19653904456995533,0.718787004967882,2.345345808579085,0.5125050817014116,1.2329955683083234,0.0639013306593467,0.07548080137516204,0.8206791334015381,0.43759115632327655,-0.8501458124995982,0.5043464877827124,-0.9555873948492885,0.11256270022384839,0.12958177610718344,-0.23409760247633582,-0.3574380617011196,-0.9775885855973114,-1.1439793328040648,1.5250091752807537,1.2109858278494876,0.7436393857510147,0.11100449169040291,1.8506243081463636,0.5546338960915767,2.016578581510809,-0.8017382328518778,-0.08350531330051027,0.956396164579533,2.195502402474332,0.5231821008378488,0.408383123856313,-0.01454622490463626,0.32885972252420514,-0.399509054093423,0.5539374428827076,-0.0010978742209538533],\"z\":[-0.37087146963466644,-1.5763708269993262,1.0257041792971506,-0.7586093192116146,-0.23856919125003295,-0.19402997639094832,2.056796267765659,-1.1177251050776233,-0.03858316617074142,1.1314164146091727,0.32694181126795696,-2.0025756307916325,-0.4665482489719155,0.4022218936815687,-1.589790546207757,-0.5442169922010918,-1.6592829893851717,1.5998811499853685,-3.2430139407876433,0.07685342199335432,-0.5556925276525779,-0.8478360470117852,1.0921241791678824,-0.124386813325011,0.303492748677034,-1.6429554260615347,-0.923840207533779,-0.50118188926882,-0.013462114886773624,-0.6452950862456905,-1.5489265911255328,-1.616853367679472,0.23512182612889343,-0.8177604116491383,0.9966500892537198,-0.10332995598726202,-1.176759219619369,-0.694602234227796,1.587141014487242,-1.6043364892597416,0.3699487436053659,-1.0786893305235565,-0.2817302135859574,-0.8110478009294434,-1.5846281826348687,0.4988186283112461,3.832653959988636,-1.066920347786355,-1.0777893740571411,0.8666111599059487,1.1543928829304737,1.816171155658493,0.33589807570700103,2.1683366746044275,2.356413411039589,1.416086825452632,1.9181418257482523,-0.5642772270391059,-2.955624977257546,-1.37681135106383,-1.3936306655259285,-0.46231193756047895,-2.3691462607399725,-1.5955127440834604,-1.8633465384325514,1.307424809676307,-0.4293084640918563,-1.7366328980373285,-0.014346828386472499,-0.842694938118973,2.451729628383809,-0.6553162383098244,0.3835332175538305,-2.5232255739430824,1.3483965977802392,-1.2011689115141144,0.294896182743434,-1.4551917761155904,0.6117493049506222,-1.3890170709343972,-2.6067597969942096,-1.3693483779597406,-0.13352117468768987,-0.684287965546957,-0.48805268646061695,2.6419425678583135,-1.5345856284327934,-1.114032069600269,-0.5448188016081655,-0.5413292238591021,-0.01795731410346968,-0.4577234970952915,2.456094452643905,-1.9317317401025331,0.6280725360439974,-0.8788777140163218,-1.9632112565268192,-1.5172883805405615,2.100787741352231,-2.163725349696368,-0.2071642865106681,-0.34529135431947644,-1.9008642976716454,-2.259602432997605,-0.5948327984798005,2.367960918241174,-2.884228218164519,-0.093783637061569,-0.538573381797449,-2.133771368916241,-1.4501559416250989,1.002079847446575,-0.9091511555185386,1.9764188107692715,-1.1700421539791863,0.2358940178834925,-0.3190542088135768,-1.1532550876563046,-1.5532410244705015,-1.4529525738529898,0.5398094485089802,3.2915003421197024,1.4709816142455536,-1.8861863184382723,0.5405666207515469,-0.3581527876911641,2.1389075402921542,-0.9622001967145175,-3.298122915496038,-1.2852890612483978,-1.4634701950473632,-1.4798229879240048,3.224181239928396,0.9401656134063696,1.4825580146560653,-1.7264397034363377,2.985708023206604,0.5382926170395543,-0.5529056192698125,0.6464852200788069,-0.5211676024608942,-1.708652720293283,-0.6497577753708257,-0.09541974129026032,0.2260216118174837,0.06664470343558859,-0.5264779037133025,2.197174420390046,-0.23525445925092126,-1.0668565932307508,-0.785032367352356,0.7185921103363149,-0.10073515542971823,0.41846381355114537,-0.2642726902146111,-0.9208486222648756,1.7368306902343185,0.21327675812621738,1.5727366838641388,-1.2571307420953264,-2.347479615887137,0.953336401806329,0.4275065047917873,2.284541240021726,1.5101276184492776,-0.9586523830503584,2.6863641871044983,-2.1532274990242968,-2.347155516140093,-1.2173312929982103,-0.5359639219239598,-0.2324154017582647,-0.6622552235093404,-1.9321897699443842,-0.16085447215095994,-2.4471686040365146,-0.5879710648014058,-2.264538658121655,-0.7034685996321224,0.6920515929086859,-2.9025334587530147,-0.7568181346148045,-1.175901615491276,1.491510783942104,-1.3661091662952387,2.2185717243834673,-1.9188795115116668,1.4292118932692421,0.34396409859541777,-0.6057825551916718,-1.1518766874547208,-1.300411407399054,-0.9168152161295846,-2.001581059337158,-1.5897218165246922,-0.16339158784049523,-0.7605609035041301,1.6070974277181602,-1.2603537104713654,2.0497847892305954,-1.2547980343755825,1.4548637429658422,-1.0919349376685097,-2.7838629071530487,-1.3971616234418263,0.7084598295210267,2.6163128361511907,-0.5111353565249122,1.7285242584443479,-2.5945109844128957,-2.053826051387322,2.284410494406089,-0.6751682891198052,0.3046956910469636,1.884878548770899,-1.8102495807726675,-1.2707794177153073,3.095021295612433,1.8681680520153765,-0.32430797856196913,0.34093903806081727,1.3196369318319408,1.5464379324371733,1.0085557103694245,0.5193058896971554,-1.9452180862007267,-0.5241604262404658,0.5598764450587466,-1.8963049626523993,2.126861765739969,0.9397201084189752,-2.326799319950119,-1.5171487881570873,-0.44521112857352385,-0.8804410542058364,-0.8236231802621521,-2.283282658752547,-0.6753937675795041,1.403937115196198,-1.6766581994984429,-0.8750012980664725,-0.40550977091110985,0.8703592599263005,1.7651539050474518,0.039542323164125204,-0.12666713226657755,0.9940305891251802,-0.38489395712559704,-1.4727176185960746,-1.2672330962071259,-1.055357304123495,-0.7370669235970884,2.4445379707103716,0.6087984435831548,-0.8476274313185219,-1.3189339614609412,-1.2793009548749668,-0.5788950993710795,-0.46223046594799166,-0.10214732833781381,1.5531641589232534,2.4607835141297913,-0.8935717627328998,1.2196932572655408,-1.0757654385399864,0.41150693115669623,-0.3589395551975335,0.5916163939089374,0.20249455369728198,0.2249531076071235,2.6044295245781917,1.2937837078792747,-1.2378362968573835,-2.8142019777723206,-1.058987874977234,1.6747709451013773,1.3055334726173906,-1.3150129376141777,-1.2104297709112648,-2.262011303711393,-1.2858532134473384,1.877382814357257,-1.712331755335144,-0.5543044227957523,-0.2841302905073477,-1.1738533105495765,-0.6662077515061424,2.6002239753044036,-2.020241509746135,2.3227623871654735,-0.18379825149994478,0.8339935232865735,-2.3423975730972666,-1.1977432836331543,-0.8796796251463062,0.1642303202879276,2.0012014730489414,0.2700415182806336,-0.5862223942801048,-1.0282427883303935,1.0325841384148473,0.5588562150509038,-0.9925057862188679,0.9740725777093902,-1.3760645355096999,-1.3981585754009542,-0.5884691573506293,-0.748951675194897,-1.2741766019781187,-0.24692219400025217,-2.42738896099606,-0.22236342310425516,2.3595590293209705,0.8345049702692422,-1.3263347920878288,-1.207003749338353,-1.4363047723902143,-2.5094623573711345,-2.001530659192207,-0.6824550566828924,0.11920354017643797,2.306326141108676,-1.7642309684441357,-1.201393004846625,-1.3342176989748473,0.012444704579384513,-1.3993495543146202,-2.777658170101418,-1.150952701042863,1.4346903827037925,-0.8608740951090456,-1.5684935073686326,2.0507773664639877,-1.3403594526498952,1.1308170552872818,-0.823293200269412,2.905648916118291,-1.6776840786482252,0.9398080189240918,-1.9782321347503562,-2.516774323881113,0.6807744448099211,-0.3607378745302543,-1.465016343692583,-1.1463381218382955,-1.3635457792458445,-1.3780513159599364,0.36618569688904,-2.340428118358635,-0.717131339328319,2.2633658732506943,0.2631810175025101,-0.11003982439452697,-0.7707731591653976,-1.8802568314974082,-0.31641079669078864,1.6615363111591392,-1.8475787589728427,-1.8642068851369895,2.4086301318333367,-0.544257103689298,-2.3247873115670816,0.02078328641563787,1.7157303505593338,-0.842890085452878,1.6257993485725,-1.2028980181397926,-2.0802227118416114,-0.8388384974156161,-2.5384621150192133,0.7937137472779254,2.26690812183997,-1.1229869724870067,-0.41503204827369233,-0.1770929385553921,-0.5211455561303151,0.7324136718570189,-1.0038637489168205,-2.6828339711132347,-0.34546227733505785,-1.105445169646175,-0.22948985019950252,-1.4407430968259132,1.7836757952861793,1.1632722035584577,-1.6083568884268584,-1.439218127520653,-1.1919915647893629,-1.3417061885332033,-1.6565829866131754,1.3542197613229723,-2.1473623146559735,-1.1830259597545458,-0.33668655114465584,-0.4356174895963021,1.5458867653985182,-0.739683756000759,1.3881159535105865,0.049307367637188015,-0.33196244000051944,-0.6993016565169607,0.3010030692423622,1.3985199080867892,-1.7561764975548653,-1.6586860199154716,-0.533975008512235,-1.6505712390619562,-1.014351897077345,-0.21567967398805488,-0.13668689505634402,-0.3053153942778212,-0.505412418109941,-0.2538651642993861,-1.1636168209481383,0.1861763909558013,-2.3523039526454963,-2.5158423030773687,-0.956850510582484,2.4119296108234822,0.299605532004836,-1.317365476182157,-1.4306492044534365,-0.9984411418571756,0.5205097509671655,-0.7756640532872052,-0.9795467151385129,-0.47956795213418235,-0.4277938066922814,2.222329642905705,-0.7851979833469951,2.6611749077103095,-0.8512403523511778,-0.5379960178079624,-1.5650570068070333,2.7757399239068947,0.3850565142735596,0.7697465606663203,-0.6767284198730751,0.3150622140000219,-1.185792674814015,-0.525649326326517,0.9955558865946921,-1.6129515998444393,-0.20349986168899992,-1.2249839540236105,1.0974437771505476,1.3021867413637338,-1.5461732694125363,-0.6221234186934093,-1.481542250517063,0.15423646009643932,-1.055570641550807,-2.187077238745453,0.19056662938436408,-1.6820717676674062,-1.3683395582196949,2.198229757456646,-1.3635234726400507,-0.8352325979843322,0.3589311839888465,0.2246885313709257,-0.7181140832252175,-1.9639977850907426,-0.1721518875569651,-0.4498958658036617,-1.0877028333374237,-0.8397986492966365,-1.8136067978382093,-1.1606505948276908,-1.1484448373152205,-1.9622924692018477,-0.0988664119452698,0.8877202397461537,-1.175410511611242,2.2236951062123227,-1.9326904259385058,2.6594514841012704,-0.715546359805695,-2.2156943679618126,-1.047795803457483,-1.4551056824944506,1.5751996515202336,-0.5873281260924342,-0.9067356756352766,-0.7702597995072143,-2.216978199760353,0.5446564723939791,-1.5799231483041853,-2.107152410614848,-1.5052841889251614,-1.2231877774761384,-0.6801990116151064,-0.6168256315145313,-1.5589704131220516,0.5909013004394076,-1.4451377449501979,-0.8954277625064312,-0.47801826031352124,-2.699444314094925,2.3383184677865634,-2.031762150063927,-0.4744477726295606,-0.01590849790825455,0.9381993907234419,2.2565207523524515,-1.475660382151847,-0.706047280130915,-0.28855556480437294,-2.7056981493742023,0.9904416533066693,-0.20445663052046537,-0.9151346828665498,-2.3810986061969146,-0.22735646255017872,-0.1592716830253741,-0.8809696211841835,0.588465504758332,-1.7097302328015456,-0.9081484341880454,-1.5107914568811451,3.379785021740613,-2.1533796196808312,1.1691697725797188,0.4598486810127791,0.15286997373725697,2.8668622689947822,-0.2678124226169234,-2.075196326174993,-1.4888796252329572,3.274525397595243,-0.8131327333086719,-1.4791566772898876,-1.0878220008727264,-0.17829551165261104,-1.7584259113338465,-2.6322399620717807,-2.521219657656897,-2.347931372758932,-0.7334499764778649,0.07756011386103678,-0.07523078893943103,-1.3620835410124896,-0.32229041687108206,0.575485074406747,-1.1143368334044643,1.333641197733539,2.412620216698783,-0.9414062873264163,0.324631796837874,-0.825742793822087,-0.4933772363233889,-0.2910736241418319,-0.2405346345902737,-1.3474621240908338,-0.5639546759947045,0.2206999686086457,1.0958666184277164,1.6917105559648355,0.6152721000164365,1.7595283321134911,1.6228656041440792,0.8562320573348026,-1.2429090865922496,0.40292803091167795,0.4942120639486176,0.20179800581931828,-1.5623367147154004,-0.11236244468740131,0.11887074085570193,-0.7615659407758449,-1.1519202632158032,-1.3416492509439863,-0.9759115857329175,-0.7076112125887324,-0.8333841607861906,-1.9544029922429833,-2.0896617533819164,0.47208947453793604,-1.4380558613519938,-0.12494565251278134,-0.1087610687794398,-1.3359493394218214,-1.793501697668304,-1.2664341764091798,-1.6805316914621744,-1.1535952685483888,-0.6023148715786817,-1.8093787565029817,-1.309598051741618,-1.0724433546850773,-1.6906008080950583,0.5206896376824892,-2.482261773055452,-2.040609995782674,-0.2576340360208341,-1.6498136003075983,1.9360905837262767,-0.2675352778995419,0.4456023341123698,-0.5403406384413851,0.6393795927327119,1.246796468347315,-0.5049756963923028,-1.1345237636172927,2.0963687191831006,-0.030707529481404983,-0.3378094393418295,2.352213365454869,-0.4846022433820104,0.671584245691546,-0.22880387112281786,-2.3314116200119375,0.11062698690585093,0.6763932765240523,-1.775630173450082,-0.808258144455239,1.2173962254089727,-1.24640060303457,-0.14229015841781778,-2.078359593886952,-1.4409721901900534,0.19759898598415448,-0.0938528188014921,1.0117154901691876,-1.561797703252016,-0.9592887092552842,-1.026712939246165,-1.2248478591503869,2.3172326876294647,-1.3857346650925946,-1.0413100630308154,-0.7930166072862403,-1.485882258533952,-0.490436678774973,0.5006767124839957,-2.6308854256243253,2.6075248455494386,0.3953431675895047,-0.9274021259125096,1.39282015862723,-1.8255572037000776,-0.037138568789674364,1.1523480138661868,-0.9256733912011154,-0.49550704111707644,-1.5408201848109777,-1.1406915517868927,1.3396610199789154,-1.6113962223933758,-0.6901488264270215,0.13390773431839742,-2.5279207730931574,-0.7744323035917915,0.09981419190219998,-0.7828274726353261,-1.4314728217569361,2.7122960602779895,-0.6880833066652106,0.001354199022822522,-0.8507038353172658,-2.4393847619510014,2.854403836347587,0.08678201559927468,0.6989353525804738,1.126967668583543,4.022720689067207,-1.4647707735406215,-0.6022942694154523,-1.2966622972314505,-0.4065695999100245,-0.9600875666010913,-1.7333223856414524,-1.9913022223359902,1.038647426910175,-1.210871764484105,-1.5064791996871234,-0.6015642273385398,-0.4161834617517123,0.6758160849049777,3.145454792635881,0.7325651493369156,-0.577961598578642,-1.1079326322880583,-0.2628762515396349,-0.22404720835323855,0.10401436685961474,-0.48876326898602507,-0.6694920007648839,-1.8544475384407075,-0.3690399440551644,0.4959472159253234,-0.9152488540206346,-1.1248993022384153,-0.9040188259115131,-1.2707453204289907,-0.5376063165425395,2.428649168319283,-0.9369338241865797,1.5111834446407835,-3.0890893857049955,0.987557473487804,0.7850220398168971,-2.301556178212077,-0.9834667302105318,0.5403091545362955,1.4751264569259843,0.5383062391737714,-0.19881837340584207,-0.5569638509710986,-1.9946971975217487,-0.28756741037247757,-0.2028093077748413,0.7008937499806684,-0.33022293089779775,1.92712309452935,-1.8659080197147173,-1.9225752999750008,-0.49816868953312277,-0.9193951244937186,-2.5189168850988892,-1.7141184260376798,1.1062029477754365,-1.8906692199382085,-1.2062923424144898,2.1887026183546814,0.2949702079186143,-0.6973959471436557,-0.780841493005894,-1.7280213019286714,-0.05765002658226759,-0.8306401493470581,-0.1442050757093446,-1.9502341376899406,-0.85843792554397,-0.7028168601513448,3.099972594352422,-0.6972229521460512,1.846785516493858,-1.4880381367519044,-1.468517564740963,-0.5190708357618679,-1.2334869494246712,-1.5255574945339903,0.7897691646879277,-1.5531021428574245,1.2972054622536588,-2.5391672984004496,0.43785933553496137,2.576142091656803,0.695314468812627,-0.971671503447257,0.39107764784854704,-0.23365373117064347,-0.39256279363497504,-0.6923175518606495,0.6671051911040826,-1.683838203236402,1.3946816963052335,1.8201086326734668,-1.5628037878776875,-0.792943498162981,0.2881656845659941,-0.4775267919158329,-0.2752180968606083,-1.0702676551425456,-0.10073549128047854,-0.4913419351172259,1.5974279177524595,-2.6719310541195753,-1.2103925268851663,-1.2204472178869508,0.8590581598988796,1.4523998769959838,-1.1427668910502544,1.4724430807667859,-1.2895547921259207,-1.65806548132112,-0.470126570440242,-0.9937495156761593,-2.104438221057131,-2.072994895415966,1.0988940341706912,-0.8445626389320746,-2.7679438493874517,1.1132859668548758,-1.4635472988501066,-1.0339686910945836,-1.1105036966183137,-1.279186081226501,-1.1521830687996375,-0.7922801004043202,-0.2320553139316719,-0.9498316900818278,-0.07375928642101193,0.80388251688984,0.24114928737531915,-1.6524860555778078,0.24620289976346088,0.11393163655959593,0.7818672521206903,-0.49494157001528194,-0.8533066578764628,1.5328765106949693,3.0744717341300705,-1.0886695007528646,1.2836368346430393,-1.6438446919188365,-1.286312030292452,-1.5150422929766916,-0.8327008956877884,-0.7076432948008755,-1.350243082880651,0.44887460037929094,0.0873438431450615,-0.8478654193420997,1.2635751050589827,0.7831948457878649,2.2628510552452585,1.5828776231187818,-1.7027077717983823,-1.2400954089300757,-0.6107266508173719,1.2294632302174469,2.1990346704621446,1.7493944279417266,0.44938075080477646,1.236442246332943,-0.4831965407872352,-0.3730783338576863,-1.1592678689120548,-1.690817168420729,0.4073423363893022,-0.7934043672597744,0.5385790392640022,2.6012908803986967,-1.5628203933361342,0.36724812496465664,0.901950520317464,-0.7880125167136712,-1.197985966024561,-0.8189376029698281,-0.9173770712768796,-0.6721601868927481,-0.9490501805380704,0.3027148929642195,0.2613906195465894,1.03813733140208,-2.0350309004266727,-1.2710962741857854,1.4464481416097987,-1.3196756346274614,-2.188184816271957,-0.677552073676883,-1.2743754463114274,-0.9533286127720736,-0.31752009154598715,-1.7802804939451624,0.6477200442283855,-1.8509305874375621,-0.20454432969126246,0.18788232947314687,-1.9966825318374992,-1.1867850865589245,-2.340353519445064,-2.069360451848712,1.1401292911450132,3.0703538540013167,-1.2130036605323626,-0.06964107164051436,-0.1309956299600894,-0.6442777220751875,-0.5439620270246982,2.0546544679492067,-0.04398267667725442,0.5149219637188382,-0.395345552274435,-0.6560287316680022,-0.022953842084081133,-2.8417635132714087,-0.35495574982836997,-0.19525032249323038,-0.48962016557374743,-2.491503678373797,0.5886642769629172,-2.306155499374909,1.1719647105864026,1.2565398815973428,0.9902486431014204,-0.5842475217818466,-1.6452536002659037,-0.45301329295315207,-0.6185076445192161,-0.7920581277985165,-1.7264233700355853,-1.70109468653241,0.24156647881189064,-0.19781916766124863,-0.3954100681178425,0.8653861266430766,-1.1520561732423726,2.603307666269801,-0.8563214737577921,1.546052268205873,1.5538229588944041,-0.05327806759975928,-1.4936155714536397,1.6072154898355913,-0.8156938430463719,0.5327140063364459,0.9265032621124873,-1.0190072306952436,-0.29039170998703334,0.045020998838233295,-0.1265121794603169,-0.7648122330526452,-1.8278355342501684,1.0875836737939695,-1.9404083714505087,-0.7306107510487496,-2.1369433574906687,-2.708705280289795,-0.15494289024492192,1.2833037710093618,1.208882490492259,1.444111917951651,-1.2501113543480535,-1.0325808071381597,-1.7292651765385614,1.0459854025857345,-0.2319722849324427,-2.170701069154318,-0.3181987571548175,-1.3234137095941558,2.023372881849868,1.231228647882473,1.7495547369485398,1.0588024280471695,-0.8757857400882186,-0.7287345567306946,0.3897080380588125,-0.9174262512252334,-2.323583538212605,-1.1589975302554967,0.003194202004936697,1.756746871453318,-0.04074550202495231,-1.1724541074756367,-2.447478160848986,-1.618750036610581,1.7319845688351512,-2.2956587874216092,-2.271044887696236,-1.6781857876966688,1.2882501133143376,-0.7558720356597948,-1.4573534220498103,0.7089353580272937,-0.9050180713896339,-0.8272510200751071,1.2808602842611336,0.7279594158141149,-0.5723540168875426,-0.041119744044603834,-0.5645302052051709,-0.7059712281504589,0.029497863977859362,1.5365347855630147,3.0518816503744306,-1.1232541472020012,0.9225186851184528,-2.4620940767253687,-2.0228096375825455,0.6154477772074636,0.06744767862702183,-1.7969236878320332,0.722918160822884,1.4434770404398594,-0.5800764801056236,-0.4318097653791513,-1.3038705786387177,0.7296469824582912,-2.4519389301442898,-1.219912863949701,-0.7257845693866594,-1.618738095328594,0.057877221248383126,-2.079265359791094,2.0013587235405055,-0.02401011647652651,0.695757122906199,-0.9891637098502246,-1.888297617399056,-1.2766895095767894,-1.258751079769381,-2.2190447582369526,-1.438386760709714,-0.9660225996630409,0.11839500553601323,2.6648389470470137,-1.4542989132009967,-0.9287342068607941,-0.7902598976380365,0.49397855209841934,-0.7126270331488742,0.4959539191462121,-2.6488712708892432,1.4962579380488836,1.056116523314787,-1.254850079436739,0.9469775951138999,-1.7246835756591032,-1.585443701322013,-0.22710330481239538,1.149407084241395,-0.040288656552298074,1.1032501329038784,3.061427341158026,-1.5713916730313993,-1.0982082340106833,-1.6286573154254618,0.8214351074471931,-1.6521096360280914,-0.8913163003605363,-2.203087303318571,-1.6639539830653538,-1.8129040996665082,0.8885545217633765,-0.9606378084828427,-1.9004863471934497,-2.384209178155598,-1.9674444185121163,-0.38402524343653655,0.038243571674630994,0.4249150900722184,-1.7191662898858664,-0.5659247321583751,-1.724599778830183,-2.0924340369309,-2.3915644693758793,0.5338592961282222,-0.01277718790144955,0.2593871303133295,-1.1988185724305245,0.8287592100571253,-1.0234372663387237,3.828247980464475,0.44171404232217315,-1.8413534052991487,-0.7041045316333171,0.5530037174652898,1.0843811267097885,0.6590108162644501,-0.3618200495560472,0.5368476477159877,1.9458740905089602,-1.8415842473277377,0.2060857885527424,-0.34265092249720763,-2.0408205649640085,0.9575861299134898,-0.21242814886611594,-0.15346713928473843,-2.7559757376632588,-1.2956549342385195,0.0678875006678965,-1.8018712805013228,-2.2811280429055927,-1.1038807321731705,-1.7709402083853145,-1.1274333470025741,-0.3286896075331792,-2.2063039229246892,0.4299698846184422,-0.9878090384377205,1.815676345294813,-0.7162554457453056,-0.3813514119288066,-1.0094841840760653,-0.8993133467065,-1.5706485051030379,-1.374358711639882,-0.6213088148740116,1.6292244436057115,0.3254578928913936,0.17480775224398026,-1.3254140033333595,-0.5125389765711574,-0.6728379994656728,2.3720548310696854,-1.4085980065449155,-1.564590003393786,-1.122216866781624,0.3483838371205571,1.7068886916905628,0.36497001129656814,-0.4458563169079507,0.7198063489595395,0.15591062174235137,1.7800585393273012,-2.7129382823291572,0.22504624165930465,-1.197369898508873,-1.272312696556609,-1.0561777407352222,0.7943012337108388,-0.9546273997696548,-1.240371537862054,-0.8701269512245224,-0.67030323348089,1.084783084039705,-1.1845586605612581,-1.3329425245275102,-0.779626094433407,-1.393330379335998,0.3128277758879583,2.0608319441180347,-1.2984976871458764,3.47451183197392,2.5090858441563375,0.9273572515236774,-1.6738255403046787,-0.9755212973074863,0.08026537235480125,-1.6561033677456343,-0.27081729629989415,-0.9314883768718603,-1.379887840078478,1.1691809913380626,-1.196473901788158,-0.3144703780742568,-0.516495686641869,0.54879781693784,2.014459670601882,-0.8415105990627065,-2.6108320278894013,-1.0348980368178378,-0.7125644979020029,-0.5070272528054314,-0.43277168975636626,0.6328085424004966,1.1307767347184516,-1.1508839683148446,-0.4599437568286432,-1.6602022169131314,-0.3323511370261769,-1.0009036275134013,-1.4988946193677253,-0.8886223462234424,-0.4973774047592876,-0.49054659709881765,1.7988596520051456,-2.527149901124755,1.4548895530224246,-1.953579936817882,-1.0967237038716278,2.2430567766693628,0.8955130034769747,0.43204180656152547,-0.15837519223894037,-2.1944108269159504,0.18607129974344994,-1.6987689803702215,-0.025742566791575827,1.699982716925791,0.4320362399985671,0.5819944676852775,1.5097067471985182,-0.9716702517798437,-0.2170078098248348,0.38859877853253,0.03528554535830741,0.14400733889280537,-1.9957734883107592,-2.032131096918505,-1.287443337880997,-0.3232626141842718,-1.6002938058238296,-0.20353411729838888,-1.367705584996732,-2.144246519617964,-1.666462767336585,1.1341950018656404,-1.9342441286502048,0.4430504489958371,-1.6887442215928794,-0.6482850743618338,-2.1987099650635953,-0.4832995875221875,-0.670134887896886,-0.4097615190716074,-0.796981599492658,-1.126150011497791,-0.8872320355414943,-1.2795811322242328,-1.896088803670327,-0.7407576803732043,-1.6416089187693732,-2.065627250797891,-1.0049851640226093,-1.67621305795472,-0.24557656733410238,-1.6626220984854003,-0.5722196867866348,-2.204893322706732,-0.6328287178558121,-2.8536552987312342,-1.9058894054118638,2.6436396516341736,2.1743393366325328,-1.9722562074701795,-1.5297266238352782,-0.8502633397408359,-1.052017415518617,0.12815850521736882,-0.4083969694828993,-0.4503985828195243,-2.0310870510934107,0.3210523174754534,-0.5986801775549659,-0.7636901799057352,0.9759225831768423,-1.5562725197091951,0.10669066299432595,0.7378421845945211,1.1483697466256326,-1.6924876404361648,-0.6150503863201724,0.47193797525541625,0.22581612663850992,1.3189544325317195,-0.25390204215720924,-1.4450869060903202,-0.23706841828203307,-1.7306012274815572,1.0120640544144706,-1.4430806316324822,1.9129506139686685,0.41278211590412306,-0.011745382788691416,-1.3522978695270094,2.7627444585795713,-0.5893302946666201,-0.2728646374246,1.7962315657479522,-3.394987527299452,-0.4182749029814915,-1.0467808802661167,1.9195883326501848,-1.3334186728878066,-1.8593228196192368,2.0951023912633,0.31310283991250953,-1.6127966583617133,2.4554932340712003,0.9368700250392907,0.9944341470973652,2.1597793294748895,-1.4507666734433697,-2.1850708147534634,-1.729363503521909,0.935062021096842,1.4123109337815056,0.6095444651976498,-2.405316376688641,-0.9687347854629388,-0.027982514027357408,0.19966920423369372,-0.9328628786639968,-0.09652626629721284,-0.3256870573507902,1.4882028480959815,0.9519841650674767,3.180613830678809,-2.295107312414637,-0.39717764250151755,-1.4770054308712992,0.29768928210265566,-0.9386362815955775,-0.1627526748493141,2.6469774726174338,-0.3211454178314799,1.6394558649277444,0.5948307249320275,-0.743084925706242,-0.9969717635891697,0.16944499697264193,-0.40060126064247903,1.169907162828555,-1.0093250060802486,-1.2707961804264434,-0.6747598615721151,-0.7073387058157258,-0.3753794417758781,-0.46520365148727083,-0.3960163937415371,-0.813354094388572,-0.9310989558395201,-0.8253461186956627,-0.5577139307468979,1.3901235404226395,-1.1669479036278287,0.06138290173346905,4.068095382544766,-0.30477376849342674,-0.38910701732377273,-0.06432940343896387,-0.31213411151712034,-1.5096295282758865,1.8551791837611846,-1.4090960111228736,-0.49130578946421655,0.15365253351809172,-1.834262101836862,-0.8263939512615679,-0.1742189918637106,-1.358734811890741,3.7931947371395416,0.839246708839988,1.5015941404918762,-0.09489993947591624,-0.17230562467507526,-0.45799015229053897,-2.1443812909487106,-3.0446804228341966,-1.2025554697293515,-0.23800110221015103,1.4215754878405926,2.3341750530596226,1.5527743768237885,0.6461304852854304,1.9704410699564598,1.955723680538307,-0.8554372012674571,1.261104448838049,0.6584899582014223,-0.44983205794781267,0.40262585282111363,-1.0388348078200043,-0.849442883536875,-1.2239438723638614,-0.6669918960904937,-1.4975417319962254,0.26887738609258416,0.9143011973117583,0.01024691344429296,1.595470663571413,-1.812054404638868,1.0438155217073566,-1.5586256499850966,0.028830558491608205,1.2460780149820183,0.23938966643968596,-0.2257469373905202,-1.1139887310583674,-0.6696453854403872,-0.9095645581492188,2.2610677220825295,-0.537762441366688,0.8704748659011634,-0.9829666708704557,1.8585658806041718,-2.562441197739208,-0.5226940877264623,-0.7939297197373307,-1.103002467685593,0.42068335234703214,-1.1741668472983544,-2.512564646989347,0.732953414506077,1.3458469347040454,-0.6644634509334217,2.526772886910126,0.7197397556326657,-0.32533681311927454,-1.0803785942195687,-0.5756968631284669,0.2361214162365114,-1.7232134032208661,2.338699214835542,0.0003797552259336978,0.09300420346840221,-0.8696272736029506,-2.3307222988390315,-0.8716088851480206,-1.5187119877636925,2.320735537836391,-0.703375615970899,1.9708043320574642,-1.0100847949902578,-1.1115155388337596,-1.235289610703172,-2.1098482556956926,-1.7242359555524351,-0.5561188592558097,2.396303707239502,-1.1564106028400354,-0.6731868531744791,-1.4798476784190795,-1.0508257351229715,-2.9017088891090137,0.18125972033008764,-1.2805031982334771,2.2135621329401376,-1.2417179313614368,-1.2338313224468804,1.2496464862312477,0.27535712240911325,-1.2123746396035076,1.241075004337356,-2.0480970794560474,-1.7947459506442196,1.2548048010984099,-1.8435979566754823,-0.2586171688509761,-1.0910235687393872,1.6749406451403615,-1.293652703731746,-0.5152991651372956,0.918712660055808,-1.3105645218202615,-0.6018973039777415,-2.075958446699129,-1.5722958732040049,-0.14530933955042047,0.1374339534544331,-0.7357863664034204,-0.9574404684786769,0.9601079489302227,-0.2709350945045055,0.9754593103179351,-0.1141728875178325,2.205053197792421,-1.8782161351446196,-0.27335950728106484,-0.16838051968394285,-1.569384615260831,-0.5217657080489361,1.7589333419108515,2.4261057507678028,-3.1780189056206343,0.5392011889502848,-0.9325159098311732,-0.29977523813842777,2.643480786814381,-0.42773659241279405,-0.8343035839738493,-1.8367145817408197,1.313240024105767,-1.0468402005377693,0.27058571627797323,2.9255670186928038,-0.34825280571141803,-1.4025034723796304,-1.8423488959587595,-0.2644422938587341,-1.7663115593507914,0.3383327147916233,-1.92053308768004,1.2626401604765558,-1.0404085785720723,-2.542793289044949,2.3521720540705253,-1.0929226086771564,-1.1209010277391915,-0.844957359677627,-1.480395950239467,-1.667041548428735,0.917232689218678,-0.543862660982231,1.2435676748396662,0.7423314955181015,1.7802030226162864,-0.2802257250468021,-2.4571724860282185,0.44244945775315225,0.8155804251356775,-1.1759443365562272,0.7884342319469125,-0.5873100377409994,0.17668353248337276,-0.7208559338818128,-0.8184137204408749,-1.3865890840163426,-1.459621454510196,-0.28736441964323445,1.6950087097585862,-1.0741033369980113,0.572764296123152,-1.8734464516641918,-1.0689651205564477,2.7826487832144977,-1.0142971486377708,-1.6512542408459998,1.1765281803355312,0.5880788520580592,1.2258246556894659,-0.3199621267090793,-1.5501491271189218,1.5948778426291141,-1.0875968011917094],\"type\":\"scatter3d\"}],                        {\"template\":{\"data\":{\"histogram2dcontour\":[{\"type\":\"histogram2dcontour\",\"colorbar\":{\"outlinewidth\":0,\"ticks\":\"\"},\"colorscale\":[[0.0,\"#0d0887\"],[0.1111111111111111,\"#46039f\"],[0.2222222222222222,\"#7201a8\"],[0.3333333333333333,\"#9c179e\"],[0.4444444444444444,\"#bd3786\"],[0.5555555555555556,\"#d8576b\"],[0.6666666666666666,\"#ed7953\"],[0.7777777777777778,\"#fb9f3a\"],[0.8888888888888888,\"#fdca26\"],[1.0,\"#f0f921\"]]}],\"choropleth\":[{\"type\":\"choropleth\",\"colorbar\":{\"outlinewidth\":0,\"ticks\":\"\"}}],\"histogram2d\":[{\"type\":\"histogram2d\",\"colorbar\":{\"outlinewidth\":0,\"ticks\":\"\"},\"colorscale\":[[0.0,\"#0d0887\"],[0.1111111111111111,\"#46039f\"],[0.2222222222222222,\"#7201a8\"],[0.3333333333333333,\"#9c179e\"],[0.4444444444444444,\"#bd3786\"],[0.5555555555555556,\"#d8576b\"],[0.6666666666666666,\"#ed7953\"],[0.7777777777777778,\"#fb9f3a\"],[0.8888888888888888,\"#fdca26\"],[1.0,\"#f0f921\"]]}],\"heatmap\":[{\"type\":\"heatmap\",\"colorbar\":{\"outlinewidth\":0,\"ticks\":\"\"},\"colorscale\":[[0.0,\"#0d0887\"],[0.1111111111111111,\"#46039f\"],[0.2222222222222222,\"#7201a8\"],[0.3333333333333333,\"#9c179e\"],[0.4444444444444444,\"#bd3786\"],[0.5555555555555556,\"#d8576b\"],[0.6666666666666666,\"#ed7953\"],[0.7777777777777778,\"#fb9f3a\"],[0.8888888888888888,\"#fdca26\"],[1.0,\"#f0f921\"]]}],\"heatmapgl\":[{\"type\":\"heatmapgl\",\"colorbar\":{\"outlinewidth\":0,\"ticks\":\"\"},\"colorscale\":[[0.0,\"#0d0887\"],[0.1111111111111111,\"#46039f\"],[0.2222222222222222,\"#7201a8\"],[0.3333333333333333,\"#9c179e\"],[0.4444444444444444,\"#bd3786\"],[0.5555555555555556,\"#d8576b\"],[0.6666666666666666,\"#ed7953\"],[0.7777777777777778,\"#fb9f3a\"],[0.8888888888888888,\"#fdca26\"],[1.0,\"#f0f921\"]]}],\"contourcarpet\":[{\"type\":\"contourcarpet\",\"colorbar\":{\"outlinewidth\":0,\"ticks\":\"\"}}],\"contour\":[{\"type\":\"contour\",\"colorbar\":{\"outlinewidth\":0,\"ticks\":\"\"},\"colorscale\":[[0.0,\"#0d0887\"],[0.1111111111111111,\"#46039f\"],[0.2222222222222222,\"#7201a8\"],[0.3333333333333333,\"#9c179e\"],[0.4444444444444444,\"#bd3786\"],[0.5555555555555556,\"#d8576b\"],[0.6666666666666666,\"#ed7953\"],[0.7777777777777778,\"#fb9f3a\"],[0.8888888888888888,\"#fdca26\"],[1.0,\"#f0f921\"]]}],\"surface\":[{\"type\":\"surface\",\"colorbar\":{\"outlinewidth\":0,\"ticks\":\"\"},\"colorscale\":[[0.0,\"#0d0887\"],[0.1111111111111111,\"#46039f\"],[0.2222222222222222,\"#7201a8\"],[0.3333333333333333,\"#9c179e\"],[0.4444444444444444,\"#bd3786\"],[0.5555555555555556,\"#d8576b\"],[0.6666666666666666,\"#ed7953\"],[0.7777777777777778,\"#fb9f3a\"],[0.8888888888888888,\"#fdca26\"],[1.0,\"#f0f921\"]]}],\"mesh3d\":[{\"type\":\"mesh3d\",\"colorbar\":{\"outlinewidth\":0,\"ticks\":\"\"}}],\"scatter\":[{\"fillpattern\":{\"fillmode\":\"overlay\",\"size\":10,\"solidity\":0.2},\"type\":\"scatter\"}],\"parcoords\":[{\"type\":\"parcoords\",\"line\":{\"colorbar\":{\"outlinewidth\":0,\"ticks\":\"\"}}}],\"scatterpolargl\":[{\"type\":\"scatterpolargl\",\"marker\":{\"colorbar\":{\"outlinewidth\":0,\"ticks\":\"\"}}}],\"bar\":[{\"error_x\":{\"color\":\"#2a3f5f\"},\"error_y\":{\"color\":\"#2a3f5f\"},\"marker\":{\"line\":{\"color\":\"#E5ECF6\",\"width\":0.5},\"pattern\":{\"fillmode\":\"overlay\",\"size\":10,\"solidity\":0.2}},\"type\":\"bar\"}],\"scattergeo\":[{\"type\":\"scattergeo\",\"marker\":{\"colorbar\":{\"outlinewidth\":0,\"ticks\":\"\"}}}],\"scatterpolar\":[{\"type\":\"scatterpolar\",\"marker\":{\"colorbar\":{\"outlinewidth\":0,\"ticks\":\"\"}}}],\"histogram\":[{\"marker\":{\"pattern\":{\"fillmode\":\"overlay\",\"size\":10,\"solidity\":0.2}},\"type\":\"histogram\"}],\"scattergl\":[{\"type\":\"scattergl\",\"marker\":{\"colorbar\":{\"outlinewidth\":0,\"ticks\":\"\"}}}],\"scatter3d\":[{\"type\":\"scatter3d\",\"line\":{\"colorbar\":{\"outlinewidth\":0,\"ticks\":\"\"}},\"marker\":{\"colorbar\":{\"outlinewidth\":0,\"ticks\":\"\"}}}],\"scattermapbox\":[{\"type\":\"scattermapbox\",\"marker\":{\"colorbar\":{\"outlinewidth\":0,\"ticks\":\"\"}}}],\"scatterternary\":[{\"type\":\"scatterternary\",\"marker\":{\"colorbar\":{\"outlinewidth\":0,\"ticks\":\"\"}}}],\"scattercarpet\":[{\"type\":\"scattercarpet\",\"marker\":{\"colorbar\":{\"outlinewidth\":0,\"ticks\":\"\"}}}],\"carpet\":[{\"aaxis\":{\"endlinecolor\":\"#2a3f5f\",\"gridcolor\":\"white\",\"linecolor\":\"white\",\"minorgridcolor\":\"white\",\"startlinecolor\":\"#2a3f5f\"},\"baxis\":{\"endlinecolor\":\"#2a3f5f\",\"gridcolor\":\"white\",\"linecolor\":\"white\",\"minorgridcolor\":\"white\",\"startlinecolor\":\"#2a3f5f\"},\"type\":\"carpet\"}],\"table\":[{\"cells\":{\"fill\":{\"color\":\"#EBF0F8\"},\"line\":{\"color\":\"white\"}},\"header\":{\"fill\":{\"color\":\"#C8D4E3\"},\"line\":{\"color\":\"white\"}},\"type\":\"table\"}],\"barpolar\":[{\"marker\":{\"line\":{\"color\":\"#E5ECF6\",\"width\":0.5},\"pattern\":{\"fillmode\":\"overlay\",\"size\":10,\"solidity\":0.2}},\"type\":\"barpolar\"}],\"pie\":[{\"automargin\":true,\"type\":\"pie\"}]},\"layout\":{\"autotypenumbers\":\"strict\",\"colorway\":[\"#636efa\",\"#EF553B\",\"#00cc96\",\"#ab63fa\",\"#FFA15A\",\"#19d3f3\",\"#FF6692\",\"#B6E880\",\"#FF97FF\",\"#FECB52\"],\"font\":{\"color\":\"#2a3f5f\"},\"hovermode\":\"closest\",\"hoverlabel\":{\"align\":\"left\"},\"paper_bgcolor\":\"white\",\"plot_bgcolor\":\"#E5ECF6\",\"polar\":{\"bgcolor\":\"#E5ECF6\",\"angularaxis\":{\"gridcolor\":\"white\",\"linecolor\":\"white\",\"ticks\":\"\"},\"radialaxis\":{\"gridcolor\":\"white\",\"linecolor\":\"white\",\"ticks\":\"\"}},\"ternary\":{\"bgcolor\":\"#E5ECF6\",\"aaxis\":{\"gridcolor\":\"white\",\"linecolor\":\"white\",\"ticks\":\"\"},\"baxis\":{\"gridcolor\":\"white\",\"linecolor\":\"white\",\"ticks\":\"\"},\"caxis\":{\"gridcolor\":\"white\",\"linecolor\":\"white\",\"ticks\":\"\"}},\"coloraxis\":{\"colorbar\":{\"outlinewidth\":0,\"ticks\":\"\"}},\"colorscale\":{\"sequential\":[[0.0,\"#0d0887\"],[0.1111111111111111,\"#46039f\"],[0.2222222222222222,\"#7201a8\"],[0.3333333333333333,\"#9c179e\"],[0.4444444444444444,\"#bd3786\"],[0.5555555555555556,\"#d8576b\"],[0.6666666666666666,\"#ed7953\"],[0.7777777777777778,\"#fb9f3a\"],[0.8888888888888888,\"#fdca26\"],[1.0,\"#f0f921\"]],\"sequentialminus\":[[0.0,\"#0d0887\"],[0.1111111111111111,\"#46039f\"],[0.2222222222222222,\"#7201a8\"],[0.3333333333333333,\"#9c179e\"],[0.4444444444444444,\"#bd3786\"],[0.5555555555555556,\"#d8576b\"],[0.6666666666666666,\"#ed7953\"],[0.7777777777777778,\"#fb9f3a\"],[0.8888888888888888,\"#fdca26\"],[1.0,\"#f0f921\"]],\"diverging\":[[0,\"#8e0152\"],[0.1,\"#c51b7d\"],[0.2,\"#de77ae\"],[0.3,\"#f1b6da\"],[0.4,\"#fde0ef\"],[0.5,\"#f7f7f7\"],[0.6,\"#e6f5d0\"],[0.7,\"#b8e186\"],[0.8,\"#7fbc41\"],[0.9,\"#4d9221\"],[1,\"#276419\"]]},\"xaxis\":{\"gridcolor\":\"white\",\"linecolor\":\"white\",\"ticks\":\"\",\"title\":{\"standoff\":15},\"zerolinecolor\":\"white\",\"automargin\":true,\"zerolinewidth\":2},\"yaxis\":{\"gridcolor\":\"white\",\"linecolor\":\"white\",\"ticks\":\"\",\"title\":{\"standoff\":15},\"zerolinecolor\":\"white\",\"automargin\":true,\"zerolinewidth\":2},\"scene\":{\"xaxis\":{\"backgroundcolor\":\"#E5ECF6\",\"gridcolor\":\"white\",\"linecolor\":\"white\",\"showbackground\":true,\"ticks\":\"\",\"zerolinecolor\":\"white\",\"gridwidth\":2},\"yaxis\":{\"backgroundcolor\":\"#E5ECF6\",\"gridcolor\":\"white\",\"linecolor\":\"white\",\"showbackground\":true,\"ticks\":\"\",\"zerolinecolor\":\"white\",\"gridwidth\":2},\"zaxis\":{\"backgroundcolor\":\"#E5ECF6\",\"gridcolor\":\"white\",\"linecolor\":\"white\",\"showbackground\":true,\"ticks\":\"\",\"zerolinecolor\":\"white\",\"gridwidth\":2}},\"shapedefaults\":{\"line\":{\"color\":\"#2a3f5f\"}},\"annotationdefaults\":{\"arrowcolor\":\"#2a3f5f\",\"arrowhead\":0,\"arrowwidth\":1},\"geo\":{\"bgcolor\":\"white\",\"landcolor\":\"#E5ECF6\",\"subunitcolor\":\"white\",\"showland\":true,\"showlakes\":true,\"lakecolor\":\"white\"},\"title\":{\"x\":0.05},\"mapbox\":{\"style\":\"light\"}}},\"scene\":{\"domain\":{\"x\":[0.0,1.0],\"y\":[0.0,1.0]},\"xaxis\":{\"title\":{\"text\":\"x\"}},\"yaxis\":{\"title\":{\"text\":\"y\"}},\"zaxis\":{\"title\":{\"text\":\"z\"}}},\"coloraxis\":{\"colorbar\":{\"title\":{\"text\":\"color\"}},\"colorscale\":[[0.0,\"#0d0887\"],[0.1111111111111111,\"#46039f\"],[0.2222222222222222,\"#7201a8\"],[0.3333333333333333,\"#9c179e\"],[0.4444444444444444,\"#bd3786\"],[0.5555555555555556,\"#d8576b\"],[0.6666666666666666,\"#ed7953\"],[0.7777777777777778,\"#fb9f3a\"],[0.8888888888888888,\"#fdca26\"],[1.0,\"#f0f921\"]]},\"legend\":{\"tracegroupgap\":0},\"margin\":{\"t\":60}},                        {\"responsive\": true}                    ).then(function(){\n",
              "                            \n",
              "var gd = document.getElementById('56acc47c-ac50-434f-ab60-69132eac15a2');\n",
              "var x = new MutationObserver(function (mutations, observer) {{\n",
              "        var display = window.getComputedStyle(gd).display;\n",
              "        if (!display || display === 'none') {{\n",
              "            console.log([gd, 'removed!']);\n",
              "            Plotly.purge(gd);\n",
              "            observer.disconnect();\n",
              "        }}\n",
              "}});\n",
              "\n",
              "// Listen for the removal of the full notebook cells\n",
              "var notebookContainer = gd.closest('#notebook-container');\n",
              "if (notebookContainer) {{\n",
              "    x.observe(notebookContainer, {childList: true});\n",
              "}}\n",
              "\n",
              "// Listen for the clearing of the current output cell\n",
              "var outputEl = gd.closest('.output');\n",
              "if (outputEl) {{\n",
              "    x.observe(outputEl, {childList: true});\n",
              "}}\n",
              "\n",
              "                        })                };                            </script>        </div>\n",
              "</body>\n",
              "</html>"
            ]
          },
          "metadata": {}
        }
      ]
    },
    {
      "cell_type": "code",
      "source": [
        "X.shape , y.shape"
      ],
      "metadata": {
        "colab": {
          "base_uri": "https://localhost:8080/"
        },
        "id": "TaTuWawCvT4n",
        "outputId": "fafd0c1b-0420-4ff7-a051-3d2cbb701cd1"
      },
      "execution_count": null,
      "outputs": [
        {
          "output_type": "execute_result",
          "data": {
            "text/plain": [
              "((1500, 6), (1500,))"
            ]
          },
          "metadata": {},
          "execution_count": 10
        }
      ]
    },
    {
      "cell_type": "markdown",
      "source": [
        "<h1><b>Doc2vec _example\n"
      ],
      "metadata": {
        "id": "aLr90v05ZZGh"
      }
    },
    {
      "cell_type": "markdown",
      "source": [],
      "metadata": {
        "id": "4OwnxyI5ZZEE"
      }
    },
    {
      "cell_type": "code",
      "source": [
        "import warnings\n",
        "warnings.filterwarnings('ignore')\n",
        "import pandas as pd\n",
        "import nltk\n",
        "nltk.download('stopwords')\n",
        "from nltk.tokenize import TweetTokenizer\n",
        "from nltk.corpus import stopwords\n",
        "from sklearn.model_selection import train_test_split\n",
        "from gensim.models.doc2vec import Doc2Vec, TaggedDocument"
      ],
      "metadata": {
        "id": "j8Yly7BUvT1-",
        "colab": {
          "base_uri": "https://localhost:8080/"
        },
        "outputId": "1e14b3a5-f39a-4114-c8c1-71554be26fdd"
      },
      "execution_count": null,
      "outputs": [
        {
          "output_type": "stream",
          "name": "stderr",
          "text": [
            "[nltk_data] Downloading package stopwords to /root/nltk_data...\n",
            "[nltk_data]   Package stopwords is already up-to-date!\n"
          ]
        }
      ]
    },
    {
      "cell_type": "code",
      "source": [
        "#Load the dataset and explore.\n",
        "try:\n",
        "    from google.colab import files\n",
        "    !wget -P DATAPATH https://raw.githubusercontent.com/practical-nlp/practical-nlp/master/Ch4/Data/Sentiment%20and%20Emotion%20in%20Text/train_data.csv\n",
        "    !wget -P DATAPATH https://raw.githubusercontent.com/practical-nlp/practical-nlp/master/Ch4/Data/Sentiment%20and%20Emotion%20in%20Text/test_data.csv\n",
        "    !ls -lah DATAPATH\n",
        "    filepath = \"DATAPATH/train_data.csv\"\n",
        "except ModuleNotFoundError:\n",
        "    filepath = \"Data/Sentiment and Emotion in Text/train_data.csv\""
      ],
      "metadata": {
        "colab": {
          "base_uri": "https://localhost:8080/"
        },
        "id": "a5ZtYvJIBlyK",
        "outputId": "f3e7ae35-af2a-4c3b-b55e-92cfcb916a84"
      },
      "execution_count": null,
      "outputs": [
        {
          "output_type": "stream",
          "name": "stdout",
          "text": [
            "--2023-09-25 11:08:48--  https://raw.githubusercontent.com/practical-nlp/practical-nlp/master/Ch4/Data/Sentiment%20and%20Emotion%20in%20Text/train_data.csv\n",
            "Resolving raw.githubusercontent.com (raw.githubusercontent.com)... 185.199.108.133, 185.199.111.133, 185.199.110.133, ...\n",
            "Connecting to raw.githubusercontent.com (raw.githubusercontent.com)|185.199.108.133|:443... connected.\n",
            "HTTP request sent, awaiting response... 200 OK\n",
            "Length: 2479133 (2.4M) [text/plain]\n",
            "Saving to: ‘DATAPATH/train_data.csv’\n",
            "\n",
            "train_data.csv      100%[===================>]   2.36M  --.-KB/s    in 0.01s   \n",
            "\n",
            "2023-09-25 11:08:49 (163 MB/s) - ‘DATAPATH/train_data.csv’ saved [2479133/2479133]\n",
            "\n",
            "--2023-09-25 11:08:49--  https://raw.githubusercontent.com/practical-nlp/practical-nlp/master/Ch4/Data/Sentiment%20and%20Emotion%20in%20Text/test_data.csv\n",
            "Resolving raw.githubusercontent.com (raw.githubusercontent.com)... 185.199.108.133, 185.199.111.133, 185.199.110.133, ...\n",
            "Connecting to raw.githubusercontent.com (raw.githubusercontent.com)|185.199.108.133|:443... connected.\n",
            "HTTP request sent, awaiting response... 200 OK\n",
            "Length: 783640 (765K) [text/plain]\n",
            "Saving to: ‘DATAPATH/test_data.csv’\n",
            "\n",
            "test_data.csv       100%[===================>] 765.27K  --.-KB/s    in 0.007s  \n",
            "\n",
            "2023-09-25 11:08:50 (109 MB/s) - ‘DATAPATH/test_data.csv’ saved [783640/783640]\n",
            "\n",
            "total 15M\n",
            "drwxr-xr-x 2 root root 4.0K Sep 25 11:08 .\n",
            "drwxr-xr-x 1 root root 4.0K Sep 25 11:07 ..\n",
            "-rw-r--r-- 1 root root  12M Sep 25 10:26 Full-Economic-News-DFE-839861.csv\n",
            "-rw-r--r-- 1 root root 766K Sep 25 11:08 test_data.csv\n",
            "-rw-r--r-- 1 root root 2.4M Sep 25 11:08 train_data.csv\n"
          ]
        }
      ]
    },
    {
      "cell_type": "code",
      "source": [
        "df = pd.read_csv(filepath)\n",
        "print(df.shape)\n",
        "df.head()"
      ],
      "metadata": {
        "colab": {
          "base_uri": "https://localhost:8080/",
          "height": 1000
        },
        "id": "grJPP-FeBwcI",
        "outputId": "c93837ba-850a-4a39-957d-f6659bc1e2fd"
      },
      "execution_count": null,
      "outputs": [
        {
          "output_type": "stream",
          "name": "stdout",
          "text": [
            "(30000, 2)\n"
          ]
        },
        {
          "output_type": "execute_result",
          "data": {
            "text/plain": [
              "    sentiment                                            content\n",
              "0       empty  @tiffanylue i know  i was listenin to bad habi...\n",
              "1     sadness  Layin n bed with a headache  ughhhh...waitin o...\n",
              "2     sadness                Funeral ceremony...gloomy friday...\n",
              "3  enthusiasm               wants to hang out with friends SOON!\n",
              "4     neutral  @dannycastillo We want to trade with someone w..."
            ],
            "text/html": [
              "\n",
              "  <div id=\"df-8530a0c2-4c54-45de-83f3-37c5837c9d4b\" class=\"colab-df-container\">\n",
              "    <div>\n",
              "<style scoped>\n",
              "    .dataframe tbody tr th:only-of-type {\n",
              "        vertical-align: middle;\n",
              "    }\n",
              "\n",
              "    .dataframe tbody tr th {\n",
              "        vertical-align: top;\n",
              "    }\n",
              "\n",
              "    .dataframe thead th {\n",
              "        text-align: right;\n",
              "    }\n",
              "</style>\n",
              "<table border=\"1\" class=\"dataframe\">\n",
              "  <thead>\n",
              "    <tr style=\"text-align: right;\">\n",
              "      <th></th>\n",
              "      <th>sentiment</th>\n",
              "      <th>content</th>\n",
              "    </tr>\n",
              "  </thead>\n",
              "  <tbody>\n",
              "    <tr>\n",
              "      <th>0</th>\n",
              "      <td>empty</td>\n",
              "      <td>@tiffanylue i know  i was listenin to bad habi...</td>\n",
              "    </tr>\n",
              "    <tr>\n",
              "      <th>1</th>\n",
              "      <td>sadness</td>\n",
              "      <td>Layin n bed with a headache  ughhhh...waitin o...</td>\n",
              "    </tr>\n",
              "    <tr>\n",
              "      <th>2</th>\n",
              "      <td>sadness</td>\n",
              "      <td>Funeral ceremony...gloomy friday...</td>\n",
              "    </tr>\n",
              "    <tr>\n",
              "      <th>3</th>\n",
              "      <td>enthusiasm</td>\n",
              "      <td>wants to hang out with friends SOON!</td>\n",
              "    </tr>\n",
              "    <tr>\n",
              "      <th>4</th>\n",
              "      <td>neutral</td>\n",
              "      <td>@dannycastillo We want to trade with someone w...</td>\n",
              "    </tr>\n",
              "  </tbody>\n",
              "</table>\n",
              "</div>\n",
              "    <div class=\"colab-df-buttons\">\n",
              "\n",
              "  <div class=\"colab-df-container\">\n",
              "    <button class=\"colab-df-convert\" onclick=\"convertToInteractive('df-8530a0c2-4c54-45de-83f3-37c5837c9d4b')\"\n",
              "            title=\"Convert this dataframe to an interactive table.\"\n",
              "            style=\"display:none;\">\n",
              "\n",
              "  <svg xmlns=\"http://www.w3.org/2000/svg\" height=\"24px\" viewBox=\"0 -960 960 960\">\n",
              "    <path d=\"M120-120v-720h720v720H120Zm60-500h600v-160H180v160Zm220 220h160v-160H400v160Zm0 220h160v-160H400v160ZM180-400h160v-160H180v160Zm440 0h160v-160H620v160ZM180-180h160v-160H180v160Zm440 0h160v-160H620v160Z\"/>\n",
              "  </svg>\n",
              "    </button>\n",
              "\n",
              "  <style>\n",
              "    .colab-df-container {\n",
              "      display:flex;\n",
              "      gap: 12px;\n",
              "    }\n",
              "\n",
              "    .colab-df-convert {\n",
              "      background-color: #E8F0FE;\n",
              "      border: none;\n",
              "      border-radius: 50%;\n",
              "      cursor: pointer;\n",
              "      display: none;\n",
              "      fill: #1967D2;\n",
              "      height: 32px;\n",
              "      padding: 0 0 0 0;\n",
              "      width: 32px;\n",
              "    }\n",
              "\n",
              "    .colab-df-convert:hover {\n",
              "      background-color: #E2EBFA;\n",
              "      box-shadow: 0px 1px 2px rgba(60, 64, 67, 0.3), 0px 1px 3px 1px rgba(60, 64, 67, 0.15);\n",
              "      fill: #174EA6;\n",
              "    }\n",
              "\n",
              "    .colab-df-buttons div {\n",
              "      margin-bottom: 4px;\n",
              "    }\n",
              "\n",
              "    [theme=dark] .colab-df-convert {\n",
              "      background-color: #3B4455;\n",
              "      fill: #D2E3FC;\n",
              "    }\n",
              "\n",
              "    [theme=dark] .colab-df-convert:hover {\n",
              "      background-color: #434B5C;\n",
              "      box-shadow: 0px 1px 3px 1px rgba(0, 0, 0, 0.15);\n",
              "      filter: drop-shadow(0px 1px 2px rgba(0, 0, 0, 0.3));\n",
              "      fill: #FFFFFF;\n",
              "    }\n",
              "  </style>\n",
              "\n",
              "    <script>\n",
              "      const buttonEl =\n",
              "        document.querySelector('#df-8530a0c2-4c54-45de-83f3-37c5837c9d4b button.colab-df-convert');\n",
              "      buttonEl.style.display =\n",
              "        google.colab.kernel.accessAllowed ? 'block' : 'none';\n",
              "\n",
              "      async function convertToInteractive(key) {\n",
              "        const element = document.querySelector('#df-8530a0c2-4c54-45de-83f3-37c5837c9d4b');\n",
              "        const dataTable =\n",
              "          await google.colab.kernel.invokeFunction('convertToInteractive',\n",
              "                                                    [key], {});\n",
              "        if (!dataTable) return;\n",
              "\n",
              "        const docLinkHtml = 'Like what you see? Visit the ' +\n",
              "          '<a target=\"_blank\" href=https://colab.research.google.com/notebooks/data_table.ipynb>data table notebook</a>'\n",
              "          + ' to learn more about interactive tables.';\n",
              "        element.innerHTML = '';\n",
              "        dataTable['output_type'] = 'display_data';\n",
              "        await google.colab.output.renderOutput(dataTable, element);\n",
              "        const docLink = document.createElement('div');\n",
              "        docLink.innerHTML = docLinkHtml;\n",
              "        element.appendChild(docLink);\n",
              "      }\n",
              "    </script>\n",
              "  </div>\n",
              "\n",
              "\n",
              "<div id=\"df-bf8a0ae1-8f35-446d-89d6-d41cdd0e6adc\">\n",
              "  <button class=\"colab-df-quickchart\" onclick=\"quickchart('df-bf8a0ae1-8f35-446d-89d6-d41cdd0e6adc')\"\n",
              "            title=\"Suggest charts.\"\n",
              "            style=\"display:none;\">\n",
              "\n",
              "<svg xmlns=\"http://www.w3.org/2000/svg\" height=\"24px\"viewBox=\"0 0 24 24\"\n",
              "     width=\"24px\">\n",
              "    <g>\n",
              "        <path d=\"M19 3H5c-1.1 0-2 .9-2 2v14c0 1.1.9 2 2 2h14c1.1 0 2-.9 2-2V5c0-1.1-.9-2-2-2zM9 17H7v-7h2v7zm4 0h-2V7h2v10zm4 0h-2v-4h2v4z\"/>\n",
              "    </g>\n",
              "</svg>\n",
              "  </button>\n",
              "\n",
              "<style>\n",
              "  .colab-df-quickchart {\n",
              "      --bg-color: #E8F0FE;\n",
              "      --fill-color: #1967D2;\n",
              "      --hover-bg-color: #E2EBFA;\n",
              "      --hover-fill-color: #174EA6;\n",
              "      --disabled-fill-color: #AAA;\n",
              "      --disabled-bg-color: #DDD;\n",
              "  }\n",
              "\n",
              "  [theme=dark] .colab-df-quickchart {\n",
              "      --bg-color: #3B4455;\n",
              "      --fill-color: #D2E3FC;\n",
              "      --hover-bg-color: #434B5C;\n",
              "      --hover-fill-color: #FFFFFF;\n",
              "      --disabled-bg-color: #3B4455;\n",
              "      --disabled-fill-color: #666;\n",
              "  }\n",
              "\n",
              "  .colab-df-quickchart {\n",
              "    background-color: var(--bg-color);\n",
              "    border: none;\n",
              "    border-radius: 50%;\n",
              "    cursor: pointer;\n",
              "    display: none;\n",
              "    fill: var(--fill-color);\n",
              "    height: 32px;\n",
              "    padding: 0;\n",
              "    width: 32px;\n",
              "  }\n",
              "\n",
              "  .colab-df-quickchart:hover {\n",
              "    background-color: var(--hover-bg-color);\n",
              "    box-shadow: 0 1px 2px rgba(60, 64, 67, 0.3), 0 1px 3px 1px rgba(60, 64, 67, 0.15);\n",
              "    fill: var(--button-hover-fill-color);\n",
              "  }\n",
              "\n",
              "  .colab-df-quickchart-complete:disabled,\n",
              "  .colab-df-quickchart-complete:disabled:hover {\n",
              "    background-color: var(--disabled-bg-color);\n",
              "    fill: var(--disabled-fill-color);\n",
              "    box-shadow: none;\n",
              "  }\n",
              "\n",
              "  .colab-df-spinner {\n",
              "    border: 2px solid var(--fill-color);\n",
              "    border-color: transparent;\n",
              "    border-bottom-color: var(--fill-color);\n",
              "    animation:\n",
              "      spin 1s steps(1) infinite;\n",
              "  }\n",
              "\n",
              "  @keyframes spin {\n",
              "    0% {\n",
              "      border-color: transparent;\n",
              "      border-bottom-color: var(--fill-color);\n",
              "      border-left-color: var(--fill-color);\n",
              "    }\n",
              "    20% {\n",
              "      border-color: transparent;\n",
              "      border-left-color: var(--fill-color);\n",
              "      border-top-color: var(--fill-color);\n",
              "    }\n",
              "    30% {\n",
              "      border-color: transparent;\n",
              "      border-left-color: var(--fill-color);\n",
              "      border-top-color: var(--fill-color);\n",
              "      border-right-color: var(--fill-color);\n",
              "    }\n",
              "    40% {\n",
              "      border-color: transparent;\n",
              "      border-right-color: var(--fill-color);\n",
              "      border-top-color: var(--fill-color);\n",
              "    }\n",
              "    60% {\n",
              "      border-color: transparent;\n",
              "      border-right-color: var(--fill-color);\n",
              "    }\n",
              "    80% {\n",
              "      border-color: transparent;\n",
              "      border-right-color: var(--fill-color);\n",
              "      border-bottom-color: var(--fill-color);\n",
              "    }\n",
              "    90% {\n",
              "      border-color: transparent;\n",
              "      border-bottom-color: var(--fill-color);\n",
              "    }\n",
              "  }\n",
              "</style>\n",
              "\n",
              "  <script>\n",
              "    async function quickchart(key) {\n",
              "      const quickchartButtonEl =\n",
              "        document.querySelector('#' + key + ' button');\n",
              "      quickchartButtonEl.disabled = true;  // To prevent multiple clicks.\n",
              "      quickchartButtonEl.classList.add('colab-df-spinner');\n",
              "      try {\n",
              "        const charts = await google.colab.kernel.invokeFunction(\n",
              "            'suggestCharts', [key], {});\n",
              "      } catch (error) {\n",
              "        console.error('Error during call to suggestCharts:', error);\n",
              "      }\n",
              "      quickchartButtonEl.classList.remove('colab-df-spinner');\n",
              "      quickchartButtonEl.classList.add('colab-df-quickchart-complete');\n",
              "    }\n",
              "    (() => {\n",
              "      let quickchartButtonEl =\n",
              "        document.querySelector('#df-bf8a0ae1-8f35-446d-89d6-d41cdd0e6adc button');\n",
              "      quickchartButtonEl.style.display =\n",
              "        google.colab.kernel.accessAllowed ? 'block' : 'none';\n",
              "    })();\n",
              "  </script>\n",
              "</div>\n",
              "    </div>\n",
              "  </div>\n"
            ]
          },
          "metadata": {},
          "execution_count": 22
        },
        {
          "output_type": "display_data",
          "data": {
            "text/plain": [
              "<google.colab._quickchart_helpers.SectionTitle at 0x7c082cdbc520>"
            ],
            "text/html": [
              "<h4 class=\"colab-quickchart-section-title\">Categorical distributions</h4>\n",
              "<style>\n",
              "  .colab-quickchart-section-title {\n",
              "      clear: both;\n",
              "  }\n",
              "</style>"
            ]
          },
          "metadata": {}
        },
        {
          "output_type": "display_data",
          "data": {
            "text/plain": [
              "import numpy as np\n",
              "from google.colab import autoviz\n",
              "\n",
              "def categorical_histogram(df, colname, figscale=1, mpl_palette_name='Dark2'):\n",
              "  from matplotlib import pyplot as plt\n",
              "  import seaborn as sns\n",
              "  df.groupby(colname).size().plot(kind='barh', color=sns.palettes.mpl_palette(mpl_palette_name), figsize=(8*figscale, 4.8*figscale))\n",
              "  plt.gca().spines[['top', 'right',]].set_visible(False)\n",
              "  return autoviz.MplChart.from_current_mpl_state()\n",
              "\n",
              "chart = categorical_histogram(_df_0, *['sentiment'], **{})\n",
              "chart"
            ],
            "text/html": [
              "      <div class=\"colab-quickchart-chart-with-code\" id=\"chart-d12607d1-5d7c-4453-a512-80bf28c5aa08\">\n",
              "        <img src=\"data:image/png;base64,iVBORw0KGgoAAAANSUhEUgAAAaAAAADgCAYAAABFGbKBAAAAOXRFWHRTb2Z0d2FyZQBNYXRwbG90\n",
              "bGliIHZlcnNpb24zLjcuMSwgaHR0cHM6Ly9tYXRwbG90bGliLm9yZy/bCgiHAAAACXBIWXMAAA9h\n",
              "AAAPYQGoP6dpAAAbqklEQVR4nO3deVQUd+It8FtppAnPAGZcQlwwAuLQCM1qXCduAR0XXI5iEpef\n",
              "PtQYRoz6NLgvOZrxueVoFJ1hcBITTVBnNGA0rpNExb2DoiKgBDeiowFcEIH+vj981kkrahfp5hua\n",
              "+zmnz7G/tfTtosJNdRVdihBCgIiIqJq9IDsAERHVTiwgIiKSggVERERSsICIiEgKFhAREUnBAiIi\n",
              "IilYQEREJAULiIiIpGABSfbxxx/LjkBEJAULSLKffvpJdgQiIilYQEREJAULiIiIpGABERGRFCwg\n",
              "IiKSggVERERSsICIiEgKFhAREUnBAiIiIilYQEREJAULiIiIpHCSHaC2u/vPYyjY8X9lxyAisvDK\n",
              "mf9j99fgERAREUnBAiIiIilYQEREJAULiIiIpGABERGRFCwgIiKSggVERERS1JoCSk1NxRtvvCE7\n",
              "BhER/X+1poCIiOj3pcYUUElJCQYPHgx/f38EBQXhzTffREFBATp37ozQ0FAYDAbExcXBbDYDAMrK\n",
              "yjBu3Dj4+voiIiIC+/btU9e1f/9+BAQEYNy4cQgKCoLBYMCxY8fU6Tt37kSHDh0QGhpqsWx2djba\n",
              "t2+PoKAgtG7dGjNmzAAAfP311wgMDITRaERAQAC2bt1ajVuGiKhmqjFfxbNjxw4UFhbizJkzAIBb\n",
              "t27B1dUVX3/9NerWrYuKigr07dsXX331FWJiYrB27VpkZWUhMzMTABAZGWmxvnPnziEpKQmrVq1C\n",
              "YmIipk+fjp07d+LChQuYM2cOdu7cCTc3N+Tk5KBjx47Iy8vDypUr0atXLyQkJKgZAGDGjBlYs2YN\n",
              "2rZtC7PZjOLi4krfQ2lpKUpLSy3GKoTZptuJiKimqDFHQEFBQTh79izGjRuHL7/8EnXq1IHZbMbU\n",
              "qVMRFBSE4OBgHDt2DCaTCQCwZ88eDBs2DM7OznB2dsbIkSMt1ufj44M2bdoAANq2bYvc3FwAD4su\n",
              "JycHnTp1gtFoxMCBA/HCCy8gPz8fnTp1wt/+9jdMnz4d3377LTw8PAAAXbt2RXx8PBYtWoSMjAx1\n",
              "/HELFy6Eu7u7xcNUcsku24uI6PeuxhRQixYtcObMGURFReHAgQMICAjAkiVLcP36dRw+fBgZGRl4\n",
              "6623cP/+/UqXVxTF4rmLi4v6b51Oh/LycgCAEALdu3eHyWRSH1euXIGvry8GDBiAAwcOwM/PTz0a\n",
              "AoClS5ciOTkZrq6uGD58OBYtWlRphoSEBBQVFVk8jC82tcXmISKqcWpMAV2+fBmKoqBPnz5YvHgx\n",
              "hBA4ceIEXnnlFbi4uKCgoAApKSnq/N26dcP69etRVlaGBw8eIDk52arXiYyMxO7du5GRkaGOHTly\n",
              "BMDDc0CNGjXCsGHDsGjRIqSnpwN4+HHeo3NQ7777rjr+OL1eDzc3N4uHTqkxPwIiIpuqMeeATp06\n",
              "hYSEBAghUF5ejqFDh2LMmDEYOHAgDAYDXn31VXTr1k2dPzY2FqdPn4a/vz/q1auHjh074vjx4899\n",
              "HR8fH3zxxRcYM2YM7t27hwcPHiA4OBhffPEFNm3ahPXr18PZ2RlmsxmJiYkAgGnTpiErKwvOzs5w\n",
              "dXXF6tWr7bYdiIgchSKEELJD1GZj/tAJcxv1lh2DiMgC7wdEREQOiwVERERSsICIiEgKFhAREUnB\n",
              "AiIiIilYQEREJEWN+TsgR/W/hofhlaX2v9yRiOj3hkdAREQkBQuIiIikYAEREZEULCAiIpKCBURE\n",
              "RFKwgIiISAoWEBERScECIiIiKVhAREQkBQuIiIikYAEREZEULCAiIpKCBURERFKwgIiISAoWEBER\n",
              "ScECIiIiKVhAREQkBQuIiIikYAEREZEULCAiIpKCBURERFKwgIiISApFCCFkh6jNwkKi0eVP/1t2\n",
              "DHIQi5b1kh2ByGo8AiIiIilYQEREJAULiIiIpGABERGRFCwgIiKSggVERERSsICIiEgKFtBjli9f\n",
              "joKCgiovrygKCgsLbReIiMhBaS6gjIwMq8ZqqmcVkNlshtlsruZERESOSXMBjRgxwqqx6qAoChYs\n",
              "WICIiAi89tprSE5OVqdlZ2fjz3/+M8LDwxEYGIiVK1daLPfro5T69esjLy8P8+bNw9WrVzF48GAY\n",
              "jUaYTCbMmTMHAwYMQGRkJAICAnDt2jVMnjwZ4eHhMBqN6NSpE7KysqrzbRMROQQna2e8fv06CgoK\n",
              "UFJSglOnTuHRN/gUFRXh7t27dgv4PHq9HkeOHMG5c+cQHh6OoUOHQlEUDBkyBOvXr0erVq1w7949\n",
              "vP7662jTpg3Cw8Ofuq5Zs2bhH//4B7788ksYjUYAwL///W8cOnQIJ0+eRKNGjQAAU6dOxeLFiwEA\n",
              "GzduRHx8PHbs2PHcrKWlpSgtLbUYEzyiIqJayuoC2rBhA5YvX46rV6+iT58+6ri7uzumTJlil3DW\n",
              "ePvttwEArVq1gpOTEwoKClBcXIzMzEzExMSo892+fRtnzpx5ZgE9Tc+ePdXyAYBdu3ZhxYoVuH37\n",
              "NsxmM27dumXVehYuXIi5c+dajHm+4qc5DxGRI7C6gOLj4xEfH4/58+dj5syZ9sykiYuLi/pvnU6H\n",
              "8vJyCCHw8ssvw2QyVbqMTqdDRUWF+vz+/fvPfI26deuq/87Pz0dcXByOHj0Kb29vZGRkoFOnTlZl\n",
              "TUhIwMSJEy3GOnd6x6pliYgcjeZzQDNnzoTZbMbVq1eRn5+vPn5P/Pz84ObmZnFOKCcnRz1S8fHx\n",
              "weHDhwEAW7ZssfgI0c3NDUVFRU9dd1FREerUqQNPT08IISzOLT2PXq+Hm5ubxUN5gRciElHtpPm3\n",
              "3z//+U94eHigdevWCA0NRWhoKMLCwuyRrcqcnJyQmpqKLVu2IDAwEAaDAaNGjUJJSQkAYNmyZYiP\n",
              "j0dISAhOnjyJP/zhD+qy48ePR2xsrHoRwuNat26NmJgYGAwGhIeHo1mzZtX1toiIHIrm+wF5e3tj\n",
              "+/bt8PPjuQtb4P2AyJZ4PyCqSTQfAdWvX5/lQ0REv5nmAoqOjsby5ctx/fp1FBcXqw8iIiItrL4K\n",
              "7pHp06cDACZOnAhFUSCEgKIoFleVERERPY/mAuJX0RARkS1U6Rrg48eP47PPPgMAFBYW4tq1azYN\n",
              "RUREjk9zAa1atQojR47EnDlzAAA3b97EW2+9ZetcRETk4DR/BLd27Vqkp6ejXbt2AB5eln3jxg2b\n",
              "B6stOr3RAouW8tJZIqp9NB8B6fV6vPjiixZjTk6ae4yIiGo5zQXUoEEDnD9/HoqiAADWrVvHbwMg\n",
              "IiLNNB+6LF++HEOGDMG5c+fQtGlTuLm5ITU11R7ZiIjIgWkuoEdf5JmVlQUhBPz8/KDT6eyRjYiI\n",
              "HFiVTt7cuXMHZWVlKC8vx48//ggACAkJsWkwIiJybJoLaNmyZZg1axYaNGigHvkoioLz58/bPBwR\n",
              "ETkuzQW0YsUKZGVl4dVXX7VHHiIiqiU0XwXXuHFjlg8REf1mmo+Apk2bhvHjx6NXr14Wt8O29rbU\n",
              "REREQBUK6NChQ/j000/xww8/WJwDOnLkiM3DERGR49JcQJ9++iny8vLg4eFhhzhERFRbaD4H5OXl\n",
              "xfIhIqLfTPMRUHh4OAYNGoSBAwdanAPq06ePTYMREZFj01xAx48fBwCsXr1aHVMUhQVERESaaC6g\n",
              "ffv22SMHERHVMlYXUHZ2Nnx9fZGRkVHp9MDAQJuFIiIix2d1Ab3//vtITU1F3759n5imKAouXLhg\n",
              "02BEROTYrC6gR7dcuHjxot3CEBFR7aH5Muzo6GirxoiIiJ5FcwHl5+c/MZabm2uTMEREVHtY/RHc\n",
              "mjVrkJiYiPPnz1vc+6eoqAgGg8Eu4YiIyHFZXUBRUVHw8/PDu+++i2XLlqnjbm5uvAKOiIg0U4QQ\n",
              "QnaI2ux/DAoSwjV/EkpUqZbrKmRHILKa5j9EzcvLw1//+lfk5uaivLxcHd+7d69NgxERkWPTXECD\n",
              "Bg1C165dERcXp96OgYiISCvNBXT//n0sXLjQHlmIiKgW0XzyISAgoNJLsYmIiLTQfAR048YNBAUF\n",
              "oW3btha3Y9iyZYtNgxERkWPTXEDvvPMO3nnnHXtkISKiWkRzAQ0fPhwAUFpaCr1eb/NARERUO2g+\n",
              "B3Tq1CkEBATA29sbwMMb1E2ZMsXmwYiIyLFpLqC//OUvSExMRIMGDQAAISEhSEtLs1mgOXPm4P79\n",
              "++rzESNGYPny5TZb/6xZs/D555/bbH1ERFQ1mgvozp076NChg/pcURQ4OzvbLNDcuXMtCsjW5s2b\n",
              "h7fffttu6yciIutoLiAnJyeUlZVBURQAwKVLl576B6lHjx5Fly5dEBYWhuDgYKSkpCAvLw8eHh6Y\n",
              "PXs2QkND4ePjg+3btwMAxo4dCwDo2LEjjEYjrl+/DgA4e/YsunbtipYtW6J///548OABgIdHSxMm\n",
              "TFBfb+XKlRgxYgQAID09HaGhoTAajQgICMDq1asBWB5R7dmzB23btkVwcDAMBgOSkpLUdf3973+H\n",
              "v78/jEYjWrdujcOHDwMAmjdvjhkzZqBdu3Zo2rQpEhMTkZycjLZt26J58+bYuHHjU7ddaWkpiouL\n",
              "LR4VZi1bn4jIcWi+CCEuLg7R0dG4ceMGZsyYgfXr12PRokVPzFdYWIjRo0dj+/bt8PT0xH//+1+E\n",
              "hIRgw4YNKCoqQmBgIObOnYsdO3YgPj4ePXv2RGJiItasWYPvv/8eHh4e6rpMJhP27dsHvV6PTp06\n",
              "YfPmzRgyZMgzcy5cuBCTJ09W5/vll1+emCckJAQ//PADdDodbt26heDgYERGRqJJkyaYNGkSzp07\n",
              "B09PT5SVlaG0tFRd7u7duzh48CBycnLQunVrTJ8+HYcOHcLRo0fRs2dPxMTEPDXT3LlzLcaC6j/z\n",
              "bRAROawqXYbdokULbN26FTdu3MBnn32Gjh07PjHfwYMHceHCBfTo0cNiPCsrCy4uLujfvz8AoG3b\n",
              "ts+9n1C/fv3g6uoKAIiIiLDq/kOdO3fG/PnzkZ2djS5dulh8bPjIzZs3MWrUKJw/fx5OTk64efMm\n",
              "Tp8+jSZNmqBr164YOnQoevfujR49eqBly5bqcoMHDwYA+Pj4wMXFBQMHDgQAhIWF4datWygsLLQo\n",
              "0EcSEhIwceJEi7G4Nu7PfS9ERI5I80dwUVFR8Pf3x8yZM7Fz504MHToUs2bNemI+IQQMBgNMJpP6\n",
              "yM/PR5cuXaDX69WP8HQ6HSoqnv0Nvr/+g1edTqd+CaqTk5PFsr8+dzRhwgSkpaXB09MT06ZNw7hx\n",
              "455Y79ixY9GhQwecOnUKJpMJLVu2VNexefNmfPTRRygrK0PPnj0tPlp7PM+j54qiQFEUiy9p/TW9\n",
              "Xg83NzeLh45fhE1EtZTmX38///wzPDw8sH37dkRHRyM7Oxv/+te/npivXbt2uHjxInbv3q2OmUwm\n",
              "9fzN07z00ksoKiqyKouPjw+OHTuGiooK3Lt3D5s3b1anZWVl4bXXXkNsbCymTZuG9PT0J5b/5Zdf\n",
              "4OXlBUVR8N133+HHH38EAJSXlyM3NxdhYWGYPHkyBg4ciCNHjliViYiIrKP5I7iysjIAwHfffYeo\n",
              "qCjUqVMHTk5PrqZevXpIS0vD5MmTMWnSJJSVlaFZs2bPvaR60qRJ6N69O1xdXfHtt98+c97+/fsj\n",
              "JSUFf/zjH9GkSRMEBwfj3r17AB5ekLB37144OztDp9NhyZIlTyz/0UcfYdy4cZg/fz6MRiPatGkD\n",
              "AKioqMDIkSNx69YtODk5oUGDBkhOTrZm8xARkZU035AuJiYGRUVFOHv2LM6cOQMAaN++PU6ePGmX\n",
              "gI6ON6QjW+IN6agm0XwEtG7dOuzYsQNBQUFwdXXFlStXeHsGIiLSTHMBubi4IDo6Wn3euHFjNG7c\n",
              "2JaZiIioFuBnP0REJAULiIiIpGABERGRFCwgIiKSQvNFCGRb9SLfR8ulS2XHICKqdjwCIiIiKVhA\n",
              "REQkBQuIiIikYAEREZEULCAiIpKCBURERFKwgIiISAoWEBERScECIiIiKVhAREQkBQuIiIikYAER\n",
              "EZEULCAiIpKCBURERFKwgIiISAoWEBERScECIiIiKVhAREQkBQuIiIikYAEREZEULCAiIpKCBURE\n",
              "RFIoQgghO0RtVjcyHB4xXWXHIAdx+X8+kh2ByGo8AiIiIilYQEREJAULiIiIpGABERGRFCwgIiKS\n",
              "ggVERERSsICIiEgKFpAGeXl5SExMlB2DiMghsIA0YAEREdmOwxXQ0aNH0aVLF4SFhSE4OBgpKSnI\n",
              "y8uDh4cHZs6ciZCQEPj6+uLAgQN4//33YTQaERAQgNOnTwMA9u/fj4CAAAwbNgwBAQEIDQ2FyWQC\n",
              "AIwdOxZZWVkwGo3o06cPNm3ahDfffFN97YqKCnh5eeHMmTOVZistLUVxcbHFAxX8Igoiqp0cqoAK\n",
              "CwsxevRofP755zh27Bh27dqFSZMm4cqVKygqKkJoaChOnDiBDz74AJGRkejTpw9MJhOGDx+OuXPn\n",
              "quvJzMzE8OHDcfr0aUydOhUxMTEQQiAxMRF+fn4wmUzYtm0b+vXrh/PnzyMrKwsAsG3bNvj4+MDf\n",
              "37/SfAsXLoS7u7vF48HFa9WybYiIfm8cqoAOHjyICxcuoEePHjAajejWrRsAICsrCy4uLoiOjgYA\n",
              "hIWFoW7duujcuTMAICIiAtnZ2ep6mjdvjq5dH34/26BBg1BQUIBLly498Xo6nQ7jxo3DJ598AgD4\n",
              "5JNPEBcX99R8CQkJKCoqsng4v+Zpk/dORFTTOMkOYEtCCBgMBhw8eNBiPC8vD3q9Xn2u0+ng4uJi\n",
              "8by8vPyp61UUBYqiVDotNjYW/v7+GDZsGHJyctCnT5+nrkev11vkePjila+XiMjROdQRULt27XDx\n",
              "4kXs3r1bHTOZTHjw4IGm9eTl5WHfvn0AgE2bNqFRo0Zo0qQJ3NzcUFRUZDFvvXr10LdvX/Tr1w9j\n",
              "xoyBTqf77W+EiKgWcKgCqlevHtLS0rBgwQIEBQXB398fH3zwAcxms6b1GAwGrFu3Dq1bt8bChQux\n",
              "YcMGKIqCwMBAGAwGBAQEWBzpxMbG4saNG4iNjbX1WyIicli8H9Bj9u/fjwkTJqhXvllj8eLFOHv2\n",
              "LJKSkjS/Hu8HRLbE+wFRTeJQ54BkMBgMUBQFO3bskB2FiKhGYQE95o033tB09JOZmWm/MEREDsyh\n",
              "zgEREVHNwQIiIiIpWEBERCQFC4iIiKTgRQiSjTZ0xFJeOktEtRCPgIiISAoWEBERScECIiIiKVhA\n",
              "REQkBQuIiIikYAEREZEULCAiIpKCBURERFKwgIiISAoWEBERScGv4pGotLQU33zzDSoqKqDT6WTH\n",
              "AQBUVFTgyJEjiIiIYKZnYCbrMFPNywP89kxeXl6Ij49/7ny8JbdExcXFcHd3R1FREdzc3GTHAcBM\n",
              "1mIm6zBTzcsDVF8mfgRHRERSsICIiEgKFhAREUnBApJIr9dj9uzZ0Ov1sqOomMk6zGQdZnq+31se\n",
              "oPoy8SIEIiKSgkdAREQkBQuIiIikYAEREZEULCAiIpKCBWQn2dnZaNeuHVq2bInw8HBkZmZWOl9S\n",
              "UhJ8fX3h7e2N2NhYlJWVWTXNHnn27t2LiIgI+Pv7w2AwYMqUKTCbzQCAvLw86HQ6GI1G9ZGbm1vl\n",
              "PNZm2r9/P1588UWL1y0pKVGn23IbWZspOTnZIk/9+vXRv39/APbZTuPHj0fz5s2hKApMJtNT56uu\n",
              "fcmaPNW9L1mTqbr3JWsyVfe+dP/+fURHR6Nly5YICgpC9+7dkZOTU+m8qampaNWqFXx9fdG/f38U\n",
              "FxdbNU0TQXbRuXNnkZycLIQQIiUlRYSFhT0xz4ULF4Snp6e4du2aMJvNonfv3mLlypXPnWavPCdO\n",
              "nBC5ublCCCFKSkpE+/bt1WUuXrwo3N3dq/z6Vc20b98+ERQUVOnytt5G1mZ6nMFgEJs2bRJC2Gc7\n",
              "/ec//xGXLl0SXl5e4uTJk5XOU537kjV5qntfsiZTde9L1mR6nL33pZKSEpGWlibMZrMQQogVK1aI\n",
              "P/3pT0/Md/v2bdGwYUNx9uxZIYQQ7733npg8efJzp2nFArKDn3/+Wbz00kuirKxMCCGE2WwWjRo1\n",
              "EtnZ2RbzLVq0SIwZM0Z9npaWJtq3b//cafbK87j33ntPzJ49Wwhh+/8YrM30rF8attxGWjL9Wnp6\n",
              "umjQoIF48OCBEMI+vzQeedYvsural6zN8zh77kvWZqrOfcnaTL9WnfvSI0ePHhVeXl5PjH/11Vci\n",
              "MjJSfZ6ZmSkaN2783Gla8SM4O7h06RI8PT3h5PTwy8YVRUGzZs2Qn59vMV9+fj68vLzU582bN1fn\n",
              "edY0e+X5tYKCAmzatAm9evVSx+7evYvw8HCEhIRg3rx5qKioqFIerZlyc3MREhKC8PBwrFq1Sh23\n",
              "5TbSmumRpKQkDB06FHXq1FHHbLmdrFVd+1JV2Htf0qK69qWqkLEvffzxx+jbt+8T45Vtj2vXrqG8\n",
              "vPyZ07Ti7RjoCcXFxejduzemTJmCsLAwAICnpyeuXLmChg0b4tatWxg8eDCWLFmCKVOm2DVLSEgI\n",
              "Ll++DHd3d1y+fBk9e/ZE/fr1MWjQILu+rjXu3r2LjRs3Ij09XR2TtZ1+r7gvWUfGvrRgwQLk5ORg\n",
              "z549NllfVfAIyA6aNm1q8X8EQgjk5+ejWbNmFvM1a9YMP/30k/o8Ly9PnedZ0+yVBwBu376NqKgo\n",
              "9O3bFxMnTlTH9Xo9GjZsCAB4+eWXMXLkSHz//fdVyqMlk5ubG9zd3QEATZo0wZAhQ9TXteU20pLp\n",
              "kZSUFBgMBvj7+6tjtt5O1qqufUmL6tqXrFWd+5JW1b0vLV68GFu2bME333wDV1fXJ6ZXtj0efTrw\n",
              "rGlasYDsoGHDhggJCcH69esBAJs3b0aTJk3g4+NjMd+AAQOwbds2FBQUQAiBxMRExMTEPHeavfLc\n",
              "uXMHUVFRiIqKwowZMyymXb9+Xb0qqLS0FFu2bEFwcHCV8mjJdO3aNfXqqdu3byM1NVV9XVtuIy2Z\n",
              "HklKSsKoUaMsxmy9naxVXfuStapzX7JWde5LWlXnvrR06VJs2LABu3btgoeHR6XzREVF4cSJEzh3\n",
              "7hwAYNWqVer2eNY0zap05oie69y5c+L1118Xvr6+IjQ0VGRkZAghhBg1apTYunWrOt/atWtFixYt\n",
              "RIsWLcTIkSPVE5DPm2aPPB9++KFwcnISQUFB6uPDDz8UQgixefNmYTAYRGBgoPD39xdxcXHi/v37\n",
              "Vc5jbaYVK1YIf39/9XVnz56tXsEjhG23kbWZHs1Xt25dUVxcbLG8PbbT6NGjRePGjYVOpxMNGzYU\n",
              "3t7elWaqrn3JmjzVvS9Zk6m69yVrf27VuS9dunRJABAtWrRQfy4RERFCCCFmzpwpVq9erc67detW\n",
              "4efnJ7y9vUXfvn1FYWGhVdO04JeREhGRFPwIjoiIpGABERGRFCwgIiKSggVERERSsICIiEgKFhAR\n",
              "EUnBAiIiIilYQEREJAULiIiIpGABERGRFP8PoFkUXxebLlkAAAAASUVORK5CYII=\n",
              "\">\n",
              "        \n",
              "      </div>\n",
              "      <script></script>\n",
              "      <script type=\"text/javascript\">\n",
              "        (() => {\n",
              "          const chartElement = document.getElementById(\"chart-d12607d1-5d7c-4453-a512-80bf28c5aa08\");\n",
              "          async function getCodeForChartHandler(event) {\n",
              "            const chartCodeResponse =  await google.colab.kernel.invokeFunction(\n",
              "                'getCodeForChart', [\"chart-d12607d1-5d7c-4453-a512-80bf28c5aa08\"], {});\n",
              "            const responseJson = chartCodeResponse.data['application/json'];\n",
              "            await google.colab.notebook.addCell(responseJson.code, 'code');\n",
              "          }\n",
              "          chartElement.onclick = getCodeForChartHandler;\n",
              "        })();\n",
              "      </script>\n",
              "      <style>\n",
              "        .colab-quickchart-chart-with-code  {\n",
              "            display: block;\n",
              "            float: left;\n",
              "            border: 1px solid transparent;\n",
              "        }\n",
              "\n",
              "        .colab-quickchart-chart-with-code:hover {\n",
              "            cursor: pointer;\n",
              "            border: 1px solid #aaa;\n",
              "        }\n",
              "      </style>"
            ]
          },
          "metadata": {}
        },
        {
          "output_type": "display_data",
          "data": {
            "text/plain": [
              "import numpy as np\n",
              "from google.colab import autoviz\n",
              "\n",
              "def categorical_histogram(df, colname, figscale=1, mpl_palette_name='Dark2'):\n",
              "  from matplotlib import pyplot as plt\n",
              "  import seaborn as sns\n",
              "  df.groupby(colname).size().plot(kind='barh', color=sns.palettes.mpl_palette(mpl_palette_name), figsize=(8*figscale, 4.8*figscale))\n",
              "  plt.gca().spines[['top', 'right',]].set_visible(False)\n",
              "  return autoviz.MplChart.from_current_mpl_state()\n",
              "\n",
              "chart = categorical_histogram(_df_1, *['content'], **{})\n",
              "chart"
            ],
            "text/html": [
              "      <div class=\"colab-quickchart-chart-with-code\" id=\"chart-ab516a74-c871-4c55-945a-44b6606dfc5c\">\n",
              "        <img src=\"data:image/png;base64,iVBORw0KGgoAAAANSUhEUgAAA1IAAADgCAYAAAAJzFfkAAAAOXRFWHRTb2Z0d2FyZQBNYXRwbG90\n",
              "bGliIHZlcnNpb24zLjcuMSwgaHR0cHM6Ly9tYXRwbG90bGliLm9yZy/bCgiHAAAACXBIWXMAAA9h\n",
              "AAAPYQGoP6dpAABYeUlEQVR4nO3deVhVVf///+cRFDXFOTX7KJqJTIcDAgqKyqA4pTkUamnmHLel\n",
              "TU45kHmrTVppH4dMLc3ydsi8yzRRLBwTPyIazoZaTpU4JYPA+f3Bj/0VBTxHISxfj+viujhn7732\n",
              "e629z2G/91prY7JarVZERERERETEZqVKOgAREREREZG/GyVSIiIiIiIidlIiJSIiIiIiYiclUiIi\n",
              "IiIiInZSIiUiIiIiImInJVIiIiIiIiJ2UiIlIiIiIiJiJyVSIiIiIiIidlIiJSIiInfs/fffL+kQ\n",
              "RERKhBIpERERuWMnTpwo6RBEREqEEikRERERERE7KZESERERERGxkxIpEREREREROymREhERERER\n",
              "sZMSKRERERERETspkRIREREREbGTEikRERERERE7KZESERERERGxk8lqtVpLOggRERH5ezJ3cCaw\n",
              "T5WSDkNE5BZzexXvPwxXj5SIiIiIiIidlEiJiIiIiIjYSYmUiIiIiIiInZRIiYiIiIiI2EmJlIiI\n",
              "Hd577z3Onj1r1zbJycnMmTPnjvbXr18/3nvvvTvatiRFR0eTlpZ2V2VYLBauXLkC3Nru0dHRjBgx\n",
              "wqZyduzYgZeXFz4+Pqxfv/6W5fHx8URGRt5VrDe7evUqJpPJrm327dtHaGgo3t7eeHp64u/vz/79\n",
              "+43lX3/9Nf7+/ri6utKgQQOGDh3K5cuXjeVWq5W33nqLxo0b4+bmRuPGjXnnnXe48ZlSJpOJ8PDw\n",
              "PPutXr06ycnJQM65WrlyZfsrLCJyH1IiJSJih786kfq7ev311+86kUpISKBixYrAnbV7rk8++YTe\n",
              "vXuzZ88eIiIi8izLzMzEz8+PZcuW3VWsRaFXr148//zz7N27l/3797Nq1SoefPBBANatW8eQIUOY\n",
              "N28ehw4d4vDhw5QuXZpOnToZidJrr73GmjVr2LJlCwcOHGDLli2sXr2aCRMm5NnPsWPH8k0oRUTE\n",
              "PkqkROQfZd68eQwePBiApKQkTCYT3333HQCTJk1i0qRJALzyyiv4+/tjsVho2bIlhw4dMsowmUxM\n",
              "mTKFgIAA6tevz8KFC43tT58+TWRkJBaLhYSEBP773/9iNpuxWCx4enry1Vdf3RLT0KFDOXToEBaL\n",
              "hc6dOwM5vSBBQUGYzWYCAgLYunVrgXU6cOAAYWFhNGrUiG7dupGRkQHAxo0bCQwMxMfHBw8PDz7+\n",
              "+GNjm379+jFkyJB8t7ty5QqRkZE0btyY4OBghgwZQr9+/fLdd0Fx3txzcWMPzNChQwEIDg7GYrFw\n",
              "/vz5PGWOHTuWKVOmALB27VpMJhOHDx8GoH///nz66afGcbh48WK+7Q5w5swZHnvsMdzd3QkNDeXC\n",
              "hQu3xD9t2jSWLVvGrFmzsFgsXLx4ERcXF0aNGkVAQADPPPMMmzdvxmKxGNusX7+eFi1a0KRJEwIC\n",
              "AoiNjQVg8+bNeHp6EhUVhbe3Nx4eHsTHxxvbzZ07l0cffRQfHx9mzJhhvJ+amkpkZCTu7u54e3vT\n",
              "tm3bfNv6l19+oU6dOsbr//mf/zESqcmTJ/Paa6/h4+MDgKOjI++++y7Hjx8nNjaWq1evMn36dObN\n",
              "m0f16tWBnJ6mefPm8c477/Dnn38a5U6aNInRo0ej/34iInJ3lEiJyD9KeHg4MTExAGzYsIHAwMA8\n",
              "r3OHNY0aNYpdu3aRkJBAVFQUw4cPz1OOk5MTP/74I99++y0vvPACmZmZTJgwgYceeohly5aRkJCA\n",
              "xWJh3LhxzJ07l4SEBBITE2nVqtUtMc2ZMwdXV1cSEhJYs2YNGRkZdOvWjYkTJ5KYmMj06dPp3r07\n",
              "V69ezbdOuQnbgQMHOHfuHCtXrgTA19eXLVu2sGfPHuLi4pg0aRK//PLLbbebNGkS5cqV48CBA6xd\n",
              "u5Zt27blu19747yxvgBxcXEkJCQYyYAtxygmJuaWoWf5tTvAzp07WbRoEUlJSTz44IPMnTv3llhG\n",
              "jx5N586defXVV0lISDCSvz/++IOdO3fy2Wef5Vn/+PHjREdHs3btWnbv3s3SpUvp3bs36enpABw8\n",
              "eJBnnnmGvXv38vzzz/Paa68BsH//fiZOnMgPP/zAnj17SE1NNcpct24dFy9eJCkpib179/LFF1/k\n",
              "227jx48nJCSEsLAwXnvtNfbs2WMs+7//+z8CAwPzrF+mTBmaNGnC7t27SUpKwsnJCXd39zzruLu7\n",
              "U6ZMGZKSkoz3HnvsMSpUqMDSpUvzjaMw6enpXL58Oc9PdrYSMhG5PymREpF/lAYNGgA5F8QxMTFM\n",
              "nTqVTZs2cfXqVZKSkggICAD+3wW8p6cnkyZNMno5cj311FMANG7cGEdHxwKHlYWFhTF8+HDeeust\n",
              "EhMTbZpfcujQIUqVKmUMM2vRogU1a9a8JYZcXbt2pXz58jg4OBAQEMCxY8eAnGTgiSeewNPTk9DQ\n",
              "UP744488c2oK2m7jxo08++yzmEwmKlasWOD8IHvjtFXz5s1JSEggNTWV77//nsmTJxMTE8OhQ4d4\n",
              "4IEHeOihh2wqp127dlSrVg2AwMBAo3626NevX75zmNatW8fRo0dp2bIlFouFHj16UKpUKU6ePAlA\n",
              "w4YNadq06S373LRpE+3bt6d27doAPPfcc0aZ3t7eHDhwgKioKJYtW0bp0qXzjenll1/m+PHjDBw4\n",
              "kAsXLhAcHGzXkEN75mS9+eabjB8/3uiltNXUqVOpVKlSnp/fjtlXhojIP4USKRH5xwkPD+fbb7/l\n",
              "yJEjtGrVCqvVysqVKwkMDMTR0ZGTJ08ybNgwlixZwv79+/niiy9umc9TtmxZ43cHBwcyMzPz3df0\n",
              "6dNZuHAh5cuX55lnnuGtt966o5gLuwguKJahQ4fSokUL9u3bR0JCAo0aNcpTD1vrYM8FeO66jo6O\n",
              "ZGVlGe/bMx/KyckJPz8/li9fTrly5WjdujWJiYmsX7+esLAwm8uxtX75qVChQr7vW61W2rRpQ0JC\n",
              "gvHz66+/8uijj9q1zxvbtEGDBiQlJdGuXTu2bt2Kp6cnKSkp+W5Xs2ZNevXqxezZsxk3bpzRY+br\n",
              "68v27dvzrJuRkcHu3bvx9fXF3d2dtLS0PD1PkDO8NSMj45aeqtzhmrNnz87zvouLCxcvXsw3NoAx\n",
              "Y8Zw6dKlPD81HilT4PoiIv9kSqRE5B8nPDyct99+2+h9Cg0NZeLEicaQsUuXLlG6dGlq166N1Wpl\n",
              "1qxZNpft7OzMpUuXjNcHDx7Ew8ODYcOG8dxzz7Fjx47bbuPq6kp2djYbNmwAYNu2bZw9ezbPPB1b\n",
              "pKSkUK9ePUwmEz/88AN79+61abvQ0FA++eQTrFYrV69e5T//+U++6xUWZ61atbBarcaFe+68plwV\n",
              "K1bMU+ebhYeHM2HCBMLCwihVqhQ+Pj5Mnz79lmF9uW5uw+ISERFBTEwMiYmJxns//vjjbbcLDQ1l\n",
              "3bp1Rs/ljQ8X+eWXXzCZTHTu3Nl4it6pU6duKePLL7/k+vXrQM5DMBITE3nkkUeAnHllkydPNnoD\n",
              "MzMzefnll3FxcSE0NJQKFSowfPhwhgwZwu+//w7k9FgOGTKEl156iQceeOCW/U2ZMoWpU6cawxZt\n",
              "4eTkhLOzc56fUqXsezqhiMg/hRIpEfnHCQsL4+TJk8ZFeZs2bThx4oTR2+Hl5UXPnj3x8PDA39+f\n",
              "unXr2lz2Cy+8wKBBg4yHHowdOxYPDw98fHxYvHgx0dHRt2xjNpvx8PDA09OTzp07U6ZMGVatWsXE\n",
              "iRMxm82MGDGCFStWFNhLUpBp06YxevRoLBYLCxYsMIac3c6ECRO4cuUKbm5utGvXDm9v73yHJBYW\n",
              "p6OjIzNnzqRTp074+/sbCUCul19+mTZt2uT7sAnISaROnDiR5xidOnWK1q1b5xvzze1eXBo2bMjS\n",
              "pUsZMmQI3t7euLm52fT4eU9PT6KjowkODsbHxwcnJydj2b59+2jevDne3t74+PjQp08fzGbzLWWs\n",
              "WrUKT09PzGYz3t7eODk58frrrwPQoUMHZs+ezYABA3B1daVRo0akp6fzzTffGL1fU6dOpWPHjgQF\n",
              "BeHm5kZQUBCPPfYYkydPzjdmd3d3OnbsmGfO2+nTpwkODranyURE7lsmqx7bIyJyX7l+/TpZWVmU\n",
              "LVuWP//8k4iICJ5//vki/19Kcn8wd3AmsE+Vkg5DROQWc3udKNbyHYu1dBERueekpKTQvn17srKy\n",
              "SEtLo0uXLjz55JMlHZaIiMjfihIpEZH7zIMPPsju3btLOgwREZG/Nc2REhERERERsZMSKRERERER\n",
              "ETtpaJ+IiIjcsfDGA5nea3pJhyEi8pdTj5SIiIiIiIidlEiJiIiIiIjYSYmUiIiIiIiInZRIiYiI\n",
              "iIiI2EmJlIiIiIiIiJ2USImIiIiIiNhJiZSIiIiIiIidlEiJiIiIiIjYSYmUiIiIiIiInZRIiYiI\n",
              "iIiI2EmJlIiIiIiIiJ2USImIiIiIiNhJiZSIiIiIiIidlEiJiIiIiIjYSYmUiIiIiIiInZRIiYiI\n",
              "iIiI2EmJlIiIiIiIiJ2USImIiIiIiNjJsaQDEBERkb+vPz+J5+y6t0s6DBGRW9RKerVYy1ePlIiI\n",
              "iIiIiJ2USImIiIiIiNhJiZSIiIiIiIidlEiJiIiIiIjYSYmU3BdcXFxISEgokrLi4+OJjIwskrIK\n",
              "UlTxVq9eneTk5Dva9sZ6Xrx4kWnTpuVZ3rp1a1avXn2XEeZVHGXezM/Pj82bN9/x9n9FjLaKjo5m\n",
              "xIgR+S5btGgRjz/+eL7LNm/ejMViyXdZcnIylStXLpL47sbp06cJDg42XkdHR5OWlma8njBhAp99\n",
              "9llJhPa3ceP3yL103oqI/FMokRKxk5+fH8uWLSvpMIrdjfXML5ESKU4PPfQQcXFxxuvXX389TyI1\n",
              "adIknnrqqZIIrdhlZmaWdAgiImIDJVJyX5s+fTr+/v5YLBb8/f3Zvn07ACtWrKBt27bGellZWdSr\n",
              "V4+kpKQ8d/Nz795PnDiRJk2a0LBhQ9auXZvvvqKjo4mMjOSxxx7D3d2d0NBQLly4UGBsn332mVHm\n",
              "22//v0cLHzlyhI4dO+Lv74/ZbGbWrFnGsjVr1uDm5obZbGbkyJEFlh0UFMS2bdsAGDlyJHXq1DGW\n",
              "NWjQgJMnT+ap59ChQ7ly5QoWiwU/Pz9j3S1bthAcHMwjjzzC0KFD891XZmYmERER+Pn54eHhQe/e\n",
              "vfnzzz8LjK2gMq9cucKgQYMICAjAbDYzePBgMjIygIKPI8C2bduwWCx4enry7LPP5rlILWy7AwcO\n",
              "EBERgdlsxmw2M2fOnLuKsTA39xb06NGDRYsWAXDmzBnatm2Lu7s7bdu2pWfPnkRHRxvrnjlzpsBz\n",
              "6urVq/Tq1QsvLy/8/Pw4fvy4sSwzM5OoqCi8vb3x8PAgPj4+T0y2nNOFGTt2LFOmTAFg7dq1mEwm\n",
              "Dh8+DED//v359NNPAXjqqafw8/PDbDbTsWNHzp49C+TtGctt4+DgYCwWC+fPn6dfv3689957gH2f\n",
              "rfj4eIKCgjCbzQQEBLB169Y8+7tdvdPS0qhVqxanTp3KU9dRo0bZVH6uq1evYjKZjNcmk4mJEyfi\n",
              "7+/PmDFjbtlvQedjYeewiIgULyVScl/r06cPu3btIiEhgZkzZ/Lss88C0LVrVw4fPsyhQ4eAnASl\n",
              "YcOGuLu731LGpUuXMJvN7N69m1mzZvHiiy8WuL+dO3eyaNEikpKSePDBB5k7d26B6547d474+Hh2\n",
              "7NjBzJkz2bZtG1lZWfTq1Yt3332XXbt2sWPHDubNm8euXbs4f/48zz77LCtXriQxMZGGDRvyxx9/\n",
              "5Ft2eHg4MTExAGzatImHH36YpKQkjh07hqOjI3Xr1s2z/pw5c6hYsSIJCQl5LriPHTtGbGws+/fv\n",
              "Z/369flexDk4OLB06VLi4+PZv38/lSpVYubMmQXWu6AyX375ZYKDg/nxxx/Zu3cv2dnZvP/++0DB\n",
              "xzEjI4PIyEjeeecd9u/fT69evdi7d6+xr4K2y8zMpEuXLvTr14/ExEQSExPp0aPHXcV4p1544QUC\n",
              "AwNJSkri008/vWVYYmHn1K5du5gyZQr79u0jPDycN99801h28OBBnnnmGfbu3cvzzz/Pa6+9Ziyz\n",
              "55wuyI3n2IYNGwgMDDRex8TEEB4eDsB7771HfHw8iYmJBAcH50kSc+UmDXFxcSQkJPDggw/eso4t\n",
              "n62MjAy6devGxIkTSUxMZPr06XTv3p2rV6/aXO+yZcsyYMAAZs+eDUB6ejoLFy4kKirqtuXfjoOD\n",
              "A7t27cpz4wQKPx8LOoeLS3p6OpcvX87zk2XNLtZ9iojcq5RIyX1tz549tGrVCk9PT4YOHcqhQ4dI\n",
              "TU3FwcGBqKgoPvzwQwA+/PBDhg0blm8ZZcuWpVu3bgAEBgZy7NixAvfXrl07qlWrZtO6AwYMwGQy\n",
              "Ub16dbp160ZMTAyHDh3ip59+omfPnlgsFoKCgrhy5QpJSUns2LEDs9lsJHsDBgygTJky+Zade5H7\n",
              "+++/4+joyJNPPklMTAwxMTGEhYXdvuH+f5GRkTg6OlKuXDksFku+9bFarcyYMQMfHx/MZjPffPNN\n",
              "ofO/Cipz9erVvP3221gsFnx8fIiLi+Po0aNAwcfx4MGDODo6Ghftbdu2pUGDBsa+Ctru0KFDpKWl\n",
              "0atXL2Pd6tWr31WMd2rjxo30798fgFq1atGpU6c8yws7pwIDA6lfv36+yxo2bEjTpk3zXWbPOV2Q\n",
              "5s2bk5CQQGpqKt9//z2TJ082zuEHHniAhx56CIClS5fi5+eHp6cn8+fPv+O5gbZ8tg4dOkSpUqWI\n",
              "iIgAoEWLFtSsWdPYp631joqK4pNPPiE9PZ3ly5cTEBBAvXr1blv+7eQe5/ziLuh8LOgcLi5Tp06l\n",
              "UqVKeX4SUk/dfkMRkX8gx5IOQKSk5N49jo2Nxd/fn8uXL1OpUiXS09MpV64cgwYNwt3dnb59+3L0\n",
              "6FE6d+6cbzlOTk7GEB0HBweysrIK3GfZsmWN3x0cHOyaC2EymbBarVStWjXfC7M1a9bcsn5BAgMD\n",
              "2b9/P1999RWhoaGEh4czfvx4nJyc7HqQhi31Wbp0KZs2beL777/H2dmZDz74gE2bNtldptVqZeXK\n",
              "lTRq1CjP+oUdx/zktou9291NjLfj6OiY57y5cS5QQfHfLpa7WWbPOV0QJycn/Pz8WL58OeXKlaN1\n",
              "69YMHjyY9evXG8n6li1b+OCDD9i+fTsPPvgga9asYcKECXbv63b1KcyN7WlrvevUqUPLli1ZtmwZ\n",
              "s2fPZtKkSbct35ZjXKFCBZtiznW777DiMGbMGF566aU8773k0qFY9iUicq9Tj5Tct9LS0sjIyDCG\n",
              "sd083KxKlSp06dKFrl27MmTIEBwcHP7S+HLnyFy4cIEvv/ySsLAwXF1dcXZ2ZuHChcZ6R48e5cKF\n",
              "CwQGBpKYmMjBgwcBWLBgQYHzc0qXLk2zZs144403CA8Px2w2G/O/QkNDb1nf2dmZ1NRUm+b73Cwl\n",
              "JYXq1avj7OzMlStXjHrZ6/HHH+fNN980LpBTUlI4evRoocexcePGZGZmEhsbC+QMKcvtZShsO1dX\n",
              "V8qXL8/nn39uvPf777/fcYy307BhQ3bu3AnAzz//zJYtW4xloaGhRpudO3eOr7/++rbl3SvCw8OZ\n",
              "MGECYWFhlCpVCh8fH6ZPn270EKakpFCxYkWqVatGRkZGoUNdK1asyKVLl+4qHldXV7Kzs9mwYQOQ\n",
              "M3/u7NmzBT7BsDDDhw/ntdde4+LFi0Z9Ciu/Vq1aWK1WkpKSAIw5YrbGnd/5eLvvsOLg5OSEs7Nz\n",
              "nh8Hky4lROT+pG8/uW9ERETw8MMPGz+XL19m8uTJBAQE0KRJk3yHwQ0aNIjffvuNQYMG/eXx1qhR\n",
              "gyZNmhAQEMCwYcMICgrC0dGRr7/+mlWrVmE2m/Hw8GDAgAGkpqZSo0YNFixYQNeuXfH29ubIkSPG\n",
              "UKf8hIeHc/78eZo3b47JZCIgIIC6detStWrVW9atWrUqffv2xWw253nYhC369u3LtWvXcHV1pX37\n",
              "9nkeaW2PGTNmGEPpzGYzYWFhJCcn4+zsXOBxLFOmDMuWLePFF1/Ey8uLpUuX4u3tDVDodo6Ojnz1\n",
              "1VcsXLgQLy8vvL29Wbly5R3HeDsjR44kNjYWLy8vxowZYwy5A3j//feJi4vD3d2dp556iqZNm5bo\n",
              "48kHDhxo9H6ePn06TxIyZ86cPD1K4eHhnDhxwkg02rRpw6lTp2jdujWQMxzP1dUVV1dX40ESBXn5\n",
              "5Zdp06aN8bCJO1GmTBlWrVrFxIkTMZvNjBgxghUrVtjdEwTQrFkzKlWqRFRUlNHrVFj5jo6OzJw5\n",
              "k06dOuHv78/169dt3ldB52Nh53Bh1qxZw8CBA43XhR1TEREpmMlqtVpLOgiRe9U777zDgQMH+Pjj\n",
              "j0s6FLlPpaamUrp0aRwdHfnjjz9o1qwZS5YsyZNsyV/v119/xc/Pj8OHD1OxYsWSDqdEDanWktdr\n",
              "PlbSYYiI3KJW0qvFWr7mSIkUwMPDA5PJxLp160o6FLmPHTlyhL59+2K1WsnIyCAqKkpJVAmbMGEC\n",
              "CxYsYNq0afd9EiUicj9Tj5SIiIjcMfVIici9qrh7pDRHSkRERERExE5KpEREREREROykOVIiIiJy\n",
              "xx54xo9a04t3+IyIyL1IPVIiIiIiIiJ2UiIlIiIiIiJiJyVSIiIiIiIidlIiJSIiIiIiYiclUiIi\n",
              "IiIiInZSIiUiIiIiImInJVIiIiIiIiJ2UiIlIiIiIiJiJ7sTqQULFtj0noiIiIiIyD+V3YnUrFmz\n",
              "bnnvww8/LJJgRERERERE/g4cbV3xxx9/ZPv27fz222988MEHxvuXLl0iPT29WIITERERERG5F9mc\n",
              "SJ05c4aEhASuXbvGnj17jPednZ1ZtGhRccQmIiIiIiJyT7I5kerSpQtdunTh22+/pX379sUZk4iI\n",
              "iIiIyD3N5kQqV/v27dm5cyfHjh0jMzPTeL9v375FGpiIiIiIiMi9yu5EKioqinXr1mGxWHBwcADA\n",
              "ZDIpkRIRERERkfuG3YnUhg0bSEpKomzZssURj4iIiIiIyD3P7sef165dGycnp+KIRURERERE5G/B\n",
              "7h6ppk2b0qNHDyIjI/P0SnXu3LlIAxMREREREblXmaxWq9WeDUJCQm4txGRi06ZNRRaUiIiI/D34\n",
              "+T5OaKuBJR2GiMgt3prRqVjLt7tHKjY2tjjiEBERERER+duwe45UZmYm7777LlFRUQAcO3ZMvVEi\n",
              "IiIiInJfsbtHatiwYWRlZbFlyxYAqlWrRmRkJPHx8UUenIiIiIiIyL3I7kRqx44dJCQk4OPjA0Dl\n",
              "ypW5fv16kQcmIiIiIiJyr7J7aN/N/z8qKyuL7OzsIgtIRKQkubi44OrqisViwWKxMHDgvTGJvl+/\n",
              "frz33nslHcbfkslk4uLFiyUdxi0GDBiAu7s7Xbt2zXf5wIEDC5yX/MorrxAdHV2M0YmIyO3Y3SNl\n",
              "NptZsmQJ2dnZHD16lDfffJPWrVsXQ2giIiVj2bJlWCyWv3SfmZmZODra/ZX8t9/3/ercuXN88cUX\n",
              "XL58GQcHh1uWZ2VlMX/+/BKITEREbGV3j9T06dOJi4vj7NmzNG/enFKlSjFt2rTiiE1E5J6wefPm\n",
              "PInV/v37cXFxASA5OZnKlSszceJEmjRpQsOGDVm7dq2x7q5duwgNDcXPzw8fHx+WL1+eZ7tRo0bh\n",
              "6+vLrFmz2LhxI4GBgfj4+ODh4cHHH39sU3zbt2+nRYsWeHt7Yzab+eqrrwA4cuQIHTt2xN/fH7PZ\n",
              "zKxZs4xtTCYTEydOxN/fnzFjxnDlyhUGDRpEQEAAZrOZwYMHk5GRAUDr1q15+eWXadmyJXXr1mX8\n",
              "+PGsXbuWFi1a4OLiwvTp041y4+PjCQoKwmw2ExAQwNatW2/bTu+88w6DBw82yrh48SLVq1fnwoUL\n",
              "th4i5s6dS6NGjfD19eWNN97AZDLlu15B8QEsXrwYs9mM2WymY8eO/PrrrwAsWrSI8PBwevXqhbu7\n",
              "O0FBQSQlJdG1a1fc3Nxo27YtV69eJS0tjVq1anHq1CmjzLFjxzJq1Kg8MVy8eJGQkBDS0tJo0qQJ\n",
              "06ZNY9GiRYSEhNC9e3e8vLz48ccfad26NatXrwbgzJkzRERE4O7uTnh4OL/88otRXkHnzenTp6lZ\n",
              "sybXrl0z1u3duzezZ8+2uV1FRKRgdt+CTEtLY+7cucydO9d47/fff+eBBx4o0sBEREpKZGQk5cqV\n",
              "A2DixIlUqVKl0PUvXbqE2Wzm9ddfZ926dQwfPpwOHTpw8eJFBg8ezNq1a6lduza///47vr6+BAUF\n",
              "Gdt5eHjw5ptvApCSksKWLVtwcHDgwoUL+Pj4EBERwcMPP1zgvi9cuMDjjz/OihUrCA4OJjs7m4sX\n",
              "L5KVlUWvXr1YsmQJjRs35tq1azRr1oymTZvi7+8PgIODA7t27QJg8ODBBAcH89FHH2G1Whk0aBDv\n",
              "v/8+r776KgAnTpwgNjaWy5cv4+LiQkpKCnFxcZw+fRpXV1f69+9P+fLl6datGx999BERERFs2bKF\n",
              "7t27c/To0ULbaeDAgTRq1Ii33nqLypUrs3DhQrp06ULVqlVtOl779+8nOjqaPXv2UKtWLSZOnJjv\n",
              "ehkZGQXGl5yczKuvvsru3bupU6cO//73vxk4cCDffvstkJMQ79u3j7p169KnTx8ee+wxtm3bRs2a\n",
              "NenUqROffPIJ//rXvxgwYACzZ89mypQppKens3DhQnbs2JEnjsqVK7N27VosFgsJCQlATrK2c+dO\n",
              "9uzZg6ur6y2xv/DCCwQEBLB+/Xp+/fVXLBYLjRs3BsDX17fA8yY8PJwlS5YwePBgzp07R0xMDPPm\n",
              "zbOpXfOTnp5Oenp6nvesGt4vIvcpu3uk2rZta9N7IiJ/V8uWLSMhIYGEhIQC56/cqGzZsnTr1g2A\n",
              "wMBAjh07BsC2bds4fvw47du3x2KxEB4eDsChQ4cAKF26NE8//bRRzh9//METTzyBp6cnoaGh/PHH\n",
              "H+zfv7/QfW/fvh1XV1eCg4MBKFWqFFWrVuXQoUP89NNP9OzZE4vFQlBQEFeuXCEpKcnYtn///sbv\n",
              "q1ev5u2338ZiseDj40NcXJyRAAH06NEDBwcHqlSpQoMGDejUqRMmk4k6depQo0YNkpOTOXToEKVK\n",
              "lSIiIgKAFi1aULNmTSNZKKidKleuTI8ePViwYAFWq5XZs2czbNiw27Z7rk2bNtGuXTtq1aoFwKBB\n",
              "g/Jdr7D4YmNjadeuHXXq1AEgKiqKTZs2kZWVZcRbt25dAPz8/PD396dmzZoA+Pv7c+TIEWO7Tz75\n",
              "hPT0dJYvX05AQAD16tWzqR5BQUH5JlGQ0+uUO1+vTp06dO7c2VhW2HkzfPhwPvzwQwA++ugjevXq\n",
              "RYUKFWyKJz9Tp06lUqVKeX7OnDt8x+WJiPyd2dwjlZGRQVpaGllZWVy5cgWr1Qrk3GH8888/iy1A\n",
              "EZGS5ujoaFxQQ07P/I2cnJyMoWQODg7GularFQ8PD7Zt23ZLmcnJyZQvX55Spf7f/ayhQ4fSoUMH\n",
              "Vq5ciclkwtfX95Z92cpqtVK1alUjicnPjRfUVquVlStX0qhRo3zXvfFBQw4ODre8zszMzHeuz41D\n",
              "7ApqJ8jpcencuTNubm7UqFHDeDLsnShoWJ896978vi31h5wkp2XLlixbtozZs2czadIkm2OxJ8G5\n",
              "Mb7CzpuAgADKly9PbGws8+bNIyYmxuZ95GfMmDG89NJLed4Lafl0AWuLiPyz2dwjNXXqVCpXrsz+\n",
              "/fupVKkSlStXpnLlynh5eeW5oyoi8k/ToEEDTpw4wW+//QbkzKWxRVBQED///HOei9eEhARj7tHN\n",
              "UlJSqFevHiaTiR9++IG9e/fatI8jR44QFxcHQHZ2NhcuXMDV1RVnZ2cWLlxorHv06NEC5x09/vjj\n",
              "vPnmm0ZCkJKSkqdHyhaurq5kZ2ezYcMGIKdH7uzZszY9uKNx48Y0aNCAwYMH29UbBRASEsL69es5\n",
              "f/48QIFzywqLLyQkhHXr1nH69GkA5syZQ1hYWL7J4e0MHz6c1157jYsXLxq9kHcrPDycBQsWADnz\n",
              "pdasWWMsu915M3z4cPr27Yubm1uBibKtnJyccHZ2zvNjKmX34BYRkX8Em7/9Jk6cSHZ2NoMHDyY7\n",
              "O9v4uXjxIuPHjy/OGEVEStRDDz3EyJEjCQgIoFmzZjbP3alSpQrffPMNU6ZMwdvbG3d3d0aPHl3g\n",
              "v4yYNm0ao0ePxmKxsGDBApo2bWrTPr788ktGjx6N2WzG19eXrVu34ujoyNdff82qVaswm814eHgw\n",
              "YMAAUlNT8y1nxowZlCtXDovFgtlsJiwsjOTkZJvqmatMmTKsWrWKiRMnYjabGTFiBCtWrLC5p2XQ\n",
              "oEFkZmbSo0cPIOfx37kJw+nTp/MkZHPmzGHChAkAeHl5MW7cOJo3b270xlSqVMmu+Dw9PXn77bdp\n",
              "164dZrOZuLg4PvroI7vqn6tZs2ZUqlSJqKgou3rHCvP++++zY8cO3N3d6du3L6Ghocay2503PXr0\n",
              "4OrVq0aCumbNmjyP9S+snUVEpGAma+4YPRERkRI0bNgwataseUc3565cuULFihWBnKRj3bp1xoMi\n",
              "/mq//vorfn5+HD582IipJMXHx9O7d28OHjyYZyhpUfHzfZzQVvfG/1sTEbnRWzM6FWv5dj+1b926\n",
              "dYwYMYLjx4+TlZWF1WrFZDLlGesuIiJiq9OnTxMaGkrVqlVZv379HZUxevRotm7dyvXr13nooYfy\n",
              "PFn2rzRhwgQWLFjAtGnT7okkauDAgXz33XfMnz+/WJIoEZH7md09Uo0aNWLmzJkEBgbmGTuux5+L\n",
              "iIjcf9QjJSL3qnuuR8rZ2dl4dKyIiIiIiMj9yO5+/k6dOhn/aV1EREREROR+ZPfQvipVqnDp0iXK\n",
              "lSuHk5OTMUeqoEfqioiIyD/XSy+9xPTp00s6DBGRv5zdQ/sK++eOIiIiIiIi9wO7E6l69epx7do1\n",
              "I6GyWCyUL1++qOMSERERERG5Z9mdSG3bto3u3btTq1YtAM6dO8fKlSsJDAws8uBERERERETuRXYn\n",
              "Ui+99BIrVqygefPmQE5i9eKLL7Jjx44iD05EREREROReZPdT+1JTU40kCiAoKIi0tLQiDUpERERE\n",
              "ROReZnciVaFCBWJiYozXGzdu1D/jFRERERGR+4rdQ/s++OADunXrhoODAwDZ2dmsWrWqyAMTERER\n",
              "ERG5V9mdSJ0+fZr4+HjOnTsHQM2aNfnxxx+LPDAREREREZF7ld1D+8aPH0+NGjXw9PTE09OT6tWr\n",
              "M378+OKITURERERE5J5kdyJ1M5PJRFZWVlHEIiIiIiIi8rdgdyJVsWJFtm3bZrzeunUrFStWLNKg\n",
              "RERERERE7mV2z5F666236Nq1K40bNwbgyJEjfPnll0UemIiIiIiIyL3K7kQqMDCQAwcOsH37diDn\n",
              "/0hVrly5qOMSERERERG5Z9mdSAFUqVKFDh06FHUsIiIiIiIifwt3/bAJERERERGR+40SKRERERER\n",
              "ETspkRIREREREbGTEikRERERERE7maxWq7WkgxAREZG/p2c9TIzx131ZEbn3NFqUVazl65tPRERE\n",
              "RETETkqkRERERERE7KRESkRERERExE5KpEREREREROx0TyRSWVlZfPLJJ7Rp0wYvLy/8/PwYOXIk\n",
              "f/zxR5713nvvPc6ePWu8njNnDm+//bbxesCAAbi7u9O1a9d8Xxe11q1bs3r16iIr7/Tp0wQHB+e7\n",
              "LDo6mhEjRhTZvoqCxWLhypUrJbLv5ORkKleubHMsFy9eZNq0aUWy74EDBxIbG2v3dtHR0aSlpdm9\n",
              "3aJFi3j88cft3u5ms2bNol+/fvkuc3FxISEhwe4yC9uuQ4cOHDp0CMipw8GDB+0u3143fk7WrFnD\n",
              "iy++WOz7tNX+/ftxcXHJd9mECRP47LPPbC4rOTmZOXPm3HEsCQkJfPHFF3e07dWrVzGZTPkuy8jI\n",
              "oFOnTnh5efGvf/3rjuO7WWGfgRvPs6Jwu7YtLJb4+HgiIyOLLBZ73M0xzZWcnIyDgwMWi+WOvg9E\n",
              "RO43jiUdQHp6Ot26daNx48bMnz+fevXqcf36dVavXk1ERASff/45jz76KJCTSLVu3ZpatWoBMHTo\n",
              "UKOcc+fO8cUXX3D58mUcHBxuef138NBDDxEXF1fSYdjsXvpDe7tYchOp0aNH3/W+5s+ff0fbvf76\n",
              "64wYMYKyZcvedQx/B2vXrjV+X7RoEZUrV6Zx48bFtr/MzMw8rzt37kznzp3tLicrK+sv/86YNGmS\n",
              "XevnXuzf+B1oq8zMTBISEli9ejU9e/a0e/vC7NmzhyNHjuSb2GRnZwNQqlTR3r+78TwrCnfTtn5+\n",
              "fixbtqxI47FFUR7TihUr3lPf7SIi97IS75EaO3YsXbp04d1336VevXoAlC5dmieeeILPP/+c5557\n",
              "Dsi50Dh9+jSRkZHG3bLcu88XL14kJCSEtLQ0mjRpwrRp0255vW/fPlq0aIGvry/u7u5MnjzZiCE6\n",
              "OprIyEgee+wx3N3dCQ0N5cKFCwB4eXmxbds2Y9158+ble8exX79+vPfee8brV155hejoaACuX7/O\n",
              "6NGjCQgIwGKx8OSTT5KSknJLGTf3shQkKSkJT09Pvv32WwBMJhNTpkwhICCA+vXrs3DhQmPd+Ph4\n",
              "goKCMJvNBAQEsHXrVqPdp0yZAuRciJhMJg4fPgxA//79+fTTT28bh8lk4uLFi7e8HxQUZLTZyJEj\n",
              "qVOnjrGsQYMGnDx5krNnzxISEkKTJk3w8PBg2LBhxoXWjh07aNKkCRaLBU9PT2bPnm1zLNnZ2Qwb\n",
              "Ngw3Nze8vb1p0qQJaWlpDB06lCtXrmCxWPDz8wPg7NmzPPnkkwQEBODl5cW4ceOM8lxcXJgwYQKB\n",
              "gYHUr18/z/lyY09kv379GDJkCGFhYTRq1Ihu3bqRkZFxS3y5F2XBwcFYLBbOnz/P+fPn6datG15e\n",
              "Xnh6ejJ37twC63f58mU6d+6Mu7s7LVu2JDk5GaDQ8/rKlStERkbi6upKixYt2LdvX6FtuGrVqnzr\n",
              "O336dPz9/bFYLPj7+7N9+/Y823322Wc0adKEhg0b5ukhzu2tmj9/PvHx8bz44otYLJZ8L3yPHDlC\n",
              "x44d8ff3x2w2M2vWLGPZU089hZ+fH2azmY4dOxq90rmfl1GjRuHr65tnG7i152Dx4sU0bdoUX19f\n",
              "WrZsyd69e431QkJC6N69O15eXvz44495yinsXF20aBHh4eH06tXL6E0/fvy4sW10dDSPPvooTZo0\n",
              "KbS34Obvj1ypqalERkbi7u6Ot7c3bdu2BXLOp0OHDmGxWIxk8ZVXXjGOU8uWLfMkMyaTiYkTJ+Lv\n",
              "78+gQYOYMGECsbGxWCwW49zctWsXoaGh+Pn54ePjw/Lly43t586dy6OPPoqPjw8zZszItw5JSUk8\n",
              "9dRTnDx5EovFwqeffkp0dDTdu3cnIiICT09Pzpw5w/r162nRogVNmjQhICDA6N0trJ1vdPr0afz9\n",
              "/VmwYAGQt1e0devWvPLKKwQHB/PII48UmAxlZmYSERGBn58fHh4e9O7dmz///LPAtr3Z1atX8z3m\n",
              "mzdvxmKxAPDbb7/Rtm1bvLy8MJvNPPvss/mW5eLiwquvvprvZ+huj6mIiBSvEu2RunbtGtu2bePd\n",
              "d98lJSWFIUOGcOzYMSIiIoiPj+e7777D1dWVxMREJkyYwIIFC1i2bJnxhyr3YrZy5cqsXbs2z3CE\n",
              "nj175nl95coVNm7ciJOTE6mpqQQFBREeHk6zZs0A2LlzJ7t376ZatWr07NmTuXPnMmbMGF544QVm\n",
              "zZpFUFAQAB9++OEtF2y38/bbb/PAAw8YF2hvvPEG48aN48MPP7S7zTZv3kxUVBRLlizB19fXeN/J\n",
              "yYkff/yRgwcP4u/vT58+fcjOzqZbt2589NFHREREsGXLFrp3787Ro0cJDw9n8uTJjB07lg0bNhAY\n",
              "GEhMTAyNGjUiJiYmz4W0vcLDw4mJiSEoKIhNmzbx8MMPk5SUhJOTE46OjtStW5e0tDT++9//UqFC\n",
              "BbKysujSpQv/+c9/6NmzJ1OnTuWVV16hV69eAPkmnQXZu3cvGzdu5KeffqJUqVJcunSJMmXKMGfO\n",
              "nFuGqzzzzDOMHTuWVq1akZmZSadOnVi+fDlPPPEEkNOLtX37dn7//XceeeQRnn322TxJYa6EhARi\n",
              "Y2NxcnKiZcuWrFy50og915w5c5g7dy5xcXFGspyb5KxatYrz58/TpEkTvL29jXPyRlu3biUhIQE3\n",
              "NzfeeustBg8ezHfffYeLi0uB5/WkSZNwcnLi4MGDXL58mWbNmtG0adMC266g+vbp04eXXnoJyEly\n",
              "+/Xrl2eY3rlz54iPj+ePP/7A19eX5s2bG58XyBkKuWTJEkaMGJHvkKisrCx69erFkiVLaNy4Mdeu\n",
              "XTNi9ff357333qNGjRoATJs2jejoaGPo1aVLl/Dw8ODNN98EMG5e5Nd+n3/+OT/88ANOTk7ExcXR\n",
              "u3dvfvrpJyDn879nzx5cXV1v2bZy5coFnquQk4AkJCRQv359Ro8ezZtvvsncuXP55ptvWL58Obt3\n",
              "76ZixYr06dOnwLYvyLp167h48SJJSUkAxg2eOXPmMGLEiDzn86hRo3jnnXcA+OKLLxg+fDjr1q0z\n",
              "ljs4OLBr1y4gJwFcvXq18R168eJFBg8ezNq1a6lduza///47vr6+BAUFkZKSwsSJE9mzZw+1a9dm\n",
              "7Nix+cbq7u7O/Pnz88QVHR3N9u3b2bNnDzVr1uT48eNER0ezfv16nJ2dOXr0KMHBwUZSXFg7Q86N\n",
              "g549ezJjxgwjqbzZsWPHiI2N5fr167i7u7N9+3YCAwPzrOPg4MDSpUupVq0aVquVqKgoZs6cyejR\n",
              "o/Nt25sVdMxvtGTJEurXr893332X59jlp6DP0N0c05vFxsYWONS1Y8eO/Pvf/y4wvhulp6eTnp6e\n",
              "572sW/NdEZH7QokmUklJScZF49SpU7FYLPznP/9h6dKlLF26FAAPDw8OHz6M2Wy+q32lpqYSFRVF\n",
              "QkICpUqV4tSpUyQkJBj7b9euHdWqVQMgMDDQuHv/9NNPM2HCBM6dO8eRI0cwmUwFzmMqyOrVq7l0\n",
              "6RIrV64EcuYRFDRXojCbNm1i3bp1fPfdd9StWzfPsqeeegqAxo0b4+joyNmzZ0lJSaFUqVJEREQA\n",
              "0KJFC2rWrElCQgLNmzcnISGB1NRUvv/+e9555x1mzZpFWFgYDzzwAA899JDd8eUKDw9n3LhxREVF\n",
              "4ejoyBNPPEFMTAxOTk6EhYUBOcN8Ro0axZYtW7BarZw/fx5PT0969uxJSEgIb7zxBkeOHCE0NJQW\n",
              "LVrYvO8GDRqQmZlJ//79CQkJoWPHjvkOJfrzzz/ZuHEj586dM967evVqnju+vXv3BqB69eo0aNCA\n",
              "n3/+Od9EqmvXrpQvXx6AgIAAjh07ZlOsMTEx7N69G4AHH3yQbt26ERMTk28iFRQUhJubGwCDBw9m\n",
              "3LhxZGVlFXpeb9y4kRkzZmAymahUqRK9e/cuNLaC6rtnzx7+/e9/88cff+Do6MihQ4dITU2lXLly\n",
              "QM5cRJPJRPXq1Y063JhI3c6hQ4f46aef8lwwX7lyhaSkJPz9/Vm6dCmLFy8mLS2NtLQ0qlevbqxX\n",
              "unRpnn766dvu46uvvmLv3r15EskLFy6QmppqtG9+SRQUfq4CRi9e7u8zZ84EYOPGjTz55JM4OzsD\n",
              "MGTIELZs2WJzuwB4e3tz4MABoqKiaNWqFR06dChw3Q0bNjBz5kyuXLlCdnb2LRfu/fv3L3Dbbdu2\n",
              "cfz4cdq3b5/n/UOHDrF//37at29P7dq1AXjuueeYOnWqzXXo0KEDNWvWBHISw6NHj9KyZUtjealS\n",
              "pTh58iR16tQptJ1/+uknOnfuzOrVq/H29i5wf5GRkTg6OuLo6IjFYuHYsWO3JFJWq5UZM2bwzTff\n",
              "kJmZyaVLl+w6Zws65jdq1qwZM2bM4OWXX6Zly5a0a9euwPIK+gzdzTG9WUhISJEM2Zs6dSqvv/56\n",
              "nve8qxewsojIP1yJz5HKnYuwf/9+3n33XSDnwjT3rueZM2cK/aNpq7Fjx1K9enX27NmDo6Mj3bp1\n",
              "yzPx/8Z5Kw4ODsZ8i3LlytGvXz/mzp3LgQMHCpxA7ejoSFbW//vvyWlpaVSoUAHI+aM9c+bMAu+g\n",
              "2qphw4YcPHiQHTt23JJIFRT/zXIniTs5OeHn58fy5cspV64crVu3ZvDgwaxfv95Idu5UYGAg+/fv\n",
              "56uvviI0NJTw8HDGjx+Pk5OTMSxy+vTpnD9/np07d1K2bFleeukl43iMGDGCLl26EBMTw9ixY/H0\n",
              "9OR///d/bdp3pUqV2L9/P99//z2xsbGMGTOGH374AUfHvKe61WoFcnpYCpqzZGub2rre7RQ0gb8w\n",
              "tzuv7Sk/v3pkZGTQrVs3YmNj8ff35/Lly1SqVIn09HQjkbrbelitVqpWrZrvRd6WLVv44IMP2L59\n",
              "Ow8++CBr1qxhwoQJxvLy5cvbNOfGarXyzDPPGMNZb5b7Wc1PYecq2P/Zs0eDBg1ISkpi06ZNxMTE\n",
              "MHLkyHzb6eTJkwwbNoxdu3bxyCOPkJiYmCdZgcLraLVa8fDwyDOMOdf+/fvvqh437tdqtdKmTRvj\n",
              "RtmNJk+eXGg7P/TQQ6Snp7Np06ZC/ybYcjyWLl3Kpk2b+P7773F2duaDDz5g06ZNNtfJln0EBgaS\n",
              "kJBATEwMq1atYvz48ezZs8em+Xcmk+muj+nNiqpHasyYMUYPda5hTSvZHIeIyD9Jic6RcnNzY8eO\n",
              "HQB4enry9ddfAzlP2wJITExkx44dxl1kZ2dnLl26dEf7SklJ4eGHHzbuqG/YsMHmbf/1r38xb948\n",
              "Nm3aZPT83Kxhw4bG0L0//vgjzzyQxx9/nBkzZnDt2jUgZ0hj7pAie9StW5eNGzcyefLkPPOgCuLq\n",
              "6kp2drZR123btnH27FljaGR4eDgTJkwgLCyMUqVK4ePjw/Tp0wkPD7c7thuVLl2aZs2a8cYbbxAe\n",
              "Ho7ZbCYpKYnNmzcTGhoK5ByPWrVqUbZsWc6ePZtnPsahQ4eoX78+gwYNYuzYscY5YovffvuNP//8\n",
              "k7Zt2zJlyhRcXFxISkrC2dmZ1NRUY/5ShQoVCAkJyfMkv9OnT/PLL7/cVd0LU7FixTznb3h4OB99\n",
              "9JER96pVq2jTpk2+227fvt0YTjd//nxCQkJwcHAo9LwODw9n4cKFWK1WLl++zOeff253zGlpaWRk\n",
              "ZBiJe3533hctWgTk9PB8+eWX+SbihX12XV1dcXZ2znNOHz16lAsXLpCSkkLFihWpVq0aGRkZhc4j\n",
              "K0znzp1ZsmQJJ0+eBHJ6meLj423atrBztTDh4eEsX76cK1euYLVamTdvnt1x//LLL5hMJjp37sw7\n",
              "77yD1Wrl1KlTt7TnpUuXKF26NLVr18Zqtd52+PHN2wcFBfHzzz8TExNjvJeQkEBGRgahoaGsW7fO\n",
              "mJt2N08LjIiIICYmhsTEROO93O/N27VzlSpV2LBhA6tXr7b74Rw3S0lJoXr16jg7O3PlyhXjHIa7\n",
              "+ztzo59//pkKFSrw5JNPMnPmTA4fPszVq1fzXTe/z9DdHtOb5fZI5fdjaxIFOTfhnJ2d8/w4lPhs\n",
              "axGRklGiX38PPPAA3t7eLF68mDFjxrBr1y6aNGlCQkICDz/8MDNnzmTx4sVGb8ILL7zAoEGD7ujR\n",
              "rOPGjWPhwoWYzWZGjx5tXNDb4uGHH8bHx4enn37aGMJ1s8GDB/Pbb7/h5uZG37598wzPGjVqFP7+\n",
              "/jRt2hSz2UyzZs3ueIhF7dq12bRpEx9++CEffPBBoeuWKVOGVatWMXHiRMxmMyNGjGDFihXGXczw\n",
              "8HBOnDhhJE5t2rTh1KlTtG7d+o5iu1F4eDjnz5+nefPmmEwmAgICqFu3LlWrVgVg+PDh7Ny5Ew8P\n",
              "D/r06ZMneZs1axYeHh74+Pgwbtw4o6fSFqdOnaJNmzaYzWY8PT3x9PSkffv2VK1alb59+2I2m42H\n",
              "TXz22WccPXoUT09PvLy86Nat2y2P3C9KL7/8Mm3atDEeNvHBBx9w4MABvLy8CAkJ4bXXXitwDlPu\n",
              "fAkPDw/WrFljJBSFndfjx48nNTWVxo0b06FDB7uGSOZydnZm8uTJBAQE0KRJE8qUKXPLOjVq1DAe\n",
              "HDBs2LB8h0gNHjyYKVOm5PuwCUdHR77++mtWrVqF2WzGw8ODAQMGkJqaSrt27XB1dcXV1dV4UMed\n",
              "CA4O5q233qJr1654e3vj4eFh86OiCztXC9OhQwd69OiBr68vfn5+t/Qi22Lfvn00b94cb29vfHx8\n",
              "6NOnD2az2WgnT09POnfujJeXFz179sTDwwN/f//b7issLIz09HTMZjNDhw6lSpUqfPPNN0yZMgVv\n",
              "b2/c3d0ZPXo02dnZeHp6Eh0dTXBwMD4+Pjg5Odldj1wNGzZk6dKlDBkyBG9vb9zc3IyHbNjSzhUr\n",
              "VmTdunVs27aNV1999Y7j6Nu3L9euXcPV1ZX27dvnGa59c9veqc2bNxsPzQkKCuLtt9+mUqX8e27y\n",
              "+wzd7TEVEZHiZ7LmjnEqIdeuXaNLly60atWKqKgoqlatyvXr1/nhhx9ITU2lU6dOJRkekDOfxtXV\n",
              "lbi4OGNcvIiIyN1ycXFh9erVd3yToCglJydjsVjyfRprYZ71MDHGX91SInLvabQo6/Yr3YUS/+Yr\n",
              "X7483377LTVq1KB79+5YLBYCAgL45ptv8PHxKenwmDNnDo0bNyYqKkpJlIiI/GM5ODhQvnx5/UNe\n",
              "EREblXiPlIiIiPx9qUdKRO5V//geKRERERERkb8bJVIiIiIiIiJ2KvH/IyUiIiJ/X1UiXqTR9Okl\n",
              "HYaIyF9OPVIiIiIiIiJ2UiIlIiIiIiJiJyVSIiIiIiIidlIiJSIiIiIiYiclUiIiIiIiInZSIiUi\n",
              "IiIiImInJVIiIiIiIiJ2UiIlIiIiIiJiJyVSIiIiIiIidlIiJSIiIiIiYiclUiIiIiIiInZSIiUi\n",
              "IiIiImInJVIiIiIiIiJ2UiIlIiIiIiJiJyVSIiIiIiIidlIiJSIiIiIiYiclUiIiIiIiInZSIiUi\n",
              "IiIiImInk9VqtZZ0ECIiIvL3VCHCn8o9w0o6DBGRW/zy7LRiLV89UiIiIiIiInZSIiUiIiIiImIn\n",
              "JVIiIiIiIiJ2UiIlIiIiIiJip2JNpLKysvjkk09o06YNXl5e+Pn5MXLkSP74449Ct/Pz82Pz5s3F\n",
              "GVqxS05OZs6cOXne69ChA4cOHQKgdevWrF69GoB+/frx3nvv2VV+SEgIS5YsMV5PnjyZsmXLkpaW\n",
              "ZrzXuHFjNm7ceGcVKGIJCQl88cUXBS7fvHkz69atu6Oy33vvPc6ePXunod2ievXqJCcnF1l5udas\n",
              "WcOLL74I5H9+uLi4kJCQUOT7/ae5k8/LzTZv3ozFYimSePKT37G88TNf1KKjo/N89ovC7b7DCnIn\n",
              "x2f16tXs2LHD3hDziI6OZsSIEXZvd7vvpn+SgQMHEhsbC+Q9TnfadiIi97tiS6TS09Pp3LkziYmJ\n",
              "zJ8/n3379rF9+3b8/f2JiIjgyJEjxbXre0J+FyFr167F1dW1SMoPCQnJk2zGxsZisViMi5EzZ86Q\n",
              "nJxM8+bNi2R/d6ukEqns7Gyys7PvqNyi1rlzZ2bMmAHkf36I3KnXX3/9L0mkivI77EZFkUjdqfsp\n",
              "kZo/fz4hISElHYaIyD9GsSVSY8eOpUuXLrz77rvUq1cPgNKlS/PEE0/w+eef89xzzxnrbtu2DYvF\n",
              "gqenJ88++yyZmZnGsunTp+Pv74/FYsHf35/t27cby1xcXJgwYQKBgYHUr1+fyZMnG8tat27NK6+8\n",
              "QnBwMI888ghDhw4F4PTp09SsWZNr164Z6/bu3ZvZs2cDsH37dlq0aIG3tzdms5mvvvoKgFdeecWI\n",
              "o2XLlsZd2dTUVCIjI3F3d8fb25u2bdsCMHToUA4dOoTFYqFz585GvLfrcbh69Sr9+/fH09MTT09P\n",
              "Xn/99XzXuzGRysjI4Oeff2bQoEHGe5s3b6ZZs2aULVuWI0eO0LFjR/z9/TGbzcyaNSvfMuvUqcPp\n",
              "06cBePLJJwkKCgJykuJq1aqRnp7Ovn37aNGiBb6+vri7u+dp8+joaCIjI3nsscdwd3cnNDSUCxcu\n",
              "cP78eSZMmGAke7nHIldCQgJz5szhs88+w2KxMGnSJAAWL16M2WzGbDbTsWNHfv3111tinjRpEqdP\n",
              "nyYyMhKLxUJCQgLR0dF0796diIgIPD09OXPmTIHHD3J6itzc3DCbzYwcOTJP+UXZdosWLeLxxx8H\n",
              "8j8/AFatWpXv+XxzTM2bN8fb2xsvLy/GjRsHFH7utG7dmpdffpmWLVtSt25dxo8fz9q1a2nRogUu\n",
              "Li5Mnz7dpjqvX78eX19fzGYzrVq1IikpCcg53zw9PYmKisLb2xsPDw/i4+PzbNeiRQuaNGlCQECA\n",
              "cVf8RocPH6ZRo0YAWK1WatasydixYwH44YcfCA0NNdY9cOAAYWFhNGrUiG7dupGRkXHbNrhZZmZm\n",
              "vvFmZmYSERGBn58fHh4e9O7dmz///LPQtrfX+fPn6datG15eXnh6ejJ37lxj2c3fEzf20E+ePBk3\n",
              "NzcsFgsWi4UTJ04Yn6fg4GAsFgvnz5+/bfkFfW/e6HbfYb/++is9evTAy8sLs9nM+PHjbykjLi4O\n",
              "d3d34uPjuX79OqNHjyYgIACLxcKTTz5JSkoKa9euZc2aNbz99ttYLBbmz59/x+186tQpQkNDady4\n",
              "MY899pgx+uHmHpdZs2bRr1+/23435W6b3/ca5Iy6ePXVV43z7fnnnzfOxZsV9H22aNEiwsPD6dWr\n",
              "lzFy4/jx43m2a9q0Kb6+vrRs2ZK9e/feUvZ3331n/O25fPkypUuXZt68eQB8+umn9O/fHyjeXlER\n",
              "kfuRY3EUeu3aNbZt28a7775LSkoKQ4YM4dixY0RERBAfH893332Hq6sriYmJNG7cmMjISBYuXEh4\n",
              "eDjfffcdixYtMsrq06cPL730EgA7duygX79+HDx40Fh+8eJFtm/fzu+//84jjzzCs88+S506dQA4\n",
              "duwYsbGxXL9+HXd3d7Zv305gYCDh4eEsWbKEwYMHc+7cOWJiYpg3bx4XLlzg8ccfZ8WKFQQHB5Od\n",
              "nc3FixcBGDVqFO+88w4AX3zxBcOHD2fdunWsW7eOixcvGheUuX9g58yZw4gRI+weqvXGG2+Qnp5O\n",
              "YmIiqamptGjRwmijGzVt2pTTp09z6tQpfv75ZwICAmjdujX9+/cnOjqa2NhYQkNDycrKolevXixZ\n",
              "soTGjRtz7do1mjVrRtOmTfH3989TZlhYGDExMTz99NPs3bsXR0dHLl++zK5du2jSpAlOTk64uLiw\n",
              "ceNGnJycSE1NJSgoiPDwcJo1awbAzp072b17N9WqVaNnz57MnTuXMWPGMGnSJFavXp3vH/HcC5iL\n",
              "Fy8aQ03279/Pq6++yu7du6lTpw7//ve/GThwIN9++22ebSdMmMCCBQtYtmyZMVRr9erVbN++nT17\n",
              "9lCzZs1Cj9/58+d59tlnjQu+efPmGRdfRd12Nyro/CjsfM41a9YsOnXqxJgxY4D/d87d7tw5ceIE\n",
              "sbGxXL58GRcXF1JSUoiLi+P06dO4urrSv39/KlasWGCd69WrR+/evdm8eTNeXl589tln9OjRg59+\n",
              "+gmAgwcP8vHHH/O///u/zJkzh9dee43169dz/PhxoqOjWb9+Pc7Ozhw9epTg4GCSk5PztEujRo1I\n",
              "T0/n5MmTpKSk0KBBA2No6oYNGwgPDzfWTUhIIDY2FicnJ1q2bMnKlSvp1auXzZ+fwuJ1cHBg6dKl\n",
              "VKtWDavVSlRUFDNnzmT06NEFtn1+IiMjKVeunPH66NGjxu/PP/88rq6urFq1ivPnz9OkSRO8vb2N\n",
              "z1F+UlJSeOeddzhz5gzlypXj2rVrlCpVijlz5jB37lzi4uKoXLmyse/CyrflPLvdd9jTTz9N27Zt\n",
              "WbFiBQC//fZbnuXLli1j6tSpfPPNN9SvX58pU6bwwAMP8OOPPwI55+u4ceP48MMP6dy5MxaLxUh2\n",
              "hg8fbnM73yguLo7ExERq1apFVFQUY8aMMRKK/Dz44IOFfjflKuh7bd68eezatYvdu3fj4OBg9DqP\n",
              "GjUqz/a3+z7btWsXCQkJ1K9fn9GjR/Pmm28yd+5ctm7dyueff84PP/yAk5MTcXFx9O7d2/jM5QoO\n",
              "DqZnz56kp6cTGxuLv78/MTExDB48mA0bNtC+fXub2s8W6enppKen530zS/+OUkTuT8XSI5WUlGT8\n",
              "wZ46dSoWi4Xdu3fj6enJ4cOHAfDw8ODw4cMcPHgQR0dH4yKpbdu2NGjQwChrz549tGrVCk9PT+MO\n",
              "aWpqqrG8d+/eQM68lgYNGvDzzz8byyIjI3F0dKRcuXJYLBaOHTsG5PyR/vDDDwH46KOP6NWrFxUq\n",
              "VGD79u24uroSHByc0zilSlG1alUg50IuMDAQT09PJk2aZFxceHt7c+DAAaKioli2bBmlS5e+q7aL\n",
              "iYlh0KBBlCpVigceeIC+ffuyYcOGW9YrU6YMzZs3Z/PmzWzevJnWrVvzyCOP8Msvv5CWlsbmzZsJ\n",
              "CQnh0KFD/PTTT/Ts2ROLxUJQUBBXrlwxEr8bhYeHExMTw549e/D29iY0NJTNmzcTExNDWFjOP1tM\n",
              "TU1l4MCBeHl50axZM06cOJHnQqtdu3ZUq1YNgMDAQKPN7RUbG0u7du2Mi7uoqCg2bdpEVlaWTdt3\n",
              "6NDBSKKg4OO3Y8cOzGYz7u7uAAwYMIAyZcoAFHnb2aKw8zlXy5Yt+eijj3jttdf47rvvjIvn2507\n",
              "PXr0wMHBgSpVqtCgQQM6deqEyWSiTp061KhRg+Tk5ELrvHPnTry8vPDy8gLgqaee4vTp08ad9YYN\n",
              "G9K0aVMg77Fft24dR48epWXLllgsFnr06EGpUqU4efLkLXXLTUhjYmLo06cP6enpXLx48ZZ27Nq1\n",
              "K+XLl8fBwYGAgABjX7Z+fgqL12q1MmPGDHx8fDCbzXzzzTfG+VJQ2+dn2bJlJCQkGD9+fn7GspiY\n",
              "GIYMGQLkXMx369aNmJiYAssCcHZ25tFHH+Xpp59m7ty5XLhwgbJly+a77u3Kt+U8K8zVq1fZsmUL\n",
              "L7/8svFejRo1jN8XL17Mu+++S2xsLPXr1wdybnAsWbLE6E37/PPPC9yvPe18o44dO1KrVi0ABg8e\n",
              "fNs2tVVB32sxMTH069cPJycnHB0dGTRoUL7n2+2+z3J7B28u/6uvvmLv3r00bdoUi8XC888/z4UL\n",
              "F/L8DQSMv3Fbt24lJiaG0aNH83//939kZ2ezadOmPL25d2vq1KlUqlQpz0/Gz2eKrHwRkb+TYumR\n",
              "AnBwcABy7sS9++67QM7FT+5QnTNnzuDt7Z3vtiaTCcgZstatWzfjDtvly5epVKkS6enpxp3eGy8k\n",
              "HBwc8gwLLGhZQEAA5cuXJzY2lnnz5t32j+3JkycZNmwYu3bt4pFHHiExMZGWLVsC0KBBA5KSkti0\n",
              "aRMxMTGMHDmySB8YkNsW+QkJCSE2Npaff/7ZGJrYrFkzli9fzq+//krTpk05cuQIVatWtSmm8PBw\n",
              "xowZg7u7O+Hh4dSsWZOYmBi2b99ulD927FiqV6/Onj17cHR0pFu3bnnmZhR2PO5GYe2QnwoVKhi/\n",
              "F3b8CtuP1Wot0razhS3t1717d4KCgtiwYQOzZs3ivffeY+3atYXWJb+y89tX6dKlC6zzf//73zuK\n",
              "3Wq10qZNG5YuXVro9pDTjl9//TUpKSm8//77HDlyhC+//JIjR47kSURsPc8KO28KKmPp0qVs2rSJ\n",
              "77//HmdnZz744AM2bdoE2N729roxTkdHxzw3DHI/Xw4ODuzYsYNt27YZQ3c///xz48aPreVD8X1O\n",
              "c5nNZuLi4ti3b5/xWbNarcycOdMYglaYomrn3HoX1Ka2KorzrbD1CvvsPPPMM0yZMuW2ZebezPnh\n",
              "hx+YNm0aXl5eLFmyhCpVqhjJZVEYM2aMMUok10Pdii5RExH5OymWHik3Nzdj4rCnpydff/01kDMX\n",
              "BSAxMZEdO3bQtGlTGjduTGZmpjFnIiYmxrgbl5aWRkZGBnXr1gVg5syZRRbj8OHD6du3L25ubsa8\n",
              "jKCgII4cOUJcXByQ86CCCxcucOnSJUqXLk3t2rWxWq155oz88ssvmEwmOnfuzDvvvIPVauXUqVM4\n",
              "Oztz6dIlu+MKDw/n448/xmq18ueff7J48eICLzxCQkKIiYnhxIkTNG7cGIBWrVrxxhtv0Lx5c8qU\n",
              "KYOrqyvOzs4sXLjQ2O7o0aP5DpV56KGHqFSpEnPmzCE8PJyQkBC+/vprkpOT8fX1BXKGFz388MM4\n",
              "Ojpy6NChAu/23+x27XHz8pCQENatW2fMO5ozZw5hYWFGgm5P2YUdv8DAQBITE43hogsWLDDmOBR1\n",
              "29kTc2GOHDlCzZo16du3L2+99ZbxWbPn3ClIYXVu1qwZ+/btY//+/UDOEMk6dercMiTsZhEREcTE\n",
              "xJCYmGi8lzu862ZhYWFs3LiR5ORkGjVqRHh4OK+//jotWrTI99jfrCjaICUlherVq+Ps7MyVK1fy\n",
              "DDUuqO3tFR4ezkcffQTkDIlbtWoVbdq0AXJ6ynbu3AnktFPufL4rV65w7tw5goODGT9+PC1atGDP\n",
              "nj0AVKxYMc/5VFj5tirsHK1QoQItW7Y0bpLl7ieXt7c3//3vf+nfv7/xEJnHH3+cGTNmGPNTr127\n",
              "ZgxRu3lfBbXzjz/+WGgP79q1azl37hyQ82CF3JEODRs2JD4+nqysLK5du8bKlSttqufthIeH8+mn\n",
              "n5KRkUFmZibz58/P93yz5/vsRp07d2bJkiVG7212dnaeuYc3x7J06VIqV67MAw88QHh4OBMmTMgz\n",
              "JLYoODk54ezsnOcHB/tudImI/FMUSyL1wAMP4O3tzeLFixkzZowxTyQhIYGHH36YmTNnsnjxYhwd\n",
              "HSlTpgzLli3jxRdfxMvLi6VLlxo9Vc7OzkyePJmAgACaNGliDLkqCj169ODq1asMGzbMeK9KlSp8\n",
              "+eWXjB49GrPZjK+vL1u3bsXLy4uePXvi4eGBv7+/kdgB7Nu3z5gU7ePjQ58+fYwJxR4eHnh6euZ5\n",
              "mMDtjB8/ntKlS+Pl5UXTpk3p3LkzTz75ZL7r+vv7k5KSQkBAgPFeq1atOHLkiDGUw9HRka+//ppV\n",
              "q1YZMQ0YMOCWoSG5wsPDKVWqFA0aNMDZ2ZlatWrRsmVLSpXKOVXGjRvHwoULMZvNjB492uYhI2Fh\n",
              "YaSnp2M2m/Od0N21a1cSEhKMh014enry9ttv065dO+Pudu6F4c1eeOEFBg0aZDxs4maFHb8aNWqw\n",
              "YMECunbtire3N0eOHDGG8BR1293oTs8PgBUrVuDl5YWPjw+RkZHGk9XsOXcKUlida9SowWeffUbf\n",
              "vn0xm83Mnj2b5cuX3/YufMOGDVm6dClDhgzB29sbNze3Ah+PXbNmTWrWrElgYCCQcz6fPn3a5uGR\n",
              "RdEGffv25dq1a7i6utK+ffs8PT4Ftb29PvjgAw4cOICXlxchISG89tprxjDDyZMn8+GHH+Lt7c2C\n",
              "BQvw8PAAcm4I5D5Awmw2c/36dZ555hkAXn75Zdq0aWM8bKKw8m11u3N08eLFxMfH4+HhgcViueVB\n",
              "LG5ubqxfv57hw4ezcuVKRo0ahb+/P02bNsVsNtOsWTPj89qnTx/+85//4OPjw/z58wts5+Tk5Dzz\n",
              "zm4WHBxM7969ady4MSdOnDB6crp168ZDDz2Em5sbnTp1wsfHx9jmdt9NhRk8eDC+vr74+vpisVhw\n",
              "cXHJ9zHi9nyf3Vyft956y/h+8vDwKPAJg35+fly6dMn4rLRp04YTJ07YNbQYch7IVJz/GkBE5J/E\n",
              "ZLVai2WW6LVr1+jSpQutWrUiKiqKqlWrcv36dX744QdSU1Pp1KlTcezWZvHx8fTu3ZuDBw/me6Er\n",
              "IiL3ln/961/06tWLFi1alHQocoMKEf5U7mlfwiYi8lf45dlpxVp+sc2RKl++PN9++y0ff/wx3bt3\n",
              "JyUlBZPJREhISJ4JyiVh4MCBfPfdd8yfP19JlIjI30TuQ4JERETuBcXWIyUiIiL/fOqREpF7VXH3\n",
              "SKk7RkRERERExE5KpEREREREROxUbHOkRERE5J9vsEcw04t5+IyIyL1IPVIiIiIiIiJ2UiIlIiIi\n",
              "IiJiJyVSIiIiIiIidlIiJSIiIiIiYiclUiIiIiIiInZSIiUiIiIiImInJVIiIiIiIiJ2UiIlIiIi\n",
              "IiJiJ/1DXhEREbkj6enpfPvtt2RlZeHg4FDS4RSrrKwsfvzxRwICAlTXf5j7qb6qq23q1avH8OHD\n",
              "b7ueyWq1Wu80QBEREbl/Xb58mUqVKnHp0iWcnZ1LOpxipbr+c91P9VVdi5aG9omIiIiIiNhJiZSI\n",
              "iIiIiIidlEiJiIiIiIjYSYmUiIiI3BEnJycmTpyIk5NTSYdS7FTXf677qb6qa9HSwyZERERERETs\n",
              "pB4pEREREREROymREhERERERsZMSKRERERERETspkRIREREREbGTEikREREp1JEjRwgKCqJRo0b4\n",
              "+/vz008/5bvexx9/zKOPPsojjzzCoEGDuH79+l8c6d2zpa6bNm0iICAAd3d3PDw8GDlyJNnZ2SUQ\n",
              "7d2x9bgCWK1WQkNDqVy58l8XYBGyta779u2jdevWuLm54ebmxqpVq/7iSO+eLXXNzs7mpZdewt3d\n",
              "HbPZTEhICEePHi2BaO/OCy+8gIuLCyaTiYSEhALXK7bvJquIiIhIIUJCQqwLFy60Wq1W6/Lly61+\n",
              "fn63rHP8+HFr7dq1rWfOnLFmZ2dbH3vsMeusWbP+4kjvni11/b//+z/rsWPHrFar1Zqammpt3ry5\n",
              "sc3fiS11zfXuu+9aBw4caK1UqdJfE1wRs6Wuf/75p7V+/frWuLg4q9VqtWZmZlrPnz//V4ZZJGyp\n",
              "65dffmkNCAiwZmRkWK1Wq/WNN96wPvHEE39lmEXi+++/t546dcpar1496549e/Jdpzi/m9QjJSIi\n",
              "IgU6f/488fHxPP300wB0796dU6dO3XL3esWKFXTu3JlatWphMpkYOnQon3/+eUmEfMdsrauPjw8N\n",
              "GjQAoGzZslgsFpKTk//qcO+KrXUF+Omnn1i9ejWjR4/+q8MsErbWdenSpTRr1owWLVoA4ODgQI0a\n",
              "Nf7yeO+GrXU1mUykp6eTlpaG1Wrl8uXLPPzwwyUR8l1p2bLlbeMuzu8mJVIiIiJSoFOnTlG7dm0c\n",
              "HR2BnAuwunXrcvLkyTzrnTx5knr16hmvXVxcblnnXmdrXW909uxZVqxYQadOnf6qMIuErXW9fv06\n",
              "gwYNYu7cuTg4OJREqHfN1romJSXh5OREp06dsFgs9O3bl99++60kQr5jttb1scceo3Xr1tSqVYva\n",
              "tWuzceNGJk2aVBIhF7vi/G5SIiUiIiJyBy5fvsxjjz3GyJEj8fPzK+lwisXrr79Ot27dcHNzK+lQ\n",
              "il1mZiYxMTHMnTuXPXv2UKdOHZ577rmSDqtYxMfHs3//fn799VdOnz5NWFgYQ4cOLemw/naUSImI\n",
              "iEiB/ud//oczZ86QmZkJ5Dx04OTJk9StWzfPenXr1uXEiRPG6+Tk5FvWudfZWleAK1eu0K5dO7p0\n",
              "6cJLL730V4d612yt6/fff8/MmTNxcXGhRYsWXL58GRcXl79VT40953BISAh16tTBZDLx9NNPs2PH\n",
              "jpII+Y7ZWtdPP/3UeHhIqVKleOaZZ4iNjS2JkItdcX43KZESERGRAj344IP4+vqyZMkSAFauXMnD\n",
              "Dz9Mw4YN86zXvXt31qxZw9mzZ7FarcyZM4eePXuWRMh3zNa6Xr16lXbt2tGuXTvGjRtXEqHeNVvr\n",
              "GhcXx4kTJ0hOTmbLli04OzuTnJz8t5o7ZGtdn3zySXbt2sXly5cBWLt2Ld7e3n95vHfD1ro2aNCA\n",
              "TZs2kZGRAcDXX3+Np6fnXx7vX6FYv5uK5JEVIiIi8o918OBBa7NmzayPPvqotUmTJtbExESr1Wq1\n",
              "DhgwwPrVV18Z682bN8/aoEEDa4MGDaz9+/c3ngj2d2JLXSdPnmx1dHS0ent7Gz+TJ08uybDviK3H\n",
              "NdfPP//8t31qn611/fTTT60eHh5WLy8va7t27awnT54sqZDvmC11TUtLsw4cONDauHFjq5eXl7VN\n",
              "mzbGkyj/TgYPHmytU6eO1cHBwfrggw9aH3nkEavV+td9N5msVqu1aFIyERERERGR+4OG9omIiIiI\n",
              "iNhJiZSIiIiIiIidlEiJiIiIiIjYSYmUiIiIiIiInZRIiYiIiIiI2EmJlIiIiIiIiJ2USImIiIiI\n",
              "iNhJiZSIiIiIiIidlEiJiIiIiIjYSYmUiIiIiIiInf4/YqNQ53IMvdQAAAAASUVORK5CYII=\n",
              "\">\n",
              "        \n",
              "      </div>\n",
              "      <script></script>\n",
              "      <script type=\"text/javascript\">\n",
              "        (() => {\n",
              "          const chartElement = document.getElementById(\"chart-ab516a74-c871-4c55-945a-44b6606dfc5c\");\n",
              "          async function getCodeForChartHandler(event) {\n",
              "            const chartCodeResponse =  await google.colab.kernel.invokeFunction(\n",
              "                'getCodeForChart', [\"chart-ab516a74-c871-4c55-945a-44b6606dfc5c\"], {});\n",
              "            const responseJson = chartCodeResponse.data['application/json'];\n",
              "            await google.colab.notebook.addCell(responseJson.code, 'code');\n",
              "          }\n",
              "          chartElement.onclick = getCodeForChartHandler;\n",
              "        })();\n",
              "      </script>\n",
              "      <style>\n",
              "        .colab-quickchart-chart-with-code  {\n",
              "            display: block;\n",
              "            float: left;\n",
              "            border: 1px solid transparent;\n",
              "        }\n",
              "\n",
              "        .colab-quickchart-chart-with-code:hover {\n",
              "            cursor: pointer;\n",
              "            border: 1px solid #aaa;\n",
              "        }\n",
              "      </style>"
            ]
          },
          "metadata": {}
        },
        {
          "output_type": "display_data",
          "data": {
            "text/plain": [
              "<google.colab._quickchart_helpers.SectionTitle at 0x7c082cdbe7a0>"
            ],
            "text/html": [
              "<h4 class=\"colab-quickchart-section-title\">2-d categorical distributions</h4>\n",
              "<style>\n",
              "  .colab-quickchart-section-title {\n",
              "      clear: both;\n",
              "  }\n",
              "</style>"
            ]
          },
          "metadata": {}
        },
        {
          "output_type": "display_data",
          "data": {
            "text/plain": [
              "import numpy as np\n",
              "from google.colab import autoviz\n",
              "\n",
              "def heatmap(df, x_colname, y_colname, figscale=1, mpl_palette_name='viridis'):\n",
              "  from matplotlib import pyplot as plt\n",
              "  import seaborn as sns\n",
              "  import pandas as pd\n",
              "  plt.subplots(figsize=(8 * figscale, 8 * figscale))\n",
              "  df_2dhist = pd.DataFrame({\n",
              "      x_label: grp[y_colname].value_counts()\n",
              "      for x_label, grp in df.groupby(x_colname)\n",
              "  })\n",
              "  sns.heatmap(df_2dhist, cmap=mpl_palette_name)\n",
              "  plt.xlabel(x_colname)\n",
              "  plt.ylabel(y_colname)\n",
              "  return autoviz.MplChart.from_current_mpl_state()\n",
              "\n",
              "chart = heatmap(_df_2, *['sentiment', 'content'], **{})\n",
              "chart"
            ],
            "text/html": [
              "      <div class=\"colab-quickchart-chart-with-code\" id=\"chart-604ed35b-7231-4a6b-8a18-e07bc75f4faf\">\n",
              "        <img src=\"data:image/png;base64,iVBORw0KGgoAAAANSUhEUgAAA1wAAAFrCAYAAADFBYj4AAAAOXRFWHRTb2Z0d2FyZQBNYXRwbG90\n",
              "bGliIHZlcnNpb24zLjcuMSwgaHR0cHM6Ly9tYXRwbG90bGliLm9yZy/bCgiHAAAACXBIWXMAAA9h\n",
              "AAAPYQGoP6dpAAB780lEQVR4nO3deXgNd///8eeRELRC1dq6iQghy8lJSEjsxN5GLXeDlqr9zu1G\n",
              "S221hLrRVmlL76K2llK1VN2taoW4G1sJYoudoLW1Rewhyfz+yC/zdUgiiZMqfT2uay7OLJ95z5w5\n",
              "J/M+n2UshmEYiIiIiIiIiMPle9gBiIiIiIiIPK6UcImIiIiIiOQRJVwiIiIiIiJ5RAmXiIiIiIhI\n",
              "HlHCJSIiIiIikkeUcImIiIiIiOQRJVwiIiIiIiJ5RAmXiIiIiIhIHlHCJSIiIiIikkeUcImIiIiI\n",
              "yCOrX79+uLm5YbFYiIuLy3CdhIQEGjRoQNGiRbHZbPcsnz17NpUrV6ZSpUr07NmT27dvZ2tZdijh\n",
              "EhERERGRR1b79u3ZsGEDFSpUyHQdV1dXxo0bx8KFC+9Zdvz4cUaOHElMTAxHjhzh3LlzzJw5877L\n",
              "sksJl4iIiIiIPLLq1atHuXLlslynePHi1KlThyeeeOKeZUuXLiUsLIwyZcpgsVjo06cPixYtuu+y\n",
              "7HLO0doiIiIiIiJ5LCkpiaSkJLt5Li4uuLi4OHxfJ0+etKsdc3Nz4+TJk/ddll1KuEREREQkW9w/\n",
              "mPywQ3gojvV//WGH8EhKPVsl19tOmN6JMWPG2M0bPXo0kZGRDxjVH08Jl4iIiIiIOFwqqbnedtiw\n",
              "Ybz+un2imxe1WwDly5fn6NGj5uuEhATKly9/32XZpT5cIiIiIiLicClGaq4nFxcXXF1d7aa8Srja\n",
              "tWvHypUrOXv2LIZhMH36dDp06HDfZdmlhEtERERERBwuFSPXU0707t2bcuXK8fPPP9OsWTM8PDwA\n",
              "6NGjBytXrgTg+vXrlCtXjr///e/Ex8dTrlw5hg0bBoC7uztjxoyhdu3aeHh4ULJkSXr37n3fZdll\n",
              "MQwjZ0ckIiIiIn9J6sMlOXHjTMVcb1uo7HEHRvJwqQ+XiIiIiIg43IP04XqcKOESERERERGHS1FD\n",
              "OkAJl4iIiIiI5IGc9sV6XCnhEhERERERh0tRwgVolEIREREREZE8oxouERERERFxODUpTKOES0RE\n",
              "REREHE6DZqRRwiUiIiIiIg6nQeHTKOESERERERGH06AZaZRwiYiIiIiIw6Uo3wI0SqGIiIiIiEie\n",
              "UQ2XiIiIiIg4nPpwpVHCJSIiIiIiDpeC5WGH8KeghEtERERERBwuVX24ACVcIiIiIiKSB1TDlUYJ\n",
              "l4iIiIiIOJwSrjQapVBERERERCSPqIZLREREREQcLtVQDRco4RIRERERkTygJoVplHCJiIiIiIjD\n",
              "paj3EqCES0RERERE8oCaFKbJ07QzJSWFTz/9lCZNmuDr60uNGjUYPHgwv//+e5bb1ahRg/Xr1+dl\n",
              "aHkuISGB6dOn281r2bIlBw8eBKBBgwasWLECgK5du/L+++/nqPyGDRuyYMEC8/W4ceMoWLAgN2/e\n",
              "NOdVrVqVtWvX5u4AHCwuLo4vvvgi0+Xr169n9erVuSr7/fff5+zZs7kN7R4lSpQgISHBYeWlW7ly\n",
              "Ja+99hqQ8fXh5uZGXFycw/f7uMnN5+Vu69evx2azOSSejGT0Xt75mXe0yMhIu8++I9zvOywzuXl/\n",
              "VqxYwZYtW3Iaop3IyEgGDBiQ4+3u9930OOnRowfR0dGA/fuU23MnInI/KVhyPT1O8izhSkpKIiws\n",
              "jN27dzNr1iz27NnD5s2bCQwMpFmzZhw+fDivdv2nkNHNyqpVq/D09HRI+Q0bNrRLSqOjo7HZbOZN\n",
              "y5kzZ0hISKB27doO2d+DelgJV2pqKqmpqbkq19HCwsKYMmUKkPH1IZJbY8aM+UMSLkd+h93JEQlX\n",
              "bv2VEq5Zs2bRsGHDhx2GiMhfTp4lXMOHD6d169a89957VKhQAYD8+fPz97//nUWLFvGPf/zDXHfT\n",
              "pk3YbDZ8fHx49dVXSU5ONpdNnjyZwMBAbDYbgYGBbN682Vzm5ubGqFGjCA4OpmLFiowbN85c1qBB\n",
              "AwYNGkTdunWpVKkSffr0AeD06dOULl2a69evm+t26tSJjz/+GIDNmzdTp04d/Pz8sFqtfP311wAM\n",
              "GjTIjKNevXrmr7w3btwgPDwcLy8v/Pz8aNq0KQB9+vTh4MGD2Gw2wsLCzHjvV4Nx9epVunXrho+P\n",
              "Dz4+PowZMybD9e5MuG7dusXx48fp2bOnOW/9+vXUqlWLggULcvjwYVq1akVgYCBWq5Vp06ZlWOaz\n",
              "zz7L6dOnAXjxxRcJCQkB0pLnp59+mqSkJPbs2UOdOnUICAjAy8vL7pxHRkYSHh7O888/j5eXF40a\n",
              "NeLChQucP3+eUaNGmUlh+nuRLi4ujunTp/P5559js9kYO3YsAPPnz8dqtWK1WmnVqhW//PLLPTGP\n",
              "HTuW06dPEx4ejs1mIy4ujsjISNq1a0ezZs3w8fHhzJkzmb5/kFbzVK1aNaxWK4MHD7Yr35Hnbt68\n",
              "ebzwwgtAxtcHwPLlyzO8nu+OqXbt2vj5+eHr68uIESOArK+dBg0aMHDgQOrVq0f58uUZOXIkq1at\n",
              "ok6dOri5uTF58uRsHfP3339PQEAAVquV+vXrEx8fD6Rdbz4+PkRERODn54e3tzexsbF229WpU4fq\n",
              "1asTFBRk/sp+p0OHDlGlShUADMOgdOnSDB8+HIAff/yRRo0amevu37+fxo0bU6VKFdq2bcutW7fu\n",
              "ew7ulpycnGG8ycnJNGvWjBo1auDt7U2nTp24du1aluc+p86fP0/btm3x9fXFx8eHGTNmmMvu/p64\n",
              "s8Z/3LhxVKtWDZvNhs1m48SJE+bnqW7duthsNs6fP3/f8jP73rzT/b7DfvnlF9q3b4+vry9Wq5WR\n",
              "I0feU0ZMTAxeXl7ExsZy+/Zthg4dSlBQEDabjRdffJGLFy+yatUqVq5cybvvvovNZmPWrFm5Ps+n\n",
              "Tp2iUaNGVK1aleeff95sTXF3Dc60adPo2rXrfb+b0rfN6HsN0lpxvPHGG+b19q9//cu8Fu+W2ffZ\n",
              "vHnzCA0NpWPHjmZLkGPHjtltV7NmTQICAqhXrx67du26p+wffvjB/Ntz+fJl8ufPz8yZMwH47LPP\n",
              "6NatG5C3tawiIhlJMfLlenqc5EkfruvXr7Np0ybee+89Ll68SO/evTl69CjNmjUjNjaWH374AU9P\n",
              "T3bv3k3VqlUJDw9n7ty5hIaG8sMPPzBv3jyzrM6dO/P6668DsGXLFrp27cqBAwfM5ZcuXWLz5s38\n",
              "9ttvVKpUiVdffZVnn30WgKNHjxIdHc3t27fx8vJi8+bNBAcHExoayoIFC+jVqxfnzp0jKiqKmTNn\n",
              "cuHCBV544QWWLl1K3bp1SU1N5dKlSwAMGTKESZMmAfDFF1/Qv39/Vq9ezerVq7l06ZJ545n+h3j6\n",
              "9OkMGDAgx03E3nrrLZKSkti9ezc3btygTp065jm6U82aNTl9+jSnTp3i+PHjBAUF0aBBA7p160Zk\n",
              "ZCTR0dE0atSIlJQUOnbsyIIFC6hatSrXr1+nVq1a1KxZk8DAQLsyGzduTFRUFC+//DK7du3C2dmZ\n",
              "y5cvs23bNqpXr46Liwtubm6sXbsWFxcXbty4QUhICKGhodSqVQuAn376ie3bt/P000/ToUMHZsyY\n",
              "wbBhwxg7diwrVqzI8I99+o3OpUuXzCYue/fu5Y033mD79u08++yz/Pvf/6ZHjx589913dtuOGjWK\n",
              "OXPmsHjxYrOJ2IoVK9i8eTM7d+6kdOnSWb5/58+f59VXXzVvDGfOnGnepDn63N0ps+sjq+s53bRp\n",
              "03juuecYNmwY8H/X3P2unRMnThAdHc3ly5dxc3Pj4sWLxMTEcPr0aTw9PenWrRtFihTJ9JgrVKhA\n",
              "p06dWL9+Pb6+vnz++ee0b9+effv2AXDgwAFmz57Nf/7zH6ZPn86bb77J999/z7Fjx4iMjOT777/H\n",
              "1dWVI0eOULduXRISEuzOS5UqVUhKSuLkyZNcvHgRd3d3s0nsmjVrCA0NNdeNi4sjOjoaFxcX6tWr\n",
              "x7Jly+jYsWO2Pz9Zxevk5MTChQt5+umnMQyDiIgIpk6dytChQzM99xkJDw+nUKFC5usjR46Y///X\n",
              "v/6Fp6cny5cv5/z581SvXh0/Pz/zc5SRixcvMmnSJM6cOUOhQoW4fv06+fLlY/r06cyYMYOYmBiK\n",
              "FStm7jur8rNznd3vO+zll1+madOmLF26FIBff/3VbvnixYuZMGEC3377LRUrVmT8+PE88cQTbN26\n",
              "FUi7XkeMGMFHH31EWFgYNpvNTIr69++f7fN8p5iYGHbv3k2ZMmWIiIhg2LBhZuKRkVKlSmX53ZQu\n",
              "s++1mTNnsm3bNrZv346Tk5NZiz1kyBC77e/3fbZt2zbi4uKoWLEiQ4cO5e2332bGjBls3LiRRYsW\n",
              "8eOPP+Li4kJMTAydOnUyP3Pp6tatS4cOHUhKSiI6OprAwECioqLo1asXa9asoUWLFtk6fyIijpaq\n",
              "QTOAPKrhio+PN/+wT5gwAZvNxvbt2/Hx8eHQoUMAeHt7c+jQIQ4cOICzs7N5M9W0aVPc3d3Nsnbu\n",
              "3En9+vXx8fExf3G9ceOGubxTp05AWr8bd3d3jh8/bi4LDw/H2dmZQoUKYbPZOHr0KJD2x/yjjz4C\n",
              "4JNPPqFjx448+eSTbN68GU9PT+rWrZt2cvLlo3jx4kDaDV9wcDA+Pj6MHTvWvAnx8/Nj//79RERE\n",
              "sHjxYvLnz/9A5y4qKoqePXuSL18+nnjiCbp06cKaNWvuWa9AgQLUrl2b9evXs379eho0aEClSpX4\n",
              "+eefuXnzJuvXr6dhw4YcPHiQffv20aFDB2w2GyEhIVy5csVMEO8UGhpKVFQUO3fuxM/Pj0aNGrF+\n",
              "/XqioqJo3LgxkFaj16NHD3x9falVqxYnTpywuyFr3rw5Tz/9NADBwcHmOc+p6Ohomjdvbt4ERkRE\n",
              "sG7dOlJSUrK1fcuWLc1kCzJ//7Zs2YLVasXLywuA7t27U6BAAQCHn7vsyOp6TlevXj0++eQT3nzz\n",
              "TX744QfzJvt+10779u1xcnLiqaeewt3dneeeew6LxcKzzz5LyZIlSUhIyPKYf/rpJ3x9ffH19QXg\n",
              "pZde4vTp0+Yv9R4eHtSsWROwf+9Xr17NkSNHqFevHjabjfbt25MvXz5Onjx5z7GlJ65RUVF07tyZ\n",
              "pKQkLl26dM95bNOmDYULF8bJyYmgoCBzX9n9/GQVr2EYTJkyBX9/f6xWK99++615vWR27jOyePFi\n",
              "4uLizKlGjRrmsqioKHr37g2k3fS3bduWqKioTMsCcHV1pXLlyrz88svMmDGDCxcuULBgwQzXvV/5\n",
              "2bnOsnL16lU2bNjAwIEDzXklS5Y0/z9//nzee+89oqOjqVixIpD2Q8iCBQvM2rlFixZlut+cnOc7\n",
              "tWrVijJlygDQq1ev+57T7Mrsey0qKoquXbvi4uKCs7MzPXv2zPB6u9/3WXpt493lf/311+zatYua\n",
              "NWtis9n417/+xYULF+z+BgLm37iNGzcSFRXF0KFD2bFjB6mpqaxbt86udvhBJSUlcfnyZbspKSnJ\n",
              "YeWLyONFfbjS5Fna6eTkBKT9stemTRsA819I62NUtmzZDLe1WNJO8q1bt2jbti2TJk1i7969/Pjj\n",
              "jwB2X+533nA4OTnZNUfMbFlQUBCFCxcmOjqamTNn8s9//jPLYzl58iR9+/ZlwYIF7N27ly+++MLs\n",
              "L+Hu7k58fDzNmzdn48aN+Pj4cPHixfucnexLPxcZadiwIdHR0URHR9OgQQMAatWqxZIlS/jll1+o\n",
              "WbMmhmFQvHhxuxu/48eP88orr9xTXmhoKGvXrjVrE9KTiDtvdocPH06JEiXYuXMnu3btokGDBnZ9\n",
              "R7J6P/LqPGTkySefNP+f1fuX1X4cfe6yIzvnr127dmzcuBFPT0+zxuV+x5JR2RntKyfHnN3YDcOg\n",
              "SZMmdmX+8ssvVK5c+Z4y7jxvoaGhNGzYkK+++orDhw/bJSzZvc6yum4yK2PhwoWsW7eO//3vf+zZ\n",
              "s4dBgwaZ10t2z31O3Rmns7Oz3Q8L6ft2cnJiy5YtDBgwgPPnz1OrVi1iYmJyXD7k3ec0ndVq5cKF\n",
              "C+zZs8ecZxgGU6dONa+B+Ph4Vq1aleH2jjrP6ced2TnNLkdcb1mtl9Vn55VXXrH77KTXcN4t/bPz\n",
              "448/0rhxY3x9fVmwYAFPPfWUmYQ6woQJEyhatKjdNGHCBIeVLyKPFzUpTJMnR1OtWjWzA7SPjw/f\n",
              "fPMNkNZXBmD37t1s2bKFmjVrUrVqVZKTk80+HVFRUeavezdv3uTWrVuUL18egKlTpzosxv79+9Ol\n",
              "SxeqVatm9hsJCQnh8OHD5k1MamoqFy5cIDExkfz581O2bFkMw7Dr0/Lzzz9jsVgICwtj0qRJGIbB\n",
              "qVOncHV1JTExMcdxhYaGMnv2bAzD4Nq1a8yfP99sm3+3hg0bEhUVxYkTJ6hatSoA9evX56233qJ2\n",
              "7doUKFAAT09PXF1dmTt3rrndkSNHMmyi88wzz1C0aFGmT59u3ux+8803JCQkEBAQAKQ1aypXrhzO\n",
              "zs4cPHgw09qDu93vfNy9vGHDhqxevdrsFzV9+nQaN25sJvI5KTur9y84OJjdu3ebzVTnzJlj9sFw\n",
              "9LnLScxZOXz4MKVLl6ZLly6888475mctJ9dOZrI65lq1arFnzx727t0LpDXNfPbZZ+9pina3Zs2a\n",
              "ERUVxe7du8156c3K7ta4cWPWrl1LQkICVapUITQ0lDFjxlCnTp0M3/u7OeIcXLx4kRIlSuDq6sqV\n",
              "K1fsmjhndu5zKjQ0lE8++QRIa4q3fPlymjRpAqTVvP30009A2nlK72945coVzp07R926dRk5ciR1\n",
              "6tRh586dABQpUsTuesqq/OzK6hp98sknqVevHu+99545784mhX5+fvz3v/+lW7du5mA4L7zwAlOm\n",
              "TDH7z16/ft1sGnf3vjI7z1u3bs3yB4xVq1Zx7tw5IG2AiPSWEx4eHsTGxpKSksL169dZtmxZto7z\n",
              "fkJDQ/nss8+4desWycnJzJo1K8PrLSffZ3cKCwtjwYIFZm1wamqqXd/Iu2NZuHAhxYoV44knniA0\n",
              "NJRRo0bZNcV1hGHDhpGYmGg3pTf9FBG5WyqWXE+PkzxJuJ544gn8/PyYP38+w4YNM/uxxMXFUa5c\n",
              "OaZOncr8+fNxdnamQIECLF68mNdeew1fX18WLlyIn58fkPaHcNy4cQQFBVG9enWzqZcjtG/fnqtX\n",
              "r9K3b19z3lNPPcVXX33F0KFDsVqtBAQEsHHjRnx9fenQoQPe3t4EBgaaCSDAnj17zM7d/v7+dO7c\n",
              "2ewY7e3tjY+Pj92gCPczcuRI8ufPj6+vLzVr1iQsLIwXX3wxw3UDAwO5ePEiQUFB5rz69etz+PBh\n",
              "swmJs7Mz33zzDcuXLzdj6t69+z1NUtKFhoaSL18+3N3dcXV1pUyZMtSrV498+dIulREjRjB37lys\n",
              "VitDhw7NdlOVxo0bk5SUhNVqzbBjeps2bYiLizMHzfDx8eHdd9+lefPmWK1WYmJizBvIu/Xr14+e\n",
              "PXuag2bcLav3r2TJksyZM4c2bdrg5+fH4cOHzaZDjj53d8rt9QGwdOlSfH198ff3Jzw83BxJLifX\n",
              "TmayOuaSJUvy+eef06VLF6xWKx9//DFLliy576/6Hh4eLFy4kN69e+Pn50e1atUyHTa8dOnSlC5d\n",
              "muDgYCDtej59+nS2awkdcQ66dOnC9evX8fT0pEWLFmYTY8j83OfUhx9+yP79+/H19aVhw4a8+eab\n",
              "ZvPGcePG8dFHH+Hn58ecOXPw9vYG0n44SB8Iw2q1cvv2bbPmceDAgTRp0sQcNCOr8rPrftfo/Pnz\n",
              "iY2NxdvbG5vNds+AMtWqVeP777+nf//+LFu2jCFDhhAYGEjNmjWxWq3UqlXL/Lx27tyZL7/8En9/\n",
              "f2bNmpXpeU5ISMiwdidd3bp16dSpE1WrVuXEiROMHz8egLZt2/LMM89QrVo1nnvuOfz9/c1t7vfd\n",
              "lJVevXoREBBAQEAANpsNNze3DIdXz8n32d3H884775jfT97e3pmOqFijRg0SExPNz0qTJk04ceJE\n",
              "jmrYIW1gqawemeDi4oKrq6vddHcfVRERsWcxDMPIi4KvX79O69atqV+/PhERERQvXpzbt2/z448/\n",
              "cuPGDYc1xcmt2NhYOnXqxIEDBzK8IRYRkT+Xf/7zn3Ts2JE6deo87FBE/rLcP5h8/5UeQ8f6v/6w\n",
              "Q3gkrTruk+ttW1bc68BIHq48yzQKFy7Md999R8mSJWnXrh02m42goCC+/fZbu18XH4YePXrQtm1b\n",
              "pk2bpmRLROQR8dFHHynZEhF5hPxRfbj69euHm5sbFoslyxHCZ8+eTeXKlalUqRI9e/bk9u3bAMyd\n",
              "O9cc1Mlms1GiRAnatm0LpLWucHJyslue00Hh8qyGS0REREQeL6rhkpz4+pgt19u2do/L9ro//vgj\n",
              "7u7u1KlThxUrVmTYNPr48ePUrl2bHTt2ULp0aVq3bk2zZs0yHDwv/Vme7dq1IyEhAZvNZj4qKjdU\n",
              "vSMiIiIiIg6XYlhyPeXkMRT16tWjXLlyWcaydOlSwsLCKFOmDBaLhT59+rBo0aJ71vvpp584f/58\n",
              "jvvYZ0UJl4iIiIiIOFwK+XI9OfoxFCdPnqRChQrmazc3twyfCTp79mw6d+5s92zda9euERgYSEBA\n",
              "AGPHjs32c2HTOec6ahERERERkTwwbNgwXn/dvilnXo+Keu3aNb744gu7x76ULVuWX375hVKlSnHh\n",
              "wgXCw8N57733GDx4cLbLVQ2XiIiIiIg4XKqRL9eTox9DUb58eU6cOGG+TkhIsHtUEMCSJUvw9vbG\n",
              "y8vLnOfi4kKpUqUAKF68ON26dTOf2ZtdSrhERERERMThHqRJoaO1a9eOlStXcvbsWQzDYPr06XTo\n",
              "0MFundmzZ9O9e3e7eefPnzdHM0xKSmL58uU5HnFdCZeIiIiIiDjcgwyakRO9e/emXLly/PzzzzRr\n",
              "1gwPDw8g7VFQK1euBMDd3Z0xY8ZQu3ZtPDw8KFmyJL179zbLOHjwIHFxcYSHh9uVvWHDBvz9/fHz\n",
              "8yMgIIAyZcrw5ptv5ig+DQsvIiIiItmiYeElJz49HJLrbV+pvMmBkTxcGjRDREREREQcLqcPMH5c\n",
              "6SyIiIiIiIjkEdVwiYiIiIiIw6WSs75YjyslXCIiIiIi4nBqUphGCZeIiIiIiDhcXgzv/ihSwiUi\n",
              "IiIiIg6XmsPh3R9XSrhERERERMThVMOVRmdBREREREQkj6iGS0REREREHC5Vg2YASrhERERERCQP\n",
              "pGhYeEAJl4iIiIiI5AHVcKVRwiUiIiIiIg6nGq40SrhERERERMThVMOVRmdBREREREQkj6iGS0RE\n",
              "REREHC5FNVyAEi4REREREckDqerDBSjhEhERERGRPKAarjRKuERERCTX3D+Y/LBDeCiO9X/9YYfw\n",
              "UPxVj1tyJ9VQDRco4RIRERERkTyQovH5AI1SKCIiIiIikmdUwyUiIiIiIg6nJoVplHCJiIiIiIjD\n",
              "paoxHaCES0RERERE8kCKargAJVwiIiIiIpIH1KQwjRIuERERERFxuFQ9hwvQKIUiIiIiIiJ5RjVc\n",
              "IiIiIiLicCmoSSEo4RIRERERkTygPlxplHCJiIiIiIjDqQ9XGp0FERERERFxuFQsuZ5yol+/fri5\n",
              "uWGxWIiLi8t0vdmzZ1O5cmUqVapEz549uX37NgDr16+nUKFC2Gw2c7px48Z9t8suJVwiIiIiIuJw\n",
              "KYYl11NOtG/fng0bNlChQoVM1zl+/DgjR44kJiaGI0eOcO7cOWbOnGku9/T0JC4uzpwKFSqUre2y\n",
              "QwmXiIiIiIg8surVq0e5cuWyXGfp0qWEhYVRpkwZLBYLffr0YdGiRfctO7fb3Ul9uERERERExOEe\n",
              "pA9XUlISSUlJdvNcXFxwcXHJVXknT560qwFzc3Pj5MmT5uujR48SEBCAk5MTr776KhEREdnaLjtU\n",
              "wyUiIiIiIg6XalhyPU2YMIGiRYvaTRMmTMiTOAMCAvj555/ZsWMHX331FdOnT+fLL790WPlKuERE\n",
              "RERExOEeZNCMYcOGkZiYaDcNGzYs17GUL1+eEydOmK8TEhIoX748AK6urhQtWhSAcuXK0bFjR2Ji\n",
              "Yu67XXYp4RIREREREYd7kBouFxcXXF1d7abcNicEaNeuHStXruTs2bMYhsH06dPp0KEDAGfOnCE1\n",
              "NRWAK1eu8M033+Dv73/f7bJLCZeIiIiIiDhcqpEv11NO9O7dm3LlyvHzzz/TrFkzPDw8AOjRowcr\n",
              "V64EwN3dnTFjxlC7dm08PDwoWbIkvXv3BmDZsmX4+vri5+dHrVq1aNKkCa+++up9t8sui2EYRo62\n",
              "EBEREfn/3D+Y/LBDeCiO9X/9YYcg8qcXvrlPrrddHDzdgZE8XBqlUEREREREHC41h8/Telwp4RIR\n",
              "EREREYdLRQkXKOESEREREZE8oBquNEq4RERERETE4ZRwpdEohSIiIiIiInnkT5FwpaSk8Omnn9Kk\n",
              "SRN8fX2pUaMGgwcP5vfff7db7/333+fs2bPm6+nTp/Puu++ar7t3746Xlxdt2rTJ8LWjNWjQgBUr\n",
              "VjisvNOnT1O3bt0Ml0VGRjJgwACH7csRbDYbV65ceSj7TkhIoFixYtmO5dKlS0ycONEh++7RowfR\n",
              "0dE53i4yMpKbN2/meLt58+bxwgsv5Hi7u02bNo2uXbtmuMzNzY24uLgcl5nVdi1btuTgwYNA2jEc\n",
              "OHAgx+Xn1J2fk5UrV/Laa6/l+T6za+/evbi5uWW4bNSoUXz++efZLishIYHp03M/elNcXBxffPFF\n",
              "rra9evUqFkvGv1jeunWL5557Dl9fX/75z3/mOr67ZfUZuPM6c4T7ndusYomNjSU8PNxhseTEg7yn\n",
              "6RISEnBycsJms+Xq+0BE5G4P8hyux8lDb1KYlJRE27ZtqVq1KrNmzaJChQrcvn2bFStW0KxZMxYt\n",
              "WkTlypWBtISrQYMGlClTBoA+ff5vqMlz587xxRdfcPnyZZycnO55/Sh45plnzKdaPwr+TH+Q7xdL\n",
              "esI1dOjQB97XrFmzcrXdmDFjGDBgAAULFnzgGB4Fq1atMv8/b948ihUrRtWqVfNsf8nJyXavw8LC\n",
              "CAsLy3E5KSkpf/h3xtixY3O0fnpScOd3YHYlJycTFxfHihUrcvzgxvvZuXMnhw8fzjABSn+gZL58\n",
              "jv2d787rzBEe5NzWqFGDxYsXOzSe7HDke1qkSJE/1Xe7iDzaHrfEKbceeg3X8OHDad26Ne+99x4V\n",
              "KlQAIH/+/Pz9739n0aJF/OMf/wDSbkhOnz5NeHi4+etb+q/Zly5domHDhty8eZPq1aszceLEe17v\n",
              "2bOHOnXqEBAQgJeXF+PGjTNjiIyMJDw8nOeffx4vLy8aNWrEhQsXAPD19WXTpk3mujNnzszwF8yu\n",
              "Xbvy/vvvm68HDRpEZGQkALdv32bo0KEEBQVhs9l48cUXuXjx4j1l3F1rk5n4+Hh8fHz47rvvALBY\n",
              "LIwfP56goCAqVqzI3LlzzXVjY2MJCQnBarUSFBTExo0bzfM+fvx4IO2GxWKxcOjQIQC6devGZ599\n",
              "dt84LBYLly5dumd+SEiIec4GDx7Ms88+ay5zd3fn5MmTnD17loYNG1K9enW8vb3p27eveUO2ZcsW\n",
              "qlevjs1mw8fHh48//jjbsaSmptK3b1+qVauGn58f1atX5+bNm/Tp04crV65gs9moUaMGAGfPnuXF\n",
              "F18kKCgIX19fRowYYZbn5ubGqFGjCA4OpmLFinbXy501m127dqV37940btyYKlWq0LZtW27dunVP\n",
              "fOk3b3Xr1sVms3H+/HnOnz9P27Zt8fX1xcfHhxkzZmR6fJcvXyYsLAwvLy/q1atHQkICQJbX9ZUr\n",
              "VwgPD8fT05M6deqwZ8+eLM/h8uXLMzzeyZMnExgYiM1mIzAwkM2bN9tt9/nnn1O9enU8PDzsapzT\n",
              "a79mzZpFbGwsr732GjabLcMb5MOHD9OqVSsCAwOxWq1MmzbNXPbSSy9Ro0YNrFYrrVq1Mmu50z8v\n",
              "Q4YMISAgwG4buLcmYv78+dSsWZOAgADq1avHrl27zPUaNmxIu3bt8PX1ZevWrXblZHWtzps3j9DQ\n",
              "UDp27GjWzh87dszcNjIyksqVK1O9evUsax/u/v5Id+PGDcLDw/Hy8sLPz4+mTZsCadfTwYMHsdls\n",
              "ZlI5aNAg832qV6+eXdJjsVgYPXo0gYGB9OzZk1GjRhEdHY3NZjOvzW3bttGoUSNq1KiBv78/S5Ys\n",
              "MbefMWMGlStXxt/fnylTpmR4DPHx8bz00kucPHkSm83GZ599RmRkJO3ataNZs2b4+Phw5swZvv/+\n",
              "e+rUqUP16tUJCgoya4uzOs93On36NIGBgcyZMwewr2Vt0KABgwYNom7dulSqVCnTpCk5OZlmzZpR\n",
              "o0YNvL296dSpE9euXcv03N7t6tWrGb7n69evx2azAfDrr7/StGlTfH19sVqt5gM07+bm5sYbb7yR\n",
              "4WfoQd9TEZGHLRVLrqfHyUOt4bp+/TqbNm3ivffe4+LFi/Tu3ZujR4/SrFkzYmNj+eGHH/D09GT3\n",
              "7t2MGjWKOXPmsHjxYvMPWvpNb7FixVi1apVdM4gOHTrYvb5y5Qpr167FxcWFGzduEBISQmhoKLVq\n",
              "1QLgp59+Yvv27Tz99NN06NCBGTNmMGzYMPr168e0adMICQkB4KOPPrrnxu5+3n33XZ544gnzRu6t\n",
              "t95ixIgRfPTRRzk+Z+vXryciIoIFCxYQEBBgzndxcWHr1q0cOHCAwMBAOnfuTGpqKm3btuWTTz6h\n",
              "WbNmbNiwgXbt2nHkyBFCQ0MZN24cw4cPZ82aNQQHBxMVFUWVKlWIioqyu+HOqdDQUKKioggJCWHd\n",
              "unWUK1eO+Ph4XFxccHZ2pnz58ty8eZP//ve/PPnkk6SkpNC6dWu+/PJLOnTowIQJExg0aBAdO3YE\n",
              "yDA5zcyuXbtYu3Yt+/btI1++fCQmJlKgQAGmT59+TzOZV155heHDh1O/fn2Sk5N57rnnWLJkCX//\n",
              "+9+BtFqxzZs389tvv1GpUiVeffVVu+QxXVxcHNHR0bi4uFCvXj2WLVtmxp5u+vTpzJgxg5iYGDOp\n",
              "Tk+Gli9fzvnz56levbr5hPO7bdy4kbi4OKpVq8Y777xDr169+OGHH3Bzc8v0uh47diwuLi4cOHCA\n",
              "y5cvU6tWLWrWrJnpucvseDt37szrr6c94HPLli107drVrnnguXPniI2N5ffffycgIIDatWubnxdI\n",
              "a4K5YMECBgwYkGFTrJSUFDp27MiCBQuoWrUq169fN2MNDAzk/fffp2TJkgBMnDiRyMhIs8lXYmIi\n",
              "3t7evP322wDmjxwZnb9Fixbx448/4uLiQkxMDJ06dWLfvn1A2ud/586deHp63rNtsWLFMr1WIS1R\n",
              "iYuLo2LFigwdOpS3336bGTNm8O2337JkyRK2b99OkSJF6Ny5c6bnPjOrV6/m0qVLxMfHA5g/BE2f\n",
              "Pp0BAwbYXc9Dhgxh0qRJAHzxxRf079+f1atXm8udnJzYtm0bkJYorlixwvwOvXTpEr169WLVqlWU\n",
              "LVuW3377jYCAAEJCQrh48SKjR49m586dlC1bluHDh2cYq5eXF7NmzbKLKzIyks2bN7Nz505Kly7N\n",
              "sWPHiIyM5Pvvv8fV1ZUjR45Qt25dM3nO6jxD2g8MHTp0YMqUKWbyebejR48SHR3N7du38fLyYvPm\n",
              "zQQHB9ut4+TkxMKFC3n66acxDIOIiAimTp3K0KFDMzy3d8vsPb/TggULqFixIj/88IPde5eRzD5D\n",
              "D/Ke3i06OjrTJratWrXi3//+d6bxiYjklmq40jzUhCs+Pt68uZwwYQI2m40vv/yShQsXsnDhQgC8\n",
              "vb05dOgQVqv1gfZ148YNIiIiiIuLI1++fJw6dYq4uDhz/82bN+fpp58GIDg42KwNePnllxk1ahTn\n",
              "zp3j8OHDWCyWTPtZZWbFihUkJiaybNkyIK2fQ2Z9ObKybt06Vq9ezQ8//ED58uXtlr300ksAVK1a\n",
              "FWdnZ86ePcvFixfJly8fzZo1A6BOnTqULl2auLg4ateuTVxcHDdu3OB///sfkyZNYtq0aTRu3Jgn\n",
              "nniCZ555JsfxpQsNDWXEiBFERETg7OzM3//+d6KionBxcaFx48ZAWvOiIUOGsGHDBgzD4Pz58/j4\n",
              "+NChQwcaNmzIW2+9xeHDh2nUqBF16tTJ9r7d3d1JTk6mW7duNGzYkFatWmXYhOnatWusXbuWc+fO\n",
              "mfOuXr1q9wtyp06dAChRogTu7u4cP348w4SrTZs2FC5cGICgoCCOHj2arVijoqLYvn07AKVKlaJt\n",
              "27ZERUVlmHCFhIRQrVo1AHr16sWIESNISUnJ8rpeu3YtU6ZMwWKxULRoUTp16pRlbJkd786dO/n3\n",
              "v//N77//jrOzMwcPHuTGjRsUKlQISOsrabFYKFGihHkMdyZc93Pw4EH27dtnd2N95coV4uPjCQwM\n",
              "ZOHChcyfP5+bN29y8+ZNSpQoYa6XP39+Xn755fvu4+uvv2bXrl12CeeFCxe4ceOGeX4zSrYg62sV\n",
              "MGsF0/8/depUANauXcuLL76Iq6srAL1792bDhg3ZPi8Afn5+7N+/n4iICOrXr0/Lli0zXXfNmjVM\n",
              "nTqVK1eukJqaes8Nfrdu3TLddtOmTRw7dowWLVrYzT948CB79+6lRYsWlC1bFoB//OMfTJgwIdvH\n",
              "0LJlS0qXLg2kJZBHjhyhXr165vJ8+fJx8uRJnn322SzP8759+wgLC2PFihX4+fllur/w8HCcnZ1x\n",
              "dnbGZrNx9OjRexIuwzCYMmUK3377LcnJySQmJuboms3sPb9TrVq1mDJlCgMHDqRevXo0b9480/Iy\n",
              "+ww9yHt6t4YNGzqkqWBSUhJJSUl284zkZCzOD72Hgoj8CSnhSvPQvyHT+0rs3buX9957D0i7gU3/\n",
              "FfXMmTNZ/nHNruHDh1OiRAl27tyJs7Mzbdu2tRvA4M5+NU5OTmZ/kEKFCtG1a1dmzJjB/v37M+0I\n",
              "7uzsTEpKivn65s2bPPnkk0DaH/epU6dm+otsdnl4eHDgwAG2bNlyT8KVWfx3S+/s7uLiQo0aNViy\n",
              "ZAmFChWiQYMG9OrVi++//95MinIrODiYvXv38vXXX9OoUSNCQ0MZOXIkLi4uZnPMyZMnc/78eX76\n",
              "6ScKFizI66+/br4fAwYMoHXr1kRFRTF8+HB8fHz4z3/+k619Fy1alL179/K///2P6Ohohg0bxo8/\n",
              "/ojzXTcDhmEAaTU2mfWpyu45ze5695PZQARZud91nZPyMzqOW7du0bZtW6KjowkMDOTy5csULVqU\n",
              "pKQkM+F60OMwDIPixYtneDO4YcMGPvzwQzZv3kypUqVYuXIlo0aNMpcXLlw4W32CDMPglVdeMZvR\n",
              "3i39s5qRrK5VyPlnLyfc3d2Jj49n3bp1REVFMXjw4AzP08mTJ+nbty/btm2jUqVK7N692y6pgayP\n",
              "0TAMvL297ZpPp9u7d+8DHced+zUMgyZNmpg/qN1p3LhxWZ7nZ555hqSkJNatW5fl34TsvB8LFy5k\n",
              "3bp1/O9//8PV1ZUPP/yQdevWZfuYsrOP4OBg4uLiiIqKYvny5YwcOZKdO3dmq3+gxWJ54Pf0bo6q\n",
              "4ZowYQJjxoyxm1esWVOeatEs27GIiPzVPNQ+XNWqVWPLli0A+Pj48M033wBpo4sB7N69my1btpi/\n",
              "Sru6upKYmJirfV28eJFy5cqZv9CvWbMm29v+85//ZObMmaxbt86sSbqbh4eH2WTw999/t+un8sIL\n",
              "LzBlyhSuX78OpDWlTG/KlBPly5dn7dq1jBs3zq6fVmY8PT1JTU01j3XTpk2cPXvWbJIZGhrKqFGj\n",
              "aNy4Mfny5cPf35/JkycTGhqa49julD9/fmrVqsVbb71FaGgoVquV+Ph41q9fT6NGjYC096NMmTIU\n",
              "LFiQs2fP2vUXOXjwIBUrVqRnz54MHz7cvEay49dff+XatWs0bdqU8ePH4+bmRnx8PK6urty4ccPs\n",
              "X/Xkk0/SsGFDu5ELT58+zc8///xAx56VIkWK2F2/oaGhfPLJJ2bcy5cvp0mTJhluu3nzZrMZ36xZ\n",
              "s2jYsCFOTk5ZXtehoaHMnTsXwzC4fPkyixYtynHMN2/e5NatW2aCn9Ev+fPmzQPSaoy++uqrDBP2\n",
              "rD67np6euLq62l3TR44c4cKFC1y8eJEiRYrw9NNPc+vWrSz7uWUlLCyMBQsWcPLkSSCt1io2NjZb\n",
              "22Z1rWYlNDSUJUuWcOXKFQzDYObMmTmO++eff8ZisRAWFsakSZMwDINTp07dcz4TExPJnz8/ZcuW\n",
              "xTCM+zZ7vnv7kJAQjh8/TlRUlDkvLi6OW7du0ahRI1avXm32nXuQ0RGbNWtGVFQUu3fvNuelf2/e\n",
              "7zw/9dRTrFmzhhUrVuR4kJG7Xbx4kRIlSuDq6sqVK1fMaxge7O/MnY4fP86TTz7Jiy++yNSpUzl0\n",
              "6BBXr17NcN2MPkMP+p7eLb2GK6MpJ80Jhw0bRmJiot1UrMmD/UgnIo8vjVKY5qEmXE888QR+fn7M\n",
              "nz+fYcOGsW3bNqpXr05cXBzlypVj6tSpzJ8/36yd6NevHz179szVkLUjRoxg7ty5WK1Whg4dat74\n",
              "Z0e5cuXw9/fn5ZdfNpuO3a1Xr178+uuvVKtWjS5dutg1CxsyZAiBgYHUrFkTq9VKrVq1ct20o2zZ\n",
              "sqxbt46PPvqIDz/8MMt1CxQowPLlyxk9ejRWq5UBAwawdOlS81fR0NBQTpw4YSZYTZo04dSpUzRo\n",
              "0CBXsd0pNDSU8+fPU7t2bSwWC0FBQZQvX57ixYsD0L9/f3766Se8vb3p3LmzXZI3bdo0vL298ff3\n",
              "Z8SIEWbNZ3acOnWKJk2aYLVa8fHxwcfHhxYtWlC8eHG6dOmC1Wo1B834/PPPOXLkCD4+Pvj6+tK2\n",
              "bdt7HkXgSAMHDqRJkybmoBkffvgh+/fvx9fXl4YNG/Lmm29m2scqvT+Ht7c3K1euNBOPrK7rkSNH\n",
              "cuPGDapWrUrLli1z1DQznaurK+PGjSMoKIjq1atToECBe9YpWbKkOQBC3759M2ya1atXL8aPH5/h\n",
              "oBnOzs588803LF++HKvVire3N927d+fGjRs0b94cT09PPD09zQFHcqNu3bq88847tGnTBj8/P7y9\n",
              "vbM9hHZW12pWWrZsSfv27QkICKBGjRr31Epnx549e6hduzZ+fn74+/vTuXNnrFareZ58fHwICwvD\n",
              "19eXDh064O3tTWBg4H331bhxY5KSkrBarfTp04ennnqKb7/9lvHjx+Pn54eXlxdDhw4lNTUVHx8f\n",
              "IiMjqVu3Lv7+/ri4uOT4ONJ5eHiwcOFCevfujZ+fH9WqVTMHC8nOeS5SpAirV69m06ZNvPHGG7mO\n",
              "o0uXLly/fh1PT09atGhh10z87nObW+vXrzcH/wkJCeHdd9+laNGiGa6b0WfoQd/TvOLi4oKrq6vd\n",
              "pOaEIpIZJVxpLEZ626qH5Pr167Ru3Zr69esTERFB8eLFuX37Nj/++CM3btzgueeee5jhAWn9fTw9\n",
              "PYmJiTHb7YuIiDwoNzc3VqxYkesfExwpISEBm82W4eizWXH/YHLeBPQnd6z/6w87BJE/vQZrB+V6\n",
              "2/WNJzkwkofroQ8LX7hwYb777jtKlixJu3btsNlsBAUF8e233+Lv7/+ww2P69OlUrVqViIgIJVsi\n",
              "IvLYcnJyonDhwnrwsYg4jIaFT/PQa7hERETk0aUaLhHJTJ2owbnedkPoOw6M5OF66DVcIiIiIiIi\n",
              "jyv1dBUREREREYczHrPBL3JLCZeIiIiIiDjc4zbaYG4p4RIREREREYdTDVcaJVwiIiIiIuJwquFK\n",
              "o4RLREREREQcTmOhp9EohSIiIiIiInlENVwiIiIiIuJwj9sDjHNLCZeIiIiIiDicBs1Io4RLRERE\n",
              "REQcToNmpFHCJSIiIiIiDqdBM9Io4RIREREREYdTk8I0GqVQREREREQkj6iGS0REREREHE41XGlU\n",
              "wyUiIiIiIg6XalhyPeVEv379cHNzw2KxEBcXl+l6s2fPpnLlylSqVImePXty+/ZtANatW0dQUBBe\n",
              "Xl54e3szePBgUlNTAUhISMDJyQmbzWZOR48ezVF8SrhERERERMThDCP3U060b9+eDRs2UKFChUzX\n",
              "OX78OCNHjiQmJoYjR45w7tw5Zs6cCcBTTz3FF198QXx8PNu3b2fTpk189tln5rZFihQhLi7OnCpV\n",
              "qpSj+JRwiYiIiIiIwxmGJddTUlISly9ftpuSkpIy3E+9evUoV65clrEsXbqUsLAwypQpg8VioU+f\n",
              "PixatAgAf39/3N3dAShYsCA2m42EhASHnQclXCIiIiIi4nAPknBNmDCBokWL2k0TJkzIdSwnT560\n",
              "qwFzc3Pj5MmT96x39uxZli5dynPPPWfOu3btGoGBgQQEBDB27FhSUlJytG8lXCIiIiIi8qcybNgw\n",
              "EhMT7aZhw4bl6T4vX77M888/z+DBg6lRowYAZcuW5ZdffmHbtm1ERUURExPDe++9l6NylXCJiIiI\n",
              "iIjDGQ8wubi44Orqaje5uLjkOpby5ctz4sQJ83VCQgLly5c3X1+5coXmzZvTunVrXn/9dXO+i4sL\n",
              "pUqVAqB48eJ069aNmJiYHO1bCZeIiIiIiDjcgzQpdLR27dqxcuVKzp49i2EYTJ8+nQ4dOgBw9epV\n",
              "mjdvTvPmzRkxYoTddufPnzdHM0xKSmL58uX4+/vnaN9KuERERERExPEepIorB3r37k25cuX4+eef\n",
              "adasGR4eHgD06NGDlStXAuDu7s6YMWOoXbs2Hh4elCxZkt69ewPwwQcfsHXrVpYvX24O/f7vf/8b\n",
              "gA0bNuDv74+fnx8BAQGUKVOGN998M0fxWQwjpwMvioiIiKRx/2Dyww7hoTjW//X7ryTyF1d5ybhc\n",
              "b3v47yPuv9IjwvlhByAiIiIiIo8fVeukUZNCERERERGRPKIaLhEREck1Na2TvwI1nc2dvBj84lGk\n",
              "hEtERERERBxPCReghEtERERERPKA+nClUcIlIiIiIiKOp4QLUMIlIiIiIiJ5QH240miUQhERERER\n",
              "kTyiGi4REREREXE8NSkElHCJiIiIiEgeUJPCNEq4RERERETE8VTDBSjhEhERERGRPKEaLlDCJSIi\n",
              "IiIieUE1XEAuRimcM2dOtuaJiIiIiIj81eU44Zo2bdo98z766COHBCMiIiIiIo8J4wGmx0i2mxRu\n",
              "3bqVzZs38+uvv/Lhhx+a8xMTE0lKSsqT4ERERERE5BGlUQqBHCRcZ86cIS4ujuvXr7Nz505zvqur\n",
              "K/PmzcuL2ERERERE5BFlPGY1VbmV7YSrdevWtG7dmu+++44WLVrkZUwiIiIiIvKoU8IF5GKUwhYt\n",
              "WvDTTz9x9OhRkpOTzfldunRxaGAiIiIiIvIIU5NCIBcJV0REBKtXr8Zms+Hk5ASAxWJRwiUiIiIi\n",
              "InKXHCdca9asIT4+noIFC+ZFPCIiIiIi8hiwqEkhkIuEq2zZsri4uORFLCIiIiIi8rhQwgXkIuGq\n",
              "WbMm7du3Jzw83K6WKywszKGBiYiIiIjII0x9uIBcJFyxsbEAfPzxx+Y8i8WihEtERERERP6PariA\n",
              "XCRc0dHReRGHiIiIiIg8TpRwAZAvpxskJyfz3nvvERERAcDRo0dZt26dwwMTERERERF51OW4hqtv\n",
              "376kpKSwYcMGAJ5++mnCw8PNpoYiIiIiIiKq4UqT44Rry5YtxMXF4e/vD0CxYsW4ffu2wwMTERER\n",
              "EZFHmAbNAHLRpPDu52+lpKSQmprqsIBERB4mNzc3PD09sdls2Gw2evTo8bBDAqBr1668//77DzuM\n",
              "R5LFYuHSpUsPO4x7dO/eHS8vL9q0aZPh8h49emTab3rQoEFERkbmYXQiIg/OYuR+epzkOOGyWq0s\n",
              "WLCA1NRUjhw5Qp8+fWjQoEEehCYi8nAsXryYuLg44uLimDVr1h+yz+Tk5D9kP3+2ff9VnTt3ji++\n",
              "+II9e/bw1Vdf3bM8JSWFWbNm0bBhw4cQnYiIgxgPMOVAv379cHNzw2KxEBcXl+l6s2fPpnLlylSq\n",
              "VImePXvatdLL7bLsyHHCNXnyZGJiYjh79iy1a9cmX758TJw4MafFiIg8MtavX4/NZjNf7927Fzc3\n",
              "NwASEhIoVqwYo0ePpnr16nh4eLBq1Spz3W3bttGoUSNq1KiBv78/S5YssdtuyJAhBAQEMG3aNNau\n",
              "XUtwcDD+/v54e3sze/bsbMW3efNm6tSpg5+fH1arla+//hqAw4cP06pVKwIDA7FarUybNs3cxmKx\n",
              "MHr0aAIDAxk2bBhXrlyhZ8+eBAUFYbVa6dWrF7du3QKgQYMGDBw4kHr16lG+fHlGjhzJqlWrqFOn\n",
              "Dm5ubkyePNksNzY2lpCQEKxWK0FBQWzcuPG+52nSpEn06tXLLOPSpUuUKFGCCxcuZPctYsaMGVSp\n",
              "UoWAgADeeustLJaMm7FkFh/A/PnzsVqtWK1WWrVqxS+//ALAvHnzCA0NpWPHjnh5eRESEkJ8fDxt\n",
              "2rShWrVqNG3alKtXr3Lz5k3KlCnDqVOnzDKHDx/OkCFD7GK4dOkSDRs25ObNm1SvXp2JEycyb948\n",
              "GjZsSLt27fD19WXr1q00aNCAFStWAHDmzBmaNWuGl5cXoaGh/Pzzz2Z5mV03p0+fpnTp0ly/ft1c\n",
              "t1OnTnaPdREReRy0b9+eDRs2UKFChUzXOX78OCNHjiQmJoYjR45w7tw5Zs6c+UDLsivHCdfNmzeZ\n",
              "MWMG586d49y5c8yYMYMbN27ktBgRkT+t8PBws0lhRrUPd0tMTMRqtbJ9+3amTZvGa6+9BqTdWPfq\n",
              "1YvPP/+c2NhY1qxZw8CBA80b+cTERLy9vdmxYwcDBgwgICCADRs2sHPnTmJiYhg7dqzdjXVGLly4\n",
              "wAsvvMCECRPYtWsXcXFx1K1bl5SUFDp27Mh7773Htm3b2LJlCzNnzmTbtm3mtk5OTmzbto13332X\n",
              "gQMHUrduXbZu3cquXbtITU3lgw8+MNc9ceIE0dHR7Nq1iw8//JBVq1YRExPDxo0bGTVqFJcuXeLW\n",
              "rVu0bduW0aNHs3v3biZPnky7du24evVqluepR48erFixwmz2N3fuXFq3bk3x4sWz9X7t3buXyMhI\n",
              "fvzxR3bs2JFpjV1W8e3du5c33niD7777jt27dxMSEmLXnHTbtm28/fbbxMfHU6lSJZ5//nmmT5/O\n",
              "/v37KVCgAJ9++ikFCxake/fuZkKTlJTE3LlzzVF90xUrVoxVq1ZRpEgR4uLiGDp0KAA//fQT48eP\n",
              "Z8+ePQQHB9tt069fP4KCgoiPj+fTTz9l7dq15rLMrptnnnmG0NBQFixYAKTVqkVFRdG5c+dsnVcR\n",
              "kUdFvXr1KFeuXJbrLF26lLCwMMqUKYPFYqFPnz4sWrTogZZlV44TrqZNm2ZrnojIo+rOJoWZ9a+5\n",
              "U8GCBWnbti0AwcHBHD16FIBNmzZx7NgxWrRogc1mIzQ0FICDBw8CkD9/fl5++WWznN9//52///3v\n",
              "+Pj40KhRI37//Xf27t2b5b43b96Mp6cndevWBSBfvnwUL16cgwcPsm/fPjp06IDNZiMkJIQrV64Q\n",
              "Hx9vbtutWzfz/ytWrODdd9/FZrPh7+9v/pKXrn379jg5OfHUU0/h7u7Oc889h8Vi4dlnn6VkyZIk\n",
              "JCRw8OBB8uXLR7NmzQCoU6cOpUuXNpt3ZHaeihUrRvv27ZkzZw6GYfDxxx/Tt2/f+573dOvWraN5\n",
              "8+aUKVMGgJ49e2a4XlbxRUdH07x5c5599lkAIiIiWLduHSkpKWa85cuXB6BGjRoEBgZSunRpAAID\n",
              "Azl8+LC53aeffkpSUhJLliwhKCgoy19c7xQSEoKnp2eGy9auXWsmgM8++yxhYWHmsqyum/79+/PR\n",
              "Rx8B8Mknn9CxY0eefPLJbMWTkaSkJC5fvmw3JSUl5bo8EXm8PUgfLkd/35w8edLu+9jNzY2TJ08+\n",
              "0LLsyvYohbdu3eLmzZukpKRw5coVDCOtcWViYiLXrl3L0U5FRB4lzs7O5o03pNX038nFxcVswubk\n",
              "5GSuaxgG3t7ebNq06Z4yExISKFy4MPny/d/vXn369KFly5YsW7YMi8VCQEDAPfvKLsMwKF68eJZt\n",
              "2e+88TYMg2XLllGlSpUM171zwCQnJ6d7XicnJ+Pk5HTPdnc27cvsPEFaDU5YWBjVqlWjZMmS5ki4\n",
              "uZFZc8KcrHv3/OwcP6QlQ/Xq1WPx4sV8/PHHjB07Ntux5CQRujO+rK6boKAgChcuTHR0NDNnziQq\n",
              "Kirb+8jIhAkTGDNmjN280aNHawAPEcnYA4xS+Dh932S7hmvChAkUK1aMvXv3UrRoUYoVK0axYsXw\n",
              "9fW1+4VWRORx4+7uzokTJ/j111+BtL4+2RESEsLx48ftbnLj4uLMvlF3u3jxIhUqVMBisfDjjz+y\n",
              "a9eubO3j8OHDxMTEAJCamsqFCxfw9PTE1dWVuXPnmuseOXIk035RL7zwAm+//baZOFy8eNGuhis7\n",
              "PD09SU1NZc2aNUBaDd/Zs2ft+r9lpmrVqri7u9OrV68c1W4BNGzYkO+//57z588DZNr3Lav4GjZs\n",
              "yOrVqzl9+jQA06dPp3HjxhkmkffTv39/3nzzTS5dumTWaj6o0NBQ5syZA6T151q5cqW57H7XTf/+\n",
              "/enSpQvVqlXLNKHOrmHDhpGYmGg3DRs27IHKFJHH2AMMmuHo75vy5ctz4sQJ83VCQoLZciG3y7Ir\n",
              "2wnX6NGjSU1NpVevXqSmpprTpUuXGDlyZI52KiLyKHnmmWcYPHgwQUFB1KpVK9t9i5566im+/fZb\n",
              "xo8fj5+fH15eXgwdOjTTR2lMnDiRoUOHYrPZmDNnDjVr1szWPr766iuGDh2K1WolICCAjRs34uzs\n",
              "zDfffMPy5cuxWq14e3vTvXv3TPvcTpkyhUKFCmGz2bBarTRu3JiEhIRsHWe6AgUKsHz5ckaPHo3V\n",
              "amXAgAEsXbo02zU3PXv2JDk5mfbt2wNpfbvSE4vTp0/bJW7Tp09n1KhRAPj6+jJixAhq165t1u4U\n",
              "LVo0R/H5+Pjw7rvv0rx5c6xWKzExMXzyySc5Ov50tWrVomjRokREROSoti0rH3zwAVu2bMHLy4su\n",
              "XbrQqFEjc9n9rpv27dtz9epVM5FduXKlXf+0rM7z3VxcXHB1dbWbXFxcHHKMIvIYeoCEy9HfN+3a\n",
              "tWPlypWcPXsWwzCYPn06HTp0eKBl2WUx0tsGioiIPER9+/aldOnSufoR78qVKxQpUgRIS05Wr17N\n",
              "d9995+gQs+WXX36hRo0aHDp0yIzpYYqNjaVTp04cOHDArgmriGSf+weT77/SY+hY/9cfaPtKk3N/\n",
              "3o6+nv199+7dm2+//ZazZ8/y9NNPU6RIEY4cOUKPHj0ICwsz+71+8skn5ujqDRo0YPr06eTPn/+B\n",
              "lmVHjhOu1atXM2DAAI4dO0ZKSgqGYWCxWOza4ouIiGTX6dOnadSoEcWLF+f777/PVZLyz3/+k40b\n",
              "N3L79m2eeeYZZsyYgbu7ex5Em7VRo0YxZ84c/v3vf/PKK6/84fu/W48ePfjhhx+YNWuWBrgSeQBK\n",
              "uHLnj0q4/uxynHBVqVKFqVOnEhwcbNe2/YknnnB4cCIiIiIiD5sSrtyp9N4DJFwDH5+EK9ujFKZz\n",
              "dXU1h9QVERERERHJkDouAbl4Dtdzzz3HihUr8iAUERERERF5XDzIc7geJzmu4frggw9ITEykUKFC\n",
              "uLi4mH24MhtqWERERERE/oIe4Dlcj5McJ1xZPURTRERERERE/k+OE64KFSpw/fp1M/Gy2WwULlzY\n",
              "0XGJiIiIiMij7DFrGphbOU64Nm3aRLt27ShTpgwA586dY9myZQQHBzs8OBEREREReTQ9bn2xcivH\n",
              "Cdfrr7/O0qVLqV27NpCWgL322mts2bLF4cGJiIiIiMgjSgkXkIuE68aNG2ayBRASEsLNmzcdGpSI\n",
              "iIiIiDzaVMOVJsfDwj/55JNERUWZr9euXauHHouIiIiIiD3jAabHSI5ruD788EPatm2Lk5MTAKmp\n",
              "qSxfvtzhgYmIiIiIiDzqcpxwnT59mtjYWM6dOwdA6dKl2bp1q8MDExERERGRR9hjVlOVWzluUjhy\n",
              "5EhKliyJj48PPj4+lChRgpEjR+ZFbCIiIiIi8oiyGLmfHic5TrjuZrFYSElJcUQsIiIiIiIij5Uc\n",
              "J1xFihRh06ZN5uuNGzdSpEgRhwYlIiIiIiKPOA2aAeSiD9c777xDmzZtqFq1KgCHDx/mq6++cnhg\n",
              "IiIiIiLy6HrcmgbmVo4TruDgYPbv38/mzZuBtOdwFStWzNFxiYiIiIiIPPJynHABPPXUU7Rs2dLR\n",
              "sYiIiIiIyONCNVxALhMuERERERGRLCnhApRwiYiIiIhIHlAfrjRKuERERERExPGUcAFKuERERERE\n",
              "JA+ohivNAz/4WERERERERDKmGi4REREREXE81XABSrhERERERCQvKOEClHCJiIiIiEgeUB+uNEq4\n",
              "RERERETE8ZRwAUq4REREREQkLyjhAjRKoYiIiIiISJ5RDZeIiIiIiDic+nClUQ2XiIiIiIg4nvEA\n",
              "Uw4dPnyYkJAQqlSpQmBgIPv27btnndTUVAYNGoSPjw9Vq1ale/fu3Lp1C4Dvv/8em81mTs888wwB\n",
              "AQHmthaLBV9fX3N5TExMtmNTwiUiIiIiIg5nMXI/5VTv3r3p1asXhw4dYsiQIXTt2vWedWbPns2O\n",
              "HTvYsWMH+/fvJ1++fHzwwQcANGvWjLi4OHMKCAjgpZdests+JibGXF63bt1sx6aES0REREREHO8B\n",
              "ariSkpK4fPmy3ZSUlJThbs6fP09sbCwvv/wyAO3atePUqVMcOXLEbr1du3YRGhpKgQIFsFgstGjR\n",
              "gvnz599T3unTp1m7di2dO3d2xFlQwiUiIiIiInngARKuCRMmULRoUbtpwoQJGe7m1KlTlC1bFmfn\n",
              "tOEpLBYL5cuX5+TJk3brVa9enZUrV3L58mVu377Nl19+SUJCwj3lzZs3j5YtW1KqVCm7+Y0bN8bP\n",
              "z4/XX3+da9euZfs0KOESEREREZE/lWHDhpGYmGg3DRs27IHK7Nq1K82bN6d+/frUr1+fKlWqmEla\n",
              "OsMwmDNnDt27d7ebf+LECbZv386mTZv49ddfeeONN7K9XyVcIiIiIiLicJYHmFxcXHB1dbWbXFxc\n",
              "MtzP3/72N86cOUNycjKQljSdPHmS8uXL28djsRAZGcnOnTvZtGkTXl5eeHt7263zv//9j5s3b9Ks\n",
              "WTO7+ellPfHEE0RERGjQDBERERERecj+oFEKS5UqRUBAAAsWLABg2bJllCtXDg8PD7v1bt68ycWL\n",
              "FwH47bffmDhxIoMHD7ZbZ/bs2XTt2hUnJydz3sWLF7l+/TqQNtLh4sWL8ff3z3Z8eg6XiIiIiIg4\n",
              "3B/5HK4ZM2bQtWtXxo8fj6urK3PnzgWgR48ehIWFERYWRmJiIg0aNCBfvnykpqbSv39/nn/+ebOM\n",
              "xMREli9fzp49e+zKPnDgAL1798ZisZCcnExAQIA5umF2WAzD0CPJREREREQy4f7B5IcdwkNxrP/r\n",
              "D7S9X/8pud521wevPdC+/0xUwyUiIiIiIo6nah1AfbhERERERETyjGq4RERERETE4f7IPlx/Zkq4\n",
              "RERERETE8ZRwAUq4REREREQkD6iGK40SLhERERERcTwlXIASLhERERERyQOq4UqjUQpFRERERETy\n",
              "iGq4RERERETE8VTDBSjhEhERERGRvKCEC1DCJSIiIiIieUB9uNIo4RIREREREcdTwgUo4RIRERER\n",
              "kTxgMZRxgUYplL8INzc34uLiHFJWbGws4eHhDikrM46Kt0SJEiQkJORq2zuP89KlS0ycONFueYMG\n",
              "DVixYsUDRmgvL8q8W40aNVi/fn2ut/8jYsyuyMhIBgwYkOGyefPm8cILL2S4bP369dhstgyXJSQk\n",
              "UKxYMYfE9yBOnz5N3bp1zdeRkZHcvHnTfD1q1Cg+//zzhxHaI+PO75E/03UrIvJXo4RLJIdq1KjB\n",
              "4sWLH3YYee7O48wo4RLJS8888wwxMTHm6zFjxtglXGPHjuWll156GKHlueTk5IcdgoiIYxgPMD1G\n",
              "lHDJX9rkyZMJDAzEZrMRGBjI5s2bAVi6dClNmzY110tJSaFChQrEx8fb1Q6k1waMHj2a6tWr4+Hh\n",
              "wapVqzLcV2RkJOHh4Tz//PN4eXnRqFEjLly4kGlsn3/+uVnmu+++a84/fPgwrVq1IjAwEKvVyrRp\n",
              "08xlK1eupFq1alitVgYPHpxp2SEhIWzatAmAwYMH8+yzz5rL3N3dOXnypN1x9unThytXrmCz2ahR\n",
              "o4a57oYNG6hbty6VKlWiT58+Ge4rOTmZZs2aUaNGDby9venUqRPXrl3LNLbMyrxy5Qo9e/YkKCgI\n",
              "q9VKr169uHXrFpD5+wiwadMmbDYbPj4+vPrqq3Y3s1ltt3//fpo1a4bVasVqtTJ9+vQHijErd9c+\n",
              "tG/fnnnz5gFw5swZmjZtipeXF02bNqVDhw5ERkaa6545cybTa+rq1at07NgRX19fatSowbFjx8xl\n",
              "ycnJRERE4Ofnh7e3N7GxsXYxZeeazsrw4cMZP348AKtWrcJisXDo0CEAunXrxmeffQbASy+9RI0a\n",
              "NbBarbRq1YqzZ88C9jVt6ee4bt262Gw2zp8/T9euXXn//feBnH22YmNjCQkJwWq1EhQUxMaNG+32\n",
              "d7/jvnnzJmXKlOHUqVN2xzpkyJBslZ/u6tWrWCwW87XFYmH06NEEBgYybNiwe/ab2fWY1TUsIvKw\n",
              "WYzcT48TJVzyl9a5c2e2bdtGXFwcU6dO5dVXXwWgTZs2HDp0iIMHDwJpiYyHhwdeXl73lJGYmIjV\n",
              "amX79u1MmzaN1157LdP9/fTTT8ybN4/4+HhKlSrFjBkzMl333LlzxMbGsmXLFqZOncqmTZtISUmh\n",
              "Y8eOvPfee2zbto0tW7Ywc+ZMtm3bxvnz53n11VdZtmwZu3fvxsPDg99//z3DskNDQ4mKigJg3bp1\n",
              "lCtXjvj4eI4ePYqzszPly5e3W3/69OkUKVKEuLg4uxvzo0ePEh0dzd69e/n+++8zvNlzcnJi4cKF\n",
              "xMbGsnfvXooWLcrUqVMzPe7Myhw4cCB169Zl69at7Nq1i9TUVD744AMg8/fx1q1bhIeHM2nSJPbu\n",
              "3UvHjh3ZtWuXua/MtktOTqZ169Z07dqV3bt3s3v3btq3b/9AMeZWv379CA4OJj4+ns8+++ye5pBZ\n",
              "XVPbtm1j/Pjx7Nmzh9DQUN5++21z2YEDB3jllVfYtWsX//rXv3jzzTfNZTm5pjNz5zW2Zs0agoOD\n",
              "zddRUVGEhoYC8P777xMbG8vu3bupW7euXTKZLj25iImJIS4ujlKlSt2zTnY+W7du3aJt27aMHj2a\n",
              "3bt3M3nyZNq1a8fVq1ezfdwFCxake/fufPzxxwAkJSUxd+5cIiIi7lv+/Tg5ObFt2za7H1gg6+sx\n",
              "s2s4ryQlJXH58mW7KSkpKU/3KSKPMNVwAUq45C9u586d1K9fHx8fH/r06cPBgwe5ceMGTk5ORERE\n",
              "8NFHHwHw0Ucf0bdv3wzLKFiwIG3btgUgODiYo0ePZrq/5s2b8/TTT2dr3e7du2OxWChRogRt27Yl\n",
              "KiqKgwcPsm/fPjp06IDNZiMkJIQrV64QHx/Pli1bsFqtZlLYvXt3ChQokGHZ6TfDv/32G87Ozrz4\n",
              "4otERUURFRVF48aN73/i/r/w8HCcnZ0pVKgQNpstw+MxDIMpU6bg7++P1Wrl22+/zbJ/WmZlrlix\n",
              "gnfffRebzYa/vz8xMTEcOXIEyPx9PHDgAM7OzubNfdOmTXF3dzf3ldl2Bw8e5ObNm3Ts2NFct0SJ\n",
              "Eg8UY26tXbuWbt26AVCmTBmee+45u+VZXVPBwcFUrFgxw2UeHh7UrFkzw2U5uaYzU7t2beLi4rhx\n",
              "4wb/+9//GDdunHkNP/HEEzzzzDMALFy4kBo1auDj48OsWbNy3XcxO5+tgwcPki9fPpo1awZAnTp1\n",
              "KF26tLnP7B53REQEn376KUlJSSxZsoSgoCAqVKhw3/LvJ/19zijuzK7HzK7hvDJhwgSKFi1qN02Y\n",
              "MCHP9icijzbVcKXRKIXyl5X+a3R0dDSBgYFcvnyZokWLkpSURKFChejZsydeXl506dKFI0eOEBYW\n",
              "lmE5Li4uZtMgJycnUlJSMt1nwYIFzf87OTnlqK+GxWLBMAyKFy+e4Q3cypUr71k/M8HBwezdu5ev\n",
              "v/6aRo0aERoaysiRI3FxccnRgCDZOZ6FCxeybt06/ve//+Hq6sqHH37IunXrclymYRgsW7aMKlWq\n",
              "2K2f1fuYkfTzktPtHiTG+3F2dra7bu7sq5RZ/PeL5UGW5eSazoyLiws1atRgyZIlFCpUiAYNGtCr\n",
              "Vy++//57M6nfsGEDH374IZs3b6ZUqVKsXLmSUaNG5Xhf9zuerNx5PrN73M8++yz16tVj8eLFfPzx\n",
              "x4wdO/a+5WfnPX7yySezFXO6+32H5YVhw4bx+uuv281zcXHJk32JyGPgMUuccks1XPKXdfPmTW7d\n",
              "umU2n7u7mdtTTz1F69atadOmDb1798bJyekPjS+9D8+FCxf46quvaNy4MZ6enri6ujJ37lxzvSNH\n",
              "jnDhwgWCg4PZvXs3Bw4cAGDOnDmZ9h/Knz8/tWrV4q233iI0NBSr1Wr2T2vUqNE967u6unLjxo1s\n",
              "9Ue628WLFylRogSurq5cuXLFPK6ceuGFF3j77bfNG+mLFy9y5MiRLN/HqlWrkpycTHR0NJDWlC29\n",
              "1iKr7Tw9PSlcuDCLFi0y5/3222+5jvF+PDw8+OmnnwA4fvw4GzZsMJc1atTIPGfnzp3jm2++uW95\n",
              "fxahoaGMGjWKxo0bky9fPvz9/Zk8ebJZ43jx4kWKFCnC008/za1bt7JsYlukSBESExMfKB5PT09S\n",
              "U1NZs2YNkNa/7+zZs5mO2JiV/v378+abb3Lp0iXzeLIqv0yZMhiGQXx8PIDZhy27cWd0Pd7vOywv\n",
              "uLi44Orqajcp4RIRyZoSLvnLaNasGeXKlTOny5cvM27cOIKCgqhevXqGze969uzJr7/+Ss+ePf/w\n",
              "eEuWLEn16tUJCgqib9++hISE4OzszDfffMPy5cuxWq14e3vTvXt3bty4QcmSJZkzZw5t2rTBz8+P\n",
              "w4cPm02sMhIaGsr58+epXbs2FouFoKAgypcvT/Hixe9Zt3jx4nTp0gWr1Wo3aEZ2dOnShevXr+Pp\n",
              "6UmLFi3shvrOiSlTpphN+KxWK40bNyYhIQFXV9dM38cCBQqwePFiXnvtNXx9fVm4cCF+fn4AWW7n\n",
              "7OzM119/zdy5c/H19cXPz49ly5blOsb7GTx4MNHR0fj6+jJs2DCzqR/ABx98QExMDF5eXrz00kvU\n",
              "rFnzoQ7b3qNHD7M29fTp03bJyvTp0+1qqEJDQzlx4oSZkDRp0oRTp07RoEEDIK0ZoKenJ56enuaA\n",
              "GJkZOHAgTZo0MQfNyI0CBQqwfPlyRo8ejdVqZcCAASxdujTHNUsAtWrVomjRokRERJi1WFmV7+zs\n",
              "zNSpU3nuuecIDAzk9u3b2d5XZtdjVtdwVlauXEmPHj3M11m9pyIiD0JNCtNYDENPJBPJzKRJk9i/\n",
              "fz+zZ89+2KHIX9SNGzfInz8/zs7O/P7779SqVYsFCxbYJWXyx/vll1+oUaMGhw4dokiRIg87HBHJ\n",
              "Y+4fTH7YITwUx/q/fv+VslCzc+7P20/zH2zffybqwyWSCW9vbywWC6tXr37Yochf2OHDh+nSpQuG\n",
              "YXDr1i0iIiKUbD1ko0aNYs6cOUycOFHJlohIFh63mqrcUg2XiIiIiEgWVMOVO7Veei/X2275fOAD\n",
              "7fvPRDVcIiIiIiLicKrhSqNBM0RERERERPKIarhERERERMTxVMMFKOESEREREZE8YEl92BH8OSjh\n",
              "EhERERERx1MNF6A+XCIiIiIikgf+yAcfHz58mJCQEKpUqUJgYCD79u27Z53U1FQGDRqEj48PVatW\n",
              "pXv37ty6dQuAhIQEnJycsNls5nT06FFz22+++YaqVatSuXJl2rZty+XLl7MdmxIuERERERFxPMPI\n",
              "/ZRDvXv3plevXhw6dIghQ4bQtWvXe9aZPXs2O3bsYMeOHezfv598+fLxwQcfmMuLFClCXFycOVWq\n",
              "VAmAq1ev0r17d1asWMHhw4d55plneOutt7IdmxIuERERERF5ZJ0/f57Y2FhefvllANq1a8epU6c4\n",
              "cuSI3Xq7du0iNDSUAgUKYLFYaNGiBfPnz79v+d999x3+/v5UrVoVgIiICBYtWpTt+JRwiYiIiIiI\n",
              "wz1Ik8KkpCQuX75sNyUlJWW4n1OnTlG2bFmcndOGp7BYLJQvX56TJ0/arVe9enVWrlzJ5cuXuX37\n",
              "Nl9++SUJCQnm8mvXrhEYGEhAQABjx44lJSUFgJMnT1KhQgVzPTc3N86cOUNycnK2zoMSLhERERER\n",
              "cTwj99OECRMoWrSo3TRhwoQHCqdr1640b96c+vXrU79+fapUqWImaWXLluWXX35h27ZtREVFERMT\n",
              "w3vvvfdA+0unhEtERERERBzuQWq4hg0bRmJiot00bNiwDPfzt7/9za7GyTAMTp48Sfny5e3jsViI\n",
              "jIxk586dbNq0CS8vL7y9vQFwcXGhVKlSABQvXpxu3boRExMDQPny5Tlx4oRZTkJCgl2N2v0o4RIR\n",
              "EREREcd7gEEzXFxccHV1tZtcXFwy3E2pUqUICAhgwYIFACxbtoxy5crh4eFht97Nmze5ePEiAL/9\n",
              "9hsTJ05k8ODBQFo/sNu3bwNpzRmXL1+Ov78/AM2bN2fHjh0cOHAAgP/85z906NAh26dBz+ESERER\n",
              "ERGHy83w7rk1Y8YMunbtyvjx43F1dWXu3LkA9OjRg7CwMMLCwkhMTKRBgwbky5eP1NRU+vfvz/PP\n",
              "Pw/Ahg0bGDVqFE5OTiQnJ9OoUSPefPNNIG30wlmzZvHCCy+QnJyMj48Pn376abZjsxhGLsZdFBER\n",
              "ERH5i3D/YPLDDuGhONb/9Qfavl7rd3O97Y9fv/FA+/4zUQ2XiIiIiIg4nqp1ACVcIiIiIiKSB/7I\n",
              "JoV/Zkq4RERERETE8VKVcYESLhERERERyQvKtwANCy8iIiIiIpJnVMMlIiIiIiIOpz5caZRwiYiI\n",
              "iIiI4+npU4ASLhERERERyQOq4UqjhEtERERERBxPCReghEtERERERPKARU0KASVcIiIiIjnm/sHk\n",
              "hx3CQ3Gs/+sPO4SH4q963OIYSrhERERERMTxUh92AH8OSrhERERERMTh1KQwjRIuERERERFxPOVb\n",
              "gBIuERERERHJC6rhApRwiYiIiIhIHtBzuNLke9gBiIiIiIiIPK5UwyUiIiIiIo6nJoWAEi4RERER\n",
              "EckDFg0LDyjhEhERERGRvKAaLkAJl4iIiIiI5AXlW4ASLhERERERyQN68HEajVIoIiIiIiKSR1TD\n",
              "JSIiIiIijqcaLkAJl4iIiIiI5AWNUggo4RIRERERkTygPlxplHCJiIiIiIjjKeEClHCJiIiIiEhe\n",
              "UMIFaJRCERERERGRPKMaLhERERERcTwNmgGohktERERERPKAxTByPeXU4cOHCQkJoUqVKgQGBrJv\n",
              "37571klNTWXQoEH4+PhQtWpVunfvzq1btwDYs2cP9erVo2rVqvj4+NCtWzdu3Ljxf8diseDr64vN\n",
              "ZsNmsxETE5Pt2JRwiYiIiIiI4xlG7qcc6t27N7169eLQoUMMGTKErl273rPO7Nmz2bFjBzt27GD/\n",
              "/v3ky5ePDz74AICCBQsybdo0Dhw4wK5du7h27Rpvv/223fYxMTHExcURFxdH3bp1sx2bEi4RERER\n",
              "EXG8B0i4kpKSuHz5st2UlJSU4W7Onz9PbGwsL7/8MgDt2rXj1KlTHDlyxG69Xbt2ERoaSoECBbBY\n",
              "LLRo0YL58+cDULlyZaxWKwBOTk4EBgaSkJDgkNOghEtERERERBzvARKuCRMmULRoUbtpwoQJGe7m\n",
              "1KlTlC1bFmfntOEpLBYL5cuX5+TJk3brVa9enZUrV3L58mVu377Nl19+mWFSde3aNWbNmkXr1q3t\n",
              "5jdu3Bg/Pz9ef/11rl27lu3ToIRLRERERET+VIYNG0ZiYqLdNGzYsAcqs2vXrjRv3pz69etTv359\n",
              "qlSpYiZp6W7dukV4eDhNmzalTZs25vwTJ06wfft2Nm3axK+//sobb7yR7f0q4RIREREREcdLzf3k\n",
              "4uKCq6ur3eTi4pLhbv72t79x5swZkpOTATAMg5MnT1K+fHm79SwWC5GRkezcuZNNmzbh5eWFt7e3\n",
              "ufz27duEh4dTtmxZs29XuvSynnjiCSIiIjRohohIXnn//fc5e/ZsjrZJSEhg+vTpudpf165def/9\n",
              "93O17cMUGRnJzZs3H6gMm83GlStXgHvPe2RkJAMGDMhWOVu2bMHX1xd/f3++//77e5bHxsYSHh7+\n",
              "QLHe7erVq1gslhxts2fPHho1aoSfnx8+Pj4EBgayd+9ec/k333xDYGAgnp6euLu706dPHy5fvmwu\n",
              "NwyDd955h6pVq1KtWjWqVq3KpEmTMO7ofG6xWAgNDbXbb4kSJcwmNQkJCRQrViznBywikoE/apTC\n",
              "UqVKERAQwIIFCwBYtmwZ5cqVw8PDw269mzdvcvHiRQB+++03Jk6cyODBgwFITk6mQ4cOFC9enJkz\n",
              "Z9p9h1+8eJHr168DaSMdLl68GH9//2zHp4RLRCQH/uiE61E1ZsyYB0644uLiKFKkCJC7857u008/\n",
              "pVOnTuzcuZNmzZrZLUtOTqZGjRosXrz4gWJ1hI4dO/Kvf/2LXbt2sXfvXpYvX06pUqUAWL16Nb17\n",
              "92bmzJkcPHiQQ4cOkT9/fp577jkzoXrzzTdZuXIlGzZsYP/+/WzYsIEVK1YwatQou/0cPXo0w8RT\n",
              "RMTh/sBRCmfMmMGMGTOoUqUKEydOZO7cuQD06NGDlStXApCYmEhISAje3t7UrVuXPn368PzzzwOw\n",
              "ePFili9fTmxsLP7+/thsNv75z38CcODAAWrVqoWfnx++vr78/vvvOfoxVAmXiDxWZs6cSa9evQCI\n",
              "j4/HYrHwww8/ADB27FjGjh0LwKBBgwgMDMRms1GvXj0OHjxolmGxWBg/fjxBQUFUrFjR/NIeO3Ys\n",
              "p0+fJjw8HJvNRlxcHP/973+xWq3YbDZ8fHz4+uuv74mpT58+HDx4EJvNRlhYGJBWqxISEoLVaiUo\n",
              "KIiNGzdmekz79++ncePGVKlShbZt25rPDFm7di3BwcH4+/vj7e3N7NmzzW26du1K7969M9zuypUr\n",
              "hIeHU7VqVerWrUvv3r0zHD43qzjvrgm5s0anT58+ANStWxebzcb58+ftyhw+fDjjx48HYNWqVVgs\n",
              "Fg4dOgRAt27d+Oyzz8z34dKlSxmed4AzZ87w/PPP4+XlRaNGjbhw4cI98U+cOJHFixczbdo0bDYb\n",
              "ly5dws3NjSFDhhAUFMQrr7zC+vXrsdls5jbff/89derUoXr16gQFBREdHQ3A+vXr8fHxISIiAj8/\n",
              "P7y9vYmNjTW3mzFjBpUrV8bf358pU6aY82/cuEF4eDheXl74+fnRtGnTDM/1zz//zLPPPmu+/tvf\n",
              "/mYmXOPGjePNN980f1F1dnbmvffe49ixY0RHR3P16lUmT57MzJkzKVGiBJBWczVz5kwmTZpk17l7\n",
              "7NixDB061K7mS0QkT6QauZ9yyNPTk82bN3Po0CFiY2Px9fUFYNasWebf3tKlS7N//3727dvH/v37\n",
              "zb9XAC+99BKGYbBr1y5z6PePPvoIgODgYHbv3s2uXbvYt28f8+fPp3jx4tmOTQmXiDxWQkNDiYqK\n",
              "AmDNmjUEBwfbvU5vTjVkyBC2bdtGXFwcERER9O/f364cFxcXtm7dynfffUe/fv1ITk5m1KhRPPPM\n",
              "MyxevJi4uDhsNhsjRoxgxowZxMXFsXv3burXr39PTNOnT8fT05O4uDhWrlzJrVu3aNu2LaNHj2b3\n",
              "7t1MnjyZdu3acfXq1QyPKT2x279/P+fOnWPZsmUABAQEsGHDBnbu3ElMTAxjx47l559/vu92Y8eO\n",
              "pVChQuzfv59Vq1axadOmDPeb0zjvPF74v+eVpCcN2XmPoqKi7mnyltF5B/jpp5+YN28e8fHxlCpV\n",
              "ihkzZtwTy9ChQwkLC+ONN94gLi7OTBJ///13fvrpJz7//HO79Y8dO0ZkZCSrVq1i+/btLFy4kE6d\n",
              "OplDER84cIBXXnmFXbt28a9//Ys333wTgL179zJ69Gh+/PFHdu7cafewzNWrV3Pp0iXi4+PZtWsX\n",
              "X3zxRYbnbeTIkTRs2JDGjRvz5ptvsnPnTnPZjh07CA4Otlu/QIECVK9ene3btxMfH4+LiwteXl52\n",
              "63h5eVGgQAHi4+PNec8//zxPPvkkCxcuzDAOERGH+QNruP7MlHCJyGPF3d0dSLtxjoqKYsKECaxb\n",
              "t46rV68SHx9PUFAQ8H83+j4+PowdO9asNUn30ksvAVC1alWcnZ0zbc7WuHFj+vfvzzvvvMPu3buz\n",
              "1f/l4MGD5MuXz2zeVqdOHUqXLn1PDOnatGlD4cKFcXJyIigoiKNHjwJpScPf//53fHx8aNSoEb//\n",
              "/rtdn5/Mtlu7di2vvvoqFouFIkWKZNp/KadxZlft2rWJi4vjxo0b/O9//2PcuHFERUVx8OBBnnji\n",
              "CZ555plsldO8eXOefvppIO3Xx/Tjy46uXbtm2Mdq9erVHDlyhHr16mGz2Wjfvj358uUzhxb28PCg\n",
              "Zs2a9+xz3bp1tGjRgrJlywLwj3/8wyzTz8+P/fv3ExERweLFi8mfP3+GMQ0cOJBjx47Ro0cPLly4\n",
              "QN26dXPU1DEnfcbefvttRo4cadZ6ZldOnosjIiJplHCJyGMnNDSU7777jsOHD1O/fn0Mw2DZsmUE\n",
              "Bwfj7OzMyZMn6du3LwsWLGDv3r188cUX9/Q3KliwoPl/Jycnc+Sju02ePJm5c+dSuHBhXnnlFd55\n",
              "551cxZzVzXJmsfTp04c6deqwZ88e4uLiqFKlit1xZPcYcnKjnr6us7MzKSkp5vyc9NdycXGhRo0a\n",
              "LFmyhEKFCtGgQQN2797N999/T+PGjbNdTnaPLyNPPvlkhvMNw6BJkyZmc5K4uDh++eUXKleunKN9\n",
              "3nlO3d3diY+Pp3nz5mzcuBEfHx+z0/bdSpcuTceOHfn4448ZMWKEWQMXEBDA5s2b7da9desW27dv\n",
              "JyAgAC8vL27evGlXkwVpzWpv3bp1T81XejPRjz/+2G6+m5sbly5dyjA2IEfPxRERUQ1XGiVcIvLY\n",
              "CQ0N5d133zVrsxo1asTo0aPNpmqJiYnkz5+fsmXLYhgG06ZNy3bZrq6uJCYmmq8PHDiAt7c3ffv2\n",
              "5R//+Adbtmy57zaenp6kpqayZs0aADZt2sTZs2ft+hFlx8WLF6lQoQIWi4Uff/yRXbt2ZWu7Ro0a\n",
              "8emnn2IYBlevXuXLL7/McL2s4ixTpgyGYZg3+On9rtIVKVLE7pjvFhoayqhRo2jcuDH58uXD39+f\n",
              "yZMn39OcMN3d5zCvNGvWjKioKHbv3m3O27p16323a9SoEatXrzZrQu8cJOXnn3/GYrEQFhZmjhp4\n",
              "6tSpe8r46quvuH37NpA2mMfu3bupVKkSkNbvbdy4cWbtYnJyMgMHDsTNzY1GjRrx5JNP0r9/f3r3\n",
              "7s1vv/0GpNWA9u7dm9dff50nnnjinv2NHz+eCRMm5KiGKi+eiyMijzElXIASLhF5DDVu3JiTJ0+a\n",
              "N+9NmjThxIkTZu2Jr68vHTp0wNvbm8DAwHue05GVfv360bNnT3PwhuHDh+Pt7Y2/vz/z588nMjLy\n",
              "nm2sVive3t74+PgQFhZGgQIFWL58OaNHj8ZqtTJgwACWLl2aaa1LZiZOnMjQoUOx2WzMmTPHbOp2\n",
              "P6NGjeLKlStUq1aN5s2b4+fnl2FTyKzidHZ2ZurUqTz33HMEBgaaiUK6gQMH0qRJkwwHzYC0hOvE\n",
              "iRN279GpU6do0KBBhjHffd7zioeHBwsXLqR37974+flRrVq1bI1E5ePjQ2RkJHXr1sXf39/uWTF7\n",
              "9uyhdu3a+Pn54e/vT+fOnbFarfeUsXz5cnx8fLBarfj5+eHi4sKYMWMAaNmyJR9//DHdu3fH09OT\n",
              "KlWqkJSUxLfffmvWpk2YMIFWrVoREhJCtWrVCAkJ4fnnn2fcuHEZxuzl5UWrVq3s+uSdPn2aunXr\n",
              "ZnqcOXkujojIHzloxp+ZxdAwRSIifym3b98mJSWFggULcu3aNZo1a8a//vUvhz+LSuRx5v7B5Icd\n",
              "wkNxrP/rDzsEeYS0qJj76+W744/PZ8z5YQcgIiJ/rIsXL9KiRQtSUlK4efMmrVu35sUXX3zYYYmI\n",
              "yONG9TqAEi4Rkb+cUqVKsX379ocdhoiIyF+CEi4REREREXG8x6wvVm4p4RIREREREcdTk0JACZeI\n",
              "iIiIiOQFJVyAEi4REREREckLSrgAJVwiIiIiIpIXUlMfdgR/CnrwsYiIiIiISB5RDZeIiIiIiDie\n",
              "mhQCSrhERERERCQvKOEClHCJiIiIiEhe0HO4ACVcIiIiIiKSBwxDg2aAEi4REREREckLquECNEqh\n",
              "iIiIiIhInlENl4iIiIiIOJ4GzQCUcImIiIiISF7Qg48BJVwiIiIiIpIXVMMFKOESEREREZE8YKiG\n",
              "C1DCJSIiIiIieUE1XIBGKRQREREREckzquESERERERHH03O4ACVcIiIiIiKSFwz14QIlXCIiIiIi\n",
              "kgcM1XAB6sMlIiIiIiJ5wUjN/ZRDhw8fJiQkhCpVqhAYGMi+ffvuWSc1NZVBgwbh4+ND1apV6d69\n",
              "O7du3TKXf/PNN1StWpXKlSvTtm1bLl++nK1l96OES0REREREHM5INXI95VTv3r3p1asXhw4dYsiQ\n",
              "IXTt2vWedWbPns2OHTvYsWMH+/fvJ1++fHzwwQcAXL16le7du7NixQoOHz7MM888w1tvvXXfZdmh\n",
              "hEtERERERB5Z58+fJzY2lpdffhmAdu3acerUKY4cOWK33q5duwgNDaVAgQJYLBZatGjB/PnzAfju\n",
              "u+/w9/enatWqAERERLBo0aL7LssOJVwiIiIiIuJ4D9CkMCkpicuXL9tNSUlJGe7m1KlTlC1bFmfn\n",
              "tOEpLBYL5cuX5+TJk3brVa9enZUrV3L58mVu377Nl19+SUJCAgAnT56kQoUK5rpubm6cOXOG5OTk\n",
              "LJdlhwbNEBERkUdOUlISEyZMYNiwYbi4uPzh+z/W//U/fJ/w8I/7YdFxP5rHvSZ1Sa63jYyMZMyY\n",
              "MXbzRo8eTWRkZK7L7Nq1KydOnKB+/foUKlSI0NBQfvjhh1yXl10Ww9AjoEVEROTRcvnyZYoWLUpi\n",
              "YiKurq4PO5w/jI5bx/1XkZSUdE+NlouLS4aJ5/nz5/Hw8ODChQs4OztjGAZly5Zlw4YNeHh4ZLqP\n",
              "L774go8++oiYmBiWLFnC7NmzWb16NQDx8fE0bdqUn3/+Octl2aEmhSIiIiIi8qfi4uKCq6ur3ZRZ\n",
              "LV+pUqUICAhgwYIFACxbtoxy5crdk2zdvHmTixcvAvDbb78xceJEBg8eDEDz5s3ZsWMHBw4cAOA/\n",
              "//kPHTp0uO+y7FCTQhEREREReaTNmDGDrl27Mn78eFxdXZk7dy4APXr0ICwsjLCwMBITE2nQoAH5\n",
              "8uUjNTWV/v378/zzzwNQpEgRZs2axQsvvEBycjI+Pj58+umn912WHWpSKCIiIo+cv2pTKx23jlse\n",
              "PWpSKCIiIo8cFxcXRo8e/UgOJPAgdNw6bnn0qIZLREREREQkj6iGS0REREREJI8o4RIREREREckj\n",
              "SrhERERERETyiBIuEREReewkJCQwffr0hx2GncjISG7evGm+7tq1K++//77Dyh81ahSff/65w8r7\n",
              "s3r//fc5e/Zsrre3WCxcunTJcQE5yDfffEODBg0edhiSB5RwiYiIyGPnz5hwjRkzxi7hcrSxY8fy\n",
              "0ksv5Vn5fxZZJVypqamkpqb+wRGJZE0Jl4iIiDwU27Zto1GjRtSoUQN/f3+WLFlCQkICxYoVY+TI\n",
              "kQQEBFC5cmU2btzIa6+9hs1mw8fHh7179wKwfv16fHx86NKlCz4+PlSvXp24uDgA+vTpw8GDB7HZ\n",
              "bISFhbF06VKaNm1q7jslJYUKFSoQHx/v8NhHjx5N9erV8fDwYNWqVWY8AHXr1sVms3H+/HkA9u/f\n",
              "T+PGjalSpQpt27bl1q1bQFpt2IABA8z9TZs2ja5duwKwZcsWqlevbp6Pjz/+GLCvMVu7di3BwcH4\n",
              "+/vj7e3N7NmzzbJmzZqFl5cXNpsNX19ffvrpJwDc3NwYMWIEISEh/O1vf2P69OnMnTuX4OBg3Nzc\n",
              "+OKLL3J8niwWC+PHjycoKIiKFSuaD6MFOHz4MK1atSIwMBCr1cq0adPstruzFqpEiRIkJCQwduxY\n",
              "Tp8+TXh4ODabjbi4OCIjI2nXrh3NmjXDx8eHM2fOMGjQIAIDA7HZbNSrV4+DBw/mOPacunHjBuHh\n",
              "4Xh5eeHn50fTpk05e/YsDRs2pHr16nh7e9O3b18zIbx9+zYRERFUrlyZoKAgoqOjzbLSr+2IiAj8\n",
              "/Pzw9vYmNjbWXP79999Tp04dqlevbrft4cOHqV27Nn5+fvj6+jJixAgA/vvf/2K1Ws1r5uuvv87z\n",
              "8yF3MERERET+YBcvXjRsNptx+vRpwzAM49dffzX+9re/GRs2bDAA46uvvjIMwzBmzZplPPHEE8a6\n",
              "desMwzCMd955x2jfvr1hGIYRHR1tAEZUVJRhGIaxePFiw9PT00hNTTWio6MNPz8/c3/JyclGhQoV\n",
              "jAMHDhiGYRjLly83GjVqlCexL1261DAMw/juu++MKlWqmNsBxsWLF83Xr7zyihEUFGRcu3bNSE5O\n",
              "NkJCQoyFCxcahmEYo0ePNvr372+uO3XqVOOVV14xDMMwwsLCzPUMwzAuXLhgljdlyhRzXnJysmEY\n",
              "hvH7778b5cuXN06dOmUYhmG4urqasd+6dcu4cuWKYRiGUaFCBWPAgAGGYRjG4cOHjYIFCxpvvfWW\n",
              "YRiGsXXrVqNEiRI5PleAMWnSJMMwDGP//v3Gk08+ady+fdtITk42qlevbuzfv98wDMO4du2a4evr\n",
              "a2zdujXDc/X0008bx48fN+PcuXOnuWz06NFG2bJljbNnz5rzzp8/b/5/0aJFRrNmzexiurNsR1m+\n",
              "fLnRtGlT8/Xvv/9u3Lhxwzy/ycnJRqtWrYxFixYZhmEY06ZNMxo1amQkJSUZSUlJRoMGDYz69esb\n",
              "hpF2bTs5ORlbtmwxDMMwPv74Y7Pso0ePGrVq1TISExMNw0h7r8qUKWPcvHnT6NevnzF+/Hi7GAzD\n",
              "MKxWq7Fp0ybDMAwjJSUlT45fMuf8EHM9ERER+YvatGkTx44do0WLFnbzDx48SMGCBXnhhRcAqFGj\n",
              "Bk8++SQNGzYEICgoyK6fkpubG40bNwbgxRdfpFevXpw6deqe/Tk5OREREcFHH33Ehx9+yEcffUTf\n",
              "vn3zJPa2bdsCEBwczNGjR7Msq02bNhQuXNg8tvutD9CwYUPeeustDh8+TKNGjahTp8496/z+++90\n",
              "796dQ4cO4ezszO+//87evXspV64cjRs3pnPnzjz//PO0aNGCKlWqmNuFh4cD4OHhQcGCBWnfvj2Q\n",
              "9j5cuHCBS5cuUaxYsfvGeKf0Zo5Vq1bF2dmZs2fPcvnyZfbt20eHDh3M9a5cuUJ8fDyBgYE5Kh+g\n",
              "ZcuWlC5d2ny9Zs0apk6dypUrV0hNTeXChQs5LjOn/Pz82L9/PxEREdSvX5+WLVuSmprKkCFD2LBh\n",
              "A4ZhcP78eXx8fOjQoQNr166lS5cuFChQAIBu3brZ1UR6eHhQs2ZNIO1amjRpEgCrV6/myJEj1KtX\n",
              "z1w3X758nDx5knr16vHGG29w9epV6tevT2hoKACNGzemf//+tG/fnqZNm2Kz2fL8fMj/UcIlIiIi\n",
              "fzjDMPD29mbTpk128xMSEnBxcTFfOzk5UbBgQbvXycnJmZZrsViwWCwZLuvZsydeXl506dKFI0eO\n",
              "EBYWliexp+/fycmJlJSULMvK7NicnZ3ttr2z79eAAQNo3bo1UVFRDB8+HB8fH/7zn//YldunTx9a\n",
              "tmzJsmXLsFgsBAQEmGUsW7aM7du3s379elq2bMm4cePMxOfueNJfp5/XrM59To7RMAyKFy9uNgG9\n",
              "293n7n5935588knz/ydPnqRv375s27aNSpUqsXv3brvkJK+4u7sTHx/PunXriIqKYvDgwfTo0YPz\n",
              "58/z008/UbBgQV5//fVMj+Xu6zaza8MwDJo0acLChQvvKaNy5cqEhISwZs0apk2bxvvvv8+qVauY\n",
              "PHky+/btIzo6mldeeYWXXnqJwYMHO/DoJSvqwyUiIiJ/uJCQEI4fP05UVJQ5Ly4uzuzDlF0JCQlm\n",
              "/5WlS5dSunRpypUrh6urK4mJiXbrPvXUU7Ru3Zo2bdrQu3dvnJyc/tDYixQpck9MmfHw8CA2NpaU\n",
              "lBSuX7/OsmXLzGUHDx6kYsWK9OzZk+HDh7Nly5Z7tr948SIVKlTAYrHw448/smvXLgCSk5M5evQo\n",
              "NWrUYNCgQbRv356tW7dmKyZH8vT0xNXV1a5P15EjR8yaKA8PD7Nv2fLly7l27Zq5Xkbv7Z0SExPJ\n",
              "nz8/ZcuWxTAMu75heennn3/GYrEQFhbGpEmTMAyDHTt2UKZMGQoWLMjZs2dZsmSJuX5oaCgLFizg\n",
              "9u3b3Lp1y+5cZKVZs2ZERUWxe/duc176e3j48GFKly5Nly5deOedd8xr48CBA2Yfsn/84x8ZXjOS\n",
              "d1TDJSIiIn+4p556im+//ZZBgwYxcOBAbt++Tfny5XM8TLq3tzfz5s2jX79+FChQgEWLFmGxWLBa\n",
              "rXh7e+Pj44O7uzsrV64E0mq55s2bR8+ePf/w2AcOHEiTJk0oXLgwP/zwQ5brtm3bliVLllCtWjXK\n",
              "lSuHv78/169fB9IG0Fi3bh0FChTAycmJ9957757tJ06cSEREBG+99RY2m81smpaSkkK3bt24cOEC\n",
              "zs7OlCxZMts3+o7k7OzMN998w4ABA5gyZQopKSmUKFHCrLWZMmUK/fr1Y8SIEbRq1Yqnn37a3LZf\n",
              "v3707NmTwoULM2/evHvK9vX1pUOHDnh7e/P000+bzVPz2p49exg2bBiGYZCcnEznzp3p3bs37du3\n",
              "x9vbm2eeecZs4gdp1+LevXvx8vLiqaeeom7dumzfvv2++/Hw8GDhwoX07t2b69evc+vWLfz9/Vm4\n",
              "cCFLly5lwYIFFChQgNTUVHOkzuHDh3Pw4EEKFChA4cKFzYFW5I9hMQzDeNhBiIiIiOTU+vXrGTBg\n",
              "QKbN0jIyadIk9u/fb9dXRkQkL6mGS0RERP4SvL29sVgsrF69+mGHIiJ/IarhEhERERERySMaNENE\n",
              "REREgLRBSNL7/aRr2bLlH/Lg4HTvv/8+Z8+e/cP2J5LXlHCJiIiICJBxwrVq1So8PT3/sBiUcMnj\n",
              "RgmXiIiIyCPsxo0bhIeH4+XlhZ+fH02bNgVg/vz51KxZk4CAAOrVq2cODT9v3jxCQ0Pp2LEjvr6+\n",
              "1KhRg2PHjgFpz+86ePAgNpvNfE6Zm5ubOTBJgwYNGDhwIPXq1aN8+fKMHDmSVatWUadOHdzc3Jg8\n",
              "ebIZ1+HDh2nVqhWBgYFYrVa74dktFgvjx48nKCiIihUrmiMljh07ltOnTxMeHo7NZsvRgCgif1Ya\n",
              "NENERETkEbZ69WouXbpEfHw8ABcuXGDjxo0sWrSIH3/8ERcXF2JiYujUqRP79u0DYNu2bcTFxVGx\n",
              "YkWGDh3K22+/zYwZM5g+ffp9R348ceIE0dHRXL58GTc3Ny5evEhMTAynT5/G09OTbt26UaRIETp2\n",
              "7MiCBQuoWrUq169fp1atWtSsWZPAwEAAXFxc2Lp1KwcOHCAwMJDOnTszatQo5syZw+LFi7HZbHl9\n",
              "6kT+EEq4RERERB5hfn5+7N+/n4iICOrXr0/Lli35+uuv2bVrl/n8LUhLxG7cuAFAcHAwFStWNP8/\n",
              "derUbO+vffv2ODk58dRTT+Hu7s5zzz2HxWLh2WefpWTJkiQkJFCgQAH27dtHhw4dzO2uXLlCfHy8\n",
              "mXC99NJLAFStWhVnZ2fOnj1LuXLlHvh8iPzZKOESEREReYS5u7sTHx/PunXriIqKYvDgwTRt2pRX\n",
              "XnmF8ePHZ7hNwYIFzf87OTmRnJyc7f3dvW1GZeXPn5/ixYtnWVP2IDGIPErUh0tERETkEfbzzz9j\n",
              "sVgICwtj0qRJGIbByy+/zIIFCzh58iQAqampxMbG3rcsV1dXEhMTHzgmT09PXF1dzb5ZAEeOHOHC\n",
              "hQt/WAwifxZKuEREREQeYXv27KF27dr4+fnh7+9P586dqV+/Pu+88w5t2rTBz88Pb29vvvjii/uW\n",
              "ZbVa8fb2xsfHxxw0IzecnZ355ptvWL58uVlm9+7dzSaNWenXrx89e/bUoBny2NCDj0VERERERPKI\n",
              "arhERERERETyiBIuERERERGRPKKES0REREREJI8o4RIREREREckjSrhERERERETyiBIuERERERGR\n",
              "PKKES0REREREJI8o4RIREREREckjSrhERERERETyiBIuERERERGRPKKES0REREREJI/8P97wh3Ah\n",
              "pWm+AAAAAElFTkSuQmCC\n",
              "\">\n",
              "        \n",
              "      </div>\n",
              "      <script></script>\n",
              "      <script type=\"text/javascript\">\n",
              "        (() => {\n",
              "          const chartElement = document.getElementById(\"chart-604ed35b-7231-4a6b-8a18-e07bc75f4faf\");\n",
              "          async function getCodeForChartHandler(event) {\n",
              "            const chartCodeResponse =  await google.colab.kernel.invokeFunction(\n",
              "                'getCodeForChart', [\"chart-604ed35b-7231-4a6b-8a18-e07bc75f4faf\"], {});\n",
              "            const responseJson = chartCodeResponse.data['application/json'];\n",
              "            await google.colab.notebook.addCell(responseJson.code, 'code');\n",
              "          }\n",
              "          chartElement.onclick = getCodeForChartHandler;\n",
              "        })();\n",
              "      </script>\n",
              "      <style>\n",
              "        .colab-quickchart-chart-with-code  {\n",
              "            display: block;\n",
              "            float: left;\n",
              "            border: 1px solid transparent;\n",
              "        }\n",
              "\n",
              "        .colab-quickchart-chart-with-code:hover {\n",
              "            cursor: pointer;\n",
              "            border: 1px solid #aaa;\n",
              "        }\n",
              "      </style>"
            ]
          },
          "metadata": {}
        }
      ]
    },
    {
      "cell_type": "code",
      "source": [
        "df[\"sentiment\"].value_counts()"
      ],
      "metadata": {
        "colab": {
          "base_uri": "https://localhost:8080/"
        },
        "id": "s2FIMvOFB9Tb",
        "outputId": "35fd1c45-7488-4fca-b29e-9b05d72bc8ef"
      },
      "execution_count": null,
      "outputs": [
        {
          "output_type": "execute_result",
          "data": {
            "text/plain": [
              "worry         7433\n",
              "neutral       6340\n",
              "sadness       4828\n",
              "happiness     2986\n",
              "love          2068\n",
              "surprise      1613\n",
              "hate          1187\n",
              "fun           1088\n",
              "relief        1021\n",
              "empty          659\n",
              "enthusiasm     522\n",
              "boredom        157\n",
              "anger           98\n",
              "Name: sentiment, dtype: int64"
            ]
          },
          "metadata": {},
          "execution_count": 23
        }
      ]
    },
    {
      "cell_type": "code",
      "source": [
        "shortlist=[\"neutral\" , \"happiness\" , \"worry\"]\n",
        "df_subset=df[df[\"sentiment\"].isin(shortlist)]\n",
        "df_subset.shape\n",
        "df_subset[\"sentiment\"].value_counts()"
      ],
      "metadata": {
        "colab": {
          "base_uri": "https://localhost:8080/"
        },
        "id": "yH2ObUoWB-24",
        "outputId": "9a58cc95-b741-4416-a9f3-57aa31f55786"
      },
      "execution_count": null,
      "outputs": [
        {
          "output_type": "execute_result",
          "data": {
            "text/plain": [
              "worry        7433\n",
              "neutral      6340\n",
              "happiness    2986\n",
              "Name: sentiment, dtype: int64"
            ]
          },
          "metadata": {},
          "execution_count": 31
        }
      ]
    },
    {
      "cell_type": "code",
      "source": [
        "#strip_handles removes personal information such as twitter handles, which don't\n",
        "#contribute to emotion in the tweet. preserve_case=False converts everything to lowercase.\n",
        "tweeter = TweetTokenizer(strip_handles=True,preserve_case=False)\n",
        "mystopwords = set(stopwords.words(\"english\"))\n",
        "\n",
        "#Function to tokenize tweets, remove stopwords and numbers.\n",
        "#Keeping punctuations and emoticon symbols could be relevant for this task!\n",
        "def preprocess_corpus(texts):\n",
        "    def remove_stops_digits(tokens):\n",
        "        #Nested function that removes stopwords and digits from a list of tokens\n",
        "        return [token for token in tokens if token not in mystopwords and not token.isdigit()]\n",
        "    #This return statement below uses the above function to process twitter tokenizer output further.\n",
        "    return [remove_stops_digits(tweeter.tokenize(content)) for content in texts]\n",
        "\n",
        "#df_subset contains only the three categories we chose.\n",
        "mydata = preprocess_corpus(df_subset['content'])\n",
        "mycats = df_subset['sentiment']\n",
        "print(len(mydata), len(mycats))"
      ],
      "metadata": {
        "colab": {
          "base_uri": "https://localhost:8080/"
        },
        "id": "coCr-uinB-z3",
        "outputId": "9cde19e9-7fc7-4dbb-ec6e-3bb773c40dcb"
      },
      "execution_count": null,
      "outputs": [
        {
          "output_type": "stream",
          "name": "stdout",
          "text": [
            "16759 16759\n"
          ]
        }
      ]
    },
    {
      "cell_type": "code",
      "source": [
        "#Split data into train and test, following the usual process\n",
        "train_data, test_data, train_cats, test_cats = train_test_split(mydata,mycats,random_state=1234)\n",
        "\n",
        "#prepare training data in doc2vec format:\n",
        "train_doc2vec = [TaggedDocument((d), tags=[str(i)]) for i, d in enumerate(train_data)]\n",
        "#Train a doc2vec model to learn tweet representations. Use only training data!!\n",
        "model = Doc2Vec(vector_size=50, alpha=0.025, min_count=5, dm =1, epochs=100)\n",
        "model.build_vocab(train_doc2vec)\n",
        "model.train(train_doc2vec, total_examples=model.corpus_count, epochs=model.epochs)\n",
        "# model.save(\"d2v.model\")\n",
        "# print(\"Model Saved\")\n",
        "# train_doc2vec"
      ],
      "metadata": {
        "id": "3WiTjtwGB-wZ"
      },
      "execution_count": null,
      "outputs": []
    },
    {
      "cell_type": "code",
      "source": [
        "train_data[0], train_cats.shape"
      ],
      "metadata": {
        "colab": {
          "base_uri": "https://localhost:8080/"
        },
        "id": "HcRUmQ6xGV8F",
        "outputId": "5d2f80a3-405f-4e8a-92d6-eaf8870d1e5b"
      },
      "execution_count": null,
      "outputs": [
        {
          "output_type": "execute_result",
          "data": {
            "text/plain": [
              "([\"caaaaan't\", 'sleep', '...', '3.30', '!', 'wahhhh', '...', 'wanna', 'cry'],\n",
              " (12569,))"
            ]
          },
          "metadata": {},
          "execution_count": 43
        }
      ]
    },
    {
      "cell_type": "code",
      "source": [
        "train_doc2vec"
      ],
      "metadata": {
        "id": "2c3RShCfFjNY"
      },
      "execution_count": null,
      "outputs": []
    },
    {
      "cell_type": "code",
      "source": [],
      "metadata": {
        "id": "vVtNafskFjLP"
      },
      "execution_count": null,
      "outputs": []
    },
    {
      "cell_type": "code",
      "source": [
        "#Infer the feature representation for training and test data using the trained model\n",
        "model= Doc2Vec.load(\"d2v.model\")\n",
        "#infer in multiple steps to get a stable representation.\n",
        "train_vectors =  [model.infer_vector(list_of_tokens, epochs=50) for list_of_tokens in train_data]\n",
        "test_vectors = [model.infer_vector(list_of_tokens, epochs=50) for list_of_tokens in test_data]\n",
        "\n",
        "#Use any regular classifier like logistic regression\n",
        "from sklearn.linear_model import LogisticRegression\n",
        "\n",
        "myclass = LogisticRegression(class_weight=\"balanced\") #because classes are not balanced.\n",
        "myclass.fit(train_vectors, train_cats)\n",
        "\n",
        "preds = myclass.predict(test_vectors)\n",
        "from sklearn.metrics import classification_report, confusion_matrix\n",
        "print(classification_report(test_cats, preds))\n",
        "\n",
        "#print(confusion_matrix(test_cats,preds))"
      ],
      "metadata": {
        "colab": {
          "base_uri": "https://localhost:8080/"
        },
        "id": "-tcqFD2HB-tB",
        "outputId": "48fe06ff-10cb-455c-8020-2bae79576937"
      },
      "execution_count": null,
      "outputs": [
        {
          "output_type": "stream",
          "name": "stdout",
          "text": [
            "              precision    recall  f1-score   support\n",
            "\n",
            "   happiness       0.33      0.53      0.41       713\n",
            "     neutral       0.47      0.54      0.50      1595\n",
            "       worry       0.62      0.40      0.48      1882\n",
            "\n",
            "    accuracy                           0.48      4190\n",
            "   macro avg       0.47      0.49      0.47      4190\n",
            "weighted avg       0.51      0.48      0.48      4190\n",
            "\n"
          ]
        }
      ]
    },
    {
      "cell_type": "markdown",
      "source": [
        "<h1><b> FastText LIBRARY text classification"
      ],
      "metadata": {
        "id": "GEhOHO4cHC-u"
      }
    },
    {
      "cell_type": "code",
      "source": [
        "#necessary imports\n",
        "import os\n",
        "import pandas as pd\n",
        "# import wget\n",
        "import tarfile"
      ],
      "metadata": {
        "id": "KjqePO1yB-pT"
      },
      "execution_count": null,
      "outputs": []
    },
    {
      "cell_type": "code",
      "source": [
        "import os\n",
        "import tarfile\n",
        "\n",
        "try:\n",
        "    from google.colab import files\n",
        "\n",
        "    # Untar the dataset from your local path\n",
        "    dataset_path = '/content/dbpedia_csv.tar.gz'\n",
        "    with tarfile.open(dataset_path, \"r:gz\") as tar:\n",
        "        tar.extractall('/content')\n",
        "\n",
        "    # Specify the data_path\n",
        "    data_path = '/content/DATAPATH'\n",
        "\n",
        "except ModuleNotFoundError:\n",
        "    if not os.path.exists(os.getcwd() + '/Data/dbpedia_csv'):\n",
        "        # Downloading the data if it doesn't exist in the 'Data' directory\n",
        "        url = \"https://github.com/le-scientifique/torchDatasets/raw/master/dbpedia_csv.tar.gz\"\n",
        "        path = os.getcwd() + '/Data'\n",
        "        wget.download(url, path)\n",
        "\n",
        "        # Untar the dataset from the downloaded location\n",
        "        temp = path + '/dbpedia_csv.tar.gz'\n",
        "        with tarfile.open(temp, \"r:gz\") as tar:\n",
        "            tar.extractall(path)\n",
        "\n",
        "    # Specifying the data_path\n",
        "    data_path = 'Data'\n"
      ],
      "metadata": {
        "id": "1hT_ZRkOB-kx"
      },
      "execution_count": null,
      "outputs": []
    },
    {
      "cell_type": "code",
      "source": [
        "import tarfile\n",
        "\n",
        "# Specify the path to the dataset archive\n",
        "dataset_path = '/content/dbpedia_csv.tar.gz'\n",
        "\n",
        "# Specify the directory where you want to extract the files\n",
        "extracted_dir = '/content/DATAPATH'\n",
        "\n",
        "# Create the extraction directory if it doesn't exist\n",
        "if not os.path.exists(extracted_dir):\n",
        "    os.makedirs(extracted_dir)\n",
        "\n",
        "# Extract the dataset from the archive\n",
        "with tarfile.open(dataset_path, \"r:gz\") as tar:\n",
        "    tar.extractall(extracted_dir)\n",
        "\n",
        "# Verify the extraction by listing the contents of the extraction directory\n",
        "extracted_files = os.listdir(extracted_dir)\n",
        "print(\"Extracted files:\", extracted_files)\n"
      ],
      "metadata": {
        "colab": {
          "base_uri": "https://localhost:8080/"
        },
        "id": "Kq5_8W5UqLlo",
        "outputId": "a27eb904-3a6f-4627-89be-0d961ece6c3e"
      },
      "execution_count": null,
      "outputs": [
        {
          "output_type": "stream",
          "name": "stdout",
          "text": [
            "Extracted files: ['dbpedia_csv.tar.gz', 'dbpedia_csv.tar.gz.6', 'hello.exe', 'dbpedia_csv.tar.gz.7', 'dbpedia_csv.tar.gz.3', 'dbpedia_csv.tar.gz.2', 'dbpedia_csv.tar.gz.5', 'dbpedia_csv.tar.gz.1', 'dbpedia_csv.tar.gz.4']\n"
          ]
        }
      ]
    },
    {
      "cell_type": "code",
      "source": [
        "# Loading train data\n",
        "train_file = data_path + '/dbpedia_csv/train.csv'\n",
        "df = pd.read_csv(train_file, header=None, names=['class','name','description'])\n",
        "# Loading test data\n",
        "test_file = data_path + '/dbpedia_csv/test.csv'\n",
        "df_test = pd.read_csv(test_file, header=None, names=['class','name','description'])\n",
        "# Data we have\n",
        "print(\"Train:{} Test:{}\".format(df.shape,df_test.shape))"
      ],
      "metadata": {
        "colab": {
          "base_uri": "https://localhost:8080/",
          "height": 408
        },
        "id": "byZUjX80KLQx",
        "outputId": "94474b4d-f6eb-41db-eba7-b5dc3d627251"
      },
      "execution_count": null,
      "outputs": [
        {
          "output_type": "error",
          "ename": "FileNotFoundError",
          "evalue": "ignored",
          "traceback": [
            "\u001b[0;31m---------------------------------------------------------------------------\u001b[0m",
            "\u001b[0;31mFileNotFoundError\u001b[0m                         Traceback (most recent call last)",
            "\u001b[0;32m<ipython-input-11-3e8ba747ecdb>\u001b[0m in \u001b[0;36m<cell line: 3>\u001b[0;34m()\u001b[0m\n\u001b[1;32m      1\u001b[0m \u001b[0;31m# Loading train data\u001b[0m\u001b[0;34m\u001b[0m\u001b[0;34m\u001b[0m\u001b[0m\n\u001b[1;32m      2\u001b[0m \u001b[0mtrain_file\u001b[0m \u001b[0;34m=\u001b[0m \u001b[0mos\u001b[0m\u001b[0;34m.\u001b[0m\u001b[0mpath\u001b[0m\u001b[0;34m.\u001b[0m\u001b[0mjoin\u001b[0m\u001b[0;34m(\u001b[0m\u001b[0mdata_path\u001b[0m\u001b[0;34m,\u001b[0m \u001b[0;34m'train.csv'\u001b[0m\u001b[0;34m)\u001b[0m\u001b[0;34m\u001b[0m\u001b[0;34m\u001b[0m\u001b[0m\n\u001b[0;32m----> 3\u001b[0;31m \u001b[0mdf\u001b[0m \u001b[0;34m=\u001b[0m \u001b[0mpd\u001b[0m\u001b[0;34m.\u001b[0m\u001b[0mread_csv\u001b[0m\u001b[0;34m(\u001b[0m\u001b[0mtrain_file\u001b[0m\u001b[0;34m,\u001b[0m \u001b[0mheader\u001b[0m\u001b[0;34m=\u001b[0m\u001b[0;32mNone\u001b[0m\u001b[0;34m,\u001b[0m \u001b[0mnames\u001b[0m\u001b[0;34m=\u001b[0m\u001b[0;34m[\u001b[0m\u001b[0;34m'class'\u001b[0m\u001b[0;34m,\u001b[0m \u001b[0;34m'name'\u001b[0m\u001b[0;34m,\u001b[0m \u001b[0;34m'description'\u001b[0m\u001b[0;34m]\u001b[0m\u001b[0;34m)\u001b[0m\u001b[0;34m\u001b[0m\u001b[0;34m\u001b[0m\u001b[0m\n\u001b[0m\u001b[1;32m      4\u001b[0m \u001b[0;34m\u001b[0m\u001b[0m\n\u001b[1;32m      5\u001b[0m \u001b[0;31m# Loading test data\u001b[0m\u001b[0;34m\u001b[0m\u001b[0;34m\u001b[0m\u001b[0m\n",
            "\u001b[0;32m/usr/local/lib/python3.10/dist-packages/pandas/util/_decorators.py\u001b[0m in \u001b[0;36mwrapper\u001b[0;34m(*args, **kwargs)\u001b[0m\n\u001b[1;32m    209\u001b[0m                 \u001b[0;32melse\u001b[0m\u001b[0;34m:\u001b[0m\u001b[0;34m\u001b[0m\u001b[0;34m\u001b[0m\u001b[0m\n\u001b[1;32m    210\u001b[0m                     \u001b[0mkwargs\u001b[0m\u001b[0;34m[\u001b[0m\u001b[0mnew_arg_name\u001b[0m\u001b[0;34m]\u001b[0m \u001b[0;34m=\u001b[0m \u001b[0mnew_arg_value\u001b[0m\u001b[0;34m\u001b[0m\u001b[0;34m\u001b[0m\u001b[0m\n\u001b[0;32m--> 211\u001b[0;31m             \u001b[0;32mreturn\u001b[0m \u001b[0mfunc\u001b[0m\u001b[0;34m(\u001b[0m\u001b[0;34m*\u001b[0m\u001b[0margs\u001b[0m\u001b[0;34m,\u001b[0m \u001b[0;34m**\u001b[0m\u001b[0mkwargs\u001b[0m\u001b[0;34m)\u001b[0m\u001b[0;34m\u001b[0m\u001b[0;34m\u001b[0m\u001b[0m\n\u001b[0m\u001b[1;32m    212\u001b[0m \u001b[0;34m\u001b[0m\u001b[0m\n\u001b[1;32m    213\u001b[0m         \u001b[0;32mreturn\u001b[0m \u001b[0mcast\u001b[0m\u001b[0;34m(\u001b[0m\u001b[0mF\u001b[0m\u001b[0;34m,\u001b[0m \u001b[0mwrapper\u001b[0m\u001b[0;34m)\u001b[0m\u001b[0;34m\u001b[0m\u001b[0;34m\u001b[0m\u001b[0m\n",
            "\u001b[0;32m/usr/local/lib/python3.10/dist-packages/pandas/util/_decorators.py\u001b[0m in \u001b[0;36mwrapper\u001b[0;34m(*args, **kwargs)\u001b[0m\n\u001b[1;32m    329\u001b[0m                     \u001b[0mstacklevel\u001b[0m\u001b[0;34m=\u001b[0m\u001b[0mfind_stack_level\u001b[0m\u001b[0;34m(\u001b[0m\u001b[0;34m)\u001b[0m\u001b[0;34m,\u001b[0m\u001b[0;34m\u001b[0m\u001b[0;34m\u001b[0m\u001b[0m\n\u001b[1;32m    330\u001b[0m                 )\n\u001b[0;32m--> 331\u001b[0;31m             \u001b[0;32mreturn\u001b[0m \u001b[0mfunc\u001b[0m\u001b[0;34m(\u001b[0m\u001b[0;34m*\u001b[0m\u001b[0margs\u001b[0m\u001b[0;34m,\u001b[0m \u001b[0;34m**\u001b[0m\u001b[0mkwargs\u001b[0m\u001b[0;34m)\u001b[0m\u001b[0;34m\u001b[0m\u001b[0;34m\u001b[0m\u001b[0m\n\u001b[0m\u001b[1;32m    332\u001b[0m \u001b[0;34m\u001b[0m\u001b[0m\n\u001b[1;32m    333\u001b[0m         \u001b[0;31m# error: \"Callable[[VarArg(Any), KwArg(Any)], Any]\" has no\u001b[0m\u001b[0;34m\u001b[0m\u001b[0;34m\u001b[0m\u001b[0m\n",
            "\u001b[0;32m/usr/local/lib/python3.10/dist-packages/pandas/io/parsers/readers.py\u001b[0m in \u001b[0;36mread_csv\u001b[0;34m(filepath_or_buffer, sep, delimiter, header, names, index_col, usecols, squeeze, prefix, mangle_dupe_cols, dtype, engine, converters, true_values, false_values, skipinitialspace, skiprows, skipfooter, nrows, na_values, keep_default_na, na_filter, verbose, skip_blank_lines, parse_dates, infer_datetime_format, keep_date_col, date_parser, dayfirst, cache_dates, iterator, chunksize, compression, thousands, decimal, lineterminator, quotechar, quoting, doublequote, escapechar, comment, encoding, encoding_errors, dialect, error_bad_lines, warn_bad_lines, on_bad_lines, delim_whitespace, low_memory, memory_map, float_precision, storage_options)\u001b[0m\n\u001b[1;32m    948\u001b[0m     \u001b[0mkwds\u001b[0m\u001b[0;34m.\u001b[0m\u001b[0mupdate\u001b[0m\u001b[0;34m(\u001b[0m\u001b[0mkwds_defaults\u001b[0m\u001b[0;34m)\u001b[0m\u001b[0;34m\u001b[0m\u001b[0;34m\u001b[0m\u001b[0m\n\u001b[1;32m    949\u001b[0m \u001b[0;34m\u001b[0m\u001b[0m\n\u001b[0;32m--> 950\u001b[0;31m     \u001b[0;32mreturn\u001b[0m \u001b[0m_read\u001b[0m\u001b[0;34m(\u001b[0m\u001b[0mfilepath_or_buffer\u001b[0m\u001b[0;34m,\u001b[0m \u001b[0mkwds\u001b[0m\u001b[0;34m)\u001b[0m\u001b[0;34m\u001b[0m\u001b[0;34m\u001b[0m\u001b[0m\n\u001b[0m\u001b[1;32m    951\u001b[0m \u001b[0;34m\u001b[0m\u001b[0m\n\u001b[1;32m    952\u001b[0m \u001b[0;34m\u001b[0m\u001b[0m\n",
            "\u001b[0;32m/usr/local/lib/python3.10/dist-packages/pandas/io/parsers/readers.py\u001b[0m in \u001b[0;36m_read\u001b[0;34m(filepath_or_buffer, kwds)\u001b[0m\n\u001b[1;32m    603\u001b[0m \u001b[0;34m\u001b[0m\u001b[0m\n\u001b[1;32m    604\u001b[0m     \u001b[0;31m# Create the parser.\u001b[0m\u001b[0;34m\u001b[0m\u001b[0;34m\u001b[0m\u001b[0m\n\u001b[0;32m--> 605\u001b[0;31m     \u001b[0mparser\u001b[0m \u001b[0;34m=\u001b[0m \u001b[0mTextFileReader\u001b[0m\u001b[0;34m(\u001b[0m\u001b[0mfilepath_or_buffer\u001b[0m\u001b[0;34m,\u001b[0m \u001b[0;34m**\u001b[0m\u001b[0mkwds\u001b[0m\u001b[0;34m)\u001b[0m\u001b[0;34m\u001b[0m\u001b[0;34m\u001b[0m\u001b[0m\n\u001b[0m\u001b[1;32m    606\u001b[0m \u001b[0;34m\u001b[0m\u001b[0m\n\u001b[1;32m    607\u001b[0m     \u001b[0;32mif\u001b[0m \u001b[0mchunksize\u001b[0m \u001b[0;32mor\u001b[0m \u001b[0miterator\u001b[0m\u001b[0;34m:\u001b[0m\u001b[0;34m\u001b[0m\u001b[0;34m\u001b[0m\u001b[0m\n",
            "\u001b[0;32m/usr/local/lib/python3.10/dist-packages/pandas/io/parsers/readers.py\u001b[0m in \u001b[0;36m__init__\u001b[0;34m(self, f, engine, **kwds)\u001b[0m\n\u001b[1;32m   1440\u001b[0m \u001b[0;34m\u001b[0m\u001b[0m\n\u001b[1;32m   1441\u001b[0m         \u001b[0mself\u001b[0m\u001b[0;34m.\u001b[0m\u001b[0mhandles\u001b[0m\u001b[0;34m:\u001b[0m \u001b[0mIOHandles\u001b[0m \u001b[0;34m|\u001b[0m \u001b[0;32mNone\u001b[0m \u001b[0;34m=\u001b[0m \u001b[0;32mNone\u001b[0m\u001b[0;34m\u001b[0m\u001b[0;34m\u001b[0m\u001b[0m\n\u001b[0;32m-> 1442\u001b[0;31m         \u001b[0mself\u001b[0m\u001b[0;34m.\u001b[0m\u001b[0m_engine\u001b[0m \u001b[0;34m=\u001b[0m \u001b[0mself\u001b[0m\u001b[0;34m.\u001b[0m\u001b[0m_make_engine\u001b[0m\u001b[0;34m(\u001b[0m\u001b[0mf\u001b[0m\u001b[0;34m,\u001b[0m \u001b[0mself\u001b[0m\u001b[0;34m.\u001b[0m\u001b[0mengine\u001b[0m\u001b[0;34m)\u001b[0m\u001b[0;34m\u001b[0m\u001b[0;34m\u001b[0m\u001b[0m\n\u001b[0m\u001b[1;32m   1443\u001b[0m \u001b[0;34m\u001b[0m\u001b[0m\n\u001b[1;32m   1444\u001b[0m     \u001b[0;32mdef\u001b[0m \u001b[0mclose\u001b[0m\u001b[0;34m(\u001b[0m\u001b[0mself\u001b[0m\u001b[0;34m)\u001b[0m \u001b[0;34m->\u001b[0m \u001b[0;32mNone\u001b[0m\u001b[0;34m:\u001b[0m\u001b[0;34m\u001b[0m\u001b[0;34m\u001b[0m\u001b[0m\n",
            "\u001b[0;32m/usr/local/lib/python3.10/dist-packages/pandas/io/parsers/readers.py\u001b[0m in \u001b[0;36m_make_engine\u001b[0;34m(self, f, engine)\u001b[0m\n\u001b[1;32m   1733\u001b[0m                 \u001b[0;32mif\u001b[0m \u001b[0;34m\"b\"\u001b[0m \u001b[0;32mnot\u001b[0m \u001b[0;32min\u001b[0m \u001b[0mmode\u001b[0m\u001b[0;34m:\u001b[0m\u001b[0;34m\u001b[0m\u001b[0;34m\u001b[0m\u001b[0m\n\u001b[1;32m   1734\u001b[0m                     \u001b[0mmode\u001b[0m \u001b[0;34m+=\u001b[0m \u001b[0;34m\"b\"\u001b[0m\u001b[0;34m\u001b[0m\u001b[0;34m\u001b[0m\u001b[0m\n\u001b[0;32m-> 1735\u001b[0;31m             self.handles = get_handle(\n\u001b[0m\u001b[1;32m   1736\u001b[0m                 \u001b[0mf\u001b[0m\u001b[0;34m,\u001b[0m\u001b[0;34m\u001b[0m\u001b[0;34m\u001b[0m\u001b[0m\n\u001b[1;32m   1737\u001b[0m                 \u001b[0mmode\u001b[0m\u001b[0;34m,\u001b[0m\u001b[0;34m\u001b[0m\u001b[0;34m\u001b[0m\u001b[0m\n",
            "\u001b[0;32m/usr/local/lib/python3.10/dist-packages/pandas/io/common.py\u001b[0m in \u001b[0;36mget_handle\u001b[0;34m(path_or_buf, mode, encoding, compression, memory_map, is_text, errors, storage_options)\u001b[0m\n\u001b[1;32m    854\u001b[0m         \u001b[0;32mif\u001b[0m \u001b[0mioargs\u001b[0m\u001b[0;34m.\u001b[0m\u001b[0mencoding\u001b[0m \u001b[0;32mand\u001b[0m \u001b[0;34m\"b\"\u001b[0m \u001b[0;32mnot\u001b[0m \u001b[0;32min\u001b[0m \u001b[0mioargs\u001b[0m\u001b[0;34m.\u001b[0m\u001b[0mmode\u001b[0m\u001b[0;34m:\u001b[0m\u001b[0;34m\u001b[0m\u001b[0;34m\u001b[0m\u001b[0m\n\u001b[1;32m    855\u001b[0m             \u001b[0;31m# Encoding\u001b[0m\u001b[0;34m\u001b[0m\u001b[0;34m\u001b[0m\u001b[0m\n\u001b[0;32m--> 856\u001b[0;31m             handle = open(\n\u001b[0m\u001b[1;32m    857\u001b[0m                 \u001b[0mhandle\u001b[0m\u001b[0;34m,\u001b[0m\u001b[0;34m\u001b[0m\u001b[0;34m\u001b[0m\u001b[0m\n\u001b[1;32m    858\u001b[0m                 \u001b[0mioargs\u001b[0m\u001b[0;34m.\u001b[0m\u001b[0mmode\u001b[0m\u001b[0;34m,\u001b[0m\u001b[0;34m\u001b[0m\u001b[0;34m\u001b[0m\u001b[0m\n",
            "\u001b[0;31mFileNotFoundError\u001b[0m: [Errno 2] No such file or directory: 'DATAPATH/train.csv'"
          ]
        }
      ]
    },
    {
      "cell_type": "code",
      "source": [],
      "metadata": {
        "id": "-Bkh6UlTB-hF"
      },
      "execution_count": null,
      "outputs": []
    },
    {
      "cell_type": "code",
      "source": [],
      "metadata": {
        "id": "074liTIcB-er"
      },
      "execution_count": null,
      "outputs": []
    },
    {
      "cell_type": "code",
      "source": [
        "\n",
        "\n"
      ],
      "metadata": {
        "id": "CaNQNfslB-be"
      },
      "execution_count": null,
      "outputs": []
    },
    {
      "cell_type": "code",
      "source": [],
      "metadata": {
        "id": "iOn2rr0pB-Zm"
      },
      "execution_count": null,
      "outputs": []
    }
  ]
}